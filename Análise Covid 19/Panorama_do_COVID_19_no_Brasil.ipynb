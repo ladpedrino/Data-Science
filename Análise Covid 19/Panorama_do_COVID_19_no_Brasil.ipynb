{
  "nbformat": 4,
  "nbformat_minor": 0,
  "metadata": {
    "colab": {
      "name": "Panorama do COVID-19 no Brasil.ipynb",
      "provenance": [],
      "collapsed_sections": []
    },
    "kernelspec": {
      "name": "python3",
      "display_name": "Python 3"
    }
  },
  "cells": [
    {
      "cell_type": "markdown",
      "metadata": {
        "id": "0zxQHhIUDF_2"
      },
      "source": [
        "## Obtenção dos Dados\n",
        "\n",
        "Os dados foram obtidos no [github](https://github.com/owid/covid-19-data/tree/master/public/data) da **Our World in Data**.\n",
        "\n",
        "O objetivo da **Our World in Data** é de proporcionar dataset's e dashboards de diversos problemas que afrontam o mundo, como a pandemia, mudanças climáticas entre outras, afim de tornar acessível essa informação para as pessoas, caso tenham interesse pode ser acessado [aqui](https://ourworldindata.org/). \n",
        "\n",
        "O repositório da covid19 é atualizado diariamente e inclui dados como confirmação de casos, mortes, vacinas de diversos países do mundo.\n",
        "\n",
        "## Importando os dados do COVID-19\n",
        "\n",
        "\n",
        "Caso encontre algum problema em baixar diretamente do repositório oficial, você pode usar [este meu link](https://raw.githubusercontent.com/ladpedrino/Data-Science/master/An%C3%A1lise%20Covid%2019/owid-covid-data.csv) (atualizado até 02 de Março de 2021)."
      ]
    },
    {
      "cell_type": "markdown",
      "metadata": {
        "id": "KuhZ-dVrtBaJ"
      },
      "source": [
        "### Dícionários das variáveis\r\n",
        "\r\n",
        " * *A descrição do nome de cada coluna pode ser encontrada [neste link](https://github.com/owid/covid-19-data/blob/master/public/data/owid-covid-codebook.csv).*\r\n",
        "\r\n",
        "*\t`iso_code`: Variável contém o código do país.\r\n",
        "\r\n",
        "*\t`Continent`: Variável que contém o continente.\r\n",
        "\r\n",
        "*\t`Location`: Variável que contém a localização geográfica.\r\n",
        "\r\n",
        "*\t`Date`: Variável da data do dataframe.\r\n",
        "\r\n",
        "*\t`total_cases`: Variável com o total de casos.\r\n",
        "\r\n",
        "*\t`new_cases`: Variável com novos casos apersentados.\r\n",
        "\r\n",
        "*\t`new_cases_smoothed`: Variável com novos casos (corrigido 7 dias)\r\n",
        "\r\n",
        "*\t`total_deaths`: Variável contém total de  mortes acumulativas.\r\n",
        "\r\n",
        "*\t`new_deaths`: Variável contém número de novas mortes.\r\n",
        "\r\n",
        "*\t`new_deaths_smoothed`:Variável contém número de novas mortes. (corrigido 7 dias).\r\n",
        "\r\n",
        "*\t`total_cases_per_million`: Variável contém o total de casos por milhão de habitantes.\r\n",
        "\r\n",
        "*\t`new_cases_per_million`: Variável contém novos casos por milhão de habitantes.\r\n",
        "\r\n",
        "*\t`new_cases_smoothed_per_million`: Variável contém novos casos por milhão de habitantes (corrigido 7 dias)\r\n",
        "\r\n",
        "*\t`total_deaths_per_million`: Variável contém o total de mortes por milhão.\r\n",
        "\r\n",
        "*\t`new_deaths_per_million`: Variável contém novas mortes por milhão.\r\n",
        "\r\n",
        "*\t`new_deaths_smoothed_per_million`: Variável novas mortes por milhão (corrigido 7 dias)\r\n",
        "\r\n",
        "*\t`reproduction_rate`: Variável contém a estimativa em tempo real da taxa efetiva de reprodução (R) do vírus covid-19.\r\n",
        "\r\n",
        "*\t`icu_patients`: Variável que contém o número de pacientes em UTI (Unidade de terapia intensiva) naquele dia.\r\n",
        "\r\n",
        "*\t`icu_patients_per_million`:Variável que contém o número de pacientes em UTI (Unidade de terapia intensiva) por milhão de habitantes.\r\n",
        "\r\n",
        "*\t`hosp_patients`: Variável que contém o número de pacientes em hospitais.\r\n",
        "\r\n",
        "*\t`hosp_patients_per_million`: Variável que contém o número de pacientes em hospitais por milhão.\r\n",
        "\r\n",
        "*\t`weekly_icu_admissions`: Variável que contém o número de pacientes em UTI (Unidade de terapia intensiva) em uma determinada semana. \r\n",
        "\r\n",
        "*\t`weekly_icu_admissions_per_million`: Variável que contém o número de pacientes em UTI (Unidade de terapia intensiva) por milhão de habitantes em uma determinada semana. \r\n",
        "\r\n",
        "*\t`weekly_hosp_admission`: Variável que contém o número de pacientes em hospitais em uma determinada semana.\r\n",
        "\r\n",
        "*\t`weekly_hosp_admissions_per_million`: Variável que contém o número de pacientes em hospitais em uma determinada semana.\r\n",
        "\r\n",
        "*\t`total_tests`: Variável que contém o número total de testes realizados para COVID19.\r\n",
        "\r\n",
        "*\t`new_tests`: Variável que contém o número de novos testes realizados para COVID19.\r\n",
        "\r\n",
        "*\t`total_tests_per_thousand`: Variável que contém total de testes realizados do COVID 19 .\r\n",
        "\r\n",
        "*\t`new_tests_per_thousand`: Variável que contém total de testes realizados do COVID 19 para cada mil pessoas.\r\n",
        "\r\n",
        "*\t`new_tests_smoothed`:Variável que contém total de testes realizados do COVID 19 (corrigido 7 dias)\r\n",
        "\r\n",
        "*\t`new_tests_smoothed_per_thousand`: Variável que contém total de testes realizados do COVID 19 para cada mil pessoas (corrigido 7 dias)\r\n",
        "\r\n",
        "*\t`positive_rate`: Variável que contém a parcela de testes COVID-19 que são positivos, dada como uma média contínua de 7 dias\r\n",
        "\r\n",
        "*\t`tests_per_case`: Variável que contém quantidade de testes conduzidos por novo caso confirmado de COVID-19, dado como uma média contínua de 7 dias (inverso de positivo_rate)\r\n",
        "\r\n",
        "*\t`tests_units`: Variável que contém quantidade unidades usadas pelo local para relatar seus dados de teste\r\n",
        "\r\n",
        "*\t`total_vaccinations`: Variável que contém o número total de doses de vacinação COVID-19 administradas\r\n",
        "\r\n",
        "*\t`people_vaccinated`: Variável que contém o número de pessoas vacinadas.\r\n",
        "\r\n",
        "*\t`people_fully_vaccinated`: Variável que contém o número total de pessoas que receberam o todas as doses prescritas pelo protocolo de vacinação.\r\n",
        "\r\n",
        "*\t`new_vaccinations`: Novas doses de vacinação COVID-19 administradas (calculadas apenas para dias consecutivos)\r\n",
        "\r\n",
        "*\t`new_vaccinations_smoothed`: Variável que contém o número de novas doses de vacinação COVID-19 administradas (calculadas apenas para dias consecutivos)\r\n",
        "\r\n",
        "*\t`total_vaccinations_per_hundred`: Variável que contém o número total de doses de vacinação COVID-19 administradas por 100 pessoas na população total\r\n",
        "\r\n",
        "*\t`people_vaccinated_per_hundred`: Variável que contém o número de pessoas vacinadas para cada mil habitantes..\r\n",
        "\r\n",
        "*\t`people_fully_vaccinated_per_hundred`: Variável que contém o número total de pessoas que receberam o todas as doses prescritas pelo protocolo de vacinação.\r\n",
        "\r\n",
        "*\t`new_vaccinations_smoothed_per_million`: Variável que contém o número de novas doses de vacinação COVID-19 administradas para cada um milhão de habitantes (calculadas apenas para dias consecutivos)\r\n",
        "\r\n",
        "*\t`stringency_index`: Variável que contém o índice de Restrição de Resposta do Governo: medida composta com base em 9 indicadores de resposta, incluindo fechamentos de escolas, fechamentos de locais de trabalho e proibições de viagens, redimensionado para um valor de 0 a 100 (100 = resposta mais estrita)\r\n",
        "\r\n",
        "*\t`Population`: Variável que contém o número de população do país.\r\n",
        "\r\n",
        "*\t`population_density`: Variável que contém o número de população dividida por área terrestre, medido em quilômetros quadrados.\r\n",
        "\r\n",
        "*\t`median_age`: Variável que contém a média de idade da população.\r\n",
        "\r\n",
        "*\t`aged_65_older`: Variável que contém a parcela da população com 65 anos ou mais.\r\n",
        "\r\n",
        "*\t`aged_70_older`: Variável que contém a parcela da população com 70 anos ou mais.\r\n",
        "\r\n",
        "*\t`gdp_per_capita`: Variável que contém o PIB (Produto Interno Bruto) . \r\n",
        "\r\n",
        "*\t`extreme_poverty`: Variável que contém a parcela da população que vive em pobreza extrema.\r\n",
        "\r\n",
        "*\t`cardiovasc_death_rate`: Variável que contém a taxa de mortalidade por doenças cardiovasculares (Número anual de mortes por 100.000 pessoas).\r\n",
        "\r\n",
        "*\t`diabetes_prevalence`: Variável que contém a prevalência de diabetes.\r\n",
        "\r\n",
        "*\t`female_smokers`: Variável que contém número de mulheres que fumam.\r\n",
        "\r\n",
        "*\t`male_smokers`: Variável que contém número de homens que fumam.\r\n",
        "\r\n",
        "*\t`handwashing_facilities`: Variável que contém a parcela da população que possui instalações basicas de lavagem em suas residências.\r\n",
        "\r\n",
        "*\t`hospital_beds_per_thousand`: Variável contém a quantidade de leitos hospitalares para cada mil pessoas. \r\n",
        "\r\n",
        "*\t`life_expectancy`: Variável que contém a expectativa de vida.\r\n",
        "\r\n",
        "*\t`human_development_index`: Variável que contém o desempenho de IDH (Índice de Desenvolvimento Humano). \r\n",
        "\r\n",
        "\r\n"
      ]
    },
    {
      "cell_type": "markdown",
      "metadata": {
        "id": "kLI0gJtzDGuQ"
      },
      "source": [
        "# Panorama do COVID-19 no Brasil\n",
        "\n",
        "COVID-19 é uma doença infecciosa causada por recém-descoberto coronavírus.\n",
        "\n",
        "Transmitido principalmente por meio de gotículas provenientes de tosses ou espirros de pessoas infectadas, a gravidade dos sintomas varia muito de pessoa para pessoa.\n",
        "\n",
        "<center><img alt = \"Covid\" width = \"50%\" src = \"https://img.jakpost.net/c/2020/05/20/2020_05_20_95707_1589954243._large.jpg\"></center>\n",
        "\n",
        "Até o presente momento, temos cerca de 250 mil mortes pelo vírus no Brasil e mais de 10 milhões de casos de covid-19.\n",
        "\n",
        "Atualmente com a vacina pronta, esperamos que o Brasil possa receber mais doses e imunizar mais pessoas contra a Covid-19.\n",
        "\n",
        "Com o objetivo de elevar a consciência situacional a respeito do COVID-19 no Brasil, irei realizar uma análise sobre os dados públicos da doença."
      ]
    },
    {
      "cell_type": "markdown",
      "metadata": {
        "id": "GoN8iMJxj6za"
      },
      "source": [
        "## Importação de bibliotecas e Importação do DataSet\r\n",
        "\r\n",
        "Antes de realizar a análise, vamos importar as bibliotecas que usaremos.\r\n"
      ]
    },
    {
      "cell_type": "code",
      "metadata": {
        "id": "pSuI9b0XQrd8"
      },
      "source": [
        "# instalar o pywaffle\r\n",
        "!pip install pywaffle -q\r\n",
        "from pywaffle import Waffle"
      ],
      "execution_count": 1,
      "outputs": []
    },
    {
      "cell_type": "code",
      "metadata": {
        "id": "lOtEJxe0DMEb",
        "colab": {
          "base_uri": "https://localhost:8080/",
          "height": 309
        },
        "outputId": "205d5587-326a-48a1-8174-af5acb7bed0d"
      },
      "source": [
        "# importar as bibliotecas necessárias\n",
        "import pandas as pd\n",
        "import numpy as np\n",
        "import matplotlib.pyplot as plt\n",
        "import seaborn as sns\n",
        "from pywaffle import Waffle\n",
        "from matplotlib.dates import DateFormatter\n",
        "\n",
        "%matplotlib inline\n",
        "\n",
        "# importar o dataset COVID-19 para um DataaFrame\n",
        "df = pd.read_csv(\"https://raw.githubusercontent.com/owid/covid-19-data/master/public/data/owid-covid-data.csv\", sep = \",\")\n",
        "df.head()"
      ],
      "execution_count": 2,
      "outputs": [
        {
          "output_type": "execute_result",
          "data": {
            "text/html": [
              "<div>\n",
              "<style scoped>\n",
              "    .dataframe tbody tr th:only-of-type {\n",
              "        vertical-align: middle;\n",
              "    }\n",
              "\n",
              "    .dataframe tbody tr th {\n",
              "        vertical-align: top;\n",
              "    }\n",
              "\n",
              "    .dataframe thead th {\n",
              "        text-align: right;\n",
              "    }\n",
              "</style>\n",
              "<table border=\"1\" class=\"dataframe\">\n",
              "  <thead>\n",
              "    <tr style=\"text-align: right;\">\n",
              "      <th></th>\n",
              "      <th>iso_code</th>\n",
              "      <th>continent</th>\n",
              "      <th>location</th>\n",
              "      <th>date</th>\n",
              "      <th>total_cases</th>\n",
              "      <th>new_cases</th>\n",
              "      <th>new_cases_smoothed</th>\n",
              "      <th>total_deaths</th>\n",
              "      <th>new_deaths</th>\n",
              "      <th>new_deaths_smoothed</th>\n",
              "      <th>total_cases_per_million</th>\n",
              "      <th>new_cases_per_million</th>\n",
              "      <th>new_cases_smoothed_per_million</th>\n",
              "      <th>total_deaths_per_million</th>\n",
              "      <th>new_deaths_per_million</th>\n",
              "      <th>new_deaths_smoothed_per_million</th>\n",
              "      <th>reproduction_rate</th>\n",
              "      <th>icu_patients</th>\n",
              "      <th>icu_patients_per_million</th>\n",
              "      <th>hosp_patients</th>\n",
              "      <th>hosp_patients_per_million</th>\n",
              "      <th>weekly_icu_admissions</th>\n",
              "      <th>weekly_icu_admissions_per_million</th>\n",
              "      <th>weekly_hosp_admissions</th>\n",
              "      <th>weekly_hosp_admissions_per_million</th>\n",
              "      <th>new_tests</th>\n",
              "      <th>total_tests</th>\n",
              "      <th>total_tests_per_thousand</th>\n",
              "      <th>new_tests_per_thousand</th>\n",
              "      <th>new_tests_smoothed</th>\n",
              "      <th>new_tests_smoothed_per_thousand</th>\n",
              "      <th>positive_rate</th>\n",
              "      <th>tests_per_case</th>\n",
              "      <th>tests_units</th>\n",
              "      <th>total_vaccinations</th>\n",
              "      <th>people_vaccinated</th>\n",
              "      <th>people_fully_vaccinated</th>\n",
              "      <th>new_vaccinations</th>\n",
              "      <th>new_vaccinations_smoothed</th>\n",
              "      <th>total_vaccinations_per_hundred</th>\n",
              "      <th>people_vaccinated_per_hundred</th>\n",
              "      <th>people_fully_vaccinated_per_hundred</th>\n",
              "      <th>new_vaccinations_smoothed_per_million</th>\n",
              "      <th>stringency_index</th>\n",
              "      <th>population</th>\n",
              "      <th>population_density</th>\n",
              "      <th>median_age</th>\n",
              "      <th>aged_65_older</th>\n",
              "      <th>aged_70_older</th>\n",
              "      <th>gdp_per_capita</th>\n",
              "      <th>extreme_poverty</th>\n",
              "      <th>cardiovasc_death_rate</th>\n",
              "      <th>diabetes_prevalence</th>\n",
              "      <th>female_smokers</th>\n",
              "      <th>male_smokers</th>\n",
              "      <th>handwashing_facilities</th>\n",
              "      <th>hospital_beds_per_thousand</th>\n",
              "      <th>life_expectancy</th>\n",
              "      <th>human_development_index</th>\n",
              "    </tr>\n",
              "  </thead>\n",
              "  <tbody>\n",
              "    <tr>\n",
              "      <th>0</th>\n",
              "      <td>AFG</td>\n",
              "      <td>Asia</td>\n",
              "      <td>Afghanistan</td>\n",
              "      <td>2020-02-24</td>\n",
              "      <td>1.0</td>\n",
              "      <td>1.0</td>\n",
              "      <td>NaN</td>\n",
              "      <td>NaN</td>\n",
              "      <td>NaN</td>\n",
              "      <td>NaN</td>\n",
              "      <td>0.026</td>\n",
              "      <td>0.026</td>\n",
              "      <td>NaN</td>\n",
              "      <td>NaN</td>\n",
              "      <td>NaN</td>\n",
              "      <td>NaN</td>\n",
              "      <td>NaN</td>\n",
              "      <td>NaN</td>\n",
              "      <td>NaN</td>\n",
              "      <td>NaN</td>\n",
              "      <td>NaN</td>\n",
              "      <td>NaN</td>\n",
              "      <td>NaN</td>\n",
              "      <td>NaN</td>\n",
              "      <td>NaN</td>\n",
              "      <td>NaN</td>\n",
              "      <td>NaN</td>\n",
              "      <td>NaN</td>\n",
              "      <td>NaN</td>\n",
              "      <td>NaN</td>\n",
              "      <td>NaN</td>\n",
              "      <td>NaN</td>\n",
              "      <td>NaN</td>\n",
              "      <td>NaN</td>\n",
              "      <td>NaN</td>\n",
              "      <td>NaN</td>\n",
              "      <td>NaN</td>\n",
              "      <td>NaN</td>\n",
              "      <td>NaN</td>\n",
              "      <td>NaN</td>\n",
              "      <td>NaN</td>\n",
              "      <td>NaN</td>\n",
              "      <td>NaN</td>\n",
              "      <td>8.33</td>\n",
              "      <td>38928341.0</td>\n",
              "      <td>54.422</td>\n",
              "      <td>18.6</td>\n",
              "      <td>2.581</td>\n",
              "      <td>1.337</td>\n",
              "      <td>1803.987</td>\n",
              "      <td>NaN</td>\n",
              "      <td>597.029</td>\n",
              "      <td>9.59</td>\n",
              "      <td>NaN</td>\n",
              "      <td>NaN</td>\n",
              "      <td>37.746</td>\n",
              "      <td>0.5</td>\n",
              "      <td>64.83</td>\n",
              "      <td>0.511</td>\n",
              "    </tr>\n",
              "    <tr>\n",
              "      <th>1</th>\n",
              "      <td>AFG</td>\n",
              "      <td>Asia</td>\n",
              "      <td>Afghanistan</td>\n",
              "      <td>2020-02-25</td>\n",
              "      <td>1.0</td>\n",
              "      <td>0.0</td>\n",
              "      <td>NaN</td>\n",
              "      <td>NaN</td>\n",
              "      <td>NaN</td>\n",
              "      <td>NaN</td>\n",
              "      <td>0.026</td>\n",
              "      <td>0.000</td>\n",
              "      <td>NaN</td>\n",
              "      <td>NaN</td>\n",
              "      <td>NaN</td>\n",
              "      <td>NaN</td>\n",
              "      <td>NaN</td>\n",
              "      <td>NaN</td>\n",
              "      <td>NaN</td>\n",
              "      <td>NaN</td>\n",
              "      <td>NaN</td>\n",
              "      <td>NaN</td>\n",
              "      <td>NaN</td>\n",
              "      <td>NaN</td>\n",
              "      <td>NaN</td>\n",
              "      <td>NaN</td>\n",
              "      <td>NaN</td>\n",
              "      <td>NaN</td>\n",
              "      <td>NaN</td>\n",
              "      <td>NaN</td>\n",
              "      <td>NaN</td>\n",
              "      <td>NaN</td>\n",
              "      <td>NaN</td>\n",
              "      <td>NaN</td>\n",
              "      <td>NaN</td>\n",
              "      <td>NaN</td>\n",
              "      <td>NaN</td>\n",
              "      <td>NaN</td>\n",
              "      <td>NaN</td>\n",
              "      <td>NaN</td>\n",
              "      <td>NaN</td>\n",
              "      <td>NaN</td>\n",
              "      <td>NaN</td>\n",
              "      <td>8.33</td>\n",
              "      <td>38928341.0</td>\n",
              "      <td>54.422</td>\n",
              "      <td>18.6</td>\n",
              "      <td>2.581</td>\n",
              "      <td>1.337</td>\n",
              "      <td>1803.987</td>\n",
              "      <td>NaN</td>\n",
              "      <td>597.029</td>\n",
              "      <td>9.59</td>\n",
              "      <td>NaN</td>\n",
              "      <td>NaN</td>\n",
              "      <td>37.746</td>\n",
              "      <td>0.5</td>\n",
              "      <td>64.83</td>\n",
              "      <td>0.511</td>\n",
              "    </tr>\n",
              "    <tr>\n",
              "      <th>2</th>\n",
              "      <td>AFG</td>\n",
              "      <td>Asia</td>\n",
              "      <td>Afghanistan</td>\n",
              "      <td>2020-02-26</td>\n",
              "      <td>1.0</td>\n",
              "      <td>0.0</td>\n",
              "      <td>NaN</td>\n",
              "      <td>NaN</td>\n",
              "      <td>NaN</td>\n",
              "      <td>NaN</td>\n",
              "      <td>0.026</td>\n",
              "      <td>0.000</td>\n",
              "      <td>NaN</td>\n",
              "      <td>NaN</td>\n",
              "      <td>NaN</td>\n",
              "      <td>NaN</td>\n",
              "      <td>NaN</td>\n",
              "      <td>NaN</td>\n",
              "      <td>NaN</td>\n",
              "      <td>NaN</td>\n",
              "      <td>NaN</td>\n",
              "      <td>NaN</td>\n",
              "      <td>NaN</td>\n",
              "      <td>NaN</td>\n",
              "      <td>NaN</td>\n",
              "      <td>NaN</td>\n",
              "      <td>NaN</td>\n",
              "      <td>NaN</td>\n",
              "      <td>NaN</td>\n",
              "      <td>NaN</td>\n",
              "      <td>NaN</td>\n",
              "      <td>NaN</td>\n",
              "      <td>NaN</td>\n",
              "      <td>NaN</td>\n",
              "      <td>NaN</td>\n",
              "      <td>NaN</td>\n",
              "      <td>NaN</td>\n",
              "      <td>NaN</td>\n",
              "      <td>NaN</td>\n",
              "      <td>NaN</td>\n",
              "      <td>NaN</td>\n",
              "      <td>NaN</td>\n",
              "      <td>NaN</td>\n",
              "      <td>8.33</td>\n",
              "      <td>38928341.0</td>\n",
              "      <td>54.422</td>\n",
              "      <td>18.6</td>\n",
              "      <td>2.581</td>\n",
              "      <td>1.337</td>\n",
              "      <td>1803.987</td>\n",
              "      <td>NaN</td>\n",
              "      <td>597.029</td>\n",
              "      <td>9.59</td>\n",
              "      <td>NaN</td>\n",
              "      <td>NaN</td>\n",
              "      <td>37.746</td>\n",
              "      <td>0.5</td>\n",
              "      <td>64.83</td>\n",
              "      <td>0.511</td>\n",
              "    </tr>\n",
              "    <tr>\n",
              "      <th>3</th>\n",
              "      <td>AFG</td>\n",
              "      <td>Asia</td>\n",
              "      <td>Afghanistan</td>\n",
              "      <td>2020-02-27</td>\n",
              "      <td>1.0</td>\n",
              "      <td>0.0</td>\n",
              "      <td>NaN</td>\n",
              "      <td>NaN</td>\n",
              "      <td>NaN</td>\n",
              "      <td>NaN</td>\n",
              "      <td>0.026</td>\n",
              "      <td>0.000</td>\n",
              "      <td>NaN</td>\n",
              "      <td>NaN</td>\n",
              "      <td>NaN</td>\n",
              "      <td>NaN</td>\n",
              "      <td>NaN</td>\n",
              "      <td>NaN</td>\n",
              "      <td>NaN</td>\n",
              "      <td>NaN</td>\n",
              "      <td>NaN</td>\n",
              "      <td>NaN</td>\n",
              "      <td>NaN</td>\n",
              "      <td>NaN</td>\n",
              "      <td>NaN</td>\n",
              "      <td>NaN</td>\n",
              "      <td>NaN</td>\n",
              "      <td>NaN</td>\n",
              "      <td>NaN</td>\n",
              "      <td>NaN</td>\n",
              "      <td>NaN</td>\n",
              "      <td>NaN</td>\n",
              "      <td>NaN</td>\n",
              "      <td>NaN</td>\n",
              "      <td>NaN</td>\n",
              "      <td>NaN</td>\n",
              "      <td>NaN</td>\n",
              "      <td>NaN</td>\n",
              "      <td>NaN</td>\n",
              "      <td>NaN</td>\n",
              "      <td>NaN</td>\n",
              "      <td>NaN</td>\n",
              "      <td>NaN</td>\n",
              "      <td>8.33</td>\n",
              "      <td>38928341.0</td>\n",
              "      <td>54.422</td>\n",
              "      <td>18.6</td>\n",
              "      <td>2.581</td>\n",
              "      <td>1.337</td>\n",
              "      <td>1803.987</td>\n",
              "      <td>NaN</td>\n",
              "      <td>597.029</td>\n",
              "      <td>9.59</td>\n",
              "      <td>NaN</td>\n",
              "      <td>NaN</td>\n",
              "      <td>37.746</td>\n",
              "      <td>0.5</td>\n",
              "      <td>64.83</td>\n",
              "      <td>0.511</td>\n",
              "    </tr>\n",
              "    <tr>\n",
              "      <th>4</th>\n",
              "      <td>AFG</td>\n",
              "      <td>Asia</td>\n",
              "      <td>Afghanistan</td>\n",
              "      <td>2020-02-28</td>\n",
              "      <td>1.0</td>\n",
              "      <td>0.0</td>\n",
              "      <td>NaN</td>\n",
              "      <td>NaN</td>\n",
              "      <td>NaN</td>\n",
              "      <td>NaN</td>\n",
              "      <td>0.026</td>\n",
              "      <td>0.000</td>\n",
              "      <td>NaN</td>\n",
              "      <td>NaN</td>\n",
              "      <td>NaN</td>\n",
              "      <td>NaN</td>\n",
              "      <td>NaN</td>\n",
              "      <td>NaN</td>\n",
              "      <td>NaN</td>\n",
              "      <td>NaN</td>\n",
              "      <td>NaN</td>\n",
              "      <td>NaN</td>\n",
              "      <td>NaN</td>\n",
              "      <td>NaN</td>\n",
              "      <td>NaN</td>\n",
              "      <td>NaN</td>\n",
              "      <td>NaN</td>\n",
              "      <td>NaN</td>\n",
              "      <td>NaN</td>\n",
              "      <td>NaN</td>\n",
              "      <td>NaN</td>\n",
              "      <td>NaN</td>\n",
              "      <td>NaN</td>\n",
              "      <td>NaN</td>\n",
              "      <td>NaN</td>\n",
              "      <td>NaN</td>\n",
              "      <td>NaN</td>\n",
              "      <td>NaN</td>\n",
              "      <td>NaN</td>\n",
              "      <td>NaN</td>\n",
              "      <td>NaN</td>\n",
              "      <td>NaN</td>\n",
              "      <td>NaN</td>\n",
              "      <td>8.33</td>\n",
              "      <td>38928341.0</td>\n",
              "      <td>54.422</td>\n",
              "      <td>18.6</td>\n",
              "      <td>2.581</td>\n",
              "      <td>1.337</td>\n",
              "      <td>1803.987</td>\n",
              "      <td>NaN</td>\n",
              "      <td>597.029</td>\n",
              "      <td>9.59</td>\n",
              "      <td>NaN</td>\n",
              "      <td>NaN</td>\n",
              "      <td>37.746</td>\n",
              "      <td>0.5</td>\n",
              "      <td>64.83</td>\n",
              "      <td>0.511</td>\n",
              "    </tr>\n",
              "  </tbody>\n",
              "</table>\n",
              "</div>"
            ],
            "text/plain": [
              "  iso_code continent  ... life_expectancy human_development_index\n",
              "0      AFG      Asia  ...           64.83                   0.511\n",
              "1      AFG      Asia  ...           64.83                   0.511\n",
              "2      AFG      Asia  ...           64.83                   0.511\n",
              "3      AFG      Asia  ...           64.83                   0.511\n",
              "4      AFG      Asia  ...           64.83                   0.511\n",
              "\n",
              "[5 rows x 59 columns]"
            ]
          },
          "metadata": {
            "tags": []
          },
          "execution_count": 2
        }
      ]
    },
    {
      "cell_type": "markdown",
      "metadata": {
        "id": "qb5By2nIMS6m"
      },
      "source": [
        "## Análise Exploratória dos Dados\n",
        "\n",
        "Através do dataframe, vamos verificar os dados chaves, como está a situação da vacinas e buscar os países com maiores casos e mortes e apresentá-los em gráficos.\n"
      ]
    },
    {
      "cell_type": "markdown",
      "metadata": {
        "id": "__TfiNtiPPA6"
      },
      "source": [
        "Abaixo possui a visualização das 5 entradas com as variáveis."
      ]
    },
    {
      "cell_type": "code",
      "metadata": {
        "id": "gO1fv3D1PS4k",
        "colab": {
          "base_uri": "https://localhost:8080/",
          "height": 309
        },
        "outputId": "3481d657-9ea8-4b25-9e83-d529167cc440"
      },
      "source": [
        "#visualizar as 5 primeiras entradas\r\n",
        "df.head()"
      ],
      "execution_count": 74,
      "outputs": [
        {
          "output_type": "execute_result",
          "data": {
            "text/html": [
              "<div>\n",
              "<style scoped>\n",
              "    .dataframe tbody tr th:only-of-type {\n",
              "        vertical-align: middle;\n",
              "    }\n",
              "\n",
              "    .dataframe tbody tr th {\n",
              "        vertical-align: top;\n",
              "    }\n",
              "\n",
              "    .dataframe thead th {\n",
              "        text-align: right;\n",
              "    }\n",
              "</style>\n",
              "<table border=\"1\" class=\"dataframe\">\n",
              "  <thead>\n",
              "    <tr style=\"text-align: right;\">\n",
              "      <th></th>\n",
              "      <th>iso_code</th>\n",
              "      <th>continent</th>\n",
              "      <th>location</th>\n",
              "      <th>date</th>\n",
              "      <th>total_cases</th>\n",
              "      <th>new_cases</th>\n",
              "      <th>new_cases_smoothed</th>\n",
              "      <th>total_deaths</th>\n",
              "      <th>new_deaths</th>\n",
              "      <th>new_deaths_smoothed</th>\n",
              "      <th>total_cases_per_million</th>\n",
              "      <th>new_cases_per_million</th>\n",
              "      <th>new_cases_smoothed_per_million</th>\n",
              "      <th>total_deaths_per_million</th>\n",
              "      <th>new_deaths_per_million</th>\n",
              "      <th>new_deaths_smoothed_per_million</th>\n",
              "      <th>reproduction_rate</th>\n",
              "      <th>icu_patients</th>\n",
              "      <th>icu_patients_per_million</th>\n",
              "      <th>hosp_patients</th>\n",
              "      <th>hosp_patients_per_million</th>\n",
              "      <th>weekly_icu_admissions</th>\n",
              "      <th>weekly_icu_admissions_per_million</th>\n",
              "      <th>weekly_hosp_admissions</th>\n",
              "      <th>weekly_hosp_admissions_per_million</th>\n",
              "      <th>new_tests</th>\n",
              "      <th>total_tests</th>\n",
              "      <th>total_tests_per_thousand</th>\n",
              "      <th>new_tests_per_thousand</th>\n",
              "      <th>new_tests_smoothed</th>\n",
              "      <th>new_tests_smoothed_per_thousand</th>\n",
              "      <th>positive_rate</th>\n",
              "      <th>tests_per_case</th>\n",
              "      <th>tests_units</th>\n",
              "      <th>total_vaccinations</th>\n",
              "      <th>people_vaccinated</th>\n",
              "      <th>people_fully_vaccinated</th>\n",
              "      <th>new_vaccinations</th>\n",
              "      <th>new_vaccinations_smoothed</th>\n",
              "      <th>total_vaccinations_per_hundred</th>\n",
              "      <th>people_vaccinated_per_hundred</th>\n",
              "      <th>people_fully_vaccinated_per_hundred</th>\n",
              "      <th>new_vaccinations_smoothed_per_million</th>\n",
              "      <th>stringency_index</th>\n",
              "      <th>population</th>\n",
              "      <th>population_density</th>\n",
              "      <th>median_age</th>\n",
              "      <th>aged_65_older</th>\n",
              "      <th>aged_70_older</th>\n",
              "      <th>gdp_per_capita</th>\n",
              "      <th>extreme_poverty</th>\n",
              "      <th>cardiovasc_death_rate</th>\n",
              "      <th>diabetes_prevalence</th>\n",
              "      <th>female_smokers</th>\n",
              "      <th>male_smokers</th>\n",
              "      <th>handwashing_facilities</th>\n",
              "      <th>hospital_beds_per_thousand</th>\n",
              "      <th>life_expectancy</th>\n",
              "      <th>human_development_index</th>\n",
              "    </tr>\n",
              "  </thead>\n",
              "  <tbody>\n",
              "    <tr>\n",
              "      <th>0</th>\n",
              "      <td>AFG</td>\n",
              "      <td>Asia</td>\n",
              "      <td>Afghanistan</td>\n",
              "      <td>2020-02-24</td>\n",
              "      <td>1.0</td>\n",
              "      <td>1.0</td>\n",
              "      <td>NaN</td>\n",
              "      <td>NaN</td>\n",
              "      <td>NaN</td>\n",
              "      <td>NaN</td>\n",
              "      <td>0.026</td>\n",
              "      <td>0.026</td>\n",
              "      <td>NaN</td>\n",
              "      <td>NaN</td>\n",
              "      <td>NaN</td>\n",
              "      <td>NaN</td>\n",
              "      <td>NaN</td>\n",
              "      <td>NaN</td>\n",
              "      <td>NaN</td>\n",
              "      <td>NaN</td>\n",
              "      <td>NaN</td>\n",
              "      <td>NaN</td>\n",
              "      <td>NaN</td>\n",
              "      <td>NaN</td>\n",
              "      <td>NaN</td>\n",
              "      <td>NaN</td>\n",
              "      <td>NaN</td>\n",
              "      <td>NaN</td>\n",
              "      <td>NaN</td>\n",
              "      <td>NaN</td>\n",
              "      <td>NaN</td>\n",
              "      <td>NaN</td>\n",
              "      <td>NaN</td>\n",
              "      <td>NaN</td>\n",
              "      <td>NaN</td>\n",
              "      <td>NaN</td>\n",
              "      <td>NaN</td>\n",
              "      <td>NaN</td>\n",
              "      <td>NaN</td>\n",
              "      <td>NaN</td>\n",
              "      <td>NaN</td>\n",
              "      <td>NaN</td>\n",
              "      <td>NaN</td>\n",
              "      <td>8.33</td>\n",
              "      <td>38928341.0</td>\n",
              "      <td>54.422</td>\n",
              "      <td>18.6</td>\n",
              "      <td>2.581</td>\n",
              "      <td>1.337</td>\n",
              "      <td>1803.987</td>\n",
              "      <td>NaN</td>\n",
              "      <td>597.029</td>\n",
              "      <td>9.59</td>\n",
              "      <td>NaN</td>\n",
              "      <td>NaN</td>\n",
              "      <td>37.746</td>\n",
              "      <td>0.5</td>\n",
              "      <td>64.83</td>\n",
              "      <td>0.511</td>\n",
              "    </tr>\n",
              "    <tr>\n",
              "      <th>1</th>\n",
              "      <td>AFG</td>\n",
              "      <td>Asia</td>\n",
              "      <td>Afghanistan</td>\n",
              "      <td>2020-02-25</td>\n",
              "      <td>1.0</td>\n",
              "      <td>0.0</td>\n",
              "      <td>NaN</td>\n",
              "      <td>NaN</td>\n",
              "      <td>NaN</td>\n",
              "      <td>NaN</td>\n",
              "      <td>0.026</td>\n",
              "      <td>0.000</td>\n",
              "      <td>NaN</td>\n",
              "      <td>NaN</td>\n",
              "      <td>NaN</td>\n",
              "      <td>NaN</td>\n",
              "      <td>NaN</td>\n",
              "      <td>NaN</td>\n",
              "      <td>NaN</td>\n",
              "      <td>NaN</td>\n",
              "      <td>NaN</td>\n",
              "      <td>NaN</td>\n",
              "      <td>NaN</td>\n",
              "      <td>NaN</td>\n",
              "      <td>NaN</td>\n",
              "      <td>NaN</td>\n",
              "      <td>NaN</td>\n",
              "      <td>NaN</td>\n",
              "      <td>NaN</td>\n",
              "      <td>NaN</td>\n",
              "      <td>NaN</td>\n",
              "      <td>NaN</td>\n",
              "      <td>NaN</td>\n",
              "      <td>NaN</td>\n",
              "      <td>NaN</td>\n",
              "      <td>NaN</td>\n",
              "      <td>NaN</td>\n",
              "      <td>NaN</td>\n",
              "      <td>NaN</td>\n",
              "      <td>NaN</td>\n",
              "      <td>NaN</td>\n",
              "      <td>NaN</td>\n",
              "      <td>NaN</td>\n",
              "      <td>8.33</td>\n",
              "      <td>38928341.0</td>\n",
              "      <td>54.422</td>\n",
              "      <td>18.6</td>\n",
              "      <td>2.581</td>\n",
              "      <td>1.337</td>\n",
              "      <td>1803.987</td>\n",
              "      <td>NaN</td>\n",
              "      <td>597.029</td>\n",
              "      <td>9.59</td>\n",
              "      <td>NaN</td>\n",
              "      <td>NaN</td>\n",
              "      <td>37.746</td>\n",
              "      <td>0.5</td>\n",
              "      <td>64.83</td>\n",
              "      <td>0.511</td>\n",
              "    </tr>\n",
              "    <tr>\n",
              "      <th>2</th>\n",
              "      <td>AFG</td>\n",
              "      <td>Asia</td>\n",
              "      <td>Afghanistan</td>\n",
              "      <td>2020-02-26</td>\n",
              "      <td>1.0</td>\n",
              "      <td>0.0</td>\n",
              "      <td>NaN</td>\n",
              "      <td>NaN</td>\n",
              "      <td>NaN</td>\n",
              "      <td>NaN</td>\n",
              "      <td>0.026</td>\n",
              "      <td>0.000</td>\n",
              "      <td>NaN</td>\n",
              "      <td>NaN</td>\n",
              "      <td>NaN</td>\n",
              "      <td>NaN</td>\n",
              "      <td>NaN</td>\n",
              "      <td>NaN</td>\n",
              "      <td>NaN</td>\n",
              "      <td>NaN</td>\n",
              "      <td>NaN</td>\n",
              "      <td>NaN</td>\n",
              "      <td>NaN</td>\n",
              "      <td>NaN</td>\n",
              "      <td>NaN</td>\n",
              "      <td>NaN</td>\n",
              "      <td>NaN</td>\n",
              "      <td>NaN</td>\n",
              "      <td>NaN</td>\n",
              "      <td>NaN</td>\n",
              "      <td>NaN</td>\n",
              "      <td>NaN</td>\n",
              "      <td>NaN</td>\n",
              "      <td>NaN</td>\n",
              "      <td>NaN</td>\n",
              "      <td>NaN</td>\n",
              "      <td>NaN</td>\n",
              "      <td>NaN</td>\n",
              "      <td>NaN</td>\n",
              "      <td>NaN</td>\n",
              "      <td>NaN</td>\n",
              "      <td>NaN</td>\n",
              "      <td>NaN</td>\n",
              "      <td>8.33</td>\n",
              "      <td>38928341.0</td>\n",
              "      <td>54.422</td>\n",
              "      <td>18.6</td>\n",
              "      <td>2.581</td>\n",
              "      <td>1.337</td>\n",
              "      <td>1803.987</td>\n",
              "      <td>NaN</td>\n",
              "      <td>597.029</td>\n",
              "      <td>9.59</td>\n",
              "      <td>NaN</td>\n",
              "      <td>NaN</td>\n",
              "      <td>37.746</td>\n",
              "      <td>0.5</td>\n",
              "      <td>64.83</td>\n",
              "      <td>0.511</td>\n",
              "    </tr>\n",
              "    <tr>\n",
              "      <th>3</th>\n",
              "      <td>AFG</td>\n",
              "      <td>Asia</td>\n",
              "      <td>Afghanistan</td>\n",
              "      <td>2020-02-27</td>\n",
              "      <td>1.0</td>\n",
              "      <td>0.0</td>\n",
              "      <td>NaN</td>\n",
              "      <td>NaN</td>\n",
              "      <td>NaN</td>\n",
              "      <td>NaN</td>\n",
              "      <td>0.026</td>\n",
              "      <td>0.000</td>\n",
              "      <td>NaN</td>\n",
              "      <td>NaN</td>\n",
              "      <td>NaN</td>\n",
              "      <td>NaN</td>\n",
              "      <td>NaN</td>\n",
              "      <td>NaN</td>\n",
              "      <td>NaN</td>\n",
              "      <td>NaN</td>\n",
              "      <td>NaN</td>\n",
              "      <td>NaN</td>\n",
              "      <td>NaN</td>\n",
              "      <td>NaN</td>\n",
              "      <td>NaN</td>\n",
              "      <td>NaN</td>\n",
              "      <td>NaN</td>\n",
              "      <td>NaN</td>\n",
              "      <td>NaN</td>\n",
              "      <td>NaN</td>\n",
              "      <td>NaN</td>\n",
              "      <td>NaN</td>\n",
              "      <td>NaN</td>\n",
              "      <td>NaN</td>\n",
              "      <td>NaN</td>\n",
              "      <td>NaN</td>\n",
              "      <td>NaN</td>\n",
              "      <td>NaN</td>\n",
              "      <td>NaN</td>\n",
              "      <td>NaN</td>\n",
              "      <td>NaN</td>\n",
              "      <td>NaN</td>\n",
              "      <td>NaN</td>\n",
              "      <td>8.33</td>\n",
              "      <td>38928341.0</td>\n",
              "      <td>54.422</td>\n",
              "      <td>18.6</td>\n",
              "      <td>2.581</td>\n",
              "      <td>1.337</td>\n",
              "      <td>1803.987</td>\n",
              "      <td>NaN</td>\n",
              "      <td>597.029</td>\n",
              "      <td>9.59</td>\n",
              "      <td>NaN</td>\n",
              "      <td>NaN</td>\n",
              "      <td>37.746</td>\n",
              "      <td>0.5</td>\n",
              "      <td>64.83</td>\n",
              "      <td>0.511</td>\n",
              "    </tr>\n",
              "    <tr>\n",
              "      <th>4</th>\n",
              "      <td>AFG</td>\n",
              "      <td>Asia</td>\n",
              "      <td>Afghanistan</td>\n",
              "      <td>2020-02-28</td>\n",
              "      <td>1.0</td>\n",
              "      <td>0.0</td>\n",
              "      <td>NaN</td>\n",
              "      <td>NaN</td>\n",
              "      <td>NaN</td>\n",
              "      <td>NaN</td>\n",
              "      <td>0.026</td>\n",
              "      <td>0.000</td>\n",
              "      <td>NaN</td>\n",
              "      <td>NaN</td>\n",
              "      <td>NaN</td>\n",
              "      <td>NaN</td>\n",
              "      <td>NaN</td>\n",
              "      <td>NaN</td>\n",
              "      <td>NaN</td>\n",
              "      <td>NaN</td>\n",
              "      <td>NaN</td>\n",
              "      <td>NaN</td>\n",
              "      <td>NaN</td>\n",
              "      <td>NaN</td>\n",
              "      <td>NaN</td>\n",
              "      <td>NaN</td>\n",
              "      <td>NaN</td>\n",
              "      <td>NaN</td>\n",
              "      <td>NaN</td>\n",
              "      <td>NaN</td>\n",
              "      <td>NaN</td>\n",
              "      <td>NaN</td>\n",
              "      <td>NaN</td>\n",
              "      <td>NaN</td>\n",
              "      <td>NaN</td>\n",
              "      <td>NaN</td>\n",
              "      <td>NaN</td>\n",
              "      <td>NaN</td>\n",
              "      <td>NaN</td>\n",
              "      <td>NaN</td>\n",
              "      <td>NaN</td>\n",
              "      <td>NaN</td>\n",
              "      <td>NaN</td>\n",
              "      <td>8.33</td>\n",
              "      <td>38928341.0</td>\n",
              "      <td>54.422</td>\n",
              "      <td>18.6</td>\n",
              "      <td>2.581</td>\n",
              "      <td>1.337</td>\n",
              "      <td>1803.987</td>\n",
              "      <td>NaN</td>\n",
              "      <td>597.029</td>\n",
              "      <td>9.59</td>\n",
              "      <td>NaN</td>\n",
              "      <td>NaN</td>\n",
              "      <td>37.746</td>\n",
              "      <td>0.5</td>\n",
              "      <td>64.83</td>\n",
              "      <td>0.511</td>\n",
              "    </tr>\n",
              "  </tbody>\n",
              "</table>\n",
              "</div>"
            ],
            "text/plain": [
              "  iso_code continent  ... life_expectancy human_development_index\n",
              "0      AFG      Asia  ...           64.83                   0.511\n",
              "1      AFG      Asia  ...           64.83                   0.511\n",
              "2      AFG      Asia  ...           64.83                   0.511\n",
              "3      AFG      Asia  ...           64.83                   0.511\n",
              "4      AFG      Asia  ...           64.83                   0.511\n",
              "\n",
              "[5 rows x 59 columns]"
            ]
          },
          "metadata": {
            "tags": []
          },
          "execution_count": 74
        }
      ]
    },
    {
      "cell_type": "code",
      "metadata": {
        "id": "UDQA502_hAwI",
        "colab": {
          "base_uri": "https://localhost:8080/"
        },
        "outputId": "89e100a4-20f3-4215-fa7f-71643e36417f"
      },
      "source": [
        "print('Dimensões do Dataset',\r\n",
        "    '\\nVariáveis: ',df.shape[1], \"\\n\"\r\n",
        "      'Entradas: ', df.shape[0])"
      ],
      "execution_count": 75,
      "outputs": [
        {
          "output_type": "stream",
          "text": [
            "Dimensões do Dataset \n",
            "Variáveis:  59 \n",
            "Entradas:  72337\n"
          ],
          "name": "stdout"
        }
      ]
    },
    {
      "cell_type": "markdown",
      "metadata": {
        "id": "QHJdYkSUQGZv"
      },
      "source": [
        "Abaixo temos as colunas do dataframe."
      ]
    },
    {
      "cell_type": "code",
      "metadata": {
        "colab": {
          "base_uri": "https://localhost:8080/"
        },
        "id": "mEbqw-cEsFuN",
        "outputId": "d4793427-be61-47d4-8a70-c3721665274c"
      },
      "source": [
        "df.columns"
      ],
      "execution_count": 76,
      "outputs": [
        {
          "output_type": "execute_result",
          "data": {
            "text/plain": [
              "Index(['iso_code', 'continent', 'location', 'date', 'total_cases', 'new_cases',\n",
              "       'new_cases_smoothed', 'total_deaths', 'new_deaths',\n",
              "       'new_deaths_smoothed', 'total_cases_per_million',\n",
              "       'new_cases_per_million', 'new_cases_smoothed_per_million',\n",
              "       'total_deaths_per_million', 'new_deaths_per_million',\n",
              "       'new_deaths_smoothed_per_million', 'reproduction_rate', 'icu_patients',\n",
              "       'icu_patients_per_million', 'hosp_patients',\n",
              "       'hosp_patients_per_million', 'weekly_icu_admissions',\n",
              "       'weekly_icu_admissions_per_million', 'weekly_hosp_admissions',\n",
              "       'weekly_hosp_admissions_per_million', 'new_tests', 'total_tests',\n",
              "       'total_tests_per_thousand', 'new_tests_per_thousand',\n",
              "       'new_tests_smoothed', 'new_tests_smoothed_per_thousand',\n",
              "       'positive_rate', 'tests_per_case', 'tests_units', 'total_vaccinations',\n",
              "       'people_vaccinated', 'people_fully_vaccinated', 'new_vaccinations',\n",
              "       'new_vaccinations_smoothed', 'total_vaccinations_per_hundred',\n",
              "       'people_vaccinated_per_hundred', 'people_fully_vaccinated_per_hundred',\n",
              "       'new_vaccinations_smoothed_per_million', 'stringency_index',\n",
              "       'population', 'population_density', 'median_age', 'aged_65_older',\n",
              "       'aged_70_older', 'gdp_per_capita', 'extreme_poverty',\n",
              "       'cardiovasc_death_rate', 'diabetes_prevalence', 'female_smokers',\n",
              "       'male_smokers', 'handwashing_facilities', 'hospital_beds_per_thousand',\n",
              "       'life_expectancy', 'human_development_index'],\n",
              "      dtype='object')"
            ]
          },
          "metadata": {
            "tags": []
          },
          "execution_count": 76
        }
      ]
    },
    {
      "cell_type": "markdown",
      "metadata": {
        "id": "R_ksrOfYQLn_"
      },
      "source": [
        "Conforme abaixo, temos variáveis do tipo float e objeto."
      ]
    },
    {
      "cell_type": "code",
      "metadata": {
        "id": "4JIRRCBFsFrl",
        "colab": {
          "base_uri": "https://localhost:8080/"
        },
        "outputId": "c86889fd-8068-458f-e0d1-44647753f337"
      },
      "source": [
        "df.dtypes"
      ],
      "execution_count": 77,
      "outputs": [
        {
          "output_type": "execute_result",
          "data": {
            "text/plain": [
              "iso_code                                         object\n",
              "continent                                        object\n",
              "location                                         object\n",
              "date                                     datetime64[ns]\n",
              "total_cases                                     float64\n",
              "new_cases                                       float64\n",
              "new_cases_smoothed                              float64\n",
              "total_deaths                                    float64\n",
              "new_deaths                                      float64\n",
              "new_deaths_smoothed                             float64\n",
              "total_cases_per_million                         float64\n",
              "new_cases_per_million                           float64\n",
              "new_cases_smoothed_per_million                  float64\n",
              "total_deaths_per_million                        float64\n",
              "new_deaths_per_million                          float64\n",
              "new_deaths_smoothed_per_million                 float64\n",
              "reproduction_rate                               float64\n",
              "icu_patients                                    float64\n",
              "icu_patients_per_million                        float64\n",
              "hosp_patients                                   float64\n",
              "hosp_patients_per_million                       float64\n",
              "weekly_icu_admissions                           float64\n",
              "weekly_icu_admissions_per_million               float64\n",
              "weekly_hosp_admissions                          float64\n",
              "weekly_hosp_admissions_per_million              float64\n",
              "new_tests                                       float64\n",
              "total_tests                                     float64\n",
              "total_tests_per_thousand                        float64\n",
              "new_tests_per_thousand                          float64\n",
              "new_tests_smoothed                              float64\n",
              "new_tests_smoothed_per_thousand                 float64\n",
              "positive_rate                                   float64\n",
              "tests_per_case                                  float64\n",
              "tests_units                                      object\n",
              "total_vaccinations                              float64\n",
              "people_vaccinated                               float64\n",
              "people_fully_vaccinated                         float64\n",
              "new_vaccinations                                float64\n",
              "new_vaccinations_smoothed                       float64\n",
              "total_vaccinations_per_hundred                  float64\n",
              "people_vaccinated_per_hundred                   float64\n",
              "people_fully_vaccinated_per_hundred             float64\n",
              "new_vaccinations_smoothed_per_million           float64\n",
              "stringency_index                                float64\n",
              "population                                      float64\n",
              "population_density                              float64\n",
              "median_age                                      float64\n",
              "aged_65_older                                   float64\n",
              "aged_70_older                                   float64\n",
              "gdp_per_capita                                  float64\n",
              "extreme_poverty                                 float64\n",
              "cardiovasc_death_rate                           float64\n",
              "diabetes_prevalence                             float64\n",
              "female_smokers                                  float64\n",
              "male_smokers                                    float64\n",
              "handwashing_facilities                          float64\n",
              "hospital_beds_per_thousand                      float64\n",
              "life_expectancy                                 float64\n",
              "human_development_index                         float64\n",
              "dtype: object"
            ]
          },
          "metadata": {
            "tags": []
          },
          "execution_count": 77
        }
      ]
    },
    {
      "cell_type": "code",
      "metadata": {
        "id": "B5niSLwtsFpB",
        "colab": {
          "base_uri": "https://localhost:8080/"
        },
        "outputId": "5c5e67aa-62ff-4ed3-8557-ac73700073f3"
      },
      "source": [
        "(df.isnull().sum() / df.shape[0]).sort_values(ascending = False) * 100"
      ],
      "execution_count": 78,
      "outputs": [
        {
          "output_type": "execute_result",
          "data": {
            "text/plain": [
              "weekly_icu_admissions                    99.008806\n",
              "weekly_icu_admissions_per_million        99.008806\n",
              "weekly_hosp_admissions                   98.365981\n",
              "weekly_hosp_admissions_per_million       98.365981\n",
              "people_fully_vaccinated                  97.586297\n",
              "people_fully_vaccinated_per_hundred      97.586297\n",
              "new_vaccinations                         96.349033\n",
              "people_vaccinated                        96.339356\n",
              "people_vaccinated_per_hundred            96.339356\n",
              "total_vaccinations                       95.682707\n",
              "total_vaccinations_per_hundred           95.682707\n",
              "new_vaccinations_smoothed                93.635346\n",
              "new_vaccinations_smoothed_per_million    93.635346\n",
              "icu_patients                             89.475649\n",
              "icu_patients_per_million                 89.475649\n",
              "hosp_patients                            87.341195\n",
              "hosp_patients_per_million                87.341195\n",
              "total_tests                              54.783859\n",
              "total_tests_per_thousand                 54.783859\n",
              "new_tests                                54.570966\n",
              "new_tests_per_thousand                   54.570966\n",
              "handwashing_facilities                   53.824461\n",
              "tests_per_case                           50.682223\n",
              "positive_rate                            49.920511\n",
              "new_tests_smoothed_per_thousand          48.210459\n",
              "new_tests_smoothed                       48.210459\n",
              "tests_units                              46.417463\n",
              "extreme_poverty                          37.723433\n",
              "male_smokers                             28.580118\n",
              "female_smokers                           27.586159\n",
              "reproduction_rate                        19.562603\n",
              "hospital_beds_per_thousand               15.693214\n",
              "total_deaths_per_million                 14.493275\n",
              "new_deaths_per_million                   14.274852\n",
              "stringency_index                         13.999751\n",
              "total_deaths                             13.972103\n",
              "new_deaths                               13.753681\n",
              "aged_65_older                            10.124832\n",
              "aged_70_older                             9.589836\n",
              "median_age                                9.076959\n",
              "gdp_per_capita                            8.822594\n",
              "human_development_index                   8.012497\n",
              "cardiovasc_death_rate                     7.975172\n",
              "diabetes_prevalence                       6.829147\n",
              "population_density                        6.577547\n",
              "life_expectancy                           4.982236\n",
              "continent                                 4.961500\n",
              "new_cases_smoothed_per_million            3.309510\n",
              "new_deaths_smoothed_per_million           3.309510\n",
              "new_deaths_smoothed                       2.777279\n",
              "new_cases_smoothed                        2.777279\n",
              "new_cases_per_million                     1.932621\n",
              "total_cases_per_million                   1.929856\n",
              "new_cases                                 1.393478\n",
              "total_cases                               1.390713\n",
              "population                                0.551585\n",
              "date                                      0.000000\n",
              "location                                  0.000000\n",
              "iso_code                                  0.000000\n",
              "dtype: float64"
            ]
          },
          "metadata": {
            "tags": []
          },
          "execution_count": 78
        }
      ]
    },
    {
      "cell_type": "markdown",
      "metadata": {
        "id": "5i1FmJVulQlZ"
      },
      "source": [
        "As maiores variáveis ausentes são\r\n",
        " de internações em UTI, entradas de hospitais, vacinações . Sobre as internações e entrada de hospitais os orgãos de saúde dos respectivos países não realizaram o preenchimento para a base, sobre a vacinação sabemos que a administração das doses está ocorrente recentemente por todo o mundo. "
      ]
    },
    {
      "cell_type": "markdown",
      "metadata": {
        "id": "GCjsBFHMSFRs"
      },
      "source": [
        "Configuração da variável `date` como data e tempo."
      ]
    },
    {
      "cell_type": "code",
      "metadata": {
        "id": "QdmX4pyBsFmR"
      },
      "source": [
        "df.date = pd.to_datetime(df.date)"
      ],
      "execution_count": 79,
      "outputs": []
    },
    {
      "cell_type": "code",
      "metadata": {
        "colab": {
          "base_uri": "https://localhost:8080/"
        },
        "id": "Yxxc-AF9P0GI",
        "outputId": "9b5aa683-4b76-407f-9571-e589c1f2d960"
      },
      "source": [
        "print('Data mais atual',\r\n",
        "    '\\nData: ',df.date.max(), \"\\n\")    "
      ],
      "execution_count": 80,
      "outputs": [
        {
          "output_type": "stream",
          "text": [
            "Data mais atual \n",
            "Data:  2021-03-02 00:00:00 \n",
            "\n"
          ],
          "name": "stdout"
        }
      ]
    },
    {
      "cell_type": "markdown",
      "metadata": {
        "id": "rh0cmzUOTRsw"
      },
      "source": [
        "Criação da cópia do dataframe somente considerando os países.\r\n"
      ]
    },
    {
      "cell_type": "code",
      "metadata": {
        "id": "89WVDi7EXv2v"
      },
      "source": [
        "df_paises = df.copy()"
      ],
      "execution_count": 81,
      "outputs": []
    },
    {
      "cell_type": "code",
      "metadata": {
        "id": "yEDu1O3FsFbv"
      },
      "source": [
        "df_paises = df_paises[df_paises['continent'].notna()]"
      ],
      "execution_count": 82,
      "outputs": []
    },
    {
      "cell_type": "code",
      "metadata": {
        "colab": {
          "base_uri": "https://localhost:8080/",
          "height": 309
        },
        "id": "AYQmOispWcQA",
        "outputId": "68d77225-6582-4c9c-9091-7cc754b0b1b0"
      },
      "source": [
        "df_paises.head()"
      ],
      "execution_count": 83,
      "outputs": [
        {
          "output_type": "execute_result",
          "data": {
            "text/html": [
              "<div>\n",
              "<style scoped>\n",
              "    .dataframe tbody tr th:only-of-type {\n",
              "        vertical-align: middle;\n",
              "    }\n",
              "\n",
              "    .dataframe tbody tr th {\n",
              "        vertical-align: top;\n",
              "    }\n",
              "\n",
              "    .dataframe thead th {\n",
              "        text-align: right;\n",
              "    }\n",
              "</style>\n",
              "<table border=\"1\" class=\"dataframe\">\n",
              "  <thead>\n",
              "    <tr style=\"text-align: right;\">\n",
              "      <th></th>\n",
              "      <th>iso_code</th>\n",
              "      <th>continent</th>\n",
              "      <th>location</th>\n",
              "      <th>date</th>\n",
              "      <th>total_cases</th>\n",
              "      <th>new_cases</th>\n",
              "      <th>new_cases_smoothed</th>\n",
              "      <th>total_deaths</th>\n",
              "      <th>new_deaths</th>\n",
              "      <th>new_deaths_smoothed</th>\n",
              "      <th>total_cases_per_million</th>\n",
              "      <th>new_cases_per_million</th>\n",
              "      <th>new_cases_smoothed_per_million</th>\n",
              "      <th>total_deaths_per_million</th>\n",
              "      <th>new_deaths_per_million</th>\n",
              "      <th>new_deaths_smoothed_per_million</th>\n",
              "      <th>reproduction_rate</th>\n",
              "      <th>icu_patients</th>\n",
              "      <th>icu_patients_per_million</th>\n",
              "      <th>hosp_patients</th>\n",
              "      <th>hosp_patients_per_million</th>\n",
              "      <th>weekly_icu_admissions</th>\n",
              "      <th>weekly_icu_admissions_per_million</th>\n",
              "      <th>weekly_hosp_admissions</th>\n",
              "      <th>weekly_hosp_admissions_per_million</th>\n",
              "      <th>new_tests</th>\n",
              "      <th>total_tests</th>\n",
              "      <th>total_tests_per_thousand</th>\n",
              "      <th>new_tests_per_thousand</th>\n",
              "      <th>new_tests_smoothed</th>\n",
              "      <th>new_tests_smoothed_per_thousand</th>\n",
              "      <th>positive_rate</th>\n",
              "      <th>tests_per_case</th>\n",
              "      <th>tests_units</th>\n",
              "      <th>total_vaccinations</th>\n",
              "      <th>people_vaccinated</th>\n",
              "      <th>people_fully_vaccinated</th>\n",
              "      <th>new_vaccinations</th>\n",
              "      <th>new_vaccinations_smoothed</th>\n",
              "      <th>total_vaccinations_per_hundred</th>\n",
              "      <th>people_vaccinated_per_hundred</th>\n",
              "      <th>people_fully_vaccinated_per_hundred</th>\n",
              "      <th>new_vaccinations_smoothed_per_million</th>\n",
              "      <th>stringency_index</th>\n",
              "      <th>population</th>\n",
              "      <th>population_density</th>\n",
              "      <th>median_age</th>\n",
              "      <th>aged_65_older</th>\n",
              "      <th>aged_70_older</th>\n",
              "      <th>gdp_per_capita</th>\n",
              "      <th>extreme_poverty</th>\n",
              "      <th>cardiovasc_death_rate</th>\n",
              "      <th>diabetes_prevalence</th>\n",
              "      <th>female_smokers</th>\n",
              "      <th>male_smokers</th>\n",
              "      <th>handwashing_facilities</th>\n",
              "      <th>hospital_beds_per_thousand</th>\n",
              "      <th>life_expectancy</th>\n",
              "      <th>human_development_index</th>\n",
              "    </tr>\n",
              "  </thead>\n",
              "  <tbody>\n",
              "    <tr>\n",
              "      <th>0</th>\n",
              "      <td>AFG</td>\n",
              "      <td>Asia</td>\n",
              "      <td>Afghanistan</td>\n",
              "      <td>2020-02-24</td>\n",
              "      <td>1.0</td>\n",
              "      <td>1.0</td>\n",
              "      <td>NaN</td>\n",
              "      <td>NaN</td>\n",
              "      <td>NaN</td>\n",
              "      <td>NaN</td>\n",
              "      <td>0.026</td>\n",
              "      <td>0.026</td>\n",
              "      <td>NaN</td>\n",
              "      <td>NaN</td>\n",
              "      <td>NaN</td>\n",
              "      <td>NaN</td>\n",
              "      <td>NaN</td>\n",
              "      <td>NaN</td>\n",
              "      <td>NaN</td>\n",
              "      <td>NaN</td>\n",
              "      <td>NaN</td>\n",
              "      <td>NaN</td>\n",
              "      <td>NaN</td>\n",
              "      <td>NaN</td>\n",
              "      <td>NaN</td>\n",
              "      <td>NaN</td>\n",
              "      <td>NaN</td>\n",
              "      <td>NaN</td>\n",
              "      <td>NaN</td>\n",
              "      <td>NaN</td>\n",
              "      <td>NaN</td>\n",
              "      <td>NaN</td>\n",
              "      <td>NaN</td>\n",
              "      <td>NaN</td>\n",
              "      <td>NaN</td>\n",
              "      <td>NaN</td>\n",
              "      <td>NaN</td>\n",
              "      <td>NaN</td>\n",
              "      <td>NaN</td>\n",
              "      <td>NaN</td>\n",
              "      <td>NaN</td>\n",
              "      <td>NaN</td>\n",
              "      <td>NaN</td>\n",
              "      <td>8.33</td>\n",
              "      <td>38928341.0</td>\n",
              "      <td>54.422</td>\n",
              "      <td>18.6</td>\n",
              "      <td>2.581</td>\n",
              "      <td>1.337</td>\n",
              "      <td>1803.987</td>\n",
              "      <td>NaN</td>\n",
              "      <td>597.029</td>\n",
              "      <td>9.59</td>\n",
              "      <td>NaN</td>\n",
              "      <td>NaN</td>\n",
              "      <td>37.746</td>\n",
              "      <td>0.5</td>\n",
              "      <td>64.83</td>\n",
              "      <td>0.511</td>\n",
              "    </tr>\n",
              "    <tr>\n",
              "      <th>1</th>\n",
              "      <td>AFG</td>\n",
              "      <td>Asia</td>\n",
              "      <td>Afghanistan</td>\n",
              "      <td>2020-02-25</td>\n",
              "      <td>1.0</td>\n",
              "      <td>0.0</td>\n",
              "      <td>NaN</td>\n",
              "      <td>NaN</td>\n",
              "      <td>NaN</td>\n",
              "      <td>NaN</td>\n",
              "      <td>0.026</td>\n",
              "      <td>0.000</td>\n",
              "      <td>NaN</td>\n",
              "      <td>NaN</td>\n",
              "      <td>NaN</td>\n",
              "      <td>NaN</td>\n",
              "      <td>NaN</td>\n",
              "      <td>NaN</td>\n",
              "      <td>NaN</td>\n",
              "      <td>NaN</td>\n",
              "      <td>NaN</td>\n",
              "      <td>NaN</td>\n",
              "      <td>NaN</td>\n",
              "      <td>NaN</td>\n",
              "      <td>NaN</td>\n",
              "      <td>NaN</td>\n",
              "      <td>NaN</td>\n",
              "      <td>NaN</td>\n",
              "      <td>NaN</td>\n",
              "      <td>NaN</td>\n",
              "      <td>NaN</td>\n",
              "      <td>NaN</td>\n",
              "      <td>NaN</td>\n",
              "      <td>NaN</td>\n",
              "      <td>NaN</td>\n",
              "      <td>NaN</td>\n",
              "      <td>NaN</td>\n",
              "      <td>NaN</td>\n",
              "      <td>NaN</td>\n",
              "      <td>NaN</td>\n",
              "      <td>NaN</td>\n",
              "      <td>NaN</td>\n",
              "      <td>NaN</td>\n",
              "      <td>8.33</td>\n",
              "      <td>38928341.0</td>\n",
              "      <td>54.422</td>\n",
              "      <td>18.6</td>\n",
              "      <td>2.581</td>\n",
              "      <td>1.337</td>\n",
              "      <td>1803.987</td>\n",
              "      <td>NaN</td>\n",
              "      <td>597.029</td>\n",
              "      <td>9.59</td>\n",
              "      <td>NaN</td>\n",
              "      <td>NaN</td>\n",
              "      <td>37.746</td>\n",
              "      <td>0.5</td>\n",
              "      <td>64.83</td>\n",
              "      <td>0.511</td>\n",
              "    </tr>\n",
              "    <tr>\n",
              "      <th>2</th>\n",
              "      <td>AFG</td>\n",
              "      <td>Asia</td>\n",
              "      <td>Afghanistan</td>\n",
              "      <td>2020-02-26</td>\n",
              "      <td>1.0</td>\n",
              "      <td>0.0</td>\n",
              "      <td>NaN</td>\n",
              "      <td>NaN</td>\n",
              "      <td>NaN</td>\n",
              "      <td>NaN</td>\n",
              "      <td>0.026</td>\n",
              "      <td>0.000</td>\n",
              "      <td>NaN</td>\n",
              "      <td>NaN</td>\n",
              "      <td>NaN</td>\n",
              "      <td>NaN</td>\n",
              "      <td>NaN</td>\n",
              "      <td>NaN</td>\n",
              "      <td>NaN</td>\n",
              "      <td>NaN</td>\n",
              "      <td>NaN</td>\n",
              "      <td>NaN</td>\n",
              "      <td>NaN</td>\n",
              "      <td>NaN</td>\n",
              "      <td>NaN</td>\n",
              "      <td>NaN</td>\n",
              "      <td>NaN</td>\n",
              "      <td>NaN</td>\n",
              "      <td>NaN</td>\n",
              "      <td>NaN</td>\n",
              "      <td>NaN</td>\n",
              "      <td>NaN</td>\n",
              "      <td>NaN</td>\n",
              "      <td>NaN</td>\n",
              "      <td>NaN</td>\n",
              "      <td>NaN</td>\n",
              "      <td>NaN</td>\n",
              "      <td>NaN</td>\n",
              "      <td>NaN</td>\n",
              "      <td>NaN</td>\n",
              "      <td>NaN</td>\n",
              "      <td>NaN</td>\n",
              "      <td>NaN</td>\n",
              "      <td>8.33</td>\n",
              "      <td>38928341.0</td>\n",
              "      <td>54.422</td>\n",
              "      <td>18.6</td>\n",
              "      <td>2.581</td>\n",
              "      <td>1.337</td>\n",
              "      <td>1803.987</td>\n",
              "      <td>NaN</td>\n",
              "      <td>597.029</td>\n",
              "      <td>9.59</td>\n",
              "      <td>NaN</td>\n",
              "      <td>NaN</td>\n",
              "      <td>37.746</td>\n",
              "      <td>0.5</td>\n",
              "      <td>64.83</td>\n",
              "      <td>0.511</td>\n",
              "    </tr>\n",
              "    <tr>\n",
              "      <th>3</th>\n",
              "      <td>AFG</td>\n",
              "      <td>Asia</td>\n",
              "      <td>Afghanistan</td>\n",
              "      <td>2020-02-27</td>\n",
              "      <td>1.0</td>\n",
              "      <td>0.0</td>\n",
              "      <td>NaN</td>\n",
              "      <td>NaN</td>\n",
              "      <td>NaN</td>\n",
              "      <td>NaN</td>\n",
              "      <td>0.026</td>\n",
              "      <td>0.000</td>\n",
              "      <td>NaN</td>\n",
              "      <td>NaN</td>\n",
              "      <td>NaN</td>\n",
              "      <td>NaN</td>\n",
              "      <td>NaN</td>\n",
              "      <td>NaN</td>\n",
              "      <td>NaN</td>\n",
              "      <td>NaN</td>\n",
              "      <td>NaN</td>\n",
              "      <td>NaN</td>\n",
              "      <td>NaN</td>\n",
              "      <td>NaN</td>\n",
              "      <td>NaN</td>\n",
              "      <td>NaN</td>\n",
              "      <td>NaN</td>\n",
              "      <td>NaN</td>\n",
              "      <td>NaN</td>\n",
              "      <td>NaN</td>\n",
              "      <td>NaN</td>\n",
              "      <td>NaN</td>\n",
              "      <td>NaN</td>\n",
              "      <td>NaN</td>\n",
              "      <td>NaN</td>\n",
              "      <td>NaN</td>\n",
              "      <td>NaN</td>\n",
              "      <td>NaN</td>\n",
              "      <td>NaN</td>\n",
              "      <td>NaN</td>\n",
              "      <td>NaN</td>\n",
              "      <td>NaN</td>\n",
              "      <td>NaN</td>\n",
              "      <td>8.33</td>\n",
              "      <td>38928341.0</td>\n",
              "      <td>54.422</td>\n",
              "      <td>18.6</td>\n",
              "      <td>2.581</td>\n",
              "      <td>1.337</td>\n",
              "      <td>1803.987</td>\n",
              "      <td>NaN</td>\n",
              "      <td>597.029</td>\n",
              "      <td>9.59</td>\n",
              "      <td>NaN</td>\n",
              "      <td>NaN</td>\n",
              "      <td>37.746</td>\n",
              "      <td>0.5</td>\n",
              "      <td>64.83</td>\n",
              "      <td>0.511</td>\n",
              "    </tr>\n",
              "    <tr>\n",
              "      <th>4</th>\n",
              "      <td>AFG</td>\n",
              "      <td>Asia</td>\n",
              "      <td>Afghanistan</td>\n",
              "      <td>2020-02-28</td>\n",
              "      <td>1.0</td>\n",
              "      <td>0.0</td>\n",
              "      <td>NaN</td>\n",
              "      <td>NaN</td>\n",
              "      <td>NaN</td>\n",
              "      <td>NaN</td>\n",
              "      <td>0.026</td>\n",
              "      <td>0.000</td>\n",
              "      <td>NaN</td>\n",
              "      <td>NaN</td>\n",
              "      <td>NaN</td>\n",
              "      <td>NaN</td>\n",
              "      <td>NaN</td>\n",
              "      <td>NaN</td>\n",
              "      <td>NaN</td>\n",
              "      <td>NaN</td>\n",
              "      <td>NaN</td>\n",
              "      <td>NaN</td>\n",
              "      <td>NaN</td>\n",
              "      <td>NaN</td>\n",
              "      <td>NaN</td>\n",
              "      <td>NaN</td>\n",
              "      <td>NaN</td>\n",
              "      <td>NaN</td>\n",
              "      <td>NaN</td>\n",
              "      <td>NaN</td>\n",
              "      <td>NaN</td>\n",
              "      <td>NaN</td>\n",
              "      <td>NaN</td>\n",
              "      <td>NaN</td>\n",
              "      <td>NaN</td>\n",
              "      <td>NaN</td>\n",
              "      <td>NaN</td>\n",
              "      <td>NaN</td>\n",
              "      <td>NaN</td>\n",
              "      <td>NaN</td>\n",
              "      <td>NaN</td>\n",
              "      <td>NaN</td>\n",
              "      <td>NaN</td>\n",
              "      <td>8.33</td>\n",
              "      <td>38928341.0</td>\n",
              "      <td>54.422</td>\n",
              "      <td>18.6</td>\n",
              "      <td>2.581</td>\n",
              "      <td>1.337</td>\n",
              "      <td>1803.987</td>\n",
              "      <td>NaN</td>\n",
              "      <td>597.029</td>\n",
              "      <td>9.59</td>\n",
              "      <td>NaN</td>\n",
              "      <td>NaN</td>\n",
              "      <td>37.746</td>\n",
              "      <td>0.5</td>\n",
              "      <td>64.83</td>\n",
              "      <td>0.511</td>\n",
              "    </tr>\n",
              "  </tbody>\n",
              "</table>\n",
              "</div>"
            ],
            "text/plain": [
              "  iso_code continent  ... life_expectancy human_development_index\n",
              "0      AFG      Asia  ...           64.83                   0.511\n",
              "1      AFG      Asia  ...           64.83                   0.511\n",
              "2      AFG      Asia  ...           64.83                   0.511\n",
              "3      AFG      Asia  ...           64.83                   0.511\n",
              "4      AFG      Asia  ...           64.83                   0.511\n",
              "\n",
              "[5 rows x 59 columns]"
            ]
          },
          "metadata": {
            "tags": []
          },
          "execution_count": 83
        }
      ]
    },
    {
      "cell_type": "markdown",
      "metadata": {
        "id": "ODyCnnJGQ96d"
      },
      "source": [
        "#### **Quais países com maiores casos?**\r\n",
        "\r\n",
        "Abaixo, os países que apresentaram maiores casos no dia 02 de Março, os países com maiores índices são:\r\n",
        "\r\n",
        "* **Estados Unidos: 28.721.261 casos**\r\n",
        "\r\n",
        "* **Índia: 11.139.516 casos**\r\n",
        "\r\n",
        "* **Brasil: 10.646.929 casos**\r\n",
        "\r\n",
        "* **Russia: 4.220.291 casos** \r\n",
        "\r\n",
        "* **Reino Unido: 4.200.700 casos**"
      ]
    },
    {
      "cell_type": "code",
      "metadata": {
        "id": "zK_Ao5J_boBl",
        "colab": {
          "base_uri": "https://localhost:8080/",
          "height": 204
        },
        "outputId": "60242095-ce85-40cc-84c2-dd8b9321cc14"
      },
      "source": [
        "df_paises.loc[df_paises.date == '2021-03-02',['location','total_cases']].sort_values(by = \"total_cases\", ascending = False)[0:5]"
      ],
      "execution_count": 84,
      "outputs": [
        {
          "output_type": "execute_result",
          "data": {
            "text/html": [
              "<div>\n",
              "<style scoped>\n",
              "    .dataframe tbody tr th:only-of-type {\n",
              "        vertical-align: middle;\n",
              "    }\n",
              "\n",
              "    .dataframe tbody tr th {\n",
              "        vertical-align: top;\n",
              "    }\n",
              "\n",
              "    .dataframe thead th {\n",
              "        text-align: right;\n",
              "    }\n",
              "</style>\n",
              "<table border=\"1\" class=\"dataframe\">\n",
              "  <thead>\n",
              "    <tr style=\"text-align: right;\">\n",
              "      <th></th>\n",
              "      <th>location</th>\n",
              "      <th>total_cases</th>\n",
              "    </tr>\n",
              "  </thead>\n",
              "  <tbody>\n",
              "    <tr>\n",
              "      <th>68963</th>\n",
              "      <td>United States</td>\n",
              "      <td>28721261.0</td>\n",
              "    </tr>\n",
              "    <tr>\n",
              "      <th>30110</th>\n",
              "      <td>India</td>\n",
              "      <td>11139516.0</td>\n",
              "    </tr>\n",
              "    <tr>\n",
              "      <th>9673</th>\n",
              "      <td>Brazil</td>\n",
              "      <td>10646926.0</td>\n",
              "    </tr>\n",
              "    <tr>\n",
              "      <th>53917</th>\n",
              "      <td>Russia</td>\n",
              "      <td>4220291.0</td>\n",
              "    </tr>\n",
              "    <tr>\n",
              "      <th>68557</th>\n",
              "      <td>United Kingdom</td>\n",
              "      <td>4200700.0</td>\n",
              "    </tr>\n",
              "  </tbody>\n",
              "</table>\n",
              "</div>"
            ],
            "text/plain": [
              "             location  total_cases\n",
              "68963   United States   28721261.0\n",
              "30110           India   11139516.0\n",
              "9673           Brazil   10646926.0\n",
              "53917          Russia    4220291.0\n",
              "68557  United Kingdom    4200700.0"
            ]
          },
          "metadata": {
            "tags": []
          },
          "execution_count": 84
        }
      ]
    },
    {
      "cell_type": "markdown",
      "metadata": {
        "id": "cqqBD1L8T8xQ"
      },
      "source": [
        "**Visualização Gráfica**\r\n",
        "\r\n",
        "Através da biblioteca matplotlib vamos plotar um gráfico de barra com os países com maiores casos."
      ]
    },
    {
      "cell_type": "code",
      "metadata": {
        "colab": {
          "base_uri": "https://localhost:8080/",
          "height": 390
        },
        "id": "QwwXYiGPWqvu",
        "outputId": "c1def518-8b06-4efe-aef0-db010ac00482"
      },
      "source": [
        "top_cinco_casos = df_paises.loc[df_paises.date == '2021-03-02', ['location', 'total_cases']].sort_values(by = ['total_cases'], ascending = False)[0:5]\r\n",
        "fig, ax = plt.subplots(figsize = (10,5))\r\n",
        "ax.axes.ticklabel_format(axis='y', style='plain')\r\n",
        "ax.bar('location', 'total_cases', data = top_cinco_casos)\r\n",
        "ax.set_title('Top 5 casos de Covid-19')\r\n",
        "ax.set_ylabel('N° de Casos')\r\n",
        "plt.xticks(rotation = 45, ha = 'right')\r\n",
        "\r\n",
        "plt.show()"
      ],
      "execution_count": 85,
      "outputs": [
        {
          "output_type": "display_data",
          "data": {
            "image/png": "[encoded data removed]",
            "text/plain": [
              "<Figure size 720x360 with 1 Axes>"
            ]
          },
          "metadata": {
            "tags": [],
            "needs_background": "light"
          }
        }
      ]
    },
    {
      "cell_type": "markdown",
      "metadata": {
        "id": "sUK6bZFzTfdW"
      },
      "source": [
        "#### **Quais países com maiores mortes?**\r\n",
        "\r\n",
        "Abaixo, os países que apresentaram maiores mortes no dia 02 de Março, os países com maiores índices são:\r\n",
        "\r\n",
        "* **Estados Unidos: 516.581 mortes**\r\n",
        "\r\n",
        "* **Brasil: 257.361 mortes**\r\n",
        "\r\n",
        "* **México: 187.187 mortes**\r\n",
        "\r\n",
        "* **Índia: 157.346 mortes**\r\n",
        "\r\n",
        "* **Reino Unido: 123.530 mortes**\r\n"
      ]
    },
    {
      "cell_type": "code",
      "metadata": {
        "colab": {
          "base_uri": "https://localhost:8080/",
          "height": 204
        },
        "id": "T0ckXullTcnt",
        "outputId": "37571fb9-61f9-4b7f-9d9f-74e3049da101"
      },
      "source": [
        "df_paises.loc[df_paises.date == '2021-03-02', ['location', 'total_deaths']].sort_values(by=\"total_deaths\", ascending = False)[0:5]"
      ],
      "execution_count": 86,
      "outputs": [
        {
          "output_type": "execute_result",
          "data": {
            "text/html": [
              "<div>\n",
              "<style scoped>\n",
              "    .dataframe tbody tr th:only-of-type {\n",
              "        vertical-align: middle;\n",
              "    }\n",
              "\n",
              "    .dataframe tbody tr th {\n",
              "        vertical-align: top;\n",
              "    }\n",
              "\n",
              "    .dataframe thead th {\n",
              "        text-align: right;\n",
              "    }\n",
              "</style>\n",
              "<table border=\"1\" class=\"dataframe\">\n",
              "  <thead>\n",
              "    <tr style=\"text-align: right;\">\n",
              "      <th></th>\n",
              "      <th>location</th>\n",
              "      <th>total_deaths</th>\n",
              "    </tr>\n",
              "  </thead>\n",
              "  <tbody>\n",
              "    <tr>\n",
              "      <th>68963</th>\n",
              "      <td>United States</td>\n",
              "      <td>516581.0</td>\n",
              "    </tr>\n",
              "    <tr>\n",
              "      <th>9673</th>\n",
              "      <td>Brazil</td>\n",
              "      <td>257361.0</td>\n",
              "    </tr>\n",
              "    <tr>\n",
              "      <th>42411</th>\n",
              "      <td>Mexico</td>\n",
              "      <td>187187.0</td>\n",
              "    </tr>\n",
              "    <tr>\n",
              "      <th>30110</th>\n",
              "      <td>India</td>\n",
              "      <td>157346.0</td>\n",
              "    </tr>\n",
              "    <tr>\n",
              "      <th>68557</th>\n",
              "      <td>United Kingdom</td>\n",
              "      <td>123530.0</td>\n",
              "    </tr>\n",
              "  </tbody>\n",
              "</table>\n",
              "</div>"
            ],
            "text/plain": [
              "             location  total_deaths\n",
              "68963   United States      516581.0\n",
              "9673           Brazil      257361.0\n",
              "42411          Mexico      187187.0\n",
              "30110           India      157346.0\n",
              "68557  United Kingdom      123530.0"
            ]
          },
          "metadata": {
            "tags": []
          },
          "execution_count": 86
        }
      ]
    },
    {
      "cell_type": "markdown",
      "metadata": {
        "id": "9VCL_fMaUEjI"
      },
      "source": [
        "**Visualização Gráfica**\r\n",
        "\r\n",
        "Através da biblioteca matplotlib vamos plotar um gráfico de barra com os países com maiores mortes."
      ]
    },
    {
      "cell_type": "code",
      "metadata": {
        "colab": {
          "base_uri": "https://localhost:8080/",
          "height": 390
        },
        "id": "g-Xycm6KCAWx",
        "outputId": "0ae07785-9bbb-4fbd-d39b-97e91cae59c2"
      },
      "source": [
        "top_cinco_mortes = df_paises.loc[df_paises.date == '2021-03-02', ['location', 'total_deaths']].sort_values(by = ['total_deaths'], ascending = False)[0:5]\r\n",
        "fig, ax = plt.subplots(figsize = (10,5))\r\n",
        "ax.axes.ticklabel_format(axis='y', style='plain')\r\n",
        "ax.bar('location', 'total_deaths', data = top_cinco_mortes)\r\n",
        "ax.set_title('Top 5 Mortes de Covid-19')\r\n",
        "ax.set_ylabel('N° de Mortes')\r\n",
        "plt.xticks(rotation = 45, ha = 'right')\r\n",
        "\r\n",
        "plt.show()"
      ],
      "execution_count": 87,
      "outputs": [
        {
          "output_type": "display_data",
          "data": {
            "image/png": "[encoded data removed]",
            "text/plain": [
              "<Figure size 720x360 with 1 Axes>"
            ]
          },
          "metadata": {
            "tags": [],
            "needs_background": "light"
          }
        }
      ]
    },
    {
      "cell_type": "markdown",
      "metadata": {
        "id": "Bj9pMieArJ-4"
      },
      "source": [
        "Com os países com maiores mortes que são o **Estados Unidos**, **Brasil** **México**, **Índia**, **Reino Unido**, vamos analisar as **mortes** no período e a **taxa de mortalidade** para cada país."
      ]
    },
    {
      "cell_type": "code",
      "metadata": {
        "id": "Xu1XCBoguFhC"
      },
      "source": [
        "#Cópia do dataframe com o filtro dos países\r\n",
        "\r\n",
        "df_brasil = df.loc[df.location == \"Brazil\"].copy()\r\n",
        "df_United_States = df.loc[df.location == \"United States\"].copy()\r\n",
        "df_United_Kingdom = df.loc[df.location == \"United Kingdom\"].copy()\r\n",
        "df_Mexico = df.loc[df.location == \"Mexico\"].copy()\r\n",
        "df_India = df.loc[df.location == \"India\"].copy()"
      ],
      "execution_count": 88,
      "outputs": []
    },
    {
      "cell_type": "code",
      "metadata": {
        "id": "-5nQVoqrsGyJ"
      },
      "source": [
        "#Indexar a variável date\r\n",
        "\r\n",
        "df_brasil.index = df_brasil.date\r\n",
        "df_United_States.index = df_United_States.date\r\n",
        "df_United_Kingdom.index = df_United_Kingdom.date\r\n",
        "df_Mexico.index = df_Mexico.date\r\n",
        "df_India.index = df_India.date"
      ],
      "execution_count": 89,
      "outputs": []
    },
    {
      "cell_type": "code",
      "metadata": {
        "id": "6QGbOj9KrgdJ"
      },
      "source": [
        "df_brasil_mortes = df_brasil.total_deaths\r\n",
        "df_United_States_mortes = df_United_States.total_deaths\r\n",
        "df_mortes_United_Kingdom = df_United_Kingdom.total_deaths\r\n",
        "df_mortes_Mexico = df_Mexico.total_deaths\r\n",
        "df_mortes_India = df_India.total_deaths             "
      ],
      "execution_count": 90,
      "outputs": []
    },
    {
      "cell_type": "markdown",
      "metadata": {
        "id": "5tSPybB1VC3h"
      },
      "source": [
        "**Visualização Gráfica**\r\n",
        "\r\n",
        "Com a criação de dataframe especifico para os países, já podemos fazer a análise gráfica do período de mortes do top 5 países."
      ]
    },
    {
      "cell_type": "code",
      "metadata": {
        "colab": {
          "base_uri": "https://localhost:8080/",
          "height": 323
        },
        "id": "XEPqVdw_vMFG",
        "outputId": "5498b70b-0166-452f-b857-029e781432c4"
      },
      "source": [
        "# Plotagem do gráfico de mortes dos cinco países\r\n",
        "\r\n",
        "fig, ax1 = plt.subplots(nrows=1, ncols=1, figsize=(32,8))\r\n",
        "\r\n",
        "ax1.plot(df_United_States_mortes, '-g', label='United States')\r\n",
        "ax1.plot(df_brasil_mortes, label='Brazil')\r\n",
        "ax1.plot(df_mortes_United_Kingdom, '-c', label='United Kingdom')\r\n",
        "ax1.plot(df_mortes_Mexico, '-r', label='Mexico')\r\n",
        "ax1.plot(df_mortes_India, '-m', label='India')\r\n",
        "\r\n",
        "#Títulos e nome dos eixo\r\n",
        "ax1.set_title('Mortes do top 5 países', fontsize=20)\r\n",
        "ax1.set_ylabel('N° de Mortes',fontsize=18)\r\n",
        "plt.legend(fontsize=18)\r\n",
        "\r\n",
        "ax.axes.ticklabel_format(axis='y', style='plain')\r\n",
        "#Definir formato de data\r\n",
        "date_form = DateFormatter(\"%m-%y\")\r\n",
        "ax.xaxis.set_major_formatter(date_form)\r\n",
        "\r\n",
        "plt.tight_layout()\r\n",
        "plt.show()"
      ],
      "execution_count": 91,
      "outputs": [
        {
          "output_type": "display_data",
          "data": {
            "image/png": "[encoded data removed]",
            "text/plain": [
              "<Figure size 2304x576 with 1 Axes>"
            ]
          },
          "metadata": {
            "tags": [],
            "needs_background": "light"
          }
        }
      ]
    },
    {
      "cell_type": "markdown",
      "metadata": {
        "id": "Fw8iFzBqxq13"
      },
      "source": [
        "Através da análise do top 5 países com maiores mortes, o **Estados Unidos** e **Brasil** são os países com maiores mortes em maior parte do período, o país **México** vem enfrentando forte crescimento de mortes neste ano (2021) já chegando a ultrapassar o número de mortes da **Índia**, algo relevante é que em nenhum dos países teve um achatamento da curva por um longo período."
      ]
    },
    {
      "cell_type": "markdown",
      "metadata": {
        "id": "C7tjXuv8vpp0"
      },
      "source": [
        "\r\n",
        "---\r\n",
        "\r\n",
        "\r\n",
        "\r\n"
      ]
    },
    {
      "cell_type": "markdown",
      "metadata": {
        "id": "43kM9Jy6WSuY"
      },
      "source": [
        "### Taxa de Mortalidade por infecção\r\n",
        "\r\n",
        "Através da fórmula: \r\n",
        "\r\n",
        "<left><img alt = \"Covid\" width = \"70%\" src = \"https://www.who.int/images/default-source/health-topics/coronavirus/ifr.png?sfvrsn=b53cb816_1.png\"></left>\r\n",
        "\r\n",
        "Vamos calcular a **taxa de mortalidade** de cada país.\r\n"
      ]
    },
    {
      "cell_type": "code",
      "metadata": {
        "id": "ufITWxb7sGsH"
      },
      "source": [
        "  #Calcular a taxa de mortalidade de cada país\r\n",
        "\r\n",
        "  df_mort_brasil = (df_brasil.total_deaths / df_brasil.total_cases * 100)\r\n",
        "  df_mort_United_States = (df_United_States.total_deaths / df_United_States.total_cases * 100)\r\n",
        "  df_mort_India = (df_India.total_deaths / df_India.total_cases * 100)\r\n",
        "  df_mort_United_Kingdom = (df_United_Kingdom.total_deaths / df_United_Kingdom.total_cases * 100)\r\n",
        "  df_mort_Mexico = (df_Mexico.total_deaths / df_Mexico.total_cases * 100)"
      ],
      "execution_count": 92,
      "outputs": []
    },
    {
      "cell_type": "markdown",
      "metadata": {
        "id": "iQJWkDLcWHB2"
      },
      "source": [
        "**Visualização Gráfica**\r\n",
        "\r\n",
        "Com o cálculo da taxa de **mortalidade por infecção** dos países, já podemos fazer a análise gráfica do período do top 5 países.\r\n"
      ]
    },
    {
      "cell_type": "code",
      "metadata": {
        "colab": {
          "base_uri": "https://localhost:8080/",
          "height": 323
        },
        "id": "Ged7Ike7s6rR",
        "outputId": "479f63ea-3c0f-4e6c-933d-8be67f8cb7e7"
      },
      "source": [
        "# Plotagem do gráfico da taxa de mortalidade dos cinco países\r\n",
        "\r\n",
        "fig, ax2 = plt.subplots(nrows=1, ncols=1, figsize=(32,8))\r\n",
        "\r\n",
        "ax2.plot(df_mort_United_States, '-g', label='United States')\r\n",
        "ax2.plot(df_mort_brasil, label='Brazil')\r\n",
        "ax2.plot(df_mort_United_Kingdom, '-c', label='United Kingdom')\r\n",
        "ax2.plot(df_mort_Mexico, '-r', label='Mexico')\r\n",
        "ax2.plot(df_mort_India, '-m', label='India')\r\n",
        "\r\n",
        "#Títulos e nome dos eixo\r\n",
        "ax2.set_title('Taxa de mortalidade Países Top 5 Mortes', fontsize=20)\r\n",
        "ax2.set_ylabel('% de mortalidade',fontsize=18)\r\n",
        "plt.legend(fontsize=18)\r\n",
        "\r\n",
        "ax.axes.ticklabel_format(axis='y', style='plain')\r\n",
        "#Definir formato de data\r\n",
        "date_form = DateFormatter(\"%m-%y\")\r\n",
        "ax.xaxis.set_major_formatter(date_form)\r\n",
        "\r\n",
        "plt.tight_layout()\r\n",
        "plt.show()"
      ],
      "execution_count": 93,
      "outputs": [
        {
          "output_type": "display_data",
          "data": {
            "image/png": "[encoded data removed]",
            "text/plain": [
              "<Figure size 2304x576 with 1 Axes>"
            ]
          },
          "metadata": {
            "tags": [],
            "needs_background": "light"
          }
        }
      ]
    },
    {
      "cell_type": "markdown",
      "metadata": {
        "id": "Zu7pKu4lyLGy"
      },
      "source": [
        "Através da análise da taxa de mortalidade por infecção dos cinco países, o México é o país com maior taxa de mortalidade, isso é devido ao tamanho populacional em relação ao Brasil, Estados Unidos e Índia.\r\n",
        "Já o Reino Unido, obteve uma diminuição drástica da taxa de mortalidade após o último trimestre de 2020, de acordo com este [site](https://www.sproutwired.com/portuguese-immigration-to-the-uk-increased-in-the-last-quarter-of-2020/) de notícias, aumentou a imigração de portugues para o Reino Unido."
      ]
    },
    {
      "cell_type": "markdown",
      "metadata": {
        "id": "jt3Sb5errGFe"
      },
      "source": [
        "---"
      ]
    },
    {
      "cell_type": "markdown",
      "metadata": {
        "id": "uaMX1kSCUjqD"
      },
      "source": [
        "### Análise Exploratória mundial\r\n",
        "Atualmente o mundo vem enfrentando a pandemia, desde mês de dezembro de 2019, na qual foi identificado o vírus no distrito de Wuhan na China.\r\n",
        "O dataframe que estamos analisando, vamos filtrar a variável `location`, com a análise da soma de  total de casos e mortes."
      ]
    },
    {
      "cell_type": "markdown",
      "metadata": {
        "id": "PW47FnNNcM_A"
      },
      "source": [
        "**Visualização Gráfica**\r\n",
        "\r\n",
        "Vamos plotar um gráfico de linha de como está a evolução de casos no mundo desde do primeiro dia."
      ]
    },
    {
      "cell_type": "code",
      "metadata": {
        "colab": {
          "base_uri": "https://localhost:8080/"
        },
        "id": "nMUu0lgETrKM",
        "outputId": "6c14e89e-451c-4fdb-8a42-4ea4a7c7b9fa"
      },
      "source": [
        "evolution_world_casos.total_cases.max()"
      ],
      "execution_count": 94,
      "outputs": [
        {
          "output_type": "execute_result",
          "data": {
            "text/plain": [
              "114753125.0"
            ]
          },
          "metadata": {
            "tags": []
          },
          "execution_count": 94
        }
      ]
    },
    {
      "cell_type": "code",
      "metadata": {
        "colab": {
          "base_uri": "https://localhost:8080/",
          "height": 487
        },
        "id": "Z5c9ToCQlS8F",
        "outputId": "88dcc728-cfb4-4a18-d038-dbbed3b76861"
      },
      "source": [
        "evolution_world_casos = df.loc[df.location == 'World', ['date','total_cases']]\r\n",
        "# Criar figura\r\n",
        "fig, ax = plt.subplots(figsize = (32,12))\r\n",
        "\r\n",
        "\r\n",
        "#Adicionar os eixos\r\n",
        "ax.plot(evolution_world_casos['date'],evolution_world_casos['total_cases'])\r\n",
        "       \r\n",
        "\r\n",
        "#Títulos e nome dos eixo\r\n",
        "ax.set(xlabel=\"Date\",\r\n",
        "       ylabel=\"N° de Casos\",\r\n",
        "       title = \"Casos de Covid no mundo\")\r\n",
        "ax.axes.ticklabel_format(axis='y', style='plain')\r\n",
        "#Definir formato de data\r\n",
        "date_form = DateFormatter(\"%m-%y\")\r\n",
        "ax.xaxis.set_major_formatter(date_form)\r\n",
        "\r\n",
        "plt.show()"
      ],
      "execution_count": 95,
      "outputs": [
        {
          "output_type": "display_data",
          "data": {
            "image/png": "[encoded data removed]",
            "text/plain": [
              "<Figure size 2304x864 with 1 Axes>"
            ]
          },
          "metadata": {
            "tags": [],
            "needs_background": "light"
          }
        }
      ]
    },
    {
      "cell_type": "markdown",
      "metadata": {
        "id": "lMeUOtcnU_VS"
      },
      "source": [
        "Percebe - se que não houve achatamento da curva e que atualmente temos mais de 100 milhões de casos."
      ]
    },
    {
      "cell_type": "markdown",
      "metadata": {
        "id": "v8Oi8b-gVQ7v"
      },
      "source": [
        "**Visualização Gráfica**\r\n",
        "\r\n",
        "Vamos plotar um gráfico de linha de como está a evolução de mortes no mundo desde do primeiro dia."
      ]
    },
    {
      "cell_type": "code",
      "metadata": {
        "colab": {
          "base_uri": "https://localhost:8080/",
          "height": 490
        },
        "id": "jQGXB9z5cfMP",
        "outputId": "2f485f8b-e4d1-46d7-e87b-a9127df4cdc5"
      },
      "source": [
        "evolution_world_mortes = df.loc[df.location == 'World', ['date','total_deaths']]\r\n",
        "# Criar figura\r\n",
        "fig, ax = plt.subplots(figsize = (32,12))\r\n",
        "\r\n",
        "#Adicionar os eixos\r\n",
        "ax.plot(evolution_world_mortes['date'],evolution_world_mortes['total_deaths'])\r\n",
        "\r\n",
        "#Títulos e nome dos eixo\r\n",
        "ax.set(xlabel=\"Date\",\r\n",
        "       ylabel=\"N° de Mortes\",\r\n",
        "       title = \"Mortes de Covid no mundo\")\r\n",
        "ax.axes.ticklabel_format(axis='y', style='plain')\r\n",
        "#Definir formato de data\r\n",
        "date_form = DateFormatter(\"%m-%y\")\r\n",
        "ax.xaxis.set_major_formatter(date_form)\r\n",
        "\r\n",
        "plt.show()"
      ],
      "execution_count": 96,
      "outputs": [
        {
          "output_type": "display_data",
          "data": {
            "image/png": "[encoded data removed]",
            "text/plain": [
              "<Figure size 2304x864 with 1 Axes>"
            ]
          },
          "metadata": {
            "tags": [],
            "needs_background": "light"
          }
        }
      ]
    },
    {
      "cell_type": "markdown",
      "metadata": {
        "id": "FtP3gcKyVfd5"
      },
      "source": [
        "Em casos de mortes no mundo, atualmente temos mais de 2,5 milhões de mortes e com a curva crescente ao longo do perído."
      ]
    },
    {
      "cell_type": "markdown",
      "metadata": {
        "id": "Q-vE13Pa1gSu"
      },
      "source": [
        "#### **Análise Exploratória da Vacina**\r\n",
        "\r\n"
      ]
    },
    {
      "cell_type": "markdown",
      "metadata": {
        "id": "m9nGez-L1zm9"
      },
      "source": [
        "Nesta análise vamos verificar quais os países que mais vacinaram e seus números."
      ]
    },
    {
      "cell_type": "markdown",
      "metadata": {
        "id": "QfJUNLcdfH5F"
      },
      "source": [
        "Através da criação de um data frame `vac`, na qual selecionar variáveis e copiar do dataframe original, também será analisado a variável `people_fully_vaccinated` e `people_fully_vaccinated_per_hundred`, já que essas variáveis são contempladas a quantidade de pessoas que receberão todas as doses da vacina de acordo o protocolo."
      ]
    },
    {
      "cell_type": "code",
      "metadata": {
        "id": "PyHHwbt51yj0"
      },
      "source": [
        "#Criando dataframe da vacina\r\n",
        "vac = df[['continent', 'location', 'date',\r\n",
        "                 'total_vaccinations', 'people_vaccinated', 'people_fully_vaccinated',\r\n",
        "                'new_vaccinations', 'new_vaccinations_smoothed', 'total_vaccinations_per_hundred',\r\n",
        "                'people_vaccinated_per_hundred', 'people_fully_vaccinated_per_hundred', 'new_vaccinations_smoothed_per_million',\r\n",
        "                 'life_expectancy', 'human_development_index', 'aged_65_older',\r\n",
        "                 'aged_70_older', 'stringency_index', 'population_density', 'median_age']].copy()"
      ],
      "execution_count": 97,
      "outputs": []
    },
    {
      "cell_type": "code",
      "metadata": {
        "colab": {
          "base_uri": "https://localhost:8080/",
          "height": 309
        },
        "id": "y6C2TEiF2Dlo",
        "outputId": "6ea3410b-efb6-4388-97dc-0ca445f592ae"
      },
      "source": [
        "vac.head()"
      ],
      "execution_count": 98,
      "outputs": [
        {
          "output_type": "execute_result",
          "data": {
            "text/html": [
              "<div>\n",
              "<style scoped>\n",
              "    .dataframe tbody tr th:only-of-type {\n",
              "        vertical-align: middle;\n",
              "    }\n",
              "\n",
              "    .dataframe tbody tr th {\n",
              "        vertical-align: top;\n",
              "    }\n",
              "\n",
              "    .dataframe thead th {\n",
              "        text-align: right;\n",
              "    }\n",
              "</style>\n",
              "<table border=\"1\" class=\"dataframe\">\n",
              "  <thead>\n",
              "    <tr style=\"text-align: right;\">\n",
              "      <th></th>\n",
              "      <th>continent</th>\n",
              "      <th>location</th>\n",
              "      <th>date</th>\n",
              "      <th>total_vaccinations</th>\n",
              "      <th>people_vaccinated</th>\n",
              "      <th>people_fully_vaccinated</th>\n",
              "      <th>new_vaccinations</th>\n",
              "      <th>new_vaccinations_smoothed</th>\n",
              "      <th>total_vaccinations_per_hundred</th>\n",
              "      <th>people_vaccinated_per_hundred</th>\n",
              "      <th>people_fully_vaccinated_per_hundred</th>\n",
              "      <th>new_vaccinations_smoothed_per_million</th>\n",
              "      <th>life_expectancy</th>\n",
              "      <th>human_development_index</th>\n",
              "      <th>aged_65_older</th>\n",
              "      <th>aged_70_older</th>\n",
              "      <th>stringency_index</th>\n",
              "      <th>population_density</th>\n",
              "      <th>median_age</th>\n",
              "    </tr>\n",
              "  </thead>\n",
              "  <tbody>\n",
              "    <tr>\n",
              "      <th>0</th>\n",
              "      <td>Asia</td>\n",
              "      <td>Afghanistan</td>\n",
              "      <td>2020-02-24</td>\n",
              "      <td>NaN</td>\n",
              "      <td>NaN</td>\n",
              "      <td>NaN</td>\n",
              "      <td>NaN</td>\n",
              "      <td>NaN</td>\n",
              "      <td>NaN</td>\n",
              "      <td>NaN</td>\n",
              "      <td>NaN</td>\n",
              "      <td>NaN</td>\n",
              "      <td>64.83</td>\n",
              "      <td>0.511</td>\n",
              "      <td>2.581</td>\n",
              "      <td>1.337</td>\n",
              "      <td>8.33</td>\n",
              "      <td>54.422</td>\n",
              "      <td>18.6</td>\n",
              "    </tr>\n",
              "    <tr>\n",
              "      <th>1</th>\n",
              "      <td>Asia</td>\n",
              "      <td>Afghanistan</td>\n",
              "      <td>2020-02-25</td>\n",
              "      <td>NaN</td>\n",
              "      <td>NaN</td>\n",
              "      <td>NaN</td>\n",
              "      <td>NaN</td>\n",
              "      <td>NaN</td>\n",
              "      <td>NaN</td>\n",
              "      <td>NaN</td>\n",
              "      <td>NaN</td>\n",
              "      <td>NaN</td>\n",
              "      <td>64.83</td>\n",
              "      <td>0.511</td>\n",
              "      <td>2.581</td>\n",
              "      <td>1.337</td>\n",
              "      <td>8.33</td>\n",
              "      <td>54.422</td>\n",
              "      <td>18.6</td>\n",
              "    </tr>\n",
              "    <tr>\n",
              "      <th>2</th>\n",
              "      <td>Asia</td>\n",
              "      <td>Afghanistan</td>\n",
              "      <td>2020-02-26</td>\n",
              "      <td>NaN</td>\n",
              "      <td>NaN</td>\n",
              "      <td>NaN</td>\n",
              "      <td>NaN</td>\n",
              "      <td>NaN</td>\n",
              "      <td>NaN</td>\n",
              "      <td>NaN</td>\n",
              "      <td>NaN</td>\n",
              "      <td>NaN</td>\n",
              "      <td>64.83</td>\n",
              "      <td>0.511</td>\n",
              "      <td>2.581</td>\n",
              "      <td>1.337</td>\n",
              "      <td>8.33</td>\n",
              "      <td>54.422</td>\n",
              "      <td>18.6</td>\n",
              "    </tr>\n",
              "    <tr>\n",
              "      <th>3</th>\n",
              "      <td>Asia</td>\n",
              "      <td>Afghanistan</td>\n",
              "      <td>2020-02-27</td>\n",
              "      <td>NaN</td>\n",
              "      <td>NaN</td>\n",
              "      <td>NaN</td>\n",
              "      <td>NaN</td>\n",
              "      <td>NaN</td>\n",
              "      <td>NaN</td>\n",
              "      <td>NaN</td>\n",
              "      <td>NaN</td>\n",
              "      <td>NaN</td>\n",
              "      <td>64.83</td>\n",
              "      <td>0.511</td>\n",
              "      <td>2.581</td>\n",
              "      <td>1.337</td>\n",
              "      <td>8.33</td>\n",
              "      <td>54.422</td>\n",
              "      <td>18.6</td>\n",
              "    </tr>\n",
              "    <tr>\n",
              "      <th>4</th>\n",
              "      <td>Asia</td>\n",
              "      <td>Afghanistan</td>\n",
              "      <td>2020-02-28</td>\n",
              "      <td>NaN</td>\n",
              "      <td>NaN</td>\n",
              "      <td>NaN</td>\n",
              "      <td>NaN</td>\n",
              "      <td>NaN</td>\n",
              "      <td>NaN</td>\n",
              "      <td>NaN</td>\n",
              "      <td>NaN</td>\n",
              "      <td>NaN</td>\n",
              "      <td>64.83</td>\n",
              "      <td>0.511</td>\n",
              "      <td>2.581</td>\n",
              "      <td>1.337</td>\n",
              "      <td>8.33</td>\n",
              "      <td>54.422</td>\n",
              "      <td>18.6</td>\n",
              "    </tr>\n",
              "  </tbody>\n",
              "</table>\n",
              "</div>"
            ],
            "text/plain": [
              "  continent     location  ... population_density  median_age\n",
              "0      Asia  Afghanistan  ...             54.422        18.6\n",
              "1      Asia  Afghanistan  ...             54.422        18.6\n",
              "2      Asia  Afghanistan  ...             54.422        18.6\n",
              "3      Asia  Afghanistan  ...             54.422        18.6\n",
              "4      Asia  Afghanistan  ...             54.422        18.6\n",
              "\n",
              "[5 rows x 19 columns]"
            ]
          },
          "metadata": {
            "tags": []
          },
          "execution_count": 98
        }
      ]
    },
    {
      "cell_type": "code",
      "metadata": {
        "colab": {
          "base_uri": "https://localhost:8080/"
        },
        "id": "WJvnban32Y4r",
        "outputId": "f743e218-0dcf-4675-f3bc-7e8371289ad4"
      },
      "source": [
        "# Tamanho do Dataframe\r\n",
        "vac.shape"
      ],
      "execution_count": 99,
      "outputs": [
        {
          "output_type": "execute_result",
          "data": {
            "text/plain": [
              "(72337, 19)"
            ]
          },
          "metadata": {
            "tags": []
          },
          "execution_count": 99
        }
      ]
    },
    {
      "cell_type": "code",
      "metadata": {
        "id": "PuR2p_2r2IVu"
      },
      "source": [
        "#Limpando  valores ausentes anteriores sobre a variável people_fully_vaccinated\r\n",
        "vac.dropna(subset = ['people_fully_vaccinated'] , axis=0, inplace= True)"
      ],
      "execution_count": 100,
      "outputs": []
    },
    {
      "cell_type": "code",
      "metadata": {
        "colab": {
          "base_uri": "https://localhost:8080/"
        },
        "id": "dgfdZByx2e6Q",
        "outputId": "568f68d4-0ca0-4092-92af-59283c5b19f0"
      },
      "source": [
        "# Atualizando o tamanho do dataframe\r\n",
        "vac.shape"
      ],
      "execution_count": 101,
      "outputs": [
        {
          "output_type": "execute_result",
          "data": {
            "text/plain": [
              "(1746, 19)"
            ]
          },
          "metadata": {
            "tags": []
          },
          "execution_count": 101
        }
      ]
    },
    {
      "cell_type": "markdown",
      "metadata": {
        "id": "qc609nZagBk_"
      },
      "source": [
        "Com os dados da vacinas, temos 1607 entradas no dataframe."
      ]
    },
    {
      "cell_type": "code",
      "metadata": {
        "id": "OyONWP6n2nkG"
      },
      "source": [
        "# Considerando o dia mais recente\r\n",
        "vac_hj = vac.loc[vac.date == '2021-03-02']\r\n",
        "\r\n",
        "# Deixando apenas os dados referentes à países no Dataset\r\n",
        "vac_hj = vac_hj.dropna(subset=['continent'])"
      ],
      "execution_count": 102,
      "outputs": []
    },
    {
      "cell_type": "code",
      "metadata": {
        "colab": {
          "base_uri": "https://localhost:8080/",
          "height": 309
        },
        "id": "uoVf-CkC4Wip",
        "outputId": "ed12c555-ba06-47de-8e78-ddee854d75f8"
      },
      "source": [
        "vac_hj.head()"
      ],
      "execution_count": 103,
      "outputs": [
        {
          "output_type": "execute_result",
          "data": {
            "text/html": [
              "<div>\n",
              "<style scoped>\n",
              "    .dataframe tbody tr th:only-of-type {\n",
              "        vertical-align: middle;\n",
              "    }\n",
              "\n",
              "    .dataframe tbody tr th {\n",
              "        vertical-align: top;\n",
              "    }\n",
              "\n",
              "    .dataframe thead th {\n",
              "        text-align: right;\n",
              "    }\n",
              "</style>\n",
              "<table border=\"1\" class=\"dataframe\">\n",
              "  <thead>\n",
              "    <tr style=\"text-align: right;\">\n",
              "      <th></th>\n",
              "      <th>continent</th>\n",
              "      <th>location</th>\n",
              "      <th>date</th>\n",
              "      <th>total_vaccinations</th>\n",
              "      <th>people_vaccinated</th>\n",
              "      <th>people_fully_vaccinated</th>\n",
              "      <th>new_vaccinations</th>\n",
              "      <th>new_vaccinations_smoothed</th>\n",
              "      <th>total_vaccinations_per_hundred</th>\n",
              "      <th>people_vaccinated_per_hundred</th>\n",
              "      <th>people_fully_vaccinated_per_hundred</th>\n",
              "      <th>new_vaccinations_smoothed_per_million</th>\n",
              "      <th>life_expectancy</th>\n",
              "      <th>human_development_index</th>\n",
              "      <th>aged_65_older</th>\n",
              "      <th>aged_70_older</th>\n",
              "      <th>stringency_index</th>\n",
              "      <th>population_density</th>\n",
              "      <th>median_age</th>\n",
              "    </tr>\n",
              "  </thead>\n",
              "  <tbody>\n",
              "    <tr>\n",
              "      <th>3019</th>\n",
              "      <td>South America</td>\n",
              "      <td>Argentina</td>\n",
              "      <td>2021-03-02</td>\n",
              "      <td>1126108.0</td>\n",
              "      <td>823446.0</td>\n",
              "      <td>302662.0</td>\n",
              "      <td>76939.0</td>\n",
              "      <td>54213.0</td>\n",
              "      <td>2.49</td>\n",
              "      <td>1.82</td>\n",
              "      <td>0.67</td>\n",
              "      <td>1200.0</td>\n",
              "      <td>76.67</td>\n",
              "      <td>0.845</td>\n",
              "      <td>11.198</td>\n",
              "      <td>7.441</td>\n",
              "      <td>NaN</td>\n",
              "      <td>16.177</td>\n",
              "      <td>31.9</td>\n",
              "    </tr>\n",
              "    <tr>\n",
              "      <th>9673</th>\n",
              "      <td>South America</td>\n",
              "      <td>Brazil</td>\n",
              "      <td>2021-03-02</td>\n",
              "      <td>8841027.0</td>\n",
              "      <td>6806293.0</td>\n",
              "      <td>2034734.0</td>\n",
              "      <td>375624.0</td>\n",
              "      <td>220567.0</td>\n",
              "      <td>4.16</td>\n",
              "      <td>3.20</td>\n",
              "      <td>0.96</td>\n",
              "      <td>1038.0</td>\n",
              "      <td>75.88</td>\n",
              "      <td>0.765</td>\n",
              "      <td>8.552</td>\n",
              "      <td>5.060</td>\n",
              "      <td>NaN</td>\n",
              "      <td>25.040</td>\n",
              "      <td>33.5</td>\n",
              "    </tr>\n",
              "    <tr>\n",
              "      <th>10392</th>\n",
              "      <td>Europe</td>\n",
              "      <td>Bulgaria</td>\n",
              "      <td>2021-03-02</td>\n",
              "      <td>243772.0</td>\n",
              "      <td>202247.0</td>\n",
              "      <td>41525.0</td>\n",
              "      <td>20233.0</td>\n",
              "      <td>13649.0</td>\n",
              "      <td>3.51</td>\n",
              "      <td>2.91</td>\n",
              "      <td>0.60</td>\n",
              "      <td>1964.0</td>\n",
              "      <td>75.05</td>\n",
              "      <td>0.816</td>\n",
              "      <td>20.801</td>\n",
              "      <td>13.272</td>\n",
              "      <td>NaN</td>\n",
              "      <td>65.180</td>\n",
              "      <td>44.7</td>\n",
              "    </tr>\n",
              "    <tr>\n",
              "      <th>12252</th>\n",
              "      <td>North America</td>\n",
              "      <td>Canada</td>\n",
              "      <td>2021-03-02</td>\n",
              "      <td>2018238.0</td>\n",
              "      <td>1470034.0</td>\n",
              "      <td>548204.0</td>\n",
              "      <td>72038.0</td>\n",
              "      <td>58824.0</td>\n",
              "      <td>5.35</td>\n",
              "      <td>3.89</td>\n",
              "      <td>1.45</td>\n",
              "      <td>1559.0</td>\n",
              "      <td>82.43</td>\n",
              "      <td>0.929</td>\n",
              "      <td>16.984</td>\n",
              "      <td>10.797</td>\n",
              "      <td>NaN</td>\n",
              "      <td>4.037</td>\n",
              "      <td>41.4</td>\n",
              "    </tr>\n",
              "    <tr>\n",
              "      <th>13738</th>\n",
              "      <td>South America</td>\n",
              "      <td>Chile</td>\n",
              "      <td>2021-03-02</td>\n",
              "      <td>3660308.0</td>\n",
              "      <td>3592523.0</td>\n",
              "      <td>67785.0</td>\n",
              "      <td>159669.0</td>\n",
              "      <td>79482.0</td>\n",
              "      <td>19.15</td>\n",
              "      <td>18.79</td>\n",
              "      <td>0.35</td>\n",
              "      <td>4158.0</td>\n",
              "      <td>80.18</td>\n",
              "      <td>0.851</td>\n",
              "      <td>11.087</td>\n",
              "      <td>6.938</td>\n",
              "      <td>NaN</td>\n",
              "      <td>24.282</td>\n",
              "      <td>35.4</td>\n",
              "    </tr>\n",
              "  </tbody>\n",
              "</table>\n",
              "</div>"
            ],
            "text/plain": [
              "           continent   location  ... population_density  median_age\n",
              "3019   South America  Argentina  ...             16.177        31.9\n",
              "9673   South America     Brazil  ...             25.040        33.5\n",
              "10392         Europe   Bulgaria  ...             65.180        44.7\n",
              "12252  North America     Canada  ...              4.037        41.4\n",
              "13738  South America      Chile  ...             24.282        35.4\n",
              "\n",
              "[5 rows x 19 columns]"
            ]
          },
          "metadata": {
            "tags": []
          },
          "execution_count": 103
        }
      ]
    },
    {
      "cell_type": "code",
      "metadata": {
        "colab": {
          "base_uri": "https://localhost:8080/",
          "height": 204
        },
        "id": "t2sf2uS44OoV",
        "outputId": "d6250e12-c718-421f-a3a8-16dabe6c01e0"
      },
      "source": [
        "total_vac = vac_hj.sort_values(by='people_fully_vaccinated', ascending = False)\r\n",
        "total_vac.loc[total_vac.date == '2021-03-02', ['location', 'people_fully_vaccinated']].sort_values(by=\"people_fully_vaccinated\", ascending = False)[0:5]"
      ],
      "execution_count": 104,
      "outputs": [
        {
          "output_type": "execute_result",
          "data": {
            "text/html": [
              "<div>\n",
              "<style scoped>\n",
              "    .dataframe tbody tr th:only-of-type {\n",
              "        vertical-align: middle;\n",
              "    }\n",
              "\n",
              "    .dataframe tbody tr th {\n",
              "        vertical-align: top;\n",
              "    }\n",
              "\n",
              "    .dataframe thead th {\n",
              "        text-align: right;\n",
              "    }\n",
              "</style>\n",
              "<table border=\"1\" class=\"dataframe\">\n",
              "  <thead>\n",
              "    <tr style=\"text-align: right;\">\n",
              "      <th></th>\n",
              "      <th>location</th>\n",
              "      <th>people_fully_vaccinated</th>\n",
              "    </tr>\n",
              "  </thead>\n",
              "  <tbody>\n",
              "    <tr>\n",
              "      <th>68963</th>\n",
              "      <td>United States</td>\n",
              "      <td>26162122.0</td>\n",
              "    </tr>\n",
              "    <tr>\n",
              "      <th>32403</th>\n",
              "      <td>Israel</td>\n",
              "      <td>3503607.0</td>\n",
              "    </tr>\n",
              "    <tr>\n",
              "      <th>30110</th>\n",
              "      <td>India</td>\n",
              "      <td>2713978.0</td>\n",
              "    </tr>\n",
              "    <tr>\n",
              "      <th>25593</th>\n",
              "      <td>Germany</td>\n",
              "      <td>2215504.0</td>\n",
              "    </tr>\n",
              "    <tr>\n",
              "      <th>9673</th>\n",
              "      <td>Brazil</td>\n",
              "      <td>2034734.0</td>\n",
              "    </tr>\n",
              "  </tbody>\n",
              "</table>\n",
              "</div>"
            ],
            "text/plain": [
              "            location  people_fully_vaccinated\n",
              "68963  United States               26162122.0\n",
              "32403         Israel                3503607.0\n",
              "30110          India                2713978.0\n",
              "25593        Germany                2215504.0\n",
              "9673          Brazil                2034734.0"
            ]
          },
          "metadata": {
            "tags": []
          },
          "execution_count": 104
        }
      ]
    },
    {
      "cell_type": "markdown",
      "metadata": {
        "id": "jOBSPO05hwiq"
      },
      "source": [
        "#### **Quais os países que mais vacinas tomaram?**\r\n",
        "\r\n",
        "Abaixo, os países que apresentaram maiores mortes no dia 02 Março, os países com maiores índices são:\r\n",
        "\r\n",
        "* **Estados Unidos: 26.162.122 pessoas vacinadas**\r\n",
        "\r\n",
        "* **Israel: 3.503.607 casos pessoas vacinadas**\r\n",
        "\r\n",
        "* **Índia: 2.713.978 casos pessoas vacinadas**\r\n",
        "\r\n",
        "* **Alemanha: 2.215.504 pessoas vacinadas** \r\n",
        "\r\n",
        "* **Brasil: 2.034.734 pessoas vacinadas**"
      ]
    },
    {
      "cell_type": "code",
      "metadata": {
        "colab": {
          "base_uri": "https://localhost:8080/",
          "height": 381
        },
        "id": "13MK9XIX3H-0",
        "outputId": "1fce0be0-bbef-405c-ecc5-1338b4514b74"
      },
      "source": [
        "#Criando o gráfico\r\n",
        "\r\n",
        "fig, ax = plt.subplots(figsize = (10,5))\r\n",
        "ax.axes.ticklabel_format(axis='y', style='plain')\r\n",
        "ax.bar('location', 'people_fully_vaccinated', data = total_vac.head(5))\r\n",
        "ax.set_title('Total de Pessoas Vacinadas')\r\n",
        "ax.set_ylabel('Países')\r\n",
        "plt.xticks(rotation = 45, ha = 'right')\r\n",
        "plt.show()"
      ],
      "execution_count": 105,
      "outputs": [
        {
          "output_type": "display_data",
          "data": {
            "image/png": "[encoded data removed]",
            "text/plain": [
              "<Figure size 720x360 with 1 Axes>"
            ]
          },
          "metadata": {
            "tags": [],
            "needs_background": "light"
          }
        }
      ]
    },
    {
      "cell_type": "code",
      "metadata": {
        "id": "pu_DsOs354zu"
      },
      "source": [
        "vac_hj_ph = vac_hj.sort_values(by='people_fully_vaccinated_per_hundred', ascending=False)"
      ],
      "execution_count": 106,
      "outputs": []
    },
    {
      "cell_type": "code",
      "metadata": {
        "colab": {
          "base_uri": "https://localhost:8080/",
          "height": 204
        },
        "id": "XzRHvpYZ28DM",
        "outputId": "66a9fd35-cba9-47a0-b30e-cbbf7f636cdd"
      },
      "source": [
        "vac_hj_ph.loc[vac_hj_ph.date == '2021-03-02', ['location', 'people_fully_vaccinated_per_hundred']].sort_values(by=\"people_fully_vaccinated_per_hundred\", ascending = False)[0:5]"
      ],
      "execution_count": 107,
      "outputs": [
        {
          "output_type": "execute_result",
          "data": {
            "text/html": [
              "<div>\n",
              "<style scoped>\n",
              "    .dataframe tbody tr th:only-of-type {\n",
              "        vertical-align: middle;\n",
              "    }\n",
              "\n",
              "    .dataframe tbody tr th {\n",
              "        vertical-align: top;\n",
              "    }\n",
              "\n",
              "    .dataframe thead th {\n",
              "        text-align: right;\n",
              "    }\n",
              "</style>\n",
              "<table border=\"1\" class=\"dataframe\">\n",
              "  <thead>\n",
              "    <tr style=\"text-align: right;\">\n",
              "      <th></th>\n",
              "      <th>location</th>\n",
              "      <th>people_fully_vaccinated_per_hundred</th>\n",
              "    </tr>\n",
              "  </thead>\n",
              "  <tbody>\n",
              "    <tr>\n",
              "      <th>32403</th>\n",
              "      <td>Israel</td>\n",
              "      <td>40.48</td>\n",
              "    </tr>\n",
              "    <tr>\n",
              "      <th>32026</th>\n",
              "      <td>Isle of Man</td>\n",
              "      <td>9.06</td>\n",
              "    </tr>\n",
              "    <tr>\n",
              "      <th>68963</th>\n",
              "      <td>United States</td>\n",
              "      <td>7.82</td>\n",
              "    </tr>\n",
              "    <tr>\n",
              "      <th>57235</th>\n",
              "      <td>Serbia</td>\n",
              "      <td>7.80</td>\n",
              "    </tr>\n",
              "    <tr>\n",
              "      <th>29712</th>\n",
              "      <td>Iceland</td>\n",
              "      <td>3.71</td>\n",
              "    </tr>\n",
              "  </tbody>\n",
              "</table>\n",
              "</div>"
            ],
            "text/plain": [
              "            location  people_fully_vaccinated_per_hundred\n",
              "32403         Israel                                40.48\n",
              "32026    Isle of Man                                 9.06\n",
              "68963  United States                                 7.82\n",
              "57235         Serbia                                 7.80\n",
              "29712        Iceland                                 3.71"
            ]
          },
          "metadata": {
            "tags": []
          },
          "execution_count": 107
        }
      ]
    },
    {
      "cell_type": "markdown",
      "metadata": {
        "id": "AOsZNxhnnzDV"
      },
      "source": [
        "#### **Quais os países que mais vacinas tomaram?**\r\n",
        "\r\n",
        "Abaixo, os países que apresentaram maior quantidade de  pessoas vacinadas para cada cem pessoas no dia 02 de Março, os países são:\r\n",
        "\r\n",
        "* **Israel: 40.48 pessoas vacinadas para cada cem pessoas.**\r\n",
        "\r\n",
        "* **Isle of Man: 9.06 pessoas vacinadas para cada cem pessoas.**\r\n",
        "\r\n",
        "* **Estados Unidos: 7.82 pessoas vacinadas para cada cem pessoas.**\r\n",
        "\r\n",
        "* **Sérvia: 7.80 pessoas vacinadas para cada cem pessoas.**\r\n",
        "\r\n",
        "* **Islândia: 3.71 pessoas vacinadas para cada cem pessoas.**"
      ]
    },
    {
      "cell_type": "code",
      "metadata": {
        "colab": {
          "base_uri": "https://localhost:8080/",
          "height": 381
        },
        "id": "6EsBEpFT6HVu",
        "outputId": "f3541508-d3c7-4b4b-ca5a-53d681327043"
      },
      "source": [
        "#Criando o gráfico\r\n",
        "\r\n",
        "fig, ax = plt.subplots(figsize = (10,5))\r\n",
        "ax.axes.ticklabel_format(axis='y', style='plain')\r\n",
        "ax.bar('location', 'people_fully_vaccinated_per_hundred', data = vac_hj_ph.head(5))\r\n",
        "ax.set_title('Total de Pessoas Vacinadas para cada cem habitantes')\r\n",
        "ax.set_ylabel('Países')\r\n",
        "plt.xticks(rotation = 45, ha = 'right')\r\n",
        "plt.show()"
      ],
      "execution_count": 108,
      "outputs": [
        {
          "output_type": "display_data",
          "data": {
            "image/png": "[encoded data removed]",
            "text/plain": [
              "<Figure size 720x360 with 1 Axes>"
            ]
          },
          "metadata": {
            "tags": [],
            "needs_background": "light"
          }
        }
      ]
    },
    {
      "cell_type": "markdown",
      "metadata": {
        "id": "BJ-egErlVtxX"
      },
      "source": [
        "---"
      ]
    },
    {
      "cell_type": "markdown",
      "metadata": {
        "id": "SViA5VZ7DYLA"
      },
      "source": [
        "### Análise Exploratória para o Brasil\n",
        "\n",
        "Através do filtro da variável `location` , vamos realizar uma análise prévia com o Brasil, verificar os casos, mortes."
      ]
    },
    {
      "cell_type": "code",
      "metadata": {
        "colab": {
          "base_uri": "https://localhost:8080/",
          "height": 340
        },
        "id": "3te6rqIvZq2r",
        "outputId": "5add9dcf-fc0d-48bd-d3dc-541c36182285"
      },
      "source": [
        "#5 primeiras entradas do dataframe\r\n",
        "df_brasil.head()"
      ],
      "execution_count": 109,
      "outputs": [
        {
          "output_type": "execute_result",
          "data": {
            "text/html": [
              "<div>\n",
              "<style scoped>\n",
              "    .dataframe tbody tr th:only-of-type {\n",
              "        vertical-align: middle;\n",
              "    }\n",
              "\n",
              "    .dataframe tbody tr th {\n",
              "        vertical-align: top;\n",
              "    }\n",
              "\n",
              "    .dataframe thead th {\n",
              "        text-align: right;\n",
              "    }\n",
              "</style>\n",
              "<table border=\"1\" class=\"dataframe\">\n",
              "  <thead>\n",
              "    <tr style=\"text-align: right;\">\n",
              "      <th></th>\n",
              "      <th>iso_code</th>\n",
              "      <th>continent</th>\n",
              "      <th>location</th>\n",
              "      <th>date</th>\n",
              "      <th>total_cases</th>\n",
              "      <th>new_cases</th>\n",
              "      <th>new_cases_smoothed</th>\n",
              "      <th>total_deaths</th>\n",
              "      <th>new_deaths</th>\n",
              "      <th>new_deaths_smoothed</th>\n",
              "      <th>total_cases_per_million</th>\n",
              "      <th>new_cases_per_million</th>\n",
              "      <th>new_cases_smoothed_per_million</th>\n",
              "      <th>total_deaths_per_million</th>\n",
              "      <th>new_deaths_per_million</th>\n",
              "      <th>new_deaths_smoothed_per_million</th>\n",
              "      <th>reproduction_rate</th>\n",
              "      <th>icu_patients</th>\n",
              "      <th>icu_patients_per_million</th>\n",
              "      <th>hosp_patients</th>\n",
              "      <th>hosp_patients_per_million</th>\n",
              "      <th>weekly_icu_admissions</th>\n",
              "      <th>weekly_icu_admissions_per_million</th>\n",
              "      <th>weekly_hosp_admissions</th>\n",
              "      <th>weekly_hosp_admissions_per_million</th>\n",
              "      <th>new_tests</th>\n",
              "      <th>total_tests</th>\n",
              "      <th>total_tests_per_thousand</th>\n",
              "      <th>new_tests_per_thousand</th>\n",
              "      <th>new_tests_smoothed</th>\n",
              "      <th>new_tests_smoothed_per_thousand</th>\n",
              "      <th>positive_rate</th>\n",
              "      <th>tests_per_case</th>\n",
              "      <th>tests_units</th>\n",
              "      <th>total_vaccinations</th>\n",
              "      <th>people_vaccinated</th>\n",
              "      <th>people_fully_vaccinated</th>\n",
              "      <th>new_vaccinations</th>\n",
              "      <th>new_vaccinations_smoothed</th>\n",
              "      <th>total_vaccinations_per_hundred</th>\n",
              "      <th>people_vaccinated_per_hundred</th>\n",
              "      <th>people_fully_vaccinated_per_hundred</th>\n",
              "      <th>new_vaccinations_smoothed_per_million</th>\n",
              "      <th>stringency_index</th>\n",
              "      <th>population</th>\n",
              "      <th>population_density</th>\n",
              "      <th>median_age</th>\n",
              "      <th>aged_65_older</th>\n",
              "      <th>aged_70_older</th>\n",
              "      <th>gdp_per_capita</th>\n",
              "      <th>extreme_poverty</th>\n",
              "      <th>cardiovasc_death_rate</th>\n",
              "      <th>diabetes_prevalence</th>\n",
              "      <th>female_smokers</th>\n",
              "      <th>male_smokers</th>\n",
              "      <th>handwashing_facilities</th>\n",
              "      <th>hospital_beds_per_thousand</th>\n",
              "      <th>life_expectancy</th>\n",
              "      <th>human_development_index</th>\n",
              "    </tr>\n",
              "    <tr>\n",
              "      <th>date</th>\n",
              "      <th></th>\n",
              "      <th></th>\n",
              "      <th></th>\n",
              "      <th></th>\n",
              "      <th></th>\n",
              "      <th></th>\n",
              "      <th></th>\n",
              "      <th></th>\n",
              "      <th></th>\n",
              "      <th></th>\n",
              "      <th></th>\n",
              "      <th></th>\n",
              "      <th></th>\n",
              "      <th></th>\n",
              "      <th></th>\n",
              "      <th></th>\n",
              "      <th></th>\n",
              "      <th></th>\n",
              "      <th></th>\n",
              "      <th></th>\n",
              "      <th></th>\n",
              "      <th></th>\n",
              "      <th></th>\n",
              "      <th></th>\n",
              "      <th></th>\n",
              "      <th></th>\n",
              "      <th></th>\n",
              "      <th></th>\n",
              "      <th></th>\n",
              "      <th></th>\n",
              "      <th></th>\n",
              "      <th></th>\n",
              "      <th></th>\n",
              "      <th></th>\n",
              "      <th></th>\n",
              "      <th></th>\n",
              "      <th></th>\n",
              "      <th></th>\n",
              "      <th></th>\n",
              "      <th></th>\n",
              "      <th></th>\n",
              "      <th></th>\n",
              "      <th></th>\n",
              "      <th></th>\n",
              "      <th></th>\n",
              "      <th></th>\n",
              "      <th></th>\n",
              "      <th></th>\n",
              "      <th></th>\n",
              "      <th></th>\n",
              "      <th></th>\n",
              "      <th></th>\n",
              "      <th></th>\n",
              "      <th></th>\n",
              "      <th></th>\n",
              "      <th></th>\n",
              "      <th></th>\n",
              "      <th></th>\n",
              "      <th></th>\n",
              "    </tr>\n",
              "  </thead>\n",
              "  <tbody>\n",
              "    <tr>\n",
              "      <th>2020-02-26</th>\n",
              "      <td>BRA</td>\n",
              "      <td>South America</td>\n",
              "      <td>Brazil</td>\n",
              "      <td>2020-02-26</td>\n",
              "      <td>1.0</td>\n",
              "      <td>1.0</td>\n",
              "      <td>NaN</td>\n",
              "      <td>NaN</td>\n",
              "      <td>NaN</td>\n",
              "      <td>NaN</td>\n",
              "      <td>0.005</td>\n",
              "      <td>0.005</td>\n",
              "      <td>NaN</td>\n",
              "      <td>NaN</td>\n",
              "      <td>NaN</td>\n",
              "      <td>NaN</td>\n",
              "      <td>NaN</td>\n",
              "      <td>NaN</td>\n",
              "      <td>NaN</td>\n",
              "      <td>NaN</td>\n",
              "      <td>NaN</td>\n",
              "      <td>NaN</td>\n",
              "      <td>NaN</td>\n",
              "      <td>NaN</td>\n",
              "      <td>NaN</td>\n",
              "      <td>NaN</td>\n",
              "      <td>NaN</td>\n",
              "      <td>NaN</td>\n",
              "      <td>NaN</td>\n",
              "      <td>NaN</td>\n",
              "      <td>NaN</td>\n",
              "      <td>NaN</td>\n",
              "      <td>NaN</td>\n",
              "      <td>NaN</td>\n",
              "      <td>NaN</td>\n",
              "      <td>NaN</td>\n",
              "      <td>NaN</td>\n",
              "      <td>NaN</td>\n",
              "      <td>NaN</td>\n",
              "      <td>NaN</td>\n",
              "      <td>NaN</td>\n",
              "      <td>NaN</td>\n",
              "      <td>NaN</td>\n",
              "      <td>5.56</td>\n",
              "      <td>212559409.0</td>\n",
              "      <td>25.04</td>\n",
              "      <td>33.5</td>\n",
              "      <td>8.552</td>\n",
              "      <td>5.06</td>\n",
              "      <td>14103.452</td>\n",
              "      <td>3.4</td>\n",
              "      <td>177.961</td>\n",
              "      <td>8.11</td>\n",
              "      <td>10.1</td>\n",
              "      <td>17.9</td>\n",
              "      <td>NaN</td>\n",
              "      <td>2.2</td>\n",
              "      <td>75.88</td>\n",
              "      <td>0.765</td>\n",
              "    </tr>\n",
              "    <tr>\n",
              "      <th>2020-02-27</th>\n",
              "      <td>BRA</td>\n",
              "      <td>South America</td>\n",
              "      <td>Brazil</td>\n",
              "      <td>2020-02-27</td>\n",
              "      <td>1.0</td>\n",
              "      <td>0.0</td>\n",
              "      <td>NaN</td>\n",
              "      <td>NaN</td>\n",
              "      <td>NaN</td>\n",
              "      <td>NaN</td>\n",
              "      <td>0.005</td>\n",
              "      <td>0.000</td>\n",
              "      <td>NaN</td>\n",
              "      <td>NaN</td>\n",
              "      <td>NaN</td>\n",
              "      <td>NaN</td>\n",
              "      <td>NaN</td>\n",
              "      <td>NaN</td>\n",
              "      <td>NaN</td>\n",
              "      <td>NaN</td>\n",
              "      <td>NaN</td>\n",
              "      <td>NaN</td>\n",
              "      <td>NaN</td>\n",
              "      <td>NaN</td>\n",
              "      <td>NaN</td>\n",
              "      <td>NaN</td>\n",
              "      <td>NaN</td>\n",
              "      <td>NaN</td>\n",
              "      <td>NaN</td>\n",
              "      <td>NaN</td>\n",
              "      <td>NaN</td>\n",
              "      <td>NaN</td>\n",
              "      <td>NaN</td>\n",
              "      <td>NaN</td>\n",
              "      <td>NaN</td>\n",
              "      <td>NaN</td>\n",
              "      <td>NaN</td>\n",
              "      <td>NaN</td>\n",
              "      <td>NaN</td>\n",
              "      <td>NaN</td>\n",
              "      <td>NaN</td>\n",
              "      <td>NaN</td>\n",
              "      <td>NaN</td>\n",
              "      <td>5.56</td>\n",
              "      <td>212559409.0</td>\n",
              "      <td>25.04</td>\n",
              "      <td>33.5</td>\n",
              "      <td>8.552</td>\n",
              "      <td>5.06</td>\n",
              "      <td>14103.452</td>\n",
              "      <td>3.4</td>\n",
              "      <td>177.961</td>\n",
              "      <td>8.11</td>\n",
              "      <td>10.1</td>\n",
              "      <td>17.9</td>\n",
              "      <td>NaN</td>\n",
              "      <td>2.2</td>\n",
              "      <td>75.88</td>\n",
              "      <td>0.765</td>\n",
              "    </tr>\n",
              "    <tr>\n",
              "      <th>2020-02-28</th>\n",
              "      <td>BRA</td>\n",
              "      <td>South America</td>\n",
              "      <td>Brazil</td>\n",
              "      <td>2020-02-28</td>\n",
              "      <td>1.0</td>\n",
              "      <td>0.0</td>\n",
              "      <td>NaN</td>\n",
              "      <td>NaN</td>\n",
              "      <td>NaN</td>\n",
              "      <td>NaN</td>\n",
              "      <td>0.005</td>\n",
              "      <td>0.000</td>\n",
              "      <td>NaN</td>\n",
              "      <td>NaN</td>\n",
              "      <td>NaN</td>\n",
              "      <td>NaN</td>\n",
              "      <td>NaN</td>\n",
              "      <td>NaN</td>\n",
              "      <td>NaN</td>\n",
              "      <td>NaN</td>\n",
              "      <td>NaN</td>\n",
              "      <td>NaN</td>\n",
              "      <td>NaN</td>\n",
              "      <td>NaN</td>\n",
              "      <td>NaN</td>\n",
              "      <td>NaN</td>\n",
              "      <td>NaN</td>\n",
              "      <td>NaN</td>\n",
              "      <td>NaN</td>\n",
              "      <td>NaN</td>\n",
              "      <td>NaN</td>\n",
              "      <td>NaN</td>\n",
              "      <td>NaN</td>\n",
              "      <td>NaN</td>\n",
              "      <td>NaN</td>\n",
              "      <td>NaN</td>\n",
              "      <td>NaN</td>\n",
              "      <td>NaN</td>\n",
              "      <td>NaN</td>\n",
              "      <td>NaN</td>\n",
              "      <td>NaN</td>\n",
              "      <td>NaN</td>\n",
              "      <td>NaN</td>\n",
              "      <td>5.56</td>\n",
              "      <td>212559409.0</td>\n",
              "      <td>25.04</td>\n",
              "      <td>33.5</td>\n",
              "      <td>8.552</td>\n",
              "      <td>5.06</td>\n",
              "      <td>14103.452</td>\n",
              "      <td>3.4</td>\n",
              "      <td>177.961</td>\n",
              "      <td>8.11</td>\n",
              "      <td>10.1</td>\n",
              "      <td>17.9</td>\n",
              "      <td>NaN</td>\n",
              "      <td>2.2</td>\n",
              "      <td>75.88</td>\n",
              "      <td>0.765</td>\n",
              "    </tr>\n",
              "    <tr>\n",
              "      <th>2020-02-29</th>\n",
              "      <td>BRA</td>\n",
              "      <td>South America</td>\n",
              "      <td>Brazil</td>\n",
              "      <td>2020-02-29</td>\n",
              "      <td>2.0</td>\n",
              "      <td>1.0</td>\n",
              "      <td>NaN</td>\n",
              "      <td>NaN</td>\n",
              "      <td>NaN</td>\n",
              "      <td>NaN</td>\n",
              "      <td>0.009</td>\n",
              "      <td>0.005</td>\n",
              "      <td>NaN</td>\n",
              "      <td>NaN</td>\n",
              "      <td>NaN</td>\n",
              "      <td>NaN</td>\n",
              "      <td>NaN</td>\n",
              "      <td>NaN</td>\n",
              "      <td>NaN</td>\n",
              "      <td>NaN</td>\n",
              "      <td>NaN</td>\n",
              "      <td>NaN</td>\n",
              "      <td>NaN</td>\n",
              "      <td>NaN</td>\n",
              "      <td>NaN</td>\n",
              "      <td>NaN</td>\n",
              "      <td>NaN</td>\n",
              "      <td>NaN</td>\n",
              "      <td>NaN</td>\n",
              "      <td>NaN</td>\n",
              "      <td>NaN</td>\n",
              "      <td>NaN</td>\n",
              "      <td>NaN</td>\n",
              "      <td>NaN</td>\n",
              "      <td>NaN</td>\n",
              "      <td>NaN</td>\n",
              "      <td>NaN</td>\n",
              "      <td>NaN</td>\n",
              "      <td>NaN</td>\n",
              "      <td>NaN</td>\n",
              "      <td>NaN</td>\n",
              "      <td>NaN</td>\n",
              "      <td>NaN</td>\n",
              "      <td>5.56</td>\n",
              "      <td>212559409.0</td>\n",
              "      <td>25.04</td>\n",
              "      <td>33.5</td>\n",
              "      <td>8.552</td>\n",
              "      <td>5.06</td>\n",
              "      <td>14103.452</td>\n",
              "      <td>3.4</td>\n",
              "      <td>177.961</td>\n",
              "      <td>8.11</td>\n",
              "      <td>10.1</td>\n",
              "      <td>17.9</td>\n",
              "      <td>NaN</td>\n",
              "      <td>2.2</td>\n",
              "      <td>75.88</td>\n",
              "      <td>0.765</td>\n",
              "    </tr>\n",
              "    <tr>\n",
              "      <th>2020-03-01</th>\n",
              "      <td>BRA</td>\n",
              "      <td>South America</td>\n",
              "      <td>Brazil</td>\n",
              "      <td>2020-03-01</td>\n",
              "      <td>2.0</td>\n",
              "      <td>0.0</td>\n",
              "      <td>NaN</td>\n",
              "      <td>NaN</td>\n",
              "      <td>NaN</td>\n",
              "      <td>NaN</td>\n",
              "      <td>0.009</td>\n",
              "      <td>0.000</td>\n",
              "      <td>NaN</td>\n",
              "      <td>NaN</td>\n",
              "      <td>NaN</td>\n",
              "      <td>NaN</td>\n",
              "      <td>NaN</td>\n",
              "      <td>NaN</td>\n",
              "      <td>NaN</td>\n",
              "      <td>NaN</td>\n",
              "      <td>NaN</td>\n",
              "      <td>NaN</td>\n",
              "      <td>NaN</td>\n",
              "      <td>NaN</td>\n",
              "      <td>NaN</td>\n",
              "      <td>NaN</td>\n",
              "      <td>NaN</td>\n",
              "      <td>NaN</td>\n",
              "      <td>NaN</td>\n",
              "      <td>NaN</td>\n",
              "      <td>NaN</td>\n",
              "      <td>NaN</td>\n",
              "      <td>NaN</td>\n",
              "      <td>NaN</td>\n",
              "      <td>NaN</td>\n",
              "      <td>NaN</td>\n",
              "      <td>NaN</td>\n",
              "      <td>NaN</td>\n",
              "      <td>NaN</td>\n",
              "      <td>NaN</td>\n",
              "      <td>NaN</td>\n",
              "      <td>NaN</td>\n",
              "      <td>NaN</td>\n",
              "      <td>5.56</td>\n",
              "      <td>212559409.0</td>\n",
              "      <td>25.04</td>\n",
              "      <td>33.5</td>\n",
              "      <td>8.552</td>\n",
              "      <td>5.06</td>\n",
              "      <td>14103.452</td>\n",
              "      <td>3.4</td>\n",
              "      <td>177.961</td>\n",
              "      <td>8.11</td>\n",
              "      <td>10.1</td>\n",
              "      <td>17.9</td>\n",
              "      <td>NaN</td>\n",
              "      <td>2.2</td>\n",
              "      <td>75.88</td>\n",
              "      <td>0.765</td>\n",
              "    </tr>\n",
              "  </tbody>\n",
              "</table>\n",
              "</div>"
            ],
            "text/plain": [
              "           iso_code      continent  ... life_expectancy human_development_index\n",
              "date                                ...                                        \n",
              "2020-02-26      BRA  South America  ...           75.88                   0.765\n",
              "2020-02-27      BRA  South America  ...           75.88                   0.765\n",
              "2020-02-28      BRA  South America  ...           75.88                   0.765\n",
              "2020-02-29      BRA  South America  ...           75.88                   0.765\n",
              "2020-03-01      BRA  South America  ...           75.88                   0.765\n",
              "\n",
              "[5 rows x 59 columns]"
            ]
          },
          "metadata": {
            "tags": []
          },
          "execution_count": 109
        }
      ]
    },
    {
      "cell_type": "markdown",
      "metadata": {
        "id": "vFyX_XM7Y4AC"
      },
      "source": [
        "#### Data do primeiro registro no Brasil\r\n",
        "O primeiro registro foi dia 26 de Fevereiro de 2020.\r\n",
        "\r\n"
      ]
    },
    {
      "cell_type": "code",
      "metadata": {
        "colab": {
          "base_uri": "https://localhost:8080/",
          "height": 111
        },
        "id": "10hoamTeY3NR",
        "outputId": "f5a1bbf3-963e-45a9-a22a-6b444602ddaf"
      },
      "source": [
        "df_brasil.loc[df_brasil['new_cases'] != 0,['location']].head(1)"
      ],
      "execution_count": 110,
      "outputs": [
        {
          "output_type": "execute_result",
          "data": {
            "text/html": [
              "<div>\n",
              "<style scoped>\n",
              "    .dataframe tbody tr th:only-of-type {\n",
              "        vertical-align: middle;\n",
              "    }\n",
              "\n",
              "    .dataframe tbody tr th {\n",
              "        vertical-align: top;\n",
              "    }\n",
              "\n",
              "    .dataframe thead th {\n",
              "        text-align: right;\n",
              "    }\n",
              "</style>\n",
              "<table border=\"1\" class=\"dataframe\">\n",
              "  <thead>\n",
              "    <tr style=\"text-align: right;\">\n",
              "      <th></th>\n",
              "      <th>location</th>\n",
              "    </tr>\n",
              "    <tr>\n",
              "      <th>date</th>\n",
              "      <th></th>\n",
              "    </tr>\n",
              "  </thead>\n",
              "  <tbody>\n",
              "    <tr>\n",
              "      <th>2020-02-26</th>\n",
              "      <td>Brazil</td>\n",
              "    </tr>\n",
              "  </tbody>\n",
              "</table>\n",
              "</div>"
            ],
            "text/plain": [
              "           location\n",
              "date               \n",
              "2020-02-26   Brazil"
            ]
          },
          "metadata": {
            "tags": []
          },
          "execution_count": 110
        }
      ]
    },
    {
      "cell_type": "markdown",
      "metadata": {
        "id": "LmW5aUJGaJNK"
      },
      "source": [
        "#### Data da primeira morte no Brasil\r\n",
        "A primeira morte ocorreu no dia 17 de Março de 2020, quando o país já tinha um total de 321 casos.\r\n"
      ]
    },
    {
      "cell_type": "code",
      "metadata": {
        "colab": {
          "base_uri": "https://localhost:8080/",
          "height": 111
        },
        "id": "pn2VjJ3YZzB3",
        "outputId": "d1bac082-b530-4d28-debd-2011877fadb4"
      },
      "source": [
        "df_brasil.loc[df_brasil['new_deaths'] == 1,['total_deaths']].head(1)"
      ],
      "execution_count": 111,
      "outputs": [
        {
          "output_type": "execute_result",
          "data": {
            "text/html": [
              "<div>\n",
              "<style scoped>\n",
              "    .dataframe tbody tr th:only-of-type {\n",
              "        vertical-align: middle;\n",
              "    }\n",
              "\n",
              "    .dataframe tbody tr th {\n",
              "        vertical-align: top;\n",
              "    }\n",
              "\n",
              "    .dataframe thead th {\n",
              "        text-align: right;\n",
              "    }\n",
              "</style>\n",
              "<table border=\"1\" class=\"dataframe\">\n",
              "  <thead>\n",
              "    <tr style=\"text-align: right;\">\n",
              "      <th></th>\n",
              "      <th>total_deaths</th>\n",
              "    </tr>\n",
              "    <tr>\n",
              "      <th>date</th>\n",
              "      <th></th>\n",
              "    </tr>\n",
              "  </thead>\n",
              "  <tbody>\n",
              "    <tr>\n",
              "      <th>2020-03-17</th>\n",
              "      <td>1.0</td>\n",
              "    </tr>\n",
              "  </tbody>\n",
              "</table>\n",
              "</div>"
            ],
            "text/plain": [
              "            total_deaths\n",
              "date                    \n",
              "2020-03-17           1.0"
            ]
          },
          "metadata": {
            "tags": []
          },
          "execution_count": 111
        }
      ]
    },
    {
      "cell_type": "markdown",
      "metadata": {
        "id": "tE51fnxJc-6t"
      },
      "source": [
        "#### Número máximo de casos e mortes no Brasil\r\n",
        "O número máximo de novos casos chegou à 87843 e de 1986 mortes no Brasil."
      ]
    },
    {
      "cell_type": "code",
      "metadata": {
        "colab": {
          "base_uri": "https://localhost:8080/"
        },
        "id": "IevGz6UYc-cC",
        "outputId": "5ef0727b-dc6a-451b-fa55-dfc31e465e4e"
      },
      "source": [
        "df_brasil['new_cases'].max()"
      ],
      "execution_count": 112,
      "outputs": [
        {
          "output_type": "execute_result",
          "data": {
            "text/plain": [
              "87843.0"
            ]
          },
          "metadata": {
            "tags": []
          },
          "execution_count": 112
        }
      ]
    },
    {
      "cell_type": "code",
      "metadata": {
        "colab": {
          "base_uri": "https://localhost:8080/"
        },
        "id": "7zFJyMZsdbXD",
        "outputId": "cdba3916-2c64-43ea-dabe-27ae8b51d478"
      },
      "source": [
        "df_brasil['new_deaths'].max()"
      ],
      "execution_count": 113,
      "outputs": [
        {
          "output_type": "execute_result",
          "data": {
            "text/plain": [
              "1986.0"
            ]
          },
          "metadata": {
            "tags": []
          },
          "execution_count": 113
        }
      ]
    },
    {
      "cell_type": "markdown",
      "metadata": {
        "id": "iljN6SVsZfEP"
      },
      "source": [
        "**Visualização Gráfica**\r\n",
        "\r\n",
        "Vamos plotar um gráfico de linha com a evolução de casos de covid no Brasil."
      ]
    },
    {
      "cell_type": "code",
      "metadata": {
        "id": "SzkS3Jqnz3Q7",
        "colab": {
          "base_uri": "https://localhost:8080/",
          "height": 471
        },
        "outputId": "c4b78290-116c-4914-a986-8111d687bbec"
      },
      "source": [
        "evolution_brazil_casos = df_paises.loc[df.location == 'Brazil', ['date','total_cases']]\r\n",
        "# Criar figura\r\n",
        "fig, ax = plt.subplots(figsize = (28,10))\r\n",
        "\r\n",
        "#Adicionar os eixos\r\n",
        "ax.plot(evolution_brazil_casos['date'], evolution_brazil_casos['total_cases'])\r\n",
        "\r\n",
        "#Títulos e nome dos eixo\r\n",
        "ax.set(xlabel=\"Date\",\r\n",
        "       ylabel=\"N° de Casos\",\r\n",
        "       title = \"Casos de Covid no Brasil\")\r\n",
        "ax.axes.ticklabel_format(axis='y', style='plain')\r\n",
        "\r\n",
        "#Definir formato de data\r\n",
        "date_form = DateFormatter(\"%m-%y\")\r\n",
        "ax.xaxis.set_major_formatter(date_form)\r\n",
        "\r\n",
        "plt.show()"
      ],
      "execution_count": 114,
      "outputs": [
        {
          "output_type": "display_data",
          "data": {
            "image/png": "[encoded data removed]",
            "text/plain": [
              "<Figure size 2016x720 with 1 Axes>"
            ]
          },
          "metadata": {
            "tags": [],
            "needs_background": "light"
          }
        }
      ]
    },
    {
      "cell_type": "markdown",
      "metadata": {
        "id": "EAR3mXDc07B_"
      },
      "source": [
        "Percebe - se que não houve achatamento da curva e que atualmente temos mais de 10 milhões de casos."
      ]
    },
    {
      "cell_type": "markdown",
      "metadata": {
        "id": "BxzoOl8AbS7E"
      },
      "source": [
        "**Visualização Gráfica**\r\n",
        "\r\n",
        "Vamos plotar um gráfico de linha com a evolução de mortes da covid no Brasil."
      ]
    },
    {
      "cell_type": "code",
      "metadata": {
        "id": "0vFCKTPRD607",
        "colab": {
          "base_uri": "https://localhost:8080/",
          "height": 474
        },
        "outputId": "de69b04e-4062-4db5-a8c8-dd22d69d9172"
      },
      "source": [
        "evolution_brazil_mortes = df_paises.loc[df.location == 'Brazil', ['date','total_deaths']]\r\n",
        "# Criar figura\r\n",
        "fig, ax = plt.subplots(figsize = (28,10))\r\n",
        "\r\n",
        "#Adicionar os eixos\r\n",
        "ax.plot(evolution_brazil_mortes['date'], evolution_brazil_mortes['total_deaths'])\r\n",
        "\r\n",
        "#Títulos e nome dos eixo\r\n",
        "ax.set(xlabel=\"Date\",\r\n",
        "       ylabel=\"N° de Mortes\",\r\n",
        "       title = \"Mortes de Covid no Brasil\")\r\n",
        "ax.axes.ticklabel_format(axis='y', style='plain')\r\n",
        "\r\n",
        "#Definir formato de data\r\n",
        "date_form = DateFormatter(\"%m-%y\")\r\n",
        "ax.xaxis.set_major_formatter(date_form)\r\n",
        "\r\n",
        "plt.show()"
      ],
      "execution_count": 115,
      "outputs": [
        {
          "output_type": "display_data",
          "data": {
            "image/png": "[encoded data removed]",
            "text/plain": [
              "<Figure size 2016x720 with 1 Axes>"
            ]
          },
          "metadata": {
            "tags": [],
            "needs_background": "light"
          }
        }
      ]
    },
    {
      "cell_type": "markdown",
      "metadata": {
        "id": "UPVfQ4KR0wEb"
      },
      "source": [
        "Percebe - se que não houve achatamento da curva e que atualmente temos mais de 251 mil de mortes."
      ]
    },
    {
      "cell_type": "code",
      "metadata": {
        "colab": {
          "base_uri": "https://localhost:8080/",
          "height": 340
        },
        "id": "UhJczTS2buts",
        "outputId": "031514c0-4d44-4d7c-a74a-8cebbdc50553"
      },
      "source": [
        "#Indexar a variável date \r\n",
        "brasil_temporal = df_brasil.set_index('date')\r\n",
        "brasil_temporal.head()"
      ],
      "execution_count": 116,
      "outputs": [
        {
          "output_type": "execute_result",
          "data": {
            "text/html": [
              "<div>\n",
              "<style scoped>\n",
              "    .dataframe tbody tr th:only-of-type {\n",
              "        vertical-align: middle;\n",
              "    }\n",
              "\n",
              "    .dataframe tbody tr th {\n",
              "        vertical-align: top;\n",
              "    }\n",
              "\n",
              "    .dataframe thead th {\n",
              "        text-align: right;\n",
              "    }\n",
              "</style>\n",
              "<table border=\"1\" class=\"dataframe\">\n",
              "  <thead>\n",
              "    <tr style=\"text-align: right;\">\n",
              "      <th></th>\n",
              "      <th>iso_code</th>\n",
              "      <th>continent</th>\n",
              "      <th>location</th>\n",
              "      <th>total_cases</th>\n",
              "      <th>new_cases</th>\n",
              "      <th>new_cases_smoothed</th>\n",
              "      <th>total_deaths</th>\n",
              "      <th>new_deaths</th>\n",
              "      <th>new_deaths_smoothed</th>\n",
              "      <th>total_cases_per_million</th>\n",
              "      <th>new_cases_per_million</th>\n",
              "      <th>new_cases_smoothed_per_million</th>\n",
              "      <th>total_deaths_per_million</th>\n",
              "      <th>new_deaths_per_million</th>\n",
              "      <th>new_deaths_smoothed_per_million</th>\n",
              "      <th>reproduction_rate</th>\n",
              "      <th>icu_patients</th>\n",
              "      <th>icu_patients_per_million</th>\n",
              "      <th>hosp_patients</th>\n",
              "      <th>hosp_patients_per_million</th>\n",
              "      <th>weekly_icu_admissions</th>\n",
              "      <th>weekly_icu_admissions_per_million</th>\n",
              "      <th>weekly_hosp_admissions</th>\n",
              "      <th>weekly_hosp_admissions_per_million</th>\n",
              "      <th>new_tests</th>\n",
              "      <th>total_tests</th>\n",
              "      <th>total_tests_per_thousand</th>\n",
              "      <th>new_tests_per_thousand</th>\n",
              "      <th>new_tests_smoothed</th>\n",
              "      <th>new_tests_smoothed_per_thousand</th>\n",
              "      <th>positive_rate</th>\n",
              "      <th>tests_per_case</th>\n",
              "      <th>tests_units</th>\n",
              "      <th>total_vaccinations</th>\n",
              "      <th>people_vaccinated</th>\n",
              "      <th>people_fully_vaccinated</th>\n",
              "      <th>new_vaccinations</th>\n",
              "      <th>new_vaccinations_smoothed</th>\n",
              "      <th>total_vaccinations_per_hundred</th>\n",
              "      <th>people_vaccinated_per_hundred</th>\n",
              "      <th>people_fully_vaccinated_per_hundred</th>\n",
              "      <th>new_vaccinations_smoothed_per_million</th>\n",
              "      <th>stringency_index</th>\n",
              "      <th>population</th>\n",
              "      <th>population_density</th>\n",
              "      <th>median_age</th>\n",
              "      <th>aged_65_older</th>\n",
              "      <th>aged_70_older</th>\n",
              "      <th>gdp_per_capita</th>\n",
              "      <th>extreme_poverty</th>\n",
              "      <th>cardiovasc_death_rate</th>\n",
              "      <th>diabetes_prevalence</th>\n",
              "      <th>female_smokers</th>\n",
              "      <th>male_smokers</th>\n",
              "      <th>handwashing_facilities</th>\n",
              "      <th>hospital_beds_per_thousand</th>\n",
              "      <th>life_expectancy</th>\n",
              "      <th>human_development_index</th>\n",
              "    </tr>\n",
              "    <tr>\n",
              "      <th>date</th>\n",
              "      <th></th>\n",
              "      <th></th>\n",
              "      <th></th>\n",
              "      <th></th>\n",
              "      <th></th>\n",
              "      <th></th>\n",
              "      <th></th>\n",
              "      <th></th>\n",
              "      <th></th>\n",
              "      <th></th>\n",
              "      <th></th>\n",
              "      <th></th>\n",
              "      <th></th>\n",
              "      <th></th>\n",
              "      <th></th>\n",
              "      <th></th>\n",
              "      <th></th>\n",
              "      <th></th>\n",
              "      <th></th>\n",
              "      <th></th>\n",
              "      <th></th>\n",
              "      <th></th>\n",
              "      <th></th>\n",
              "      <th></th>\n",
              "      <th></th>\n",
              "      <th></th>\n",
              "      <th></th>\n",
              "      <th></th>\n",
              "      <th></th>\n",
              "      <th></th>\n",
              "      <th></th>\n",
              "      <th></th>\n",
              "      <th></th>\n",
              "      <th></th>\n",
              "      <th></th>\n",
              "      <th></th>\n",
              "      <th></th>\n",
              "      <th></th>\n",
              "      <th></th>\n",
              "      <th></th>\n",
              "      <th></th>\n",
              "      <th></th>\n",
              "      <th></th>\n",
              "      <th></th>\n",
              "      <th></th>\n",
              "      <th></th>\n",
              "      <th></th>\n",
              "      <th></th>\n",
              "      <th></th>\n",
              "      <th></th>\n",
              "      <th></th>\n",
              "      <th></th>\n",
              "      <th></th>\n",
              "      <th></th>\n",
              "      <th></th>\n",
              "      <th></th>\n",
              "      <th></th>\n",
              "      <th></th>\n",
              "    </tr>\n",
              "  </thead>\n",
              "  <tbody>\n",
              "    <tr>\n",
              "      <th>2020-02-26</th>\n",
              "      <td>BRA</td>\n",
              "      <td>South America</td>\n",
              "      <td>Brazil</td>\n",
              "      <td>1.0</td>\n",
              "      <td>1.0</td>\n",
              "      <td>NaN</td>\n",
              "      <td>NaN</td>\n",
              "      <td>NaN</td>\n",
              "      <td>NaN</td>\n",
              "      <td>0.005</td>\n",
              "      <td>0.005</td>\n",
              "      <td>NaN</td>\n",
              "      <td>NaN</td>\n",
              "      <td>NaN</td>\n",
              "      <td>NaN</td>\n",
              "      <td>NaN</td>\n",
              "      <td>NaN</td>\n",
              "      <td>NaN</td>\n",
              "      <td>NaN</td>\n",
              "      <td>NaN</td>\n",
              "      <td>NaN</td>\n",
              "      <td>NaN</td>\n",
              "      <td>NaN</td>\n",
              "      <td>NaN</td>\n",
              "      <td>NaN</td>\n",
              "      <td>NaN</td>\n",
              "      <td>NaN</td>\n",
              "      <td>NaN</td>\n",
              "      <td>NaN</td>\n",
              "      <td>NaN</td>\n",
              "      <td>NaN</td>\n",
              "      <td>NaN</td>\n",
              "      <td>NaN</td>\n",
              "      <td>NaN</td>\n",
              "      <td>NaN</td>\n",
              "      <td>NaN</td>\n",
              "      <td>NaN</td>\n",
              "      <td>NaN</td>\n",
              "      <td>NaN</td>\n",
              "      <td>NaN</td>\n",
              "      <td>NaN</td>\n",
              "      <td>NaN</td>\n",
              "      <td>5.56</td>\n",
              "      <td>212559409.0</td>\n",
              "      <td>25.04</td>\n",
              "      <td>33.5</td>\n",
              "      <td>8.552</td>\n",
              "      <td>5.06</td>\n",
              "      <td>14103.452</td>\n",
              "      <td>3.4</td>\n",
              "      <td>177.961</td>\n",
              "      <td>8.11</td>\n",
              "      <td>10.1</td>\n",
              "      <td>17.9</td>\n",
              "      <td>NaN</td>\n",
              "      <td>2.2</td>\n",
              "      <td>75.88</td>\n",
              "      <td>0.765</td>\n",
              "    </tr>\n",
              "    <tr>\n",
              "      <th>2020-02-27</th>\n",
              "      <td>BRA</td>\n",
              "      <td>South America</td>\n",
              "      <td>Brazil</td>\n",
              "      <td>1.0</td>\n",
              "      <td>0.0</td>\n",
              "      <td>NaN</td>\n",
              "      <td>NaN</td>\n",
              "      <td>NaN</td>\n",
              "      <td>NaN</td>\n",
              "      <td>0.005</td>\n",
              "      <td>0.000</td>\n",
              "      <td>NaN</td>\n",
              "      <td>NaN</td>\n",
              "      <td>NaN</td>\n",
              "      <td>NaN</td>\n",
              "      <td>NaN</td>\n",
              "      <td>NaN</td>\n",
              "      <td>NaN</td>\n",
              "      <td>NaN</td>\n",
              "      <td>NaN</td>\n",
              "      <td>NaN</td>\n",
              "      <td>NaN</td>\n",
              "      <td>NaN</td>\n",
              "      <td>NaN</td>\n",
              "      <td>NaN</td>\n",
              "      <td>NaN</td>\n",
              "      <td>NaN</td>\n",
              "      <td>NaN</td>\n",
              "      <td>NaN</td>\n",
              "      <td>NaN</td>\n",
              "      <td>NaN</td>\n",
              "      <td>NaN</td>\n",
              "      <td>NaN</td>\n",
              "      <td>NaN</td>\n",
              "      <td>NaN</td>\n",
              "      <td>NaN</td>\n",
              "      <td>NaN</td>\n",
              "      <td>NaN</td>\n",
              "      <td>NaN</td>\n",
              "      <td>NaN</td>\n",
              "      <td>NaN</td>\n",
              "      <td>NaN</td>\n",
              "      <td>5.56</td>\n",
              "      <td>212559409.0</td>\n",
              "      <td>25.04</td>\n",
              "      <td>33.5</td>\n",
              "      <td>8.552</td>\n",
              "      <td>5.06</td>\n",
              "      <td>14103.452</td>\n",
              "      <td>3.4</td>\n",
              "      <td>177.961</td>\n",
              "      <td>8.11</td>\n",
              "      <td>10.1</td>\n",
              "      <td>17.9</td>\n",
              "      <td>NaN</td>\n",
              "      <td>2.2</td>\n",
              "      <td>75.88</td>\n",
              "      <td>0.765</td>\n",
              "    </tr>\n",
              "    <tr>\n",
              "      <th>2020-02-28</th>\n",
              "      <td>BRA</td>\n",
              "      <td>South America</td>\n",
              "      <td>Brazil</td>\n",
              "      <td>1.0</td>\n",
              "      <td>0.0</td>\n",
              "      <td>NaN</td>\n",
              "      <td>NaN</td>\n",
              "      <td>NaN</td>\n",
              "      <td>NaN</td>\n",
              "      <td>0.005</td>\n",
              "      <td>0.000</td>\n",
              "      <td>NaN</td>\n",
              "      <td>NaN</td>\n",
              "      <td>NaN</td>\n",
              "      <td>NaN</td>\n",
              "      <td>NaN</td>\n",
              "      <td>NaN</td>\n",
              "      <td>NaN</td>\n",
              "      <td>NaN</td>\n",
              "      <td>NaN</td>\n",
              "      <td>NaN</td>\n",
              "      <td>NaN</td>\n",
              "      <td>NaN</td>\n",
              "      <td>NaN</td>\n",
              "      <td>NaN</td>\n",
              "      <td>NaN</td>\n",
              "      <td>NaN</td>\n",
              "      <td>NaN</td>\n",
              "      <td>NaN</td>\n",
              "      <td>NaN</td>\n",
              "      <td>NaN</td>\n",
              "      <td>NaN</td>\n",
              "      <td>NaN</td>\n",
              "      <td>NaN</td>\n",
              "      <td>NaN</td>\n",
              "      <td>NaN</td>\n",
              "      <td>NaN</td>\n",
              "      <td>NaN</td>\n",
              "      <td>NaN</td>\n",
              "      <td>NaN</td>\n",
              "      <td>NaN</td>\n",
              "      <td>NaN</td>\n",
              "      <td>5.56</td>\n",
              "      <td>212559409.0</td>\n",
              "      <td>25.04</td>\n",
              "      <td>33.5</td>\n",
              "      <td>8.552</td>\n",
              "      <td>5.06</td>\n",
              "      <td>14103.452</td>\n",
              "      <td>3.4</td>\n",
              "      <td>177.961</td>\n",
              "      <td>8.11</td>\n",
              "      <td>10.1</td>\n",
              "      <td>17.9</td>\n",
              "      <td>NaN</td>\n",
              "      <td>2.2</td>\n",
              "      <td>75.88</td>\n",
              "      <td>0.765</td>\n",
              "    </tr>\n",
              "    <tr>\n",
              "      <th>2020-02-29</th>\n",
              "      <td>BRA</td>\n",
              "      <td>South America</td>\n",
              "      <td>Brazil</td>\n",
              "      <td>2.0</td>\n",
              "      <td>1.0</td>\n",
              "      <td>NaN</td>\n",
              "      <td>NaN</td>\n",
              "      <td>NaN</td>\n",
              "      <td>NaN</td>\n",
              "      <td>0.009</td>\n",
              "      <td>0.005</td>\n",
              "      <td>NaN</td>\n",
              "      <td>NaN</td>\n",
              "      <td>NaN</td>\n",
              "      <td>NaN</td>\n",
              "      <td>NaN</td>\n",
              "      <td>NaN</td>\n",
              "      <td>NaN</td>\n",
              "      <td>NaN</td>\n",
              "      <td>NaN</td>\n",
              "      <td>NaN</td>\n",
              "      <td>NaN</td>\n",
              "      <td>NaN</td>\n",
              "      <td>NaN</td>\n",
              "      <td>NaN</td>\n",
              "      <td>NaN</td>\n",
              "      <td>NaN</td>\n",
              "      <td>NaN</td>\n",
              "      <td>NaN</td>\n",
              "      <td>NaN</td>\n",
              "      <td>NaN</td>\n",
              "      <td>NaN</td>\n",
              "      <td>NaN</td>\n",
              "      <td>NaN</td>\n",
              "      <td>NaN</td>\n",
              "      <td>NaN</td>\n",
              "      <td>NaN</td>\n",
              "      <td>NaN</td>\n",
              "      <td>NaN</td>\n",
              "      <td>NaN</td>\n",
              "      <td>NaN</td>\n",
              "      <td>NaN</td>\n",
              "      <td>5.56</td>\n",
              "      <td>212559409.0</td>\n",
              "      <td>25.04</td>\n",
              "      <td>33.5</td>\n",
              "      <td>8.552</td>\n",
              "      <td>5.06</td>\n",
              "      <td>14103.452</td>\n",
              "      <td>3.4</td>\n",
              "      <td>177.961</td>\n",
              "      <td>8.11</td>\n",
              "      <td>10.1</td>\n",
              "      <td>17.9</td>\n",
              "      <td>NaN</td>\n",
              "      <td>2.2</td>\n",
              "      <td>75.88</td>\n",
              "      <td>0.765</td>\n",
              "    </tr>\n",
              "    <tr>\n",
              "      <th>2020-03-01</th>\n",
              "      <td>BRA</td>\n",
              "      <td>South America</td>\n",
              "      <td>Brazil</td>\n",
              "      <td>2.0</td>\n",
              "      <td>0.0</td>\n",
              "      <td>NaN</td>\n",
              "      <td>NaN</td>\n",
              "      <td>NaN</td>\n",
              "      <td>NaN</td>\n",
              "      <td>0.009</td>\n",
              "      <td>0.000</td>\n",
              "      <td>NaN</td>\n",
              "      <td>NaN</td>\n",
              "      <td>NaN</td>\n",
              "      <td>NaN</td>\n",
              "      <td>NaN</td>\n",
              "      <td>NaN</td>\n",
              "      <td>NaN</td>\n",
              "      <td>NaN</td>\n",
              "      <td>NaN</td>\n",
              "      <td>NaN</td>\n",
              "      <td>NaN</td>\n",
              "      <td>NaN</td>\n",
              "      <td>NaN</td>\n",
              "      <td>NaN</td>\n",
              "      <td>NaN</td>\n",
              "      <td>NaN</td>\n",
              "      <td>NaN</td>\n",
              "      <td>NaN</td>\n",
              "      <td>NaN</td>\n",
              "      <td>NaN</td>\n",
              "      <td>NaN</td>\n",
              "      <td>NaN</td>\n",
              "      <td>NaN</td>\n",
              "      <td>NaN</td>\n",
              "      <td>NaN</td>\n",
              "      <td>NaN</td>\n",
              "      <td>NaN</td>\n",
              "      <td>NaN</td>\n",
              "      <td>NaN</td>\n",
              "      <td>NaN</td>\n",
              "      <td>NaN</td>\n",
              "      <td>5.56</td>\n",
              "      <td>212559409.0</td>\n",
              "      <td>25.04</td>\n",
              "      <td>33.5</td>\n",
              "      <td>8.552</td>\n",
              "      <td>5.06</td>\n",
              "      <td>14103.452</td>\n",
              "      <td>3.4</td>\n",
              "      <td>177.961</td>\n",
              "      <td>8.11</td>\n",
              "      <td>10.1</td>\n",
              "      <td>17.9</td>\n",
              "      <td>NaN</td>\n",
              "      <td>2.2</td>\n",
              "      <td>75.88</td>\n",
              "      <td>0.765</td>\n",
              "    </tr>\n",
              "  </tbody>\n",
              "</table>\n",
              "</div>"
            ],
            "text/plain": [
              "           iso_code      continent  ... life_expectancy  human_development_index\n",
              "date                                ...                                         \n",
              "2020-02-26      BRA  South America  ...           75.88                    0.765\n",
              "2020-02-27      BRA  South America  ...           75.88                    0.765\n",
              "2020-02-28      BRA  South America  ...           75.88                    0.765\n",
              "2020-02-29      BRA  South America  ...           75.88                    0.765\n",
              "2020-03-01      BRA  South America  ...           75.88                    0.765\n",
              "\n",
              "[5 rows x 58 columns]"
            ]
          },
          "metadata": {
            "tags": []
          },
          "execution_count": 116
        }
      ]
    },
    {
      "cell_type": "markdown",
      "metadata": {
        "id": "lCcxGZfibc08"
      },
      "source": [
        "#### Novos casos confirmados no Brasil"
      ]
    },
    {
      "cell_type": "markdown",
      "metadata": {
        "id": "_NmGM1Z2bs2f"
      },
      "source": [
        "Vamos analisar o período de novos casos no Brasil."
      ]
    },
    {
      "cell_type": "code",
      "metadata": {
        "colab": {
          "base_uri": "https://localhost:8080/",
          "height": 416
        },
        "id": "zpyW7pUobbgh",
        "outputId": "bf67cc28-bbd3-4d83-dee2-2c849b77c91e"
      },
      "source": [
        "#evolution_brazil_mortes = df_paises.loc[df.location == 'Brazil', ['date','total_deaths']]\r\n",
        "# Criar figura\r\n",
        "fig, ax = plt.subplots(figsize = (28,10))\r\n",
        "\r\n",
        "\r\n",
        "brasil_temporal[\"new_cases\"].plot(kind=\"line\", ax=ax, figsize=(15, 6))\r\n",
        "\r\n",
        "#Títulos e nome dos eixo\r\n",
        "ax.set(xlabel=\"Date\",\r\n",
        "       ylabel=\"Novos casos\",\r\n",
        "       title = \"Casos Confirmados no Brasil\")\r\n",
        "ax.axes.ticklabel_format(axis='y', style='plain')\r\n",
        "\r\n",
        "plt.show()"
      ],
      "execution_count": 117,
      "outputs": [
        {
          "output_type": "display_data",
          "data": {
            "image/png": "[encoded data removed]",
            "text/plain": [
              "<Figure size 1080x432 with 1 Axes>"
            ]
          },
          "metadata": {
            "tags": [],
            "needs_background": "light"
          }
        }
      ]
    },
    {
      "cell_type": "markdown",
      "metadata": {
        "id": "MFRKGKDYb0CM"
      },
      "source": [
        "Pelo gráfico de linha acima, desde de Julho de 2020 vem aumentando novos casos e sempre variando durante os meses restantes, percebe - se que em Janeiro e Fevereiro de 2021 foram os meses com maiores picos de casos."
      ]
    },
    {
      "cell_type": "code",
      "metadata": {
        "colab": {
          "base_uri": "https://localhost:8080/",
          "height": 416
        },
        "id": "-UQ2wuG8dlgl",
        "outputId": "09f9cf69-3379-4f6b-cb69-5987df7cd839"
      },
      "source": [
        "# Criar figura\r\n",
        "fig, ax = plt.subplots(figsize = (12,12))\r\n",
        "\r\n",
        "\r\n",
        "brasil_temporal[\"new_deaths\"].plot(kind=\"line\", ax=ax, figsize=(15, 6))\r\n",
        "\r\n",
        "#Títulos e nome dos eixo\r\n",
        "ax.set(xlabel=\"Date\",\r\n",
        "       ylabel=\"Novas mortes\",\r\n",
        "       title = \"Mortes confirmados no Brasil\")\r\n",
        "ax.axes.ticklabel_format(axis='y', style='plain')\r\n",
        "\r\n",
        "plt.show()"
      ],
      "execution_count": 118,
      "outputs": [
        {
          "output_type": "display_data",
          "data": {
            "image/png": "[encoded data removed]",
            "text/plain": [
              "<Figure size 1080x432 with 1 Axes>"
            ]
          },
          "metadata": {
            "tags": [],
            "needs_background": "light"
          }
        }
      ]
    },
    {
      "cell_type": "markdown",
      "metadata": {
        "id": "aDL6wHeWcTqk"
      },
      "source": [
        "Pelo gráfico de linha acima, as novas mortes estão com bastante variação dentro do mês, percebe - se que em Setembro de 2020 e Fevereiro de 2021 foram os meses com maiores picos de mortes."
      ]
    },
    {
      "cell_type": "markdown",
      "metadata": {
        "id": "H23aA8auAfNV"
      },
      "source": [
        "**Proporção de número de casos em relação à população**\r\n",
        "\r\n",
        "\r\n"
      ]
    },
    {
      "cell_type": "code",
      "metadata": {
        "colab": {
          "base_uri": "https://localhost:8080/",
          "height": 360
        },
        "id": "WEyKgqNX_gWw",
        "outputId": "b835e8ba-b4f3-433c-d7fc-b3ee52c41a2d"
      },
      "source": [
        "# Criando as variáveis para o gráfico de waffle\r\n",
        "waffle_cases = (df_brasil.total_cases.max() / df_brasil.population.max())*100\r\n",
        "waffle_populacao = 100 - waffle_cases\r\n",
        "\r\n",
        "# Plotando gráfico de waffle \r\n",
        "fig = plt.figure(figsize=(6,6),\r\n",
        "    FigureClass=Waffle,\r\n",
        "    rows = 12, columns = 12,\r\n",
        "    values = {'População': waffle_populacao,\r\n",
        "              'Número de casos':waffle_cases},\r\n",
        "              colors=(\"#232066\", \"#983D3D\"),\r\n",
        "              legend={'loc':'upper left','bbox_to_anchor':(1,1)},\r\n",
        "              icons='child', icon_size=20,\r\n",
        "              icon_legend=True\r\n",
        ")\r\n",
        "\r\n",
        "fig.set_tight_layout(False)\r\n",
        "plt.show();"
      ],
      "execution_count": 119,
      "outputs": [
        {
          "output_type": "display_data",
          "data": {
            "image/png": "[encoded data removed]",
            "text/plain": [
              "<Waffle size 432x432 with 1 Axes>"
            ]
          },
          "metadata": {
            "tags": [],
            "needs_background": "light"
          }
        }
      ]
    },
    {
      "cell_type": "markdown",
      "metadata": {
        "id": "righrsL6tUIg"
      },
      "source": [
        "Neste caso se pegar o total da população brasileira e dividir em 144 blocos, desse total, 7 blocos são a quantidade de casos para a população brasileira."
      ]
    },
    {
      "cell_type": "code",
      "metadata": {
        "colab": {
          "base_uri": "https://localhost:8080/",
          "height": 360
        },
        "id": "spH9kMAaAvn9",
        "outputId": "6d87a193-cfa2-40b0-e9db-957ce2223708"
      },
      "source": [
        "\r\n",
        "# Criando as variáveis para o gráfico de waffle\r\n",
        "waffle_deaths = (df_brasil.total_deaths.max() / df_brasil.total_cases.max())*100\r\n",
        "waffle_n_deaths = 100 - waffle_deaths\r\n",
        "\r\n",
        "# Plotando gráfico de waffle \r\n",
        "fig = plt.figure(figsize=(6,6),\r\n",
        "    FigureClass=Waffle,\r\n",
        "    rows = 12, columns = 12,\r\n",
        "    values = {'Número de casos': waffle_n_deaths,\r\n",
        "              'Número de mortes': waffle_deaths,\r\n",
        "              },\r\n",
        "              colors=(\"#232066\", \"#983D3D\"),\r\n",
        "              legend={'loc':'upper left','bbox_to_anchor':(1,1)},\r\n",
        "              icons='ambulance', icon_size=20,\r\n",
        "              icon_legend=True\r\n",
        ")\r\n",
        "\r\n",
        "fig.set_tight_layout(False)\r\n",
        "plt.show();"
      ],
      "execution_count": 120,
      "outputs": [
        {
          "output_type": "display_data",
          "data": {
            "image/png": "[encoded data removed]",
            "text/plain": [
              "<Waffle size 432x432 with 1 Axes>"
            ]
          },
          "metadata": {
            "tags": [],
            "needs_background": "light"
          }
        }
      ]
    },
    {
      "cell_type": "markdown",
      "metadata": {
        "id": "imMVx1fQup6l"
      },
      "source": [
        "Neste caso se pegar o total da população brasileira e dividir em 144 blocos, desse total, 3 blocos são a quantidade de mortes no Brasil."
      ]
    },
    {
      "cell_type": "markdown",
      "metadata": {
        "id": "4r_wrJgVf8vm"
      },
      "source": [
        "---"
      ]
    },
    {
      "cell_type": "markdown",
      "metadata": {
        "id": "yR-e96pJd8Dj"
      },
      "source": [
        "#### Correlação entre mortes e casos no Brasil"
      ]
    },
    {
      "cell_type": "code",
      "metadata": {
        "colab": {
          "base_uri": "https://localhost:8080/",
          "height": 270
        },
        "id": "yyh9GheYd7ao",
        "outputId": "863611e6-0e78-4093-96d9-84452fa2ae33"
      },
      "source": [
        "correlacao = brasil_temporal[['new_cases','new_deaths']]\r\n",
        "\r\n",
        "correlacao = correlacao.corr()\r\n",
        "\r\n",
        "ax = sns.heatmap(correlacao, annot = True)"
      ],
      "execution_count": 121,
      "outputs": [
        {
          "output_type": "display_data",
          "data": {
            "image/png": "[encoded data removed]",
            "text/plain": [
              "<Figure size 432x288 with 2 Axes>"
            ]
          },
          "metadata": {
            "tags": [],
            "needs_background": "light"
          }
        }
      ]
    },
    {
      "cell_type": "markdown",
      "metadata": {
        "id": "xbSKjIu8dsmZ"
      },
      "source": [
        "A correlação entre as variáveis `new_cases`  e `new_deaths` no Brasil é de cerca de 0.84, quer dizer que há uma forte correlação entre eles."
      ]
    },
    {
      "cell_type": "markdown",
      "metadata": {
        "id": "LCsiXvM3BcsO"
      },
      "source": [
        "## Conclusão\n",
        "\n",
        "Através da análise da covid 19 no mundo e no Brasil, concluiu - se que:\n",
        "\n",
        "* O dataset possui 36923 entradas.\n",
        "\n",
        "* As variáveis `weekly_icu_admissions`,                    \n",
        "`weekly_icu_admissions_per_million`,        \n",
        "`weekly_hosp_admissions`,                   \n",
        "`weekly_hosp_admissions_per_million`,       \n",
        "`people_fully_vaccinated`,                \n",
        "`people_fully_vaccinated_per_hundred` e \n",
        "`people_vaccinated` são as que mais possuem valores ausentes.\n",
        "\n",
        "* Os países com maiores casos são: **Estados Unidos**, **Índia**, **Brasil**, **Reino Unido** e **Russia**.\n",
        "\n",
        "* Os países com maiores mortes são **Estados Unidos** e **Brasil**.\n",
        "\n",
        "* Atualmente mais de 100 milhões de casos de Covid-19.\n",
        "\n",
        "* Atualmente mais de 2,5 milhões de mortes de Covid19.    \n",
        "\n",
        "* **Israel** é o páis com maiores números de vacinas por centenas de pessoas com mais de\n",
        "40 vacinas / centenas de pessoas.\n",
        "\n",
        "* A primeira morte no **Brasil** foi no dia 17 de Março 2020.\n",
        "\n",
        "* A correlação entre mortes e casos são de 84%.\n",
        "\n"
      ]
    },
    {
      "cell_type": "code",
      "metadata": {
        "id": "OAIlNlpUvKwr"
      },
      "source": [
        ""
      ],
      "execution_count": 121,
      "outputs": []
    }
  ]
}