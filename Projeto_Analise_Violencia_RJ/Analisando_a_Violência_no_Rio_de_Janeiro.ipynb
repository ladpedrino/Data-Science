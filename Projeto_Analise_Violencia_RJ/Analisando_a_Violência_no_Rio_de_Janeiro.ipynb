{
  "nbformat": 4,
  "nbformat_minor": 0,
  "metadata": {
    "colab": {
      "name": "Analisando a Violência no Rio de Janeiro.ipynb",
      "provenance": [],
      "collapsed_sections": []
    },
    "kernelspec": {
      "name": "python3",
      "display_name": "Python 3"
    }
  },
  "cells": [
    {
      "cell_type": "markdown",
      "metadata": {
        "id": "-eFQZydM9O9J"
      },
      "source": [
        "<img alt=\"Colaboratory logo\" width=\"15%\" src=\"https://raw.githubusercontent.com/carlosfab/escola-data-science/master/img/novo_logo_bg_claro.png\">\n",
        "\n",
        "#### **Data Science na Prática 2.0**\n",
        "*by [sigmoidal.ai](https://sigmoidal.ai)*\n",
        "\n",
        "---\n",
        "\n",
        "**Instruções para o Projeto**\n",
        "\n",
        "* Você deve importar o pandas e importar a base de dados da Polícia Militar do Rio de Janeiro sobre a violência\n",
        "  * O arquivo `csv` se encontra no endereço abaixo:\n",
        "    * https://raw.githubusercontent.com/ladpedrino/DataSets/main/violencia_rio.csv\n",
        "  * Este arquivo `csv` foi pré-processado minimamente por mim, para focar nos pontos aprendidos neste Módulo\n",
        "  * Este é o site oficial, do Governo do Estado do Rio de Janeiro:\n",
        "    * http://www.ispdados.rj.gov.br/estatistica.html\n",
        "  * Um *dashboard* interativo e visual pode ser encontrado no site abaixo:\n",
        "    * http://www.ispvisualizacao.rj.gov.br/index.html\n",
        "  * Você está livre para apagar, alterar e acrescentar o que quiser!\n",
        "  * Se você sentiu dificuldade, não se preocupe! Disponibilizei a minha própria solução para servir de guia, porém tente fazer a sua por você mesmo inicialmente.\n",
        "    * Se sentir perdido é normal, mas acredite: O seu cérebro vai começar a adquirir uma capacidade nova de pensar em hipóteses e questionar dados.\n",
        "  \n",
        "  \n",
        "---\n",
        "  "
      ]
    },
    {
      "cell_type": "markdown",
      "metadata": {
        "id": "kLI0gJtzDGuQ"
      },
      "source": [
        "# Analisando a Violência no Rio de Janeiro\n",
        "\n",
        "O Rio de Janeiro (RJ) é um estado brasileiro localizado na região sudeste do Brasil, a sua capital Rio de Janeiro, conhecida como a cidade maravilhosa, constitui como um dos principais pontos turísticos do Brasil. Conhecida pelo visual deslumbrando do pão de açucar, e lindas praias na costa.\n",
        "Porém a cidade se destaca pelos altos índices de violência e criminalidade, na qual assustam os turstas e moradores. \n",
        "Neste artigo, vamos analisar os dados de violência ddo Rio de Janeiro, na qual foi obtido da página de dados abertos do instituto de segurança pública do Rio de Janeiro.\n",
        "\n",
        "<center><img alt=\"Rio de Janeiro\"width = \"60%\" src = \"https://hotelconsult.com.br/wp-content/uploads/2019/08/SETUR-RJ-2-1.jpg\"></center>"
      ]
    },
    {
      "cell_type": "markdown",
      "metadata": {
        "id": "0zxQHhIUDF_2"
      },
      "source": [
        "## Obtenção dos Dados\n",
        "\n",
        "Os dados foram obtidos diretamento do portal [ISPDados](http://www.ispdados.rj.gov.br/estatistica.html), que é uma página de Dados Abertos do Instituto de Segurança Pública do Rio de Janeiro.\n",
        "\n",
        "As estatísticas divulgadas no portal são construídas a partir dos Registros de Ocorrência (RO) lavrados nas delegacias de Polícia Civil do Estado do Rio de Janeiro, além de informações complementares de órgãos específicos da Polícia Militar do Estado do Rio de Janeiro.\n",
        "\n",
        "Como forma de criar um controle de qualidade, antes de serem consolidados no ISP os RO são submetidos à Corregedoria Interna da Polícia Civil (COINPOL). As estatísticas produzidas baseiam-se na data em que foi confeccionado o Registro de Ocorrência.\n",
        "\n",
        "No caso do *dataset* a ser utilizado aqui, o arquivo `csv` pode ser baixado diretamente [neste link](https://raw.githubusercontent.com/ladpedrino/DataSets/main/violencia_rio.csv)."
      ]
    },
    {
      "cell_type": "markdown",
      "metadata": {
        "id": "7vh4at0l90nr"
      },
      "source": [
        "### Importando os dados"
      ]
    },
    {
      "cell_type": "code",
      "metadata": {
        "id": "CYLNme_OCX_R"
      },
      "source": [
        "#importar pacotes\r\n",
        "import pandas as pd\r\n",
        "import matplotlib.pyplot as plt\r\n",
        "df = pd.read_csv ('https://raw.githubusercontent.com/ladpedrino/DataSets/main/violencia_rio.csv')"
      ],
      "execution_count": null,
      "outputs": []
    },
    {
      "cell_type": "markdown",
      "metadata": {
        "id": "qb5By2nIMS6m"
      },
      "source": [
        "## Análise Inicial dos Dados\n",
        "\n",
        "* Qual o tamanho do seu DataFrame (`shape`)\n",
        "* Extrair e imprimir os nomes das colunas (`columns`)\n",
        "* Quais os tipos das variáveis (`dtypes`)\n",
        "* Visualizar as 5 primeiras linhas (`head`)\n",
        "* Identifique a porcentagem de valores ausentes das colunas\n"
      ]
    },
    {
      "cell_type": "code",
      "metadata": {
        "colab": {
          "base_uri": "https://localhost:8080/"
        },
        "id": "AXyhNxsuNesa",
        "outputId": "e8e9d3fa-89c6-47a5-b0a7-8318610cca09"
      },
      "source": [
        "#Tamanho do DataFrame\r\n",
        "print(\"Variáveis: \", df.shape[1])\r\n",
        "print(\"Entradas: \", df.shape[0])"
      ],
      "execution_count": null,
      "outputs": [
        {
          "output_type": "stream",
          "text": [
            "Variáveis:  56\n",
            "Entradas:  344\n"
          ],
          "name": "stdout"
        }
      ]
    },
    {
      "cell_type": "code",
      "metadata": {
        "colab": {
          "base_uri": "https://localhost:8080/"
        },
        "id": "2b7hd8QnNkdM",
        "outputId": "cff1160c-eabe-43e5-92f7-2c5c41e0810e"
      },
      "source": [
        "df.columns"
      ],
      "execution_count": null,
      "outputs": [
        {
          "output_type": "execute_result",
          "data": {
            "text/plain": [
              "Index(['vano', 'mes', 'hom_doloso', 'lesao_corp_morte', 'latrocinio',\n",
              "       'hom_por_interv_policial', 'tentat_hom', 'lesao_corp_dolosa', 'estupro',\n",
              "       'hom_culposo', 'lesao_corp_culposa', 'roubo_comercio',\n",
              "       'roubo_residencia', 'roubo_veiculo', 'roubo_carga', 'roubo_transeunte',\n",
              "       'roubo_em_coletivo', 'roubo_banco', 'roubo_cx_eletronico',\n",
              "       'roubo_celular', 'roubo_conducao_saque', 'roubo_apos_saque',\n",
              "       'roubo_bicicleta', 'outros_roubos', 'total_roubos', 'furto_veiculos',\n",
              "       'furto_transeunte', 'furto_coletivo', 'furto_celular',\n",
              "       'furto_bicicleta', 'outros_furtos', 'total_furtos', 'sequestro',\n",
              "       'extorsao', 'sequestro_relampago', 'estelionato', 'apreensao_drogas',\n",
              "       'posse_drogas', 'trafico_drogas', 'apreensao_drogas_sem_autor',\n",
              "       'recuperacao_veiculos', 'apf', 'aaapai', 'cmp', 'cmba', 'ameaca',\n",
              "       'pessoas_desaparecidas', 'encontro_cadaver', 'encontro_ossada',\n",
              "       'pol_militares_mortos_serv', 'pol_civis_mortos_serv',\n",
              "       'indicador_letalidade', 'indicador_roubo_rua', 'indicador_roubo_veic',\n",
              "       'registro_ocorrencias', 'fase'],\n",
              "      dtype='object')"
            ]
          },
          "metadata": {
            "tags": []
          },
          "execution_count": 3
        }
      ]
    },
    {
      "cell_type": "code",
      "metadata": {
        "colab": {
          "base_uri": "https://localhost:8080/"
        },
        "id": "5aNAFn-oNszo",
        "outputId": "3ad4dfac-d574-4dd6-e005-eb000325bb89"
      },
      "source": [
        "df.dtypes"
      ],
      "execution_count": null,
      "outputs": [
        {
          "output_type": "execute_result",
          "data": {
            "text/plain": [
              "vano                            int64\n",
              "mes                             int64\n",
              "hom_doloso                      int64\n",
              "lesao_corp_morte              float64\n",
              "latrocinio                      int64\n",
              "hom_por_interv_policial       float64\n",
              "tentat_hom                      int64\n",
              "lesao_corp_dolosa               int64\n",
              "estupro                       float64\n",
              "hom_culposo                   float64\n",
              "lesao_corp_culposa            float64\n",
              "roubo_comercio                  int64\n",
              "roubo_residencia                int64\n",
              "roubo_veiculo                   int64\n",
              "roubo_carga                     int64\n",
              "roubo_transeunte                int64\n",
              "roubo_em_coletivo               int64\n",
              "roubo_banco                     int64\n",
              "roubo_cx_eletronico           float64\n",
              "roubo_celular                 float64\n",
              "roubo_conducao_saque          float64\n",
              "roubo_apos_saque              float64\n",
              "roubo_bicicleta               float64\n",
              "outros_roubos                   int64\n",
              "total_roubos                    int64\n",
              "furto_veiculos                  int64\n",
              "furto_transeunte                int64\n",
              "furto_coletivo                float64\n",
              "furto_celular                 float64\n",
              "furto_bicicleta               float64\n",
              "outros_furtos                   int64\n",
              "total_furtos                    int64\n",
              "sequestro                     float64\n",
              "extorsao                      float64\n",
              "sequestro_relampago           float64\n",
              "estelionato                   float64\n",
              "apreensao_drogas                int64\n",
              "posse_drogas                  float64\n",
              "trafico_drogas                float64\n",
              "apreensao_drogas_sem_autor    float64\n",
              "recuperacao_veiculos            int64\n",
              "apf                           float64\n",
              "aaapai                        float64\n",
              "cmp                           float64\n",
              "cmba                          float64\n",
              "ameaca                        float64\n",
              "pessoas_desaparecidas         float64\n",
              "encontro_cadaver                int64\n",
              "encontro_ossada               float64\n",
              "pol_militares_mortos_serv     float64\n",
              "pol_civis_mortos_serv         float64\n",
              "indicador_letalidade            int64\n",
              "indicador_roubo_rua             int64\n",
              "indicador_roubo_veic            int64\n",
              "registro_ocorrencias          float64\n",
              "fase                            int64\n",
              "dtype: object"
            ]
          },
          "metadata": {
            "tags": []
          },
          "execution_count": 4
        }
      ]
    },
    {
      "cell_type": "code",
      "metadata": {
        "colab": {
          "base_uri": "https://localhost:8080/",
          "height": 224
        },
        "id": "TqIXKCcaOKU7",
        "outputId": "a36f7127-8276-48c1-e67a-2133f7864a89"
      },
      "source": [
        "df.head()"
      ],
      "execution_count": null,
      "outputs": [
        {
          "output_type": "execute_result",
          "data": {
            "text/html": [
              "<div>\n",
              "<style scoped>\n",
              "    .dataframe tbody tr th:only-of-type {\n",
              "        vertical-align: middle;\n",
              "    }\n",
              "\n",
              "    .dataframe tbody tr th {\n",
              "        vertical-align: top;\n",
              "    }\n",
              "\n",
              "    .dataframe thead th {\n",
              "        text-align: right;\n",
              "    }\n",
              "</style>\n",
              "<table border=\"1\" class=\"dataframe\">\n",
              "  <thead>\n",
              "    <tr style=\"text-align: right;\">\n",
              "      <th></th>\n",
              "      <th>vano</th>\n",
              "      <th>mes</th>\n",
              "      <th>hom_doloso</th>\n",
              "      <th>lesao_corp_morte</th>\n",
              "      <th>latrocinio</th>\n",
              "      <th>hom_por_interv_policial</th>\n",
              "      <th>tentat_hom</th>\n",
              "      <th>lesao_corp_dolosa</th>\n",
              "      <th>estupro</th>\n",
              "      <th>hom_culposo</th>\n",
              "      <th>lesao_corp_culposa</th>\n",
              "      <th>roubo_comercio</th>\n",
              "      <th>roubo_residencia</th>\n",
              "      <th>roubo_veiculo</th>\n",
              "      <th>roubo_carga</th>\n",
              "      <th>roubo_transeunte</th>\n",
              "      <th>roubo_em_coletivo</th>\n",
              "      <th>roubo_banco</th>\n",
              "      <th>roubo_cx_eletronico</th>\n",
              "      <th>roubo_celular</th>\n",
              "      <th>roubo_conducao_saque</th>\n",
              "      <th>roubo_apos_saque</th>\n",
              "      <th>roubo_bicicleta</th>\n",
              "      <th>outros_roubos</th>\n",
              "      <th>total_roubos</th>\n",
              "      <th>furto_veiculos</th>\n",
              "      <th>furto_transeunte</th>\n",
              "      <th>furto_coletivo</th>\n",
              "      <th>furto_celular</th>\n",
              "      <th>furto_bicicleta</th>\n",
              "      <th>outros_furtos</th>\n",
              "      <th>total_furtos</th>\n",
              "      <th>sequestro</th>\n",
              "      <th>extorsao</th>\n",
              "      <th>sequestro_relampago</th>\n",
              "      <th>estelionato</th>\n",
              "      <th>apreensao_drogas</th>\n",
              "      <th>posse_drogas</th>\n",
              "      <th>trafico_drogas</th>\n",
              "      <th>apreensao_drogas_sem_autor</th>\n",
              "      <th>recuperacao_veiculos</th>\n",
              "      <th>apf</th>\n",
              "      <th>aaapai</th>\n",
              "      <th>cmp</th>\n",
              "      <th>cmba</th>\n",
              "      <th>ameaca</th>\n",
              "      <th>pessoas_desaparecidas</th>\n",
              "      <th>encontro_cadaver</th>\n",
              "      <th>encontro_ossada</th>\n",
              "      <th>pol_militares_mortos_serv</th>\n",
              "      <th>pol_civis_mortos_serv</th>\n",
              "      <th>indicador_letalidade</th>\n",
              "      <th>indicador_roubo_rua</th>\n",
              "      <th>indicador_roubo_veic</th>\n",
              "      <th>registro_ocorrencias</th>\n",
              "      <th>fase</th>\n",
              "    </tr>\n",
              "  </thead>\n",
              "  <tbody>\n",
              "    <tr>\n",
              "      <th>0</th>\n",
              "      <td>1991</td>\n",
              "      <td>1</td>\n",
              "      <td>657</td>\n",
              "      <td>NaN</td>\n",
              "      <td>15</td>\n",
              "      <td>NaN</td>\n",
              "      <td>162</td>\n",
              "      <td>3051</td>\n",
              "      <td>NaN</td>\n",
              "      <td>NaN</td>\n",
              "      <td>NaN</td>\n",
              "      <td>350</td>\n",
              "      <td>188</td>\n",
              "      <td>1174</td>\n",
              "      <td>63</td>\n",
              "      <td>967</td>\n",
              "      <td>381</td>\n",
              "      <td>37</td>\n",
              "      <td>NaN</td>\n",
              "      <td>NaN</td>\n",
              "      <td>NaN</td>\n",
              "      <td>NaN</td>\n",
              "      <td>NaN</td>\n",
              "      <td>158</td>\n",
              "      <td>3318</td>\n",
              "      <td>2009</td>\n",
              "      <td>1147</td>\n",
              "      <td>NaN</td>\n",
              "      <td>NaN</td>\n",
              "      <td>NaN</td>\n",
              "      <td>3561</td>\n",
              "      <td>6717</td>\n",
              "      <td>NaN</td>\n",
              "      <td>NaN</td>\n",
              "      <td>NaN</td>\n",
              "      <td>NaN</td>\n",
              "      <td>133</td>\n",
              "      <td>NaN</td>\n",
              "      <td>NaN</td>\n",
              "      <td>NaN</td>\n",
              "      <td>872</td>\n",
              "      <td>NaN</td>\n",
              "      <td>NaN</td>\n",
              "      <td>NaN</td>\n",
              "      <td>NaN</td>\n",
              "      <td>NaN</td>\n",
              "      <td>NaN</td>\n",
              "      <td>217</td>\n",
              "      <td>NaN</td>\n",
              "      <td>NaN</td>\n",
              "      <td>NaN</td>\n",
              "      <td>672</td>\n",
              "      <td>1348</td>\n",
              "      <td>1174</td>\n",
              "      <td>NaN</td>\n",
              "      <td>3</td>\n",
              "    </tr>\n",
              "    <tr>\n",
              "      <th>1</th>\n",
              "      <td>1991</td>\n",
              "      <td>2</td>\n",
              "      <td>732</td>\n",
              "      <td>NaN</td>\n",
              "      <td>17</td>\n",
              "      <td>NaN</td>\n",
              "      <td>175</td>\n",
              "      <td>3421</td>\n",
              "      <td>NaN</td>\n",
              "      <td>NaN</td>\n",
              "      <td>NaN</td>\n",
              "      <td>357</td>\n",
              "      <td>171</td>\n",
              "      <td>1097</td>\n",
              "      <td>64</td>\n",
              "      <td>963</td>\n",
              "      <td>432</td>\n",
              "      <td>35</td>\n",
              "      <td>NaN</td>\n",
              "      <td>NaN</td>\n",
              "      <td>NaN</td>\n",
              "      <td>NaN</td>\n",
              "      <td>NaN</td>\n",
              "      <td>142</td>\n",
              "      <td>3261</td>\n",
              "      <td>1850</td>\n",
              "      <td>1066</td>\n",
              "      <td>NaN</td>\n",
              "      <td>NaN</td>\n",
              "      <td>NaN</td>\n",
              "      <td>3309</td>\n",
              "      <td>6225</td>\n",
              "      <td>NaN</td>\n",
              "      <td>NaN</td>\n",
              "      <td>NaN</td>\n",
              "      <td>NaN</td>\n",
              "      <td>127</td>\n",
              "      <td>NaN</td>\n",
              "      <td>NaN</td>\n",
              "      <td>NaN</td>\n",
              "      <td>751</td>\n",
              "      <td>NaN</td>\n",
              "      <td>NaN</td>\n",
              "      <td>NaN</td>\n",
              "      <td>NaN</td>\n",
              "      <td>NaN</td>\n",
              "      <td>NaN</td>\n",
              "      <td>209</td>\n",
              "      <td>NaN</td>\n",
              "      <td>NaN</td>\n",
              "      <td>NaN</td>\n",
              "      <td>749</td>\n",
              "      <td>1395</td>\n",
              "      <td>1097</td>\n",
              "      <td>NaN</td>\n",
              "      <td>3</td>\n",
              "    </tr>\n",
              "    <tr>\n",
              "      <th>2</th>\n",
              "      <td>1991</td>\n",
              "      <td>3</td>\n",
              "      <td>713</td>\n",
              "      <td>NaN</td>\n",
              "      <td>25</td>\n",
              "      <td>NaN</td>\n",
              "      <td>216</td>\n",
              "      <td>3613</td>\n",
              "      <td>NaN</td>\n",
              "      <td>NaN</td>\n",
              "      <td>NaN</td>\n",
              "      <td>443</td>\n",
              "      <td>191</td>\n",
              "      <td>1265</td>\n",
              "      <td>71</td>\n",
              "      <td>963</td>\n",
              "      <td>422</td>\n",
              "      <td>43</td>\n",
              "      <td>NaN</td>\n",
              "      <td>NaN</td>\n",
              "      <td>NaN</td>\n",
              "      <td>NaN</td>\n",
              "      <td>NaN</td>\n",
              "      <td>131</td>\n",
              "      <td>3529</td>\n",
              "      <td>2084</td>\n",
              "      <td>1062</td>\n",
              "      <td>NaN</td>\n",
              "      <td>NaN</td>\n",
              "      <td>NaN</td>\n",
              "      <td>3573</td>\n",
              "      <td>6719</td>\n",
              "      <td>NaN</td>\n",
              "      <td>NaN</td>\n",
              "      <td>NaN</td>\n",
              "      <td>NaN</td>\n",
              "      <td>80</td>\n",
              "      <td>NaN</td>\n",
              "      <td>NaN</td>\n",
              "      <td>NaN</td>\n",
              "      <td>789</td>\n",
              "      <td>NaN</td>\n",
              "      <td>NaN</td>\n",
              "      <td>NaN</td>\n",
              "      <td>NaN</td>\n",
              "      <td>NaN</td>\n",
              "      <td>NaN</td>\n",
              "      <td>188</td>\n",
              "      <td>NaN</td>\n",
              "      <td>NaN</td>\n",
              "      <td>NaN</td>\n",
              "      <td>738</td>\n",
              "      <td>1385</td>\n",
              "      <td>1265</td>\n",
              "      <td>NaN</td>\n",
              "      <td>3</td>\n",
              "    </tr>\n",
              "    <tr>\n",
              "      <th>3</th>\n",
              "      <td>1991</td>\n",
              "      <td>4</td>\n",
              "      <td>634</td>\n",
              "      <td>NaN</td>\n",
              "      <td>20</td>\n",
              "      <td>NaN</td>\n",
              "      <td>200</td>\n",
              "      <td>3211</td>\n",
              "      <td>NaN</td>\n",
              "      <td>NaN</td>\n",
              "      <td>NaN</td>\n",
              "      <td>425</td>\n",
              "      <td>199</td>\n",
              "      <td>1415</td>\n",
              "      <td>81</td>\n",
              "      <td>1186</td>\n",
              "      <td>354</td>\n",
              "      <td>36</td>\n",
              "      <td>NaN</td>\n",
              "      <td>NaN</td>\n",
              "      <td>NaN</td>\n",
              "      <td>NaN</td>\n",
              "      <td>NaN</td>\n",
              "      <td>112</td>\n",
              "      <td>3808</td>\n",
              "      <td>2085</td>\n",
              "      <td>1195</td>\n",
              "      <td>NaN</td>\n",
              "      <td>NaN</td>\n",
              "      <td>NaN</td>\n",
              "      <td>3290</td>\n",
              "      <td>6570</td>\n",
              "      <td>NaN</td>\n",
              "      <td>NaN</td>\n",
              "      <td>NaN</td>\n",
              "      <td>NaN</td>\n",
              "      <td>133</td>\n",
              "      <td>NaN</td>\n",
              "      <td>NaN</td>\n",
              "      <td>NaN</td>\n",
              "      <td>787</td>\n",
              "      <td>NaN</td>\n",
              "      <td>NaN</td>\n",
              "      <td>NaN</td>\n",
              "      <td>NaN</td>\n",
              "      <td>NaN</td>\n",
              "      <td>NaN</td>\n",
              "      <td>140</td>\n",
              "      <td>NaN</td>\n",
              "      <td>NaN</td>\n",
              "      <td>NaN</td>\n",
              "      <td>654</td>\n",
              "      <td>1540</td>\n",
              "      <td>1415</td>\n",
              "      <td>NaN</td>\n",
              "      <td>3</td>\n",
              "    </tr>\n",
              "    <tr>\n",
              "      <th>4</th>\n",
              "      <td>1991</td>\n",
              "      <td>5</td>\n",
              "      <td>650</td>\n",
              "      <td>NaN</td>\n",
              "      <td>20</td>\n",
              "      <td>NaN</td>\n",
              "      <td>146</td>\n",
              "      <td>3051</td>\n",
              "      <td>NaN</td>\n",
              "      <td>NaN</td>\n",
              "      <td>NaN</td>\n",
              "      <td>553</td>\n",
              "      <td>231</td>\n",
              "      <td>1449</td>\n",
              "      <td>82</td>\n",
              "      <td>931</td>\n",
              "      <td>335</td>\n",
              "      <td>27</td>\n",
              "      <td>NaN</td>\n",
              "      <td>NaN</td>\n",
              "      <td>NaN</td>\n",
              "      <td>NaN</td>\n",
              "      <td>NaN</td>\n",
              "      <td>147</td>\n",
              "      <td>3755</td>\n",
              "      <td>2185</td>\n",
              "      <td>723</td>\n",
              "      <td>NaN</td>\n",
              "      <td>NaN</td>\n",
              "      <td>NaN</td>\n",
              "      <td>3546</td>\n",
              "      <td>6454</td>\n",
              "      <td>NaN</td>\n",
              "      <td>NaN</td>\n",
              "      <td>NaN</td>\n",
              "      <td>NaN</td>\n",
              "      <td>163</td>\n",
              "      <td>NaN</td>\n",
              "      <td>NaN</td>\n",
              "      <td>NaN</td>\n",
              "      <td>845</td>\n",
              "      <td>NaN</td>\n",
              "      <td>NaN</td>\n",
              "      <td>NaN</td>\n",
              "      <td>NaN</td>\n",
              "      <td>NaN</td>\n",
              "      <td>NaN</td>\n",
              "      <td>78</td>\n",
              "      <td>NaN</td>\n",
              "      <td>NaN</td>\n",
              "      <td>NaN</td>\n",
              "      <td>670</td>\n",
              "      <td>1266</td>\n",
              "      <td>1449</td>\n",
              "      <td>NaN</td>\n",
              "      <td>3</td>\n",
              "    </tr>\n",
              "  </tbody>\n",
              "</table>\n",
              "</div>"
            ],
            "text/plain": [
              "   vano  mes  hom_doloso  ...  indicador_roubo_veic  registro_ocorrencias  fase\n",
              "0  1991    1         657  ...                  1174                   NaN     3\n",
              "1  1991    2         732  ...                  1097                   NaN     3\n",
              "2  1991    3         713  ...                  1265                   NaN     3\n",
              "3  1991    4         634  ...                  1415                   NaN     3\n",
              "4  1991    5         650  ...                  1449                   NaN     3\n",
              "\n",
              "[5 rows x 56 columns]"
            ]
          },
          "metadata": {
            "tags": []
          },
          "execution_count": 5
        }
      ]
    },
    {
      "cell_type": "code",
      "metadata": {
        "id": "ngh8mKCoA4sm",
        "colab": {
          "base_uri": "https://localhost:8080/"
        },
        "outputId": "e64d55f2-4601-4ebc-bcc1-c82011400187"
      },
      "source": [
        "#Criar a coluna date na primeiram posição (lembrando que começa com 0), com o ano e mês \r\n",
        "df.insert(0,'date',df['mes'].astype(str) + '/' + df['vano'].astype(str))\r\n",
        "#df['date'] = df['mes'].astype(str) + '/' + df['vano'].astype(str)\r\n",
        "\r\n",
        "#Converter a variável date para datetime e a formatação Mês/Ano\r\n",
        "df['date'] = pd.to_datetime(df['date'], format = '%m/%Y')\r\n",
        "df['date'].head()"
      ],
      "execution_count": null,
      "outputs": [
        {
          "output_type": "execute_result",
          "data": {
            "text/plain": [
              "0   1991-01-01\n",
              "1   1991-02-01\n",
              "2   1991-03-01\n",
              "3   1991-04-01\n",
              "4   1991-05-01\n",
              "Name: date, dtype: datetime64[ns]"
            ]
          },
          "metadata": {
            "tags": []
          },
          "execution_count": 6
        }
      ]
    },
    {
      "cell_type": "code",
      "metadata": {
        "id": "vVw4KDE9HUSV"
      },
      "source": [
        "df['total_roubos_furtos_veiculos'] = df['furto_veiculos'] + df['roubo_veiculo']\r\n"
      ],
      "execution_count": null,
      "outputs": []
    },
    {
      "cell_type": "code",
      "metadata": {
        "colab": {
          "base_uri": "https://localhost:8080/"
        },
        "id": "PuKXYvhIHRRP",
        "outputId": "424798cd-b500-4148-a94e-773f86aa3a42"
      },
      "source": [
        "print(df.dtypes)"
      ],
      "execution_count": null,
      "outputs": [
        {
          "output_type": "stream",
          "text": [
            "date                            datetime64[ns]\n",
            "vano                                     int64\n",
            "mes                                      int64\n",
            "hom_doloso                               int64\n",
            "lesao_corp_morte                       float64\n",
            "latrocinio                               int64\n",
            "hom_por_interv_policial                float64\n",
            "tentat_hom                               int64\n",
            "lesao_corp_dolosa                        int64\n",
            "estupro                                float64\n",
            "hom_culposo                            float64\n",
            "lesao_corp_culposa                     float64\n",
            "roubo_comercio                           int64\n",
            "roubo_residencia                         int64\n",
            "roubo_veiculo                            int64\n",
            "roubo_carga                              int64\n",
            "roubo_transeunte                         int64\n",
            "roubo_em_coletivo                        int64\n",
            "roubo_banco                              int64\n",
            "roubo_cx_eletronico                    float64\n",
            "roubo_celular                          float64\n",
            "roubo_conducao_saque                   float64\n",
            "roubo_apos_saque                       float64\n",
            "roubo_bicicleta                        float64\n",
            "outros_roubos                            int64\n",
            "total_roubos                             int64\n",
            "furto_veiculos                           int64\n",
            "furto_transeunte                         int64\n",
            "furto_coletivo                         float64\n",
            "furto_celular                          float64\n",
            "furto_bicicleta                        float64\n",
            "outros_furtos                            int64\n",
            "total_furtos                             int64\n",
            "sequestro                              float64\n",
            "extorsao                               float64\n",
            "sequestro_relampago                    float64\n",
            "estelionato                            float64\n",
            "apreensao_drogas                         int64\n",
            "posse_drogas                           float64\n",
            "trafico_drogas                         float64\n",
            "apreensao_drogas_sem_autor             float64\n",
            "recuperacao_veiculos                     int64\n",
            "apf                                    float64\n",
            "aaapai                                 float64\n",
            "cmp                                    float64\n",
            "cmba                                   float64\n",
            "ameaca                                 float64\n",
            "pessoas_desaparecidas                  float64\n",
            "encontro_cadaver                         int64\n",
            "encontro_ossada                        float64\n",
            "pol_militares_mortos_serv              float64\n",
            "pol_civis_mortos_serv                  float64\n",
            "indicador_letalidade                     int64\n",
            "indicador_roubo_rua                      int64\n",
            "indicador_roubo_veic                     int64\n",
            "registro_ocorrencias                   float64\n",
            "fase                                     int64\n",
            "total_roubos_furtos_veiculos             int64\n",
            "dtype: object\n"
          ],
          "name": "stdout"
        }
      ]
    },
    {
      "cell_type": "code",
      "metadata": {
        "colab": {
          "base_uri": "https://localhost:8080/",
          "height": 309
        },
        "id": "inIp2mK-CD1m",
        "outputId": "f85326f8-b1c9-452b-b6be-46df5472239f"
      },
      "source": [
        "df.head()"
      ],
      "execution_count": null,
      "outputs": [
        {
          "output_type": "execute_result",
          "data": {
            "text/html": [
              "<div>\n",
              "<style scoped>\n",
              "    .dataframe tbody tr th:only-of-type {\n",
              "        vertical-align: middle;\n",
              "    }\n",
              "\n",
              "    .dataframe tbody tr th {\n",
              "        vertical-align: top;\n",
              "    }\n",
              "\n",
              "    .dataframe thead th {\n",
              "        text-align: right;\n",
              "    }\n",
              "</style>\n",
              "<table border=\"1\" class=\"dataframe\">\n",
              "  <thead>\n",
              "    <tr style=\"text-align: right;\">\n",
              "      <th></th>\n",
              "      <th>date</th>\n",
              "      <th>vano</th>\n",
              "      <th>mes</th>\n",
              "      <th>hom_doloso</th>\n",
              "      <th>lesao_corp_morte</th>\n",
              "      <th>latrocinio</th>\n",
              "      <th>hom_por_interv_policial</th>\n",
              "      <th>tentat_hom</th>\n",
              "      <th>lesao_corp_dolosa</th>\n",
              "      <th>estupro</th>\n",
              "      <th>hom_culposo</th>\n",
              "      <th>lesao_corp_culposa</th>\n",
              "      <th>roubo_comercio</th>\n",
              "      <th>roubo_residencia</th>\n",
              "      <th>roubo_veiculo</th>\n",
              "      <th>roubo_carga</th>\n",
              "      <th>roubo_transeunte</th>\n",
              "      <th>roubo_em_coletivo</th>\n",
              "      <th>roubo_banco</th>\n",
              "      <th>roubo_cx_eletronico</th>\n",
              "      <th>roubo_celular</th>\n",
              "      <th>roubo_conducao_saque</th>\n",
              "      <th>roubo_apos_saque</th>\n",
              "      <th>roubo_bicicleta</th>\n",
              "      <th>outros_roubos</th>\n",
              "      <th>total_roubos</th>\n",
              "      <th>furto_veiculos</th>\n",
              "      <th>furto_transeunte</th>\n",
              "      <th>furto_coletivo</th>\n",
              "      <th>furto_celular</th>\n",
              "      <th>furto_bicicleta</th>\n",
              "      <th>outros_furtos</th>\n",
              "      <th>total_furtos</th>\n",
              "      <th>sequestro</th>\n",
              "      <th>extorsao</th>\n",
              "      <th>sequestro_relampago</th>\n",
              "      <th>estelionato</th>\n",
              "      <th>apreensao_drogas</th>\n",
              "      <th>posse_drogas</th>\n",
              "      <th>trafico_drogas</th>\n",
              "      <th>apreensao_drogas_sem_autor</th>\n",
              "      <th>recuperacao_veiculos</th>\n",
              "      <th>apf</th>\n",
              "      <th>aaapai</th>\n",
              "      <th>cmp</th>\n",
              "      <th>cmba</th>\n",
              "      <th>ameaca</th>\n",
              "      <th>pessoas_desaparecidas</th>\n",
              "      <th>encontro_cadaver</th>\n",
              "      <th>encontro_ossada</th>\n",
              "      <th>pol_militares_mortos_serv</th>\n",
              "      <th>pol_civis_mortos_serv</th>\n",
              "      <th>indicador_letalidade</th>\n",
              "      <th>indicador_roubo_rua</th>\n",
              "      <th>indicador_roubo_veic</th>\n",
              "      <th>registro_ocorrencias</th>\n",
              "      <th>fase</th>\n",
              "      <th>total_roubos_furtos_veiculos</th>\n",
              "    </tr>\n",
              "  </thead>\n",
              "  <tbody>\n",
              "    <tr>\n",
              "      <th>0</th>\n",
              "      <td>1991-01-01</td>\n",
              "      <td>1991</td>\n",
              "      <td>1</td>\n",
              "      <td>657</td>\n",
              "      <td>NaN</td>\n",
              "      <td>15</td>\n",
              "      <td>NaN</td>\n",
              "      <td>162</td>\n",
              "      <td>3051</td>\n",
              "      <td>NaN</td>\n",
              "      <td>NaN</td>\n",
              "      <td>NaN</td>\n",
              "      <td>350</td>\n",
              "      <td>188</td>\n",
              "      <td>1174</td>\n",
              "      <td>63</td>\n",
              "      <td>967</td>\n",
              "      <td>381</td>\n",
              "      <td>37</td>\n",
              "      <td>NaN</td>\n",
              "      <td>NaN</td>\n",
              "      <td>NaN</td>\n",
              "      <td>NaN</td>\n",
              "      <td>NaN</td>\n",
              "      <td>158</td>\n",
              "      <td>3318</td>\n",
              "      <td>2009</td>\n",
              "      <td>1147</td>\n",
              "      <td>NaN</td>\n",
              "      <td>NaN</td>\n",
              "      <td>NaN</td>\n",
              "      <td>3561</td>\n",
              "      <td>6717</td>\n",
              "      <td>NaN</td>\n",
              "      <td>NaN</td>\n",
              "      <td>NaN</td>\n",
              "      <td>NaN</td>\n",
              "      <td>133</td>\n",
              "      <td>NaN</td>\n",
              "      <td>NaN</td>\n",
              "      <td>NaN</td>\n",
              "      <td>872</td>\n",
              "      <td>NaN</td>\n",
              "      <td>NaN</td>\n",
              "      <td>NaN</td>\n",
              "      <td>NaN</td>\n",
              "      <td>NaN</td>\n",
              "      <td>NaN</td>\n",
              "      <td>217</td>\n",
              "      <td>NaN</td>\n",
              "      <td>NaN</td>\n",
              "      <td>NaN</td>\n",
              "      <td>672</td>\n",
              "      <td>1348</td>\n",
              "      <td>1174</td>\n",
              "      <td>NaN</td>\n",
              "      <td>3</td>\n",
              "      <td>3183</td>\n",
              "    </tr>\n",
              "    <tr>\n",
              "      <th>1</th>\n",
              "      <td>1991-02-01</td>\n",
              "      <td>1991</td>\n",
              "      <td>2</td>\n",
              "      <td>732</td>\n",
              "      <td>NaN</td>\n",
              "      <td>17</td>\n",
              "      <td>NaN</td>\n",
              "      <td>175</td>\n",
              "      <td>3421</td>\n",
              "      <td>NaN</td>\n",
              "      <td>NaN</td>\n",
              "      <td>NaN</td>\n",
              "      <td>357</td>\n",
              "      <td>171</td>\n",
              "      <td>1097</td>\n",
              "      <td>64</td>\n",
              "      <td>963</td>\n",
              "      <td>432</td>\n",
              "      <td>35</td>\n",
              "      <td>NaN</td>\n",
              "      <td>NaN</td>\n",
              "      <td>NaN</td>\n",
              "      <td>NaN</td>\n",
              "      <td>NaN</td>\n",
              "      <td>142</td>\n",
              "      <td>3261</td>\n",
              "      <td>1850</td>\n",
              "      <td>1066</td>\n",
              "      <td>NaN</td>\n",
              "      <td>NaN</td>\n",
              "      <td>NaN</td>\n",
              "      <td>3309</td>\n",
              "      <td>6225</td>\n",
              "      <td>NaN</td>\n",
              "      <td>NaN</td>\n",
              "      <td>NaN</td>\n",
              "      <td>NaN</td>\n",
              "      <td>127</td>\n",
              "      <td>NaN</td>\n",
              "      <td>NaN</td>\n",
              "      <td>NaN</td>\n",
              "      <td>751</td>\n",
              "      <td>NaN</td>\n",
              "      <td>NaN</td>\n",
              "      <td>NaN</td>\n",
              "      <td>NaN</td>\n",
              "      <td>NaN</td>\n",
              "      <td>NaN</td>\n",
              "      <td>209</td>\n",
              "      <td>NaN</td>\n",
              "      <td>NaN</td>\n",
              "      <td>NaN</td>\n",
              "      <td>749</td>\n",
              "      <td>1395</td>\n",
              "      <td>1097</td>\n",
              "      <td>NaN</td>\n",
              "      <td>3</td>\n",
              "      <td>2947</td>\n",
              "    </tr>\n",
              "    <tr>\n",
              "      <th>2</th>\n",
              "      <td>1991-03-01</td>\n",
              "      <td>1991</td>\n",
              "      <td>3</td>\n",
              "      <td>713</td>\n",
              "      <td>NaN</td>\n",
              "      <td>25</td>\n",
              "      <td>NaN</td>\n",
              "      <td>216</td>\n",
              "      <td>3613</td>\n",
              "      <td>NaN</td>\n",
              "      <td>NaN</td>\n",
              "      <td>NaN</td>\n",
              "      <td>443</td>\n",
              "      <td>191</td>\n",
              "      <td>1265</td>\n",
              "      <td>71</td>\n",
              "      <td>963</td>\n",
              "      <td>422</td>\n",
              "      <td>43</td>\n",
              "      <td>NaN</td>\n",
              "      <td>NaN</td>\n",
              "      <td>NaN</td>\n",
              "      <td>NaN</td>\n",
              "      <td>NaN</td>\n",
              "      <td>131</td>\n",
              "      <td>3529</td>\n",
              "      <td>2084</td>\n",
              "      <td>1062</td>\n",
              "      <td>NaN</td>\n",
              "      <td>NaN</td>\n",
              "      <td>NaN</td>\n",
              "      <td>3573</td>\n",
              "      <td>6719</td>\n",
              "      <td>NaN</td>\n",
              "      <td>NaN</td>\n",
              "      <td>NaN</td>\n",
              "      <td>NaN</td>\n",
              "      <td>80</td>\n",
              "      <td>NaN</td>\n",
              "      <td>NaN</td>\n",
              "      <td>NaN</td>\n",
              "      <td>789</td>\n",
              "      <td>NaN</td>\n",
              "      <td>NaN</td>\n",
              "      <td>NaN</td>\n",
              "      <td>NaN</td>\n",
              "      <td>NaN</td>\n",
              "      <td>NaN</td>\n",
              "      <td>188</td>\n",
              "      <td>NaN</td>\n",
              "      <td>NaN</td>\n",
              "      <td>NaN</td>\n",
              "      <td>738</td>\n",
              "      <td>1385</td>\n",
              "      <td>1265</td>\n",
              "      <td>NaN</td>\n",
              "      <td>3</td>\n",
              "      <td>3349</td>\n",
              "    </tr>\n",
              "    <tr>\n",
              "      <th>3</th>\n",
              "      <td>1991-04-01</td>\n",
              "      <td>1991</td>\n",
              "      <td>4</td>\n",
              "      <td>634</td>\n",
              "      <td>NaN</td>\n",
              "      <td>20</td>\n",
              "      <td>NaN</td>\n",
              "      <td>200</td>\n",
              "      <td>3211</td>\n",
              "      <td>NaN</td>\n",
              "      <td>NaN</td>\n",
              "      <td>NaN</td>\n",
              "      <td>425</td>\n",
              "      <td>199</td>\n",
              "      <td>1415</td>\n",
              "      <td>81</td>\n",
              "      <td>1186</td>\n",
              "      <td>354</td>\n",
              "      <td>36</td>\n",
              "      <td>NaN</td>\n",
              "      <td>NaN</td>\n",
              "      <td>NaN</td>\n",
              "      <td>NaN</td>\n",
              "      <td>NaN</td>\n",
              "      <td>112</td>\n",
              "      <td>3808</td>\n",
              "      <td>2085</td>\n",
              "      <td>1195</td>\n",
              "      <td>NaN</td>\n",
              "      <td>NaN</td>\n",
              "      <td>NaN</td>\n",
              "      <td>3290</td>\n",
              "      <td>6570</td>\n",
              "      <td>NaN</td>\n",
              "      <td>NaN</td>\n",
              "      <td>NaN</td>\n",
              "      <td>NaN</td>\n",
              "      <td>133</td>\n",
              "      <td>NaN</td>\n",
              "      <td>NaN</td>\n",
              "      <td>NaN</td>\n",
              "      <td>787</td>\n",
              "      <td>NaN</td>\n",
              "      <td>NaN</td>\n",
              "      <td>NaN</td>\n",
              "      <td>NaN</td>\n",
              "      <td>NaN</td>\n",
              "      <td>NaN</td>\n",
              "      <td>140</td>\n",
              "      <td>NaN</td>\n",
              "      <td>NaN</td>\n",
              "      <td>NaN</td>\n",
              "      <td>654</td>\n",
              "      <td>1540</td>\n",
              "      <td>1415</td>\n",
              "      <td>NaN</td>\n",
              "      <td>3</td>\n",
              "      <td>3500</td>\n",
              "    </tr>\n",
              "    <tr>\n",
              "      <th>4</th>\n",
              "      <td>1991-05-01</td>\n",
              "      <td>1991</td>\n",
              "      <td>5</td>\n",
              "      <td>650</td>\n",
              "      <td>NaN</td>\n",
              "      <td>20</td>\n",
              "      <td>NaN</td>\n",
              "      <td>146</td>\n",
              "      <td>3051</td>\n",
              "      <td>NaN</td>\n",
              "      <td>NaN</td>\n",
              "      <td>NaN</td>\n",
              "      <td>553</td>\n",
              "      <td>231</td>\n",
              "      <td>1449</td>\n",
              "      <td>82</td>\n",
              "      <td>931</td>\n",
              "      <td>335</td>\n",
              "      <td>27</td>\n",
              "      <td>NaN</td>\n",
              "      <td>NaN</td>\n",
              "      <td>NaN</td>\n",
              "      <td>NaN</td>\n",
              "      <td>NaN</td>\n",
              "      <td>147</td>\n",
              "      <td>3755</td>\n",
              "      <td>2185</td>\n",
              "      <td>723</td>\n",
              "      <td>NaN</td>\n",
              "      <td>NaN</td>\n",
              "      <td>NaN</td>\n",
              "      <td>3546</td>\n",
              "      <td>6454</td>\n",
              "      <td>NaN</td>\n",
              "      <td>NaN</td>\n",
              "      <td>NaN</td>\n",
              "      <td>NaN</td>\n",
              "      <td>163</td>\n",
              "      <td>NaN</td>\n",
              "      <td>NaN</td>\n",
              "      <td>NaN</td>\n",
              "      <td>845</td>\n",
              "      <td>NaN</td>\n",
              "      <td>NaN</td>\n",
              "      <td>NaN</td>\n",
              "      <td>NaN</td>\n",
              "      <td>NaN</td>\n",
              "      <td>NaN</td>\n",
              "      <td>78</td>\n",
              "      <td>NaN</td>\n",
              "      <td>NaN</td>\n",
              "      <td>NaN</td>\n",
              "      <td>670</td>\n",
              "      <td>1266</td>\n",
              "      <td>1449</td>\n",
              "      <td>NaN</td>\n",
              "      <td>3</td>\n",
              "      <td>3634</td>\n",
              "    </tr>\n",
              "  </tbody>\n",
              "</table>\n",
              "</div>"
            ],
            "text/plain": [
              "        date  vano  ...  fase  total_roubos_furtos_veiculos\n",
              "0 1991-01-01  1991  ...     3                          3183\n",
              "1 1991-02-01  1991  ...     3                          2947\n",
              "2 1991-03-01  1991  ...     3                          3349\n",
              "3 1991-04-01  1991  ...     3                          3500\n",
              "4 1991-05-01  1991  ...     3                          3634\n",
              "\n",
              "[5 rows x 58 columns]"
            ]
          },
          "metadata": {
            "tags": []
          },
          "execution_count": 9
        }
      ]
    },
    {
      "cell_type": "code",
      "metadata": {
        "colab": {
          "base_uri": "https://localhost:8080/"
        },
        "id": "rRJOQJPpOQ-3",
        "outputId": "ee6c92a9-2588-4de3-80b0-125af8625357"
      },
      "source": [
        "# ordenar em ordem decrescente as variáveis por seus valores ausentes\r\n",
        "(df.isnull().sum() / df.shape[0]).sort_values(ascending = False)"
      ],
      "execution_count": null,
      "outputs": [
        {
          "output_type": "execute_result",
          "data": {
            "text/plain": [
              "furto_bicicleta                 0.802326\n",
              "roubo_bicicleta                 0.802326\n",
              "aaapai                          0.523256\n",
              "posse_drogas                    0.523256\n",
              "trafico_drogas                  0.523256\n",
              "apreensao_drogas_sem_autor      0.523256\n",
              "apf                             0.523256\n",
              "cmba                            0.523256\n",
              "cmp                             0.523256\n",
              "estupro                         0.418605\n",
              "extorsao                        0.418605\n",
              "sequestro_relampago             0.418605\n",
              "estelionato                     0.418605\n",
              "roubo_apos_saque                0.418605\n",
              "furto_coletivo                  0.418605\n",
              "pol_militares_mortos_serv       0.418605\n",
              "pol_civis_mortos_serv           0.418605\n",
              "roubo_conducao_saque            0.418605\n",
              "roubo_cx_eletronico             0.418605\n",
              "furto_celular                   0.418605\n",
              "pessoas_desaparecidas           0.383721\n",
              "encontro_ossada                 0.383721\n",
              "roubo_celular                   0.313953\n",
              "ameaca                          0.279070\n",
              "lesao_corp_morte                0.279070\n",
              "sequestro                       0.279070\n",
              "lesao_corp_culposa              0.279070\n",
              "registro_ocorrencias            0.279070\n",
              "hom_culposo                     0.244186\n",
              "hom_por_interv_policial         0.244186\n",
              "lesao_corp_dolosa               0.000000\n",
              "tentat_hom                      0.000000\n",
              "roubo_comercio                  0.000000\n",
              "roubo_residencia                0.000000\n",
              "roubo_transeunte                0.000000\n",
              "latrocinio                      0.000000\n",
              "hom_doloso                      0.000000\n",
              "mes                             0.000000\n",
              "vano                            0.000000\n",
              "roubo_veiculo                   0.000000\n",
              "roubo_carga                     0.000000\n",
              "total_roubos_furtos_veiculos    0.000000\n",
              "roubo_em_coletivo               0.000000\n",
              "roubo_banco                     0.000000\n",
              "outros_roubos                   0.000000\n",
              "total_roubos                    0.000000\n",
              "furto_veiculos                  0.000000\n",
              "furto_transeunte                0.000000\n",
              "fase                            0.000000\n",
              "outros_furtos                   0.000000\n",
              "total_furtos                    0.000000\n",
              "apreensao_drogas                0.000000\n",
              "recuperacao_veiculos            0.000000\n",
              "encontro_cadaver                0.000000\n",
              "indicador_letalidade            0.000000\n",
              "indicador_roubo_rua             0.000000\n",
              "indicador_roubo_veic            0.000000\n",
              "date                            0.000000\n",
              "dtype: float64"
            ]
          },
          "metadata": {
            "tags": []
          },
          "execution_count": 10
        }
      ]
    },
    {
      "cell_type": "markdown",
      "metadata": {
        "id": "VZfgDU1-EDXw"
      },
      "source": [
        "Conforme acima, as variáveis `roubo_bicicleta` e `furto_bicicleta` compõe 80% de valores ausentes. Não é recomendável excluir todas os valores,  então vamos verificar o valor da mediana de uma das variáveis, `furto_bicicleta`.\r\n",
        "\r\n",
        "\r\n",
        "\r\n"
      ]
    },
    {
      "cell_type": "code",
      "metadata": {
        "colab": {
          "base_uri": "https://localhost:8080/"
        },
        "id": "FozU_lVxMH2q",
        "outputId": "ed99afe9-0dc0-423e-f7a2-c81b1c0a649d"
      },
      "source": [
        "#verificar o shape antes\r\n",
        "shape_antes = df.shape\r\n",
        "print(\"Antes:\\t\", shape_antes)\r\n",
        "\r\n",
        "#Criar uma cópia do dataframe\r\n",
        "df_clear = df.copy()\r\n",
        "df_clear.dropna(subset = ['furto_bicicleta'], inplace = True)\r\n",
        "\r\n",
        "#Verificar o shape depois\r\n",
        "\r\n",
        "shape_depois = df_clear.shape\r\n",
        "print(\"Depois:\\t\", shape_depois)"
      ],
      "execution_count": null,
      "outputs": [
        {
          "output_type": "stream",
          "text": [
            "Antes:\t (344, 58)\n",
            "Depois:\t (68, 58)\n"
          ],
          "name": "stdout"
        }
      ]
    },
    {
      "cell_type": "markdown",
      "metadata": {
        "id": "9fY2UxPtVDyX"
      },
      "source": [
        "Como exemplo da variável `furto_bicicleta`, se excluir, diminui consideravelmente as entradas, assim a melhor forma é de calcular o valor da mediana e substituir os valores que estão vazios:"
      ]
    },
    {
      "cell_type": "code",
      "metadata": {
        "colab": {
          "base_uri": "https://localhost:8080/"
        },
        "id": "3eLXgkEhEgDK",
        "outputId": "e6fd05ed-2d61-4fb6-f87e-63a08a5f49c3"
      },
      "source": [
        "furto_bicicleta_mediana = df.furto_bicicleta.median()\r\n",
        "print(furto_bicicleta_mediana)"
      ],
      "execution_count": null,
      "outputs": [
        {
          "output_type": "stream",
          "text": [
            "158.0\n"
          ],
          "name": "stdout"
        }
      ]
    },
    {
      "cell_type": "code",
      "metadata": {
        "colab": {
          "base_uri": "https://localhost:8080/"
        },
        "id": "jkCrwlogGJFG",
        "outputId": "f27d5f51-e3e3-4d3d-f505-62329364d710"
      },
      "source": [
        "df.fillna(furto_bicicleta_mediana, inplace = True)\r\n",
        "df.furto_bicicleta.isnull().sum()"
      ],
      "execution_count": null,
      "outputs": [
        {
          "output_type": "execute_result",
          "data": {
            "text/plain": [
              "0"
            ]
          },
          "metadata": {
            "tags": []
          },
          "execution_count": 13
        }
      ]
    },
    {
      "cell_type": "markdown",
      "metadata": {
        "id": "0GKEtWudKXfg"
      },
      "source": [
        "Agora vamos fazer a mesma coisa para a variável `roubo_bicicleta`."
      ]
    },
    {
      "cell_type": "code",
      "metadata": {
        "colab": {
          "base_uri": "https://localhost:8080/"
        },
        "id": "5qn4ZNgHKRG7",
        "outputId": "dddb15a1-a7ac-4ff5-f2b5-500216fcbf6d"
      },
      "source": [
        "roubo_bicicleta_mediana = df.roubo_bicicleta.median()\r\n",
        "print(roubo_bicicleta_mediana)"
      ],
      "execution_count": null,
      "outputs": [
        {
          "output_type": "stream",
          "text": [
            "158.0\n"
          ],
          "name": "stdout"
        }
      ]
    },
    {
      "cell_type": "code",
      "metadata": {
        "colab": {
          "base_uri": "https://localhost:8080/"
        },
        "id": "yoYFWa98KJtL",
        "outputId": "1caa584a-0c29-4f49-d1da-b0b24629936b"
      },
      "source": [
        "df.fillna(roubo_bicicleta_mediana, inplace = True)\r\n",
        "df.roubo_bicicleta.isnull().sum()"
      ],
      "execution_count": null,
      "outputs": [
        {
          "output_type": "execute_result",
          "data": {
            "text/plain": [
              "0"
            ]
          },
          "metadata": {
            "tags": []
          },
          "execution_count": 15
        }
      ]
    },
    {
      "cell_type": "markdown",
      "metadata": {
        "id": "G6dnsNYm-41g"
      },
      "source": [
        "## Informações Estatísticas da Violência no Rio de Janeiro\n",
        "\n",
        "Após a análise do dataset e adicionar novas variáveis, o próximo passo é explorar análises estatísticas da violência da cidade.\n"
      ]
    },
    {
      "cell_type": "markdown",
      "metadata": {
        "id": "xvdfrJWivASv"
      },
      "source": [
        "Para análise de dados estatísticos, como temos muitos valores ausentes, isso se deve por alguns crimes serem registrados na última, para isso, será analisado somente a última decada, à partir do ano de 2009."
      ]
    },
    {
      "cell_type": "code",
      "metadata": {
        "id": "S04RmSkyh89f"
      },
      "source": [
        "df_ultima_decada = df.query('date >\"2009-01-01\"')"
      ],
      "execution_count": null,
      "outputs": []
    },
    {
      "cell_type": "code",
      "metadata": {
        "colab": {
          "base_uri": "https://localhost:8080/"
        },
        "id": "Q5DAMo6hWlZx",
        "outputId": "7312a5dd-10f0-470b-e7e1-b4e856bd7823"
      },
      "source": [
        "df_ultima_decada.head()"
      ],
      "execution_count": null,
      "outputs": [
        {
          "output_type": "execute_result",
          "data": {
            "text/html": [
              "<div>\n",
              "<style scoped>\n",
              "    .dataframe tbody tr th:only-of-type {\n",
              "        vertical-align: middle;\n",
              "    }\n",
              "\n",
              "    .dataframe tbody tr th {\n",
              "        vertical-align: top;\n",
              "    }\n",
              "\n",
              "    .dataframe thead th {\n",
              "        text-align: right;\n",
              "    }\n",
              "</style>\n",
              "<table border=\"1\" class=\"dataframe\">\n",
              "  <thead>\n",
              "    <tr style=\"text-align: right;\">\n",
              "      <th></th>\n",
              "      <th>date</th>\n",
              "      <th>vano</th>\n",
              "      <th>mes</th>\n",
              "      <th>hom_doloso</th>\n",
              "      <th>lesao_corp_morte</th>\n",
              "      <th>latrocinio</th>\n",
              "      <th>hom_por_interv_policial</th>\n",
              "      <th>tentat_hom</th>\n",
              "      <th>lesao_corp_dolosa</th>\n",
              "      <th>estupro</th>\n",
              "      <th>hom_culposo</th>\n",
              "      <th>lesao_corp_culposa</th>\n",
              "      <th>roubo_comercio</th>\n",
              "      <th>roubo_residencia</th>\n",
              "      <th>roubo_veiculo</th>\n",
              "      <th>roubo_carga</th>\n",
              "      <th>roubo_transeunte</th>\n",
              "      <th>roubo_em_coletivo</th>\n",
              "      <th>roubo_banco</th>\n",
              "      <th>roubo_cx_eletronico</th>\n",
              "      <th>roubo_celular</th>\n",
              "      <th>roubo_conducao_saque</th>\n",
              "      <th>roubo_apos_saque</th>\n",
              "      <th>roubo_bicicleta</th>\n",
              "      <th>outros_roubos</th>\n",
              "      <th>total_roubos</th>\n",
              "      <th>furto_veiculos</th>\n",
              "      <th>furto_transeunte</th>\n",
              "      <th>furto_coletivo</th>\n",
              "      <th>furto_celular</th>\n",
              "      <th>furto_bicicleta</th>\n",
              "      <th>outros_furtos</th>\n",
              "      <th>total_furtos</th>\n",
              "      <th>sequestro</th>\n",
              "      <th>extorsao</th>\n",
              "      <th>sequestro_relampago</th>\n",
              "      <th>estelionato</th>\n",
              "      <th>apreensao_drogas</th>\n",
              "      <th>posse_drogas</th>\n",
              "      <th>trafico_drogas</th>\n",
              "      <th>apreensao_drogas_sem_autor</th>\n",
              "      <th>recuperacao_veiculos</th>\n",
              "      <th>apf</th>\n",
              "      <th>aaapai</th>\n",
              "      <th>cmp</th>\n",
              "      <th>cmba</th>\n",
              "      <th>ameaca</th>\n",
              "      <th>pessoas_desaparecidas</th>\n",
              "      <th>encontro_cadaver</th>\n",
              "      <th>encontro_ossada</th>\n",
              "      <th>pol_militares_mortos_serv</th>\n",
              "      <th>pol_civis_mortos_serv</th>\n",
              "      <th>indicador_letalidade</th>\n",
              "      <th>indicador_roubo_rua</th>\n",
              "      <th>indicador_roubo_veic</th>\n",
              "      <th>registro_ocorrencias</th>\n",
              "      <th>fase</th>\n",
              "      <th>total_roubos_furtos_veiculos</th>\n",
              "    </tr>\n",
              "  </thead>\n",
              "  <tbody>\n",
              "    <tr>\n",
              "      <th>217</th>\n",
              "      <td>2009-02-01</td>\n",
              "      <td>2009</td>\n",
              "      <td>2</td>\n",
              "      <td>556</td>\n",
              "      <td>4.0</td>\n",
              "      <td>19</td>\n",
              "      <td>75.0</td>\n",
              "      <td>383</td>\n",
              "      <td>6595</td>\n",
              "      <td>322.0</td>\n",
              "      <td>204.0</td>\n",
              "      <td>3230.0</td>\n",
              "      <td>381</td>\n",
              "      <td>136</td>\n",
              "      <td>2367</td>\n",
              "      <td>188</td>\n",
              "      <td>6279</td>\n",
              "      <td>788</td>\n",
              "      <td>3</td>\n",
              "      <td>5.0</td>\n",
              "      <td>659.0</td>\n",
              "      <td>12.0</td>\n",
              "      <td>173.0</td>\n",
              "      <td>158.0</td>\n",
              "      <td>1254</td>\n",
              "      <td>12245</td>\n",
              "      <td>1691</td>\n",
              "      <td>3241</td>\n",
              "      <td>637.0</td>\n",
              "      <td>1743.0</td>\n",
              "      <td>158.0</td>\n",
              "      <td>7416</td>\n",
              "      <td>14728</td>\n",
              "      <td>0.0</td>\n",
              "      <td>123.0</td>\n",
              "      <td>6.0</td>\n",
              "      <td>1644.0</td>\n",
              "      <td>854</td>\n",
              "      <td>356.0</td>\n",
              "      <td>358.0</td>\n",
              "      <td>166.0</td>\n",
              "      <td>1742</td>\n",
              "      <td>1584.0</td>\n",
              "      <td>319.0</td>\n",
              "      <td>793.0</td>\n",
              "      <td>61.0</td>\n",
              "      <td>5889.0</td>\n",
              "      <td>414.0</td>\n",
              "      <td>50</td>\n",
              "      <td>0.0</td>\n",
              "      <td>3.0</td>\n",
              "      <td>2.0</td>\n",
              "      <td>654</td>\n",
              "      <td>7726</td>\n",
              "      <td>2367</td>\n",
              "      <td>55116.0</td>\n",
              "      <td>3</td>\n",
              "      <td>4058</td>\n",
              "    </tr>\n",
              "    <tr>\n",
              "      <th>218</th>\n",
              "      <td>2009-03-01</td>\n",
              "      <td>2009</td>\n",
              "      <td>3</td>\n",
              "      <td>588</td>\n",
              "      <td>5.0</td>\n",
              "      <td>30</td>\n",
              "      <td>103.0</td>\n",
              "      <td>444</td>\n",
              "      <td>7183</td>\n",
              "      <td>441.0</td>\n",
              "      <td>239.0</td>\n",
              "      <td>3493.0</td>\n",
              "      <td>465</td>\n",
              "      <td>156</td>\n",
              "      <td>2564</td>\n",
              "      <td>236</td>\n",
              "      <td>6686</td>\n",
              "      <td>926</td>\n",
              "      <td>3</td>\n",
              "      <td>3.0</td>\n",
              "      <td>782.0</td>\n",
              "      <td>18.0</td>\n",
              "      <td>182.0</td>\n",
              "      <td>158.0</td>\n",
              "      <td>1442</td>\n",
              "      <td>13463</td>\n",
              "      <td>1830</td>\n",
              "      <td>2478</td>\n",
              "      <td>762.0</td>\n",
              "      <td>1892.0</td>\n",
              "      <td>158.0</td>\n",
              "      <td>7967</td>\n",
              "      <td>14929</td>\n",
              "      <td>1.0</td>\n",
              "      <td>128.0</td>\n",
              "      <td>2.0</td>\n",
              "      <td>1975.0</td>\n",
              "      <td>980</td>\n",
              "      <td>352.0</td>\n",
              "      <td>476.0</td>\n",
              "      <td>187.0</td>\n",
              "      <td>1880</td>\n",
              "      <td>1923.0</td>\n",
              "      <td>323.0</td>\n",
              "      <td>1108.0</td>\n",
              "      <td>59.0</td>\n",
              "      <td>6719.0</td>\n",
              "      <td>553.0</td>\n",
              "      <td>50</td>\n",
              "      <td>0.0</td>\n",
              "      <td>2.0</td>\n",
              "      <td>1.0</td>\n",
              "      <td>726</td>\n",
              "      <td>8394</td>\n",
              "      <td>2564</td>\n",
              "      <td>61430.0</td>\n",
              "      <td>3</td>\n",
              "      <td>4394</td>\n",
              "    </tr>\n",
              "    <tr>\n",
              "      <th>219</th>\n",
              "      <td>2009-04-01</td>\n",
              "      <td>2009</td>\n",
              "      <td>4</td>\n",
              "      <td>542</td>\n",
              "      <td>3.0</td>\n",
              "      <td>27</td>\n",
              "      <td>102.0</td>\n",
              "      <td>423</td>\n",
              "      <td>6705</td>\n",
              "      <td>359.0</td>\n",
              "      <td>189.0</td>\n",
              "      <td>3073.0</td>\n",
              "      <td>450</td>\n",
              "      <td>134</td>\n",
              "      <td>2310</td>\n",
              "      <td>226</td>\n",
              "      <td>6369</td>\n",
              "      <td>769</td>\n",
              "      <td>5</td>\n",
              "      <td>6.0</td>\n",
              "      <td>711.0</td>\n",
              "      <td>10.0</td>\n",
              "      <td>191.0</td>\n",
              "      <td>158.0</td>\n",
              "      <td>1150</td>\n",
              "      <td>12331</td>\n",
              "      <td>1759</td>\n",
              "      <td>2136</td>\n",
              "      <td>688.0</td>\n",
              "      <td>1673.0</td>\n",
              "      <td>158.0</td>\n",
              "      <td>7314</td>\n",
              "      <td>13570</td>\n",
              "      <td>1.0</td>\n",
              "      <td>118.0</td>\n",
              "      <td>5.0</td>\n",
              "      <td>1609.0</td>\n",
              "      <td>856</td>\n",
              "      <td>308.0</td>\n",
              "      <td>404.0</td>\n",
              "      <td>163.0</td>\n",
              "      <td>1788</td>\n",
              "      <td>1851.0</td>\n",
              "      <td>357.0</td>\n",
              "      <td>1038.0</td>\n",
              "      <td>58.0</td>\n",
              "      <td>5922.0</td>\n",
              "      <td>429.0</td>\n",
              "      <td>39</td>\n",
              "      <td>2.0</td>\n",
              "      <td>1.0</td>\n",
              "      <td>2.0</td>\n",
              "      <td>674</td>\n",
              "      <td>7849</td>\n",
              "      <td>2310</td>\n",
              "      <td>55492.0</td>\n",
              "      <td>3</td>\n",
              "      <td>4069</td>\n",
              "    </tr>\n",
              "    <tr>\n",
              "      <th>220</th>\n",
              "      <td>2009-05-01</td>\n",
              "      <td>2009</td>\n",
              "      <td>5</td>\n",
              "      <td>522</td>\n",
              "      <td>0.0</td>\n",
              "      <td>14</td>\n",
              "      <td>80.0</td>\n",
              "      <td>386</td>\n",
              "      <td>6565</td>\n",
              "      <td>372.0</td>\n",
              "      <td>194.0</td>\n",
              "      <td>3571.0</td>\n",
              "      <td>418</td>\n",
              "      <td>135</td>\n",
              "      <td>2340</td>\n",
              "      <td>236</td>\n",
              "      <td>6506</td>\n",
              "      <td>780</td>\n",
              "      <td>0</td>\n",
              "      <td>12.0</td>\n",
              "      <td>799.0</td>\n",
              "      <td>17.0</td>\n",
              "      <td>191.0</td>\n",
              "      <td>158.0</td>\n",
              "      <td>1139</td>\n",
              "      <td>12573</td>\n",
              "      <td>1679</td>\n",
              "      <td>2361</td>\n",
              "      <td>740.0</td>\n",
              "      <td>1761.0</td>\n",
              "      <td>158.0</td>\n",
              "      <td>7892</td>\n",
              "      <td>14433</td>\n",
              "      <td>2.0</td>\n",
              "      <td>112.0</td>\n",
              "      <td>8.0</td>\n",
              "      <td>1956.0</td>\n",
              "      <td>878</td>\n",
              "      <td>293.0</td>\n",
              "      <td>411.0</td>\n",
              "      <td>201.0</td>\n",
              "      <td>1795</td>\n",
              "      <td>1821.0</td>\n",
              "      <td>326.0</td>\n",
              "      <td>942.0</td>\n",
              "      <td>46.0</td>\n",
              "      <td>5904.0</td>\n",
              "      <td>401.0</td>\n",
              "      <td>29</td>\n",
              "      <td>3.0</td>\n",
              "      <td>3.0</td>\n",
              "      <td>2.0</td>\n",
              "      <td>616</td>\n",
              "      <td>8085</td>\n",
              "      <td>2340</td>\n",
              "      <td>57585.0</td>\n",
              "      <td>3</td>\n",
              "      <td>4019</td>\n",
              "    </tr>\n",
              "    <tr>\n",
              "      <th>221</th>\n",
              "      <td>2009-06-01</td>\n",
              "      <td>2009</td>\n",
              "      <td>6</td>\n",
              "      <td>439</td>\n",
              "      <td>6.0</td>\n",
              "      <td>11</td>\n",
              "      <td>107.0</td>\n",
              "      <td>378</td>\n",
              "      <td>5640</td>\n",
              "      <td>337.0</td>\n",
              "      <td>206.0</td>\n",
              "      <td>3241.0</td>\n",
              "      <td>410</td>\n",
              "      <td>143</td>\n",
              "      <td>1968</td>\n",
              "      <td>221</td>\n",
              "      <td>6277</td>\n",
              "      <td>802</td>\n",
              "      <td>6</td>\n",
              "      <td>8.0</td>\n",
              "      <td>766.0</td>\n",
              "      <td>13.0</td>\n",
              "      <td>178.0</td>\n",
              "      <td>158.0</td>\n",
              "      <td>1078</td>\n",
              "      <td>11870</td>\n",
              "      <td>1638</td>\n",
              "      <td>2072</td>\n",
              "      <td>691.0</td>\n",
              "      <td>1795.0</td>\n",
              "      <td>158.0</td>\n",
              "      <td>7340</td>\n",
              "      <td>13536</td>\n",
              "      <td>0.0</td>\n",
              "      <td>120.0</td>\n",
              "      <td>4.0</td>\n",
              "      <td>1892.0</td>\n",
              "      <td>827</td>\n",
              "      <td>306.0</td>\n",
              "      <td>376.0</td>\n",
              "      <td>165.0</td>\n",
              "      <td>1737</td>\n",
              "      <td>1652.0</td>\n",
              "      <td>265.0</td>\n",
              "      <td>1101.0</td>\n",
              "      <td>44.0</td>\n",
              "      <td>5376.0</td>\n",
              "      <td>451.0</td>\n",
              "      <td>32</td>\n",
              "      <td>3.0</td>\n",
              "      <td>4.0</td>\n",
              "      <td>0.0</td>\n",
              "      <td>563</td>\n",
              "      <td>7845</td>\n",
              "      <td>1968</td>\n",
              "      <td>54415.0</td>\n",
              "      <td>3</td>\n",
              "      <td>3606</td>\n",
              "    </tr>\n",
              "  </tbody>\n",
              "</table>\n",
              "</div>"
            ],
            "text/plain": [
              "          date  vano  ...  fase  total_roubos_furtos_veiculos\n",
              "217 2009-02-01  2009  ...     3                          4058\n",
              "218 2009-03-01  2009  ...     3                          4394\n",
              "219 2009-04-01  2009  ...     3                          4069\n",
              "220 2009-05-01  2009  ...     3                          4019\n",
              "221 2009-06-01  2009  ...     3                          3606\n",
              "\n",
              "[5 rows x 58 columns]"
            ]
          },
          "metadata": {
            "tags": []
          },
          "execution_count": 17
        }
      ]
    },
    {
      "cell_type": "code",
      "metadata": {
        "colab": {
          "base_uri": "https://localhost:8080/"
        },
        "id": "zuyf1mDqtlmS",
        "outputId": "f1fe371e-5d2c-4a2b-e8a4-c5f3795aa4b6"
      },
      "source": [
        "df_ultima_decada.describe()"
      ],
      "execution_count": null,
      "outputs": [
        {
          "output_type": "execute_result",
          "data": {
            "text/html": [
              "<div>\n",
              "<style scoped>\n",
              "    .dataframe tbody tr th:only-of-type {\n",
              "        vertical-align: middle;\n",
              "    }\n",
              "\n",
              "    .dataframe tbody tr th {\n",
              "        vertical-align: top;\n",
              "    }\n",
              "\n",
              "    .dataframe thead th {\n",
              "        text-align: right;\n",
              "    }\n",
              "</style>\n",
              "<table border=\"1\" class=\"dataframe\">\n",
              "  <thead>\n",
              "    <tr style=\"text-align: right;\">\n",
              "      <th></th>\n",
              "      <th>vano</th>\n",
              "      <th>mes</th>\n",
              "      <th>hom_doloso</th>\n",
              "      <th>lesao_corp_morte</th>\n",
              "      <th>latrocinio</th>\n",
              "      <th>hom_por_interv_policial</th>\n",
              "      <th>tentat_hom</th>\n",
              "      <th>lesao_corp_dolosa</th>\n",
              "      <th>estupro</th>\n",
              "      <th>hom_culposo</th>\n",
              "      <th>lesao_corp_culposa</th>\n",
              "      <th>roubo_comercio</th>\n",
              "      <th>roubo_residencia</th>\n",
              "      <th>roubo_veiculo</th>\n",
              "      <th>roubo_carga</th>\n",
              "      <th>roubo_transeunte</th>\n",
              "      <th>roubo_em_coletivo</th>\n",
              "      <th>roubo_banco</th>\n",
              "      <th>roubo_cx_eletronico</th>\n",
              "      <th>roubo_celular</th>\n",
              "      <th>roubo_conducao_saque</th>\n",
              "      <th>roubo_apos_saque</th>\n",
              "      <th>roubo_bicicleta</th>\n",
              "      <th>outros_roubos</th>\n",
              "      <th>total_roubos</th>\n",
              "      <th>furto_veiculos</th>\n",
              "      <th>furto_transeunte</th>\n",
              "      <th>furto_coletivo</th>\n",
              "      <th>furto_celular</th>\n",
              "      <th>furto_bicicleta</th>\n",
              "      <th>outros_furtos</th>\n",
              "      <th>total_furtos</th>\n",
              "      <th>sequestro</th>\n",
              "      <th>extorsao</th>\n",
              "      <th>sequestro_relampago</th>\n",
              "      <th>estelionato</th>\n",
              "      <th>apreensao_drogas</th>\n",
              "      <th>posse_drogas</th>\n",
              "      <th>trafico_drogas</th>\n",
              "      <th>apreensao_drogas_sem_autor</th>\n",
              "      <th>recuperacao_veiculos</th>\n",
              "      <th>apf</th>\n",
              "      <th>aaapai</th>\n",
              "      <th>cmp</th>\n",
              "      <th>cmba</th>\n",
              "      <th>ameaca</th>\n",
              "      <th>pessoas_desaparecidas</th>\n",
              "      <th>encontro_cadaver</th>\n",
              "      <th>encontro_ossada</th>\n",
              "      <th>pol_militares_mortos_serv</th>\n",
              "      <th>pol_civis_mortos_serv</th>\n",
              "      <th>indicador_letalidade</th>\n",
              "      <th>indicador_roubo_rua</th>\n",
              "      <th>indicador_roubo_veic</th>\n",
              "      <th>registro_ocorrencias</th>\n",
              "      <th>fase</th>\n",
              "      <th>total_roubos_furtos_veiculos</th>\n",
              "    </tr>\n",
              "  </thead>\n",
              "  <tbody>\n",
              "    <tr>\n",
              "      <th>count</th>\n",
              "      <td>127.000000</td>\n",
              "      <td>127.000000</td>\n",
              "      <td>127.000000</td>\n",
              "      <td>127.000000</td>\n",
              "      <td>127.000000</td>\n",
              "      <td>127.000000</td>\n",
              "      <td>127.000000</td>\n",
              "      <td>127.000000</td>\n",
              "      <td>127.000000</td>\n",
              "      <td>127.000000</td>\n",
              "      <td>127.000000</td>\n",
              "      <td>127.000000</td>\n",
              "      <td>127.000000</td>\n",
              "      <td>127.000000</td>\n",
              "      <td>127.000000</td>\n",
              "      <td>127.000000</td>\n",
              "      <td>127.000000</td>\n",
              "      <td>127.000000</td>\n",
              "      <td>127.000000</td>\n",
              "      <td>127.000000</td>\n",
              "      <td>127.000000</td>\n",
              "      <td>127.000000</td>\n",
              "      <td>127.000000</td>\n",
              "      <td>127.000000</td>\n",
              "      <td>127.000000</td>\n",
              "      <td>127.000000</td>\n",
              "      <td>127.000000</td>\n",
              "      <td>127.000000</td>\n",
              "      <td>127.000000</td>\n",
              "      <td>127.000000</td>\n",
              "      <td>127.000000</td>\n",
              "      <td>127.000000</td>\n",
              "      <td>127.000000</td>\n",
              "      <td>127.000000</td>\n",
              "      <td>127.000000</td>\n",
              "      <td>127.000000</td>\n",
              "      <td>127.000000</td>\n",
              "      <td>127.000000</td>\n",
              "      <td>127.000000</td>\n",
              "      <td>127.000000</td>\n",
              "      <td>127.000000</td>\n",
              "      <td>127.000000</td>\n",
              "      <td>127.000000</td>\n",
              "      <td>127.000000</td>\n",
              "      <td>127.000000</td>\n",
              "      <td>127.000000</td>\n",
              "      <td>127.000000</td>\n",
              "      <td>127.000000</td>\n",
              "      <td>127.000000</td>\n",
              "      <td>127.000000</td>\n",
              "      <td>127.000000</td>\n",
              "      <td>127.000000</td>\n",
              "      <td>127.000000</td>\n",
              "      <td>127.000000</td>\n",
              "      <td>127.000000</td>\n",
              "      <td>127.000000</td>\n",
              "      <td>127.000000</td>\n",
              "    </tr>\n",
              "    <tr>\n",
              "      <th>mean</th>\n",
              "      <td>2013.881890</td>\n",
              "      <td>6.417323</td>\n",
              "      <td>396.149606</td>\n",
              "      <td>3.488189</td>\n",
              "      <td>14.102362</td>\n",
              "      <td>72.685039</td>\n",
              "      <td>445.118110</td>\n",
              "      <td>6437.929134</td>\n",
              "      <td>427.409449</td>\n",
              "      <td>178.952756</td>\n",
              "      <td>3282.645669</td>\n",
              "      <td>507.110236</td>\n",
              "      <td>111.070866</td>\n",
              "      <td>2765.448819</td>\n",
              "      <td>498.952756</td>\n",
              "      <td>6007.645669</td>\n",
              "      <td>824.425197</td>\n",
              "      <td>2.141732</td>\n",
              "      <td>3.503937</td>\n",
              "      <td>1093.779528</td>\n",
              "      <td>8.181102</td>\n",
              "      <td>119.826772</td>\n",
              "      <td>79.188976</td>\n",
              "      <td>1446.811024</td>\n",
              "      <td>13394.685039</td>\n",
              "      <td>1421.488189</td>\n",
              "      <td>2503.874016</td>\n",
              "      <td>808.787402</td>\n",
              "      <td>1548.181102</td>\n",
              "      <td>140.228346</td>\n",
              "      <td>7776.574803</td>\n",
              "      <td>14125.732283</td>\n",
              "      <td>0.574803</td>\n",
              "      <td>140.039370</td>\n",
              "      <td>9.393701</td>\n",
              "      <td>2684.708661</td>\n",
              "      <td>1720.023622</td>\n",
              "      <td>685.937008</td>\n",
              "      <td>879.165354</td>\n",
              "      <td>190.031496</td>\n",
              "      <td>2051.858268</td>\n",
              "      <td>2581.354331</td>\n",
              "      <td>649.149606</td>\n",
              "      <td>1376.511811</td>\n",
              "      <td>94.023622</td>\n",
              "      <td>6020.354331</td>\n",
              "      <td>462.645669</td>\n",
              "      <td>40.330709</td>\n",
              "      <td>2.984252</td>\n",
              "      <td>1.771654</td>\n",
              "      <td>0.291339</td>\n",
              "      <td>486.425197</td>\n",
              "      <td>7925.850394</td>\n",
              "      <td>2765.448819</td>\n",
              "      <td>62487.023622</td>\n",
              "      <td>2.984252</td>\n",
              "      <td>4186.937008</td>\n",
              "    </tr>\n",
              "    <tr>\n",
              "      <th>std</th>\n",
              "      <td>3.077347</td>\n",
              "      <td>3.418997</td>\n",
              "      <td>60.923199</td>\n",
              "      <td>2.152393</td>\n",
              "      <td>5.573228</td>\n",
              "      <td>39.087549</td>\n",
              "      <td>85.375698</td>\n",
              "      <td>1064.638549</td>\n",
              "      <td>60.088210</td>\n",
              "      <td>28.567063</td>\n",
              "      <td>710.983351</td>\n",
              "      <td>111.161560</td>\n",
              "      <td>19.061380</td>\n",
              "      <td>1053.266858</td>\n",
              "      <td>270.721694</td>\n",
              "      <td>1404.240944</td>\n",
              "      <td>371.540818</td>\n",
              "      <td>1.384291</td>\n",
              "      <td>2.478075</td>\n",
              "      <td>746.407309</td>\n",
              "      <td>3.900381</td>\n",
              "      <td>44.170143</td>\n",
              "      <td>73.918631</td>\n",
              "      <td>682.675208</td>\n",
              "      <td>4218.400439</td>\n",
              "      <td>138.662080</td>\n",
              "      <td>752.984791</td>\n",
              "      <td>126.516178</td>\n",
              "      <td>264.853671</td>\n",
              "      <td>60.831434</td>\n",
              "      <td>791.304805</td>\n",
              "      <td>1605.684329</td>\n",
              "      <td>0.955516</td>\n",
              "      <td>31.291107</td>\n",
              "      <td>4.715994</td>\n",
              "      <td>525.380574</td>\n",
              "      <td>471.258152</td>\n",
              "      <td>226.238803</td>\n",
              "      <td>248.691616</td>\n",
              "      <td>37.376662</td>\n",
              "      <td>650.126724</td>\n",
              "      <td>486.684108</td>\n",
              "      <td>224.250748</td>\n",
              "      <td>308.178954</td>\n",
              "      <td>67.221438</td>\n",
              "      <td>1102.086272</td>\n",
              "      <td>64.265759</td>\n",
              "      <td>10.867204</td>\n",
              "      <td>2.050878</td>\n",
              "      <td>1.564431</td>\n",
              "      <td>0.605664</td>\n",
              "      <td>81.782573</td>\n",
              "      <td>2390.121034</td>\n",
              "      <td>1053.266858</td>\n",
              "      <td>5811.089107</td>\n",
              "      <td>0.124992</td>\n",
              "      <td>1016.530168</td>\n",
              "    </tr>\n",
              "    <tr>\n",
              "      <th>min</th>\n",
              "      <td>2009.000000</td>\n",
              "      <td>1.000000</td>\n",
              "      <td>272.000000</td>\n",
              "      <td>0.000000</td>\n",
              "      <td>5.000000</td>\n",
              "      <td>15.000000</td>\n",
              "      <td>272.000000</td>\n",
              "      <td>2521.000000</td>\n",
              "      <td>230.000000</td>\n",
              "      <td>111.000000</td>\n",
              "      <td>848.000000</td>\n",
              "      <td>277.000000</td>\n",
              "      <td>49.000000</td>\n",
              "      <td>1413.000000</td>\n",
              "      <td>170.000000</td>\n",
              "      <td>2260.000000</td>\n",
              "      <td>345.000000</td>\n",
              "      <td>0.000000</td>\n",
              "      <td>0.000000</td>\n",
              "      <td>301.000000</td>\n",
              "      <td>1.000000</td>\n",
              "      <td>11.000000</td>\n",
              "      <td>0.000000</td>\n",
              "      <td>782.000000</td>\n",
              "      <td>7740.000000</td>\n",
              "      <td>1159.000000</td>\n",
              "      <td>663.000000</td>\n",
              "      <td>167.000000</td>\n",
              "      <td>527.000000</td>\n",
              "      <td>0.000000</td>\n",
              "      <td>3089.000000</td>\n",
              "      <td>5795.000000</td>\n",
              "      <td>0.000000</td>\n",
              "      <td>49.000000</td>\n",
              "      <td>1.000000</td>\n",
              "      <td>717.000000</td>\n",
              "      <td>827.000000</td>\n",
              "      <td>274.000000</td>\n",
              "      <td>358.000000</td>\n",
              "      <td>114.000000</td>\n",
              "      <td>1219.000000</td>\n",
              "      <td>1584.000000</td>\n",
              "      <td>265.000000</td>\n",
              "      <td>695.000000</td>\n",
              "      <td>21.000000</td>\n",
              "      <td>1409.000000</td>\n",
              "      <td>236.000000</td>\n",
              "      <td>16.000000</td>\n",
              "      <td>0.000000</td>\n",
              "      <td>0.000000</td>\n",
              "      <td>0.000000</td>\n",
              "      <td>334.000000</td>\n",
              "      <td>3298.000000</td>\n",
              "      <td>1413.000000</td>\n",
              "      <td>31231.000000</td>\n",
              "      <td>2.000000</td>\n",
              "      <td>2683.000000</td>\n",
              "    </tr>\n",
              "    <tr>\n",
              "      <th>25%</th>\n",
              "      <td>2011.000000</td>\n",
              "      <td>3.500000</td>\n",
              "      <td>346.000000</td>\n",
              "      <td>2.000000</td>\n",
              "      <td>10.000000</td>\n",
              "      <td>42.000000</td>\n",
              "      <td>375.500000</td>\n",
              "      <td>5651.000000</td>\n",
              "      <td>389.500000</td>\n",
              "      <td>156.000000</td>\n",
              "      <td>2688.500000</td>\n",
              "      <td>412.500000</td>\n",
              "      <td>97.500000</td>\n",
              "      <td>1807.000000</td>\n",
              "      <td>257.500000</td>\n",
              "      <td>4834.500000</td>\n",
              "      <td>554.500000</td>\n",
              "      <td>1.000000</td>\n",
              "      <td>2.000000</td>\n",
              "      <td>496.500000</td>\n",
              "      <td>5.000000</td>\n",
              "      <td>81.000000</td>\n",
              "      <td>13.000000</td>\n",
              "      <td>923.500000</td>\n",
              "      <td>9838.000000</td>\n",
              "      <td>1321.000000</td>\n",
              "      <td>2065.000000</td>\n",
              "      <td>737.500000</td>\n",
              "      <td>1367.000000</td>\n",
              "      <td>155.000000</td>\n",
              "      <td>7361.500000</td>\n",
              "      <td>13391.000000</td>\n",
              "      <td>0.000000</td>\n",
              "      <td>123.000000</td>\n",
              "      <td>6.000000</td>\n",
              "      <td>2337.000000</td>\n",
              "      <td>1325.000000</td>\n",
              "      <td>514.000000</td>\n",
              "      <td>647.000000</td>\n",
              "      <td>165.000000</td>\n",
              "      <td>1478.000000</td>\n",
              "      <td>2162.000000</td>\n",
              "      <td>473.000000</td>\n",
              "      <td>1160.500000</td>\n",
              "      <td>50.500000</td>\n",
              "      <td>5218.000000</td>\n",
              "      <td>417.000000</td>\n",
              "      <td>33.500000</td>\n",
              "      <td>1.000000</td>\n",
              "      <td>1.000000</td>\n",
              "      <td>0.000000</td>\n",
              "      <td>426.000000</td>\n",
              "      <td>6023.000000</td>\n",
              "      <td>1807.000000</td>\n",
              "      <td>57954.500000</td>\n",
              "      <td>3.000000</td>\n",
              "      <td>3353.500000</td>\n",
              "    </tr>\n",
              "    <tr>\n",
              "      <th>50%</th>\n",
              "      <td>2014.000000</td>\n",
              "      <td>6.000000</td>\n",
              "      <td>386.000000</td>\n",
              "      <td>3.000000</td>\n",
              "      <td>13.000000</td>\n",
              "      <td>63.000000</td>\n",
              "      <td>449.000000</td>\n",
              "      <td>6486.000000</td>\n",
              "      <td>427.000000</td>\n",
              "      <td>176.000000</td>\n",
              "      <td>3462.000000</td>\n",
              "      <td>501.000000</td>\n",
              "      <td>109.000000</td>\n",
              "      <td>2479.000000</td>\n",
              "      <td>442.000000</td>\n",
              "      <td>6036.000000</td>\n",
              "      <td>669.000000</td>\n",
              "      <td>2.000000</td>\n",
              "      <td>3.000000</td>\n",
              "      <td>748.000000</td>\n",
              "      <td>8.000000</td>\n",
              "      <td>124.000000</td>\n",
              "      <td>21.000000</td>\n",
              "      <td>1141.000000</td>\n",
              "      <td>12147.000000</td>\n",
              "      <td>1390.000000</td>\n",
              "      <td>2476.000000</td>\n",
              "      <td>835.000000</td>\n",
              "      <td>1534.000000</td>\n",
              "      <td>158.000000</td>\n",
              "      <td>7776.000000</td>\n",
              "      <td>14152.000000</td>\n",
              "      <td>0.000000</td>\n",
              "      <td>137.000000</td>\n",
              "      <td>8.000000</td>\n",
              "      <td>2798.000000</td>\n",
              "      <td>1836.000000</td>\n",
              "      <td>708.000000</td>\n",
              "      <td>966.000000</td>\n",
              "      <td>187.000000</td>\n",
              "      <td>1905.000000</td>\n",
              "      <td>2754.000000</td>\n",
              "      <td>601.000000</td>\n",
              "      <td>1377.000000</td>\n",
              "      <td>67.000000</td>\n",
              "      <td>6146.000000</td>\n",
              "      <td>460.000000</td>\n",
              "      <td>41.000000</td>\n",
              "      <td>3.000000</td>\n",
              "      <td>1.000000</td>\n",
              "      <td>0.000000</td>\n",
              "      <td>481.000000</td>\n",
              "      <td>7524.000000</td>\n",
              "      <td>2479.000000</td>\n",
              "      <td>63173.000000</td>\n",
              "      <td>3.000000</td>\n",
              "      <td>4011.000000</td>\n",
              "    </tr>\n",
              "    <tr>\n",
              "      <th>75%</th>\n",
              "      <td>2016.500000</td>\n",
              "      <td>9.000000</td>\n",
              "      <td>438.500000</td>\n",
              "      <td>5.000000</td>\n",
              "      <td>17.000000</td>\n",
              "      <td>97.000000</td>\n",
              "      <td>510.000000</td>\n",
              "      <td>7192.000000</td>\n",
              "      <td>472.500000</td>\n",
              "      <td>196.500000</td>\n",
              "      <td>3826.000000</td>\n",
              "      <td>600.000000</td>\n",
              "      <td>124.000000</td>\n",
              "      <td>3478.500000</td>\n",
              "      <td>699.000000</td>\n",
              "      <td>7032.000000</td>\n",
              "      <td>1162.000000</td>\n",
              "      <td>3.000000</td>\n",
              "      <td>5.000000</td>\n",
              "      <td>1842.500000</td>\n",
              "      <td>11.000000</td>\n",
              "      <td>154.500000</td>\n",
              "      <td>158.000000</td>\n",
              "      <td>1808.500000</td>\n",
              "      <td>17157.500000</td>\n",
              "      <td>1499.500000</td>\n",
              "      <td>2822.500000</td>\n",
              "      <td>896.500000</td>\n",
              "      <td>1754.500000</td>\n",
              "      <td>160.000000</td>\n",
              "      <td>8214.000000</td>\n",
              "      <td>14894.000000</td>\n",
              "      <td>1.000000</td>\n",
              "      <td>155.000000</td>\n",
              "      <td>12.000000</td>\n",
              "      <td>3052.500000</td>\n",
              "      <td>2071.500000</td>\n",
              "      <td>828.500000</td>\n",
              "      <td>1072.000000</td>\n",
              "      <td>211.500000</td>\n",
              "      <td>2438.000000</td>\n",
              "      <td>2951.000000</td>\n",
              "      <td>834.000000</td>\n",
              "      <td>1605.500000</td>\n",
              "      <td>109.000000</td>\n",
              "      <td>6844.000000</td>\n",
              "      <td>504.000000</td>\n",
              "      <td>46.500000</td>\n",
              "      <td>4.000000</td>\n",
              "      <td>3.000000</td>\n",
              "      <td>0.000000</td>\n",
              "      <td>543.500000</td>\n",
              "      <td>10006.500000</td>\n",
              "      <td>3478.500000</td>\n",
              "      <td>66823.500000</td>\n",
              "      <td>3.000000</td>\n",
              "      <td>4858.500000</td>\n",
              "    </tr>\n",
              "    <tr>\n",
              "      <th>max</th>\n",
              "      <td>2019.000000</td>\n",
              "      <td>12.000000</td>\n",
              "      <td>588.000000</td>\n",
              "      <td>10.000000</td>\n",
              "      <td>30.000000</td>\n",
              "      <td>194.000000</td>\n",
              "      <td>645.000000</td>\n",
              "      <td>9050.000000</td>\n",
              "      <td>561.000000</td>\n",
              "      <td>250.000000</td>\n",
              "      <td>4313.000000</td>\n",
              "      <td>774.000000</td>\n",
              "      <td>156.000000</td>\n",
              "      <td>5358.000000</td>\n",
              "      <td>1329.000000</td>\n",
              "      <td>9669.000000</td>\n",
              "      <td>1628.000000</td>\n",
              "      <td>6.000000</td>\n",
              "      <td>12.000000</td>\n",
              "      <td>2626.000000</td>\n",
              "      <td>19.000000</td>\n",
              "      <td>198.000000</td>\n",
              "      <td>158.000000</td>\n",
              "      <td>3661.000000</td>\n",
              "      <td>23203.000000</td>\n",
              "      <td>1830.000000</td>\n",
              "      <td>5368.000000</td>\n",
              "      <td>1036.000000</td>\n",
              "      <td>2215.000000</td>\n",
              "      <td>243.000000</td>\n",
              "      <td>9880.000000</td>\n",
              "      <td>18003.000000</td>\n",
              "      <td>5.000000</td>\n",
              "      <td>243.000000</td>\n",
              "      <td>31.000000</td>\n",
              "      <td>3627.000000</td>\n",
              "      <td>2543.000000</td>\n",
              "      <td>1160.000000</td>\n",
              "      <td>1282.000000</td>\n",
              "      <td>289.000000</td>\n",
              "      <td>3695.000000</td>\n",
              "      <td>3425.000000</td>\n",
              "      <td>1114.000000</td>\n",
              "      <td>2314.000000</td>\n",
              "      <td>350.000000</td>\n",
              "      <td>9034.000000</td>\n",
              "      <td>628.000000</td>\n",
              "      <td>69.000000</td>\n",
              "      <td>13.000000</td>\n",
              "      <td>7.000000</td>\n",
              "      <td>3.000000</td>\n",
              "      <td>726.000000</td>\n",
              "      <td>13833.000000</td>\n",
              "      <td>5358.000000</td>\n",
              "      <td>75403.000000</td>\n",
              "      <td>3.000000</td>\n",
              "      <td>6607.000000</td>\n",
              "    </tr>\n",
              "  </tbody>\n",
              "</table>\n",
              "</div>"
            ],
            "text/plain": [
              "              vano         mes  ...        fase  total_roubos_furtos_veiculos\n",
              "count   127.000000  127.000000  ...  127.000000                    127.000000\n",
              "mean   2013.881890    6.417323  ...    2.984252                   4186.937008\n",
              "std       3.077347    3.418997  ...    0.124992                   1016.530168\n",
              "min    2009.000000    1.000000  ...    2.000000                   2683.000000\n",
              "25%    2011.000000    3.500000  ...    3.000000                   3353.500000\n",
              "50%    2014.000000    6.000000  ...    3.000000                   4011.000000\n",
              "75%    2016.500000    9.000000  ...    3.000000                   4858.500000\n",
              "max    2019.000000   12.000000  ...    3.000000                   6607.000000\n",
              "\n",
              "[8 rows x 57 columns]"
            ]
          },
          "metadata": {
            "tags": []
          },
          "execution_count": 18
        }
      ]
    },
    {
      "cell_type": "markdown",
      "metadata": {
        "id": "wvldkFvcXgyI"
      },
      "source": [
        "### Roubo e Furto de Veículos\r\n",
        "\r\n",
        "\r\n",
        "\r\n"
      ]
    },
    {
      "cell_type": "markdown",
      "metadata": {
        "id": "TMah1eaSY6FK"
      },
      "source": [
        "Através do dataset, vamos analisar as variáveis, roubo e furto de veículos. Sendo que a diferença é que o roubo ele é seguido de utilização do agressor de ameaça e violência contra a vítima."
      ]
    },
    {
      "cell_type": "code",
      "metadata": {
        "colab": {
          "base_uri": "https://localhost:8080/"
        },
        "id": "94oBFHE7Y8BW",
        "outputId": "27a099ee-e4da-4407-d40a-b27fe66aa71c"
      },
      "source": [
        "df_ultima_decada[['furto_veiculos','roubo_veiculo']].describe()"
      ],
      "execution_count": null,
      "outputs": [
        {
          "output_type": "execute_result",
          "data": {
            "text/html": [
              "<div>\n",
              "<style scoped>\n",
              "    .dataframe tbody tr th:only-of-type {\n",
              "        vertical-align: middle;\n",
              "    }\n",
              "\n",
              "    .dataframe tbody tr th {\n",
              "        vertical-align: top;\n",
              "    }\n",
              "\n",
              "    .dataframe thead th {\n",
              "        text-align: right;\n",
              "    }\n",
              "</style>\n",
              "<table border=\"1\" class=\"dataframe\">\n",
              "  <thead>\n",
              "    <tr style=\"text-align: right;\">\n",
              "      <th></th>\n",
              "      <th>furto_veiculos</th>\n",
              "      <th>roubo_veiculo</th>\n",
              "    </tr>\n",
              "  </thead>\n",
              "  <tbody>\n",
              "    <tr>\n",
              "      <th>count</th>\n",
              "      <td>127.000000</td>\n",
              "      <td>127.000000</td>\n",
              "    </tr>\n",
              "    <tr>\n",
              "      <th>mean</th>\n",
              "      <td>1421.488189</td>\n",
              "      <td>2765.448819</td>\n",
              "    </tr>\n",
              "    <tr>\n",
              "      <th>std</th>\n",
              "      <td>138.662080</td>\n",
              "      <td>1053.266858</td>\n",
              "    </tr>\n",
              "    <tr>\n",
              "      <th>min</th>\n",
              "      <td>1159.000000</td>\n",
              "      <td>1413.000000</td>\n",
              "    </tr>\n",
              "    <tr>\n",
              "      <th>25%</th>\n",
              "      <td>1321.000000</td>\n",
              "      <td>1807.000000</td>\n",
              "    </tr>\n",
              "    <tr>\n",
              "      <th>50%</th>\n",
              "      <td>1390.000000</td>\n",
              "      <td>2479.000000</td>\n",
              "    </tr>\n",
              "    <tr>\n",
              "      <th>75%</th>\n",
              "      <td>1499.500000</td>\n",
              "      <td>3478.500000</td>\n",
              "    </tr>\n",
              "    <tr>\n",
              "      <th>max</th>\n",
              "      <td>1830.000000</td>\n",
              "      <td>5358.000000</td>\n",
              "    </tr>\n",
              "  </tbody>\n",
              "</table>\n",
              "</div>"
            ],
            "text/plain": [
              "       furto_veiculos  roubo_veiculo\n",
              "count      127.000000     127.000000\n",
              "mean      1421.488189    2765.448819\n",
              "std        138.662080    1053.266858\n",
              "min       1159.000000    1413.000000\n",
              "25%       1321.000000    1807.000000\n",
              "50%       1390.000000    2479.000000\n",
              "75%       1499.500000    3478.500000\n",
              "max       1830.000000    5358.000000"
            ]
          },
          "metadata": {
            "tags": []
          },
          "execution_count": 19
        }
      ]
    },
    {
      "cell_type": "markdown",
      "metadata": {
        "id": "90L1CaKJZZnh"
      },
      "source": [
        "A partir da análise, vemos que:\r\n",
        "\r\n",
        "* A média de roubo de de veículos é muito maior que a média de furto.\r\n",
        "* A amplitude de roubos de veículos é maior que a de furtos, para o roubo, o mínimo é 1413 e o máximo chega à 5358 roubos por mês."
      ]
    },
    {
      "cell_type": "markdown",
      "metadata": {
        "id": "OJc7krxucHei"
      },
      "source": [
        "### Comparativo entre roubo, furto e recuperação de veículos."
      ]
    },
    {
      "cell_type": "code",
      "metadata": {
        "colab": {
          "base_uri": "https://localhost:8080/"
        },
        "id": "8OzI24VrRxOc",
        "outputId": "8fe0a24e-e41f-423d-c8c1-db4fbbadf9d1"
      },
      "source": [
        "# ver a média da variável roubo_veiculo\r\n",
        "mean_roubo_veiculos = df_ultima_decada.roubo_veiculo.mean()\r\n",
        "print(round(mean_roubo_veiculos,2))"
      ],
      "execution_count": null,
      "outputs": [
        {
          "output_type": "stream",
          "text": [
            "2765.45\n"
          ],
          "name": "stdout"
        }
      ]
    },
    {
      "cell_type": "code",
      "metadata": {
        "colab": {
          "base_uri": "https://localhost:8080/"
        },
        "id": "awI9VD82R9oR",
        "outputId": "6e017ba0-59e4-4cf0-8e8f-20a98633074e"
      },
      "source": [
        "# ver a média da variável furto_veiculos\r\n",
        "mean_furto_veiculos = df_ultima_decada.furto_veiculos.mean()\r\n",
        "print(round(mean_furto_veiculos,2))"
      ],
      "execution_count": null,
      "outputs": [
        {
          "output_type": "stream",
          "text": [
            "1421.49\n"
          ],
          "name": "stdout"
        }
      ]
    },
    {
      "cell_type": "code",
      "metadata": {
        "colab": {
          "base_uri": "https://localhost:8080/"
        },
        "id": "rYHvIy7lSKUX",
        "outputId": "144610e3-e0aa-4bdc-f519-cbc475151a22"
      },
      "source": [
        "#ver a média da variável de recuperação veículos\r\n",
        "mean_recup_veiculos = df_ultima_decada.recuperacao_veiculos.mean()\r\n",
        "print(round(mean_recup_veiculos),2)"
      ],
      "execution_count": null,
      "outputs": [
        {
          "output_type": "stream",
          "text": [
            "2052 2\n"
          ],
          "name": "stdout"
        }
      ]
    },
    {
      "cell_type": "code",
      "metadata": {
        "colab": {
          "base_uri": "https://localhost:8080/"
        },
        "id": "G7-zEJU_So8F",
        "outputId": "1bd11e33-6cf9-4011-95ee-de8e7b493dbc"
      },
      "source": [
        "#Total de veículos roubados e furtados\r\n",
        "total = mean_roubo_veiculos + mean_furto_veiculos\r\n",
        "#porcentual de veículos recuperados\r\n",
        "porcen_recup = mean_recup_veiculos/total * 100\r\n",
        "#Média do valor de recuperação\r\n",
        "mean_recup_veiculos = df_ultima_decada.recuperacao_veiculos.mean()\r\n",
        "\r\n",
        "print('Média de Veículos Perdidos por Mês: {:.2f} '.format(total))\r\n",
        "print('Veículos Recuperados por Mês: {:.2f}'.format(mean_recup_veiculos))\r\n",
        "\r\n",
        "print('{:.2f}% dos veículos roubados ou furtados são recuperados.'.format(porcen_recup))"
      ],
      "execution_count": null,
      "outputs": [
        {
          "output_type": "stream",
          "text": [
            "Média de Veículos Perdidos por Mês: 4186.94 \n",
            "Veículos Recuperados por Mês: 2051.86\n",
            "49.01% dos veículos roubados ou furtados são recuperados.\n"
          ],
          "name": "stdout"
        }
      ]
    },
    {
      "cell_type": "markdown",
      "metadata": {
        "id": "fI4xCAnGU5Al"
      },
      "source": [
        "Além da análise acima, também temos a variável de `recuperação de veículos`, de acordo com a análise dessas três variáveis, vemos que:\r\n",
        "* A média de perda de veículos por mês é de 4186.\r\n",
        "* Ao mês são recuperados em média 2051 veículos por mês.\r\n",
        "* O percentual de veículos recuperados é de 49%.\r\n"
      ]
    },
    {
      "cell_type": "markdown",
      "metadata": {
        "id": "GBnreQ-ST1kZ"
      },
      "source": [
        "## Crimes contra a vida"
      ]
    },
    {
      "cell_type": "markdown",
      "metadata": {
        "id": "qXCh264ZWKzK"
      },
      "source": [
        "Agora, vamos identificar, qual foi o mínimo e o máximo para a variável `hom_doloso` ao longo do período.  "
      ]
    },
    {
      "cell_type": "code",
      "metadata": {
        "colab": {
          "base_uri": "https://localhost:8080/"
        },
        "id": "staz-UjtWpOk",
        "outputId": "28030e2b-9d27-4cea-d735-f43e464a15d4"
      },
      "source": [
        "mean_hom_doloso = df_ultima_decada.hom_doloso.mean()\r\n",
        "print('Média de homícidio doloso: {:.2f}'.format(mean_hom_doloso))"
      ],
      "execution_count": null,
      "outputs": [
        {
          "output_type": "stream",
          "text": [
            "Média de homícidio doloso: 396.15\n"
          ],
          "name": "stdout"
        }
      ]
    },
    {
      "cell_type": "code",
      "metadata": {
        "colab": {
          "base_uri": "https://localhost:8080/"
        },
        "id": "bs_MksivTta-",
        "outputId": "e059f126-201b-4ce0-da8c-2fd4c6a50b6d"
      },
      "source": [
        "min_hom_doloso = df_ultima_decada.hom_doloso.min()\r\n",
        "max_hom_doloso = df_ultima_decada.hom_doloso.max()\r\n",
        "\r\n",
        "#imprimir as variáveis\r\n",
        "print(\"Min:\\t{}\".format(min_hom_doloso))\r\n",
        "print(\"Max:\\t{}\".format(max_hom_doloso))"
      ],
      "execution_count": null,
      "outputs": [
        {
          "output_type": "stream",
          "text": [
            "Min:\t272\n",
            "Max:\t588\n"
          ],
          "name": "stdout"
        }
      ]
    },
    {
      "cell_type": "code",
      "metadata": {
        "colab": {
          "base_uri": "https://localhost:8080/"
        },
        "id": "ZDeGkAii7Bo3",
        "outputId": "0fc97752-2f56-468c-8456-c4618a3e7d74"
      },
      "source": [
        "#Verificando o mês que teve menor homícidio doloso\r\n",
        "df_ultima_decada[df_ultima_decada.hom_doloso == 272]"
      ],
      "execution_count": null,
      "outputs": [
        {
          "output_type": "execute_result",
          "data": {
            "text/html": [
              "<div>\n",
              "<style scoped>\n",
              "    .dataframe tbody tr th:only-of-type {\n",
              "        vertical-align: middle;\n",
              "    }\n",
              "\n",
              "    .dataframe tbody tr th {\n",
              "        vertical-align: top;\n",
              "    }\n",
              "\n",
              "    .dataframe thead th {\n",
              "        text-align: right;\n",
              "    }\n",
              "</style>\n",
              "<table border=\"1\" class=\"dataframe\">\n",
              "  <thead>\n",
              "    <tr style=\"text-align: right;\">\n",
              "      <th></th>\n",
              "      <th>date</th>\n",
              "      <th>vano</th>\n",
              "      <th>mes</th>\n",
              "      <th>hom_doloso</th>\n",
              "      <th>lesao_corp_morte</th>\n",
              "      <th>latrocinio</th>\n",
              "      <th>hom_por_interv_policial</th>\n",
              "      <th>tentat_hom</th>\n",
              "      <th>lesao_corp_dolosa</th>\n",
              "      <th>estupro</th>\n",
              "      <th>hom_culposo</th>\n",
              "      <th>lesao_corp_culposa</th>\n",
              "      <th>roubo_comercio</th>\n",
              "      <th>roubo_residencia</th>\n",
              "      <th>roubo_veiculo</th>\n",
              "      <th>roubo_carga</th>\n",
              "      <th>roubo_transeunte</th>\n",
              "      <th>roubo_em_coletivo</th>\n",
              "      <th>roubo_banco</th>\n",
              "      <th>roubo_cx_eletronico</th>\n",
              "      <th>roubo_celular</th>\n",
              "      <th>roubo_conducao_saque</th>\n",
              "      <th>roubo_apos_saque</th>\n",
              "      <th>roubo_bicicleta</th>\n",
              "      <th>outros_roubos</th>\n",
              "      <th>total_roubos</th>\n",
              "      <th>furto_veiculos</th>\n",
              "      <th>furto_transeunte</th>\n",
              "      <th>furto_coletivo</th>\n",
              "      <th>furto_celular</th>\n",
              "      <th>furto_bicicleta</th>\n",
              "      <th>outros_furtos</th>\n",
              "      <th>total_furtos</th>\n",
              "      <th>sequestro</th>\n",
              "      <th>extorsao</th>\n",
              "      <th>sequestro_relampago</th>\n",
              "      <th>estelionato</th>\n",
              "      <th>apreensao_drogas</th>\n",
              "      <th>posse_drogas</th>\n",
              "      <th>trafico_drogas</th>\n",
              "      <th>apreensao_drogas_sem_autor</th>\n",
              "      <th>recuperacao_veiculos</th>\n",
              "      <th>apf</th>\n",
              "      <th>aaapai</th>\n",
              "      <th>cmp</th>\n",
              "      <th>cmba</th>\n",
              "      <th>ameaca</th>\n",
              "      <th>pessoas_desaparecidas</th>\n",
              "      <th>encontro_cadaver</th>\n",
              "      <th>encontro_ossada</th>\n",
              "      <th>pol_militares_mortos_serv</th>\n",
              "      <th>pol_civis_mortos_serv</th>\n",
              "      <th>indicador_letalidade</th>\n",
              "      <th>indicador_roubo_rua</th>\n",
              "      <th>indicador_roubo_veic</th>\n",
              "      <th>registro_ocorrencias</th>\n",
              "      <th>fase</th>\n",
              "      <th>total_roubos_furtos_veiculos</th>\n",
              "    </tr>\n",
              "  </thead>\n",
              "  <tbody>\n",
              "    <tr>\n",
              "      <th>293</th>\n",
              "      <td>2015-06-01</td>\n",
              "      <td>2015</td>\n",
              "      <td>6</td>\n",
              "      <td>272</td>\n",
              "      <td>2.0</td>\n",
              "      <td>16</td>\n",
              "      <td>44.0</td>\n",
              "      <td>477</td>\n",
              "      <td>5535</td>\n",
              "      <td>389.0</td>\n",
              "      <td>140.0</td>\n",
              "      <td>3369.0</td>\n",
              "      <td>465</td>\n",
              "      <td>96</td>\n",
              "      <td>2254</td>\n",
              "      <td>566</td>\n",
              "      <td>4421</td>\n",
              "      <td>619</td>\n",
              "      <td>3</td>\n",
              "      <td>1.0</td>\n",
              "      <td>896.0</td>\n",
              "      <td>5.0</td>\n",
              "      <td>106.0</td>\n",
              "      <td>3.0</td>\n",
              "      <td>1243</td>\n",
              "      <td>10678</td>\n",
              "      <td>1333</td>\n",
              "      <td>2974</td>\n",
              "      <td>968.0</td>\n",
              "      <td>1514.0</td>\n",
              "      <td>5.0</td>\n",
              "      <td>7475</td>\n",
              "      <td>14269</td>\n",
              "      <td>0.0</td>\n",
              "      <td>192.0</td>\n",
              "      <td>10.0</td>\n",
              "      <td>2940.0</td>\n",
              "      <td>2134</td>\n",
              "      <td>845.0</td>\n",
              "      <td>1134.0</td>\n",
              "      <td>204.0</td>\n",
              "      <td>1768</td>\n",
              "      <td>3128.0</td>\n",
              "      <td>798.0</td>\n",
              "      <td>1676.0</td>\n",
              "      <td>57.0</td>\n",
              "      <td>5678.0</td>\n",
              "      <td>493.0</td>\n",
              "      <td>52</td>\n",
              "      <td>4.0</td>\n",
              "      <td>1.0</td>\n",
              "      <td>1.0</td>\n",
              "      <td>334</td>\n",
              "      <td>5936</td>\n",
              "      <td>2254</td>\n",
              "      <td>60357.0</td>\n",
              "      <td>3</td>\n",
              "      <td>3587</td>\n",
              "    </tr>\n",
              "  </tbody>\n",
              "</table>\n",
              "</div>"
            ],
            "text/plain": [
              "          date  vano  ...  fase  total_roubos_furtos_veiculos\n",
              "293 2015-06-01  2015  ...     3                          3587\n",
              "\n",
              "[1 rows x 58 columns]"
            ]
          },
          "metadata": {
            "tags": []
          },
          "execution_count": 26
        }
      ]
    },
    {
      "cell_type": "code",
      "metadata": {
        "colab": {
          "base_uri": "https://localhost:8080/"
        },
        "id": "MZT3UtCM7ybL",
        "outputId": "93e5d3e9-b546-4d4d-9875-c454a2903b32"
      },
      "source": [
        "#Verificando o mês que teve maior homícidio doloso\r\n",
        "df_ultima_decada[df_ultima_decada.hom_doloso == 588]"
      ],
      "execution_count": null,
      "outputs": [
        {
          "output_type": "execute_result",
          "data": {
            "text/html": [
              "<div>\n",
              "<style scoped>\n",
              "    .dataframe tbody tr th:only-of-type {\n",
              "        vertical-align: middle;\n",
              "    }\n",
              "\n",
              "    .dataframe tbody tr th {\n",
              "        vertical-align: top;\n",
              "    }\n",
              "\n",
              "    .dataframe thead th {\n",
              "        text-align: right;\n",
              "    }\n",
              "</style>\n",
              "<table border=\"1\" class=\"dataframe\">\n",
              "  <thead>\n",
              "    <tr style=\"text-align: right;\">\n",
              "      <th></th>\n",
              "      <th>date</th>\n",
              "      <th>vano</th>\n",
              "      <th>mes</th>\n",
              "      <th>hom_doloso</th>\n",
              "      <th>lesao_corp_morte</th>\n",
              "      <th>latrocinio</th>\n",
              "      <th>hom_por_interv_policial</th>\n",
              "      <th>tentat_hom</th>\n",
              "      <th>lesao_corp_dolosa</th>\n",
              "      <th>estupro</th>\n",
              "      <th>hom_culposo</th>\n",
              "      <th>lesao_corp_culposa</th>\n",
              "      <th>roubo_comercio</th>\n",
              "      <th>roubo_residencia</th>\n",
              "      <th>roubo_veiculo</th>\n",
              "      <th>roubo_carga</th>\n",
              "      <th>roubo_transeunte</th>\n",
              "      <th>roubo_em_coletivo</th>\n",
              "      <th>roubo_banco</th>\n",
              "      <th>roubo_cx_eletronico</th>\n",
              "      <th>roubo_celular</th>\n",
              "      <th>roubo_conducao_saque</th>\n",
              "      <th>roubo_apos_saque</th>\n",
              "      <th>roubo_bicicleta</th>\n",
              "      <th>outros_roubos</th>\n",
              "      <th>total_roubos</th>\n",
              "      <th>furto_veiculos</th>\n",
              "      <th>furto_transeunte</th>\n",
              "      <th>furto_coletivo</th>\n",
              "      <th>furto_celular</th>\n",
              "      <th>furto_bicicleta</th>\n",
              "      <th>outros_furtos</th>\n",
              "      <th>total_furtos</th>\n",
              "      <th>sequestro</th>\n",
              "      <th>extorsao</th>\n",
              "      <th>sequestro_relampago</th>\n",
              "      <th>estelionato</th>\n",
              "      <th>apreensao_drogas</th>\n",
              "      <th>posse_drogas</th>\n",
              "      <th>trafico_drogas</th>\n",
              "      <th>apreensao_drogas_sem_autor</th>\n",
              "      <th>recuperacao_veiculos</th>\n",
              "      <th>apf</th>\n",
              "      <th>aaapai</th>\n",
              "      <th>cmp</th>\n",
              "      <th>cmba</th>\n",
              "      <th>ameaca</th>\n",
              "      <th>pessoas_desaparecidas</th>\n",
              "      <th>encontro_cadaver</th>\n",
              "      <th>encontro_ossada</th>\n",
              "      <th>pol_militares_mortos_serv</th>\n",
              "      <th>pol_civis_mortos_serv</th>\n",
              "      <th>indicador_letalidade</th>\n",
              "      <th>indicador_roubo_rua</th>\n",
              "      <th>indicador_roubo_veic</th>\n",
              "      <th>registro_ocorrencias</th>\n",
              "      <th>fase</th>\n",
              "      <th>total_roubos_furtos_veiculos</th>\n",
              "    </tr>\n",
              "  </thead>\n",
              "  <tbody>\n",
              "    <tr>\n",
              "      <th>218</th>\n",
              "      <td>2009-03-01</td>\n",
              "      <td>2009</td>\n",
              "      <td>3</td>\n",
              "      <td>588</td>\n",
              "      <td>5.0</td>\n",
              "      <td>30</td>\n",
              "      <td>103.0</td>\n",
              "      <td>444</td>\n",
              "      <td>7183</td>\n",
              "      <td>441.0</td>\n",
              "      <td>239.0</td>\n",
              "      <td>3493.0</td>\n",
              "      <td>465</td>\n",
              "      <td>156</td>\n",
              "      <td>2564</td>\n",
              "      <td>236</td>\n",
              "      <td>6686</td>\n",
              "      <td>926</td>\n",
              "      <td>3</td>\n",
              "      <td>3.0</td>\n",
              "      <td>782.0</td>\n",
              "      <td>18.0</td>\n",
              "      <td>182.0</td>\n",
              "      <td>158.0</td>\n",
              "      <td>1442</td>\n",
              "      <td>13463</td>\n",
              "      <td>1830</td>\n",
              "      <td>2478</td>\n",
              "      <td>762.0</td>\n",
              "      <td>1892.0</td>\n",
              "      <td>158.0</td>\n",
              "      <td>7967</td>\n",
              "      <td>14929</td>\n",
              "      <td>1.0</td>\n",
              "      <td>128.0</td>\n",
              "      <td>2.0</td>\n",
              "      <td>1975.0</td>\n",
              "      <td>980</td>\n",
              "      <td>352.0</td>\n",
              "      <td>476.0</td>\n",
              "      <td>187.0</td>\n",
              "      <td>1880</td>\n",
              "      <td>1923.0</td>\n",
              "      <td>323.0</td>\n",
              "      <td>1108.0</td>\n",
              "      <td>59.0</td>\n",
              "      <td>6719.0</td>\n",
              "      <td>553.0</td>\n",
              "      <td>50</td>\n",
              "      <td>0.0</td>\n",
              "      <td>2.0</td>\n",
              "      <td>1.0</td>\n",
              "      <td>726</td>\n",
              "      <td>8394</td>\n",
              "      <td>2564</td>\n",
              "      <td>61430.0</td>\n",
              "      <td>3</td>\n",
              "      <td>4394</td>\n",
              "    </tr>\n",
              "  </tbody>\n",
              "</table>\n",
              "</div>"
            ],
            "text/plain": [
              "          date  vano  ...  fase  total_roubos_furtos_veiculos\n",
              "218 2009-03-01  2009  ...     3                          4394\n",
              "\n",
              "[1 rows x 58 columns]"
            ]
          },
          "metadata": {
            "tags": []
          },
          "execution_count": 27
        }
      ]
    },
    {
      "cell_type": "markdown",
      "metadata": {
        "id": "D2Ys7C9hQXAh"
      },
      "source": [
        "  Através da análise de homícidios vimos que:\r\n",
        "* O mês e ano que teve maior homícidio doloso foi  em janeiro de 2009.\r\n",
        "* A média de homícidio foi de 396 por mês."
      ]
    },
    {
      "cell_type": "markdown",
      "metadata": {
        "id": "JX9sgwsFWce4"
      },
      "source": [
        "### Roubo de banco e caixas eletrônicos"
      ]
    },
    {
      "cell_type": "code",
      "metadata": {
        "colab": {
          "base_uri": "https://localhost:8080/"
        },
        "id": "Zpdo6UxB8NBk",
        "outputId": "98564704-fb1c-4c30-bab7-f5e090870a73"
      },
      "source": [
        "#Média de roubos em banco\r\n",
        "roubo_banco_mean = df_ultima_decada.roubo_banco.mean()\r\n",
        "\r\n",
        "#Média de roubos em caixa eletrônico\r\n",
        "roubo_cx_eletronico_mean = df_ultima_decada.roubo_cx_eletronico.mean()\r\n",
        "\r\n",
        "\r\n",
        "#Soma da média de roubo de banco e caixa eletrônicos\r\n",
        "total_banco_mean = roubo_banco_mean + roubo_cx_eletronico_mean\r\n",
        "\r\n",
        "print('A média de roubo de bancos foi: {:.2f}'.format(roubo_banco_mean))\r\n",
        "print('A média de roubo de caixas eletrônicos foi: {:.2f}'.format(roubo_cx_eletronico_mean))\r\n",
        "print('Total médio de roubo de bancos e caixa eletrônicos foi: {:.2f}'.format(total_banco_mean))"
      ],
      "execution_count": null,
      "outputs": [
        {
          "output_type": "stream",
          "text": [
            "A média de roubo de bancos foi: 2.14\n",
            "A média de roubo de caixas eletrônicos foi: 3.50\n",
            "Total médio de roubo de bancos e caixa eletrônicos foi: 5.65\n"
          ],
          "name": "stdout"
        }
      ]
    },
    {
      "cell_type": "markdown",
      "metadata": {
        "id": "TLvsEDxRX1ew"
      },
      "source": [
        "Através da análise das variáveis de `roubo_banco` e `furto_banco`ao longo do período.\r\n",
        "*  A média de roubo de caixas eletrônicos é muito maior com 3 roubos por mês."
      ]
    },
    {
      "cell_type": "markdown",
      "metadata": {
        "id": "7WK0NBQZASKC"
      },
      "source": [
        "## Visualização de Dados"
      ]
    },
    {
      "cell_type": "markdown",
      "metadata": {
        "id": "s0OOSn5XPAcs"
      },
      "source": [
        "Através do dataset vamos analisar os dados através de gráficos."
      ]
    },
    {
      "cell_type": "code",
      "metadata": {
        "colab": {
          "base_uri": "https://localhost:8080/"
        },
        "id": "dz76ShKy8LuA",
        "outputId": "187b2f18-460d-41ed-d509-c259b43476f5"
      },
      "source": [
        "#Plotagem de gráfico de homícidio doloso\r\n",
        "df_ultima_decada.hom_doloso.hist(grid= False, figsize = (12,6), label = 'Índice de homicídio doloso');\r\n",
        "plt.legend(frameon=False);\r\n",
        "plt.show();"
      ],
      "execution_count": null,
      "outputs": [
        {
          "output_type": "display_data",
          "data": {
            "image/png": "[encoded data removed]",
            "text/plain": [
              "<Figure size 864x432 with 1 Axes>"
            ]
          },
          "metadata": {
            "tags": [],
            "needs_background": "light"
          }
        }
      ]
    },
    {
      "cell_type": "markdown",
      "metadata": {
        "id": "y7C556I9PQWA"
      },
      "source": [
        "Através do gráfico acima, concluímos que:\r\n",
        "* Em 30 meses, houve de à 350 à 400 homicídios registrados ao longo do período."
      ]
    },
    {
      "cell_type": "code",
      "metadata": {
        "colab": {
          "base_uri": "https://localhost:8080/"
        },
        "id": "0j57y2tnB9gU",
        "outputId": "fd6fa124-fc65-4d32-d77a-68c2a1109471"
      },
      "source": [
        "#Plotagem de gráfico de roubos coletivos\r\n",
        "fig, ax = plt.subplots(figsize = (12,6));\r\n",
        "ax.plot(df_ultima_decada['date'],df_ultima_decada['roubo_em_coletivo'], label = 'Roubo coletivo');\r\n",
        "plt.legend(frameon=False);\r\n",
        "plt.show();"
      ],
      "execution_count": null,
      "outputs": [
        {
          "output_type": "display_data",
          "data": {
            "image/png": "[encoded data removed]",
            "text/plain": [
              "<Figure size 864x432 with 1 Axes>"
            ]
          },
          "metadata": {
            "tags": [],
            "needs_background": "light"
          }
        }
      ]
    },
    {
      "cell_type": "markdown",
      "metadata": {
        "id": "c25y3QKHQtCm"
      },
      "source": [
        "Através do gráfico acima, concluímos que:\r\n",
        "* O roubo coletivo está aumentando nos últimos anos."
      ]
    },
    {
      "cell_type": "code",
      "metadata": {
        "colab": {
          "base_uri": "https://localhost:8080/",
          "height": 54
        },
        "id": "sNbf3h-VCQ8L",
        "outputId": "15a1aeba-dd3b-419f-a19e-b691c24e0657"
      },
      "source": [
        "#Plotagem de gráfico de roubo em bancos \r\n",
        "fig, ax = plt.subplots(figsize = (12,6));\r\n",
        "ax.plot(df_ultima_decada['date'],df_ultima_decada['roubo_banco'], label = 'Roubo em bancos');\r\n",
        "plt.legend(frameon=False);\r\n",
        "plt.show();"
      ],
      "execution_count": null,
      "outputs": [
        {
          "output_type": "display_data",
          "data": {
            "image/png": "[encoded data removed]",
            "text/plain": [
              "<Figure size 864x432 with 1 Axes>"
            ]
          },
          "metadata": {
            "tags": [],
            "needs_background": "light"
          }
        }
      ]
    },
    {
      "cell_type": "markdown",
      "metadata": {
        "id": "xwC0qWXbRQVh"
      },
      "source": [
        "Através do gráfico acima, concluímos que:\r\n",
        "* O roubo em bancos está diminuindo nos últimos anos.\r\n",
        "* O recorde de roubos em um mês foi de 6 roubos por mês no ano de 2014."
      ]
    },
    {
      "cell_type": "code",
      "metadata": {
        "colab": {
          "base_uri": "https://localhost:8080/"
        },
        "id": "Yf8NuxkmFg9G",
        "outputId": "029266db-b7c2-46a8-ac16-bbee2963128f"
      },
      "source": [
        "#Plotagem de gráfico de roubo em caixas eletrônicos e roubo em bancos\r\n",
        "fig, ax = plt.subplots(figsize = (12,6));\r\n",
        "ax.plot(df_ultima_decada['date'],df_ultima_decada['roubo_banco'], label = 'Roubo em bancos');\r\n",
        "ax.plot(df_ultima_decada['date'],df_ultima_decada['roubo_cx_eletronico'], label = 'Roubo de caixas eletrônicos');\r\n",
        "plt.legend(frameon=False);\r\n",
        "plt.show();"
      ],
      "execution_count": null,
      "outputs": [
        {
          "output_type": "display_data",
          "data": {
            "image/png": "[encoded data removed]",
            "text/plain": [
              "<Figure size 864x432 with 1 Axes>"
            ]
          },
          "metadata": {
            "tags": [],
            "needs_background": "light"
          }
        }
      ]
    },
    {
      "cell_type": "markdown",
      "metadata": {
        "id": "v-HdCWkSRqBN"
      },
      "source": [
        "Através do gráfico acima, concluímos que:\r\n",
        "* O roubo de caixas eletrônicos foi superior ao roubo de bancos durante os anos."
      ]
    },
    {
      "cell_type": "code",
      "metadata": {
        "id": "rTfuRri-C2df",
        "colab": {
          "base_uri": "https://localhost:8080/"
        },
        "outputId": "9d8805b4-bcee-4a24-b90b-a49073a9d8e5"
      },
      "source": [
        "#Plotagem de gráfico de comparativo total de roubos e furtos de veículos e carros recuperados\r\n",
        "fig, ax = plt.subplots(figsize = (12,6));\r\n",
        "ax.plot(df_ultima_decada['date'], df_ultima_decada['total_roubos_furtos_veiculos'], color = 'red', label = 'Total roubos e furtos de veículos')\r\n",
        "ax.plot(df_ultima_decada['date'],df_ultima_decada['recuperacao_veiculos'], color = 'blue', label = 'Recuperação');\r\n",
        "plt.legend(frameon=False);\r\n",
        "plt.show();"
      ],
      "execution_count": null,
      "outputs": [
        {
          "output_type": "display_data",
          "data": {
            "image/png": "[encoded data removed]",
            "text/plain": [
              "<Figure size 864x432 with 1 Axes>"
            ]
          },
          "metadata": {
            "tags": [],
            "needs_background": "light"
          }
        }
      ]
    },
    {
      "cell_type": "markdown",
      "metadata": {
        "id": "089UTTxUSCyK"
      },
      "source": [
        "Através do gráfico acima, concluímos que:\r\n",
        "* As linhas de roubos e recuperação de veículos, estão similares, quer dizer, se um determinado mês teve maior roubos, consequentemente teve maior recuperação de veículos."
      ]
    },
    {
      "cell_type": "code",
      "metadata": {
        "colab": {
          "base_uri": "https://localhost:8080/",
          "height": 374
        },
        "id": "kcDB5KN5Kyzt",
        "outputId": "59ab87ea-278d-408d-cb9e-a6839720746e"
      },
      "source": [
        "#Plotagem de gráfico de roubo de celulares\r\n",
        "fig, ax = plt.subplots(figsize = (12,6));\r\n",
        "ax.plot(df_ultima_decada['date'], df_ultima_decada['roubo_celular'], label = 'Roubos de celulares')\r\n",
        "plt.legend(frameon=False);\r\n",
        "plt.show();"
      ],
      "execution_count": null,
      "outputs": [
        {
          "output_type": "display_data",
          "data": {
            "image/png": "[encoded data removed]",
            "text/plain": [
              "<Figure size 864x432 with 1 Axes>"
            ]
          },
          "metadata": {
            "tags": [],
            "needs_background": "light"
          }
        }
      ]
    },
    {
      "cell_type": "markdown",
      "metadata": {
        "id": "iS_59uiIS0Po"
      },
      "source": [
        "Através do gráfico acima, concluímos que:\r\n",
        "* Nos últimos anos o roubo de celulares vem disparando, isto é devido ao alto consumo do aparelho e a facilidade de roubo do mesmo."
      ]
    },
    {
      "cell_type": "markdown",
      "metadata": {
        "id": "LCsiXvM3BcsO"
      },
      "source": [
        "## Conclusão"
      ]
    },
    {
      "cell_type": "markdown",
      "metadata": {
        "id": "U_bCU48sTvHt"
      },
      "source": [
        "A partir das análises, podemos concluir que:\r\n",
        "\r\n",
        "* O dataset possui várias variáveis que estão com valores ausentes.\r\n",
        "* A recuperação de veículos roubados é de 49%.\r\n",
        "* A média de homícidios doloso é de 396 por mês.\r\n",
        "* O roubo coletivo vem aumentando durantes os últimos anos. \r\n",
        "* O roubo de bancos e caixas eletrônicos estão dimiuindo nos últimos anos. "
      ]
    },
    {
      "cell_type": "code",
      "metadata": {
        "id": "NEXv1jgW19Ss"
      },
      "source": [
        ""
      ],
      "execution_count": null,
      "outputs": []
    }
  ]
}