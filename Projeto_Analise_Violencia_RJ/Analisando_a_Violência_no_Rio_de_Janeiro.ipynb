{
  "nbformat": 4,
  "nbformat_minor": 0,
  "metadata": {
    "colab": {
      "name": "Analisando a Violência no Rio de Janeiro.ipynb",
      "provenance": [],
      "collapsed_sections": []
    },
    "kernelspec": {
      "name": "python3",
      "display_name": "Python 3"
    }
  },
  "cells": [
    {
      "cell_type": "markdown",
      "metadata": {
        "id": "-eFQZydM9O9J"
      },
      "source": [
        "<img alt=\"Colaboratory logo\" width=\"15%\" src=\"https://raw.githubusercontent.com/carlosfab/escola-data-science/master/img/novo_logo_bg_claro.png\">\n",
        "\n",
        "#### **Data Science na Prática 2.0**\n",
        "*by [sigmoidal.ai](https://sigmoidal.ai)*\n",
        "\n",
        "---\n",
        "\n",
        "**Instruções para o Projeto**\n",
        "\n",
        "* Você deve importar o pandas e importar a base de dados da Polícia Militar do Rio de Janeiro sobre a violência\n",
        "  * O arquivo `csv` se encontra no endereço abaixo:\n",
        "    * https://raw.githubusercontent.com/ladpedrino/DataSets/main/violencia_rio.csv\n",
        "  * Este arquivo `csv` foi pré-processado minimamente por mim, para focar nos pontos aprendidos neste Módulo\n",
        "  * Este é o site oficial, do Governo do Estado do Rio de Janeiro:\n",
        "    * http://www.ispdados.rj.gov.br/estatistica.html\n",
        "  * Um *dashboard* interativo e visual pode ser encontrado no site abaixo:\n",
        "    * http://www.ispvisualizacao.rj.gov.br/index.html\n",
        "  * Você está livre para apagar, alterar e acrescentar o que quiser!\n",
        "  * Se você sentiu dificuldade, não se preocupe! Disponibilizei a minha própria solução para servir de guia, porém tente fazer a sua por você mesmo inicialmente.\n",
        "    * Se sentir perdido é normal, mas acredite: O seu cérebro vai começar a adquirir uma capacidade nova de pensar em hipóteses e questionar dados.\n",
        "  \n",
        "  \n",
        "---\n",
        "  "
      ]
    },
    {
      "cell_type": "markdown",
      "metadata": {
        "id": "kLI0gJtzDGuQ"
      },
      "source": [
        "# Analisando a Violência no Rio de Janeiro\n",
        "\n",
        "O Rio de Janeiro (RJ) é um estado brasileiro localizado na região sudeste do Brasil, a sua capital Rio de Janeiro, conhecida como a cidade maravilhosa, constitui como um dos principais pontos turísticos do Brasil. Conhecida pelo visual deslumbrando do pão de açucar, e lindas praias na costa.\n",
        "Porém a cidade se destaca pelos altos índices de violência e criminalidade, na qual assustam os turstas e moradores. \n",
        "Neste artigo, vamos analisar os dados de violência ddo Rio de Janeiro, na qual foi obtido da página de dados abertos do instituto de segurança pública do Rio de Janeiro.\n",
        "\n",
        "<center><img alt=\"Rio de Janeiro\"width = \"60%\" src = \"https://hotelconsult.com.br/wp-content/uploads/2019/08/SETUR-RJ-2-1.jpg\"></center>"
      ]
    },
    {
      "cell_type": "markdown",
      "metadata": {
        "id": "0zxQHhIUDF_2"
      },
      "source": [
        "## Obtenção dos Dados\n",
        "\n",
        "Os dados foram obtidos diretamento do portal [ISPDados](http://www.ispdados.rj.gov.br/estatistica.html), que é uma página de Dados Abertos do Instituto de Segurança Pública do Rio de Janeiro.\n",
        "\n",
        "As estatísticas divulgadas no portal são construídas a partir dos Registros de Ocorrência (RO) lavrados nas delegacias de Polícia Civil do Estado do Rio de Janeiro, além de informações complementares de órgãos específicos da Polícia Militar do Estado do Rio de Janeiro.\n",
        "\n",
        "Como forma de criar um controle de qualidade, antes de serem consolidados no ISP os RO são submetidos à Corregedoria Interna da Polícia Civil (COINPOL). As estatísticas produzidas baseiam-se na data em que foi confeccionado o Registro de Ocorrência.\n",
        "\n",
        "No caso do *dataset* a ser utilizado aqui, o arquivo `csv` pode ser baixado diretamente [neste link](https://raw.githubusercontent.com/ladpedrino/DataSets/main/violencia_rio.csv)."
      ]
    },
    {
      "cell_type": "markdown",
      "metadata": {
        "id": "7vh4at0l90nr"
      },
      "source": [
        "### Importando os dados"
      ]
    },
    {
      "cell_type": "code",
      "metadata": {
        "id": "CYLNme_OCX_R"
      },
      "source": [
        "#importar pacotes\r\n",
        "import pandas as pd\r\n",
        "import numpy as np\r\n",
        "import matplotlib.pyplot as plt\r\n",
        "df = pd.read_csv ('https://raw.githubusercontent.com/ladpedrino/DataSets/main/violencia_rio.csv')"
      ],
      "execution_count": 1,
      "outputs": []
    },
    {
      "cell_type": "markdown",
      "metadata": {
        "id": "qb5By2nIMS6m"
      },
      "source": [
        "## Análise Inicial dos Dados\n",
        "\n",
        "* Qual o tamanho do seu DataFrame (`shape`)\n",
        "* Extrair e imprimir os nomes das colunas (`columns`)\n",
        "* Quais os tipos das variáveis (`dtypes`)\n",
        "* Visualizar as 5 primeiras linhas (`head`)\n",
        "* Identifique a porcentagem de valores ausentes das colunas\n"
      ]
    },
    {
      "cell_type": "code",
      "metadata": {
        "colab": {
          "base_uri": "https://localhost:8080/"
        },
        "id": "AXyhNxsuNesa",
        "outputId": "46e8806c-7213-4aac-bef3-d6c680e50f84"
      },
      "source": [
        "#Tamanho do DataFrame\r\n",
        "print(\"Variáveis: \", df.shape[1])\r\n",
        "print(\"Entradas: \", df.shape[0])"
      ],
      "execution_count": 2,
      "outputs": [
        {
          "output_type": "stream",
          "text": [
            "Variáveis:  56\n",
            "Entradas:  344\n"
          ],
          "name": "stdout"
        }
      ]
    },
    {
      "cell_type": "code",
      "metadata": {
        "colab": {
          "base_uri": "https://localhost:8080/"
        },
        "id": "2b7hd8QnNkdM",
        "outputId": "ea2311fe-24df-4343-eaf8-671831b94014"
      },
      "source": [
        "df.columns"
      ],
      "execution_count": 3,
      "outputs": [
        {
          "output_type": "execute_result",
          "data": {
            "text/plain": [
              "Index(['vano', 'mes', 'hom_doloso', 'lesao_corp_morte', 'latrocinio',\n",
              "       'hom_por_interv_policial', 'tentat_hom', 'lesao_corp_dolosa', 'estupro',\n",
              "       'hom_culposo', 'lesao_corp_culposa', 'roubo_comercio',\n",
              "       'roubo_residencia', 'roubo_veiculo', 'roubo_carga', 'roubo_transeunte',\n",
              "       'roubo_em_coletivo', 'roubo_banco', 'roubo_cx_eletronico',\n",
              "       'roubo_celular', 'roubo_conducao_saque', 'roubo_apos_saque',\n",
              "       'roubo_bicicleta', 'outros_roubos', 'total_roubos', 'furto_veiculos',\n",
              "       'furto_transeunte', 'furto_coletivo', 'furto_celular',\n",
              "       'furto_bicicleta', 'outros_furtos', 'total_furtos', 'sequestro',\n",
              "       'extorsao', 'sequestro_relampago', 'estelionato', 'apreensao_drogas',\n",
              "       'posse_drogas', 'trafico_drogas', 'apreensao_drogas_sem_autor',\n",
              "       'recuperacao_veiculos', 'apf', 'aaapai', 'cmp', 'cmba', 'ameaca',\n",
              "       'pessoas_desaparecidas', 'encontro_cadaver', 'encontro_ossada',\n",
              "       'pol_militares_mortos_serv', 'pol_civis_mortos_serv',\n",
              "       'indicador_letalidade', 'indicador_roubo_rua', 'indicador_roubo_veic',\n",
              "       'registro_ocorrencias', 'fase'],\n",
              "      dtype='object')"
            ]
          },
          "metadata": {
            "tags": []
          },
          "execution_count": 3
        }
      ]
    },
    {
      "cell_type": "code",
      "metadata": {
        "colab": {
          "base_uri": "https://localhost:8080/"
        },
        "id": "5aNAFn-oNszo",
        "outputId": "9d4e35ec-0212-4014-d0be-b53a0e7ce1ac"
      },
      "source": [
        "df.dtypes"
      ],
      "execution_count": 4,
      "outputs": [
        {
          "output_type": "execute_result",
          "data": {
            "text/plain": [
              "vano                            int64\n",
              "mes                             int64\n",
              "hom_doloso                      int64\n",
              "lesao_corp_morte              float64\n",
              "latrocinio                      int64\n",
              "hom_por_interv_policial       float64\n",
              "tentat_hom                      int64\n",
              "lesao_corp_dolosa               int64\n",
              "estupro                       float64\n",
              "hom_culposo                   float64\n",
              "lesao_corp_culposa            float64\n",
              "roubo_comercio                  int64\n",
              "roubo_residencia                int64\n",
              "roubo_veiculo                   int64\n",
              "roubo_carga                     int64\n",
              "roubo_transeunte                int64\n",
              "roubo_em_coletivo               int64\n",
              "roubo_banco                     int64\n",
              "roubo_cx_eletronico           float64\n",
              "roubo_celular                 float64\n",
              "roubo_conducao_saque          float64\n",
              "roubo_apos_saque              float64\n",
              "roubo_bicicleta               float64\n",
              "outros_roubos                   int64\n",
              "total_roubos                    int64\n",
              "furto_veiculos                  int64\n",
              "furto_transeunte                int64\n",
              "furto_coletivo                float64\n",
              "furto_celular                 float64\n",
              "furto_bicicleta               float64\n",
              "outros_furtos                   int64\n",
              "total_furtos                    int64\n",
              "sequestro                     float64\n",
              "extorsao                      float64\n",
              "sequestro_relampago           float64\n",
              "estelionato                   float64\n",
              "apreensao_drogas                int64\n",
              "posse_drogas                  float64\n",
              "trafico_drogas                float64\n",
              "apreensao_drogas_sem_autor    float64\n",
              "recuperacao_veiculos            int64\n",
              "apf                           float64\n",
              "aaapai                        float64\n",
              "cmp                           float64\n",
              "cmba                          float64\n",
              "ameaca                        float64\n",
              "pessoas_desaparecidas         float64\n",
              "encontro_cadaver                int64\n",
              "encontro_ossada               float64\n",
              "pol_militares_mortos_serv     float64\n",
              "pol_civis_mortos_serv         float64\n",
              "indicador_letalidade            int64\n",
              "indicador_roubo_rua             int64\n",
              "indicador_roubo_veic            int64\n",
              "registro_ocorrencias          float64\n",
              "fase                            int64\n",
              "dtype: object"
            ]
          },
          "metadata": {
            "tags": []
          },
          "execution_count": 4
        }
      ]
    },
    {
      "cell_type": "code",
      "metadata": {
        "colab": {
          "base_uri": "https://localhost:8080/",
          "height": 224
        },
        "id": "TqIXKCcaOKU7",
        "outputId": "652f4a09-c2a3-4c94-a8e4-3ad554f9f38d"
      },
      "source": [
        "df.head()"
      ],
      "execution_count": 5,
      "outputs": [
        {
          "output_type": "execute_result",
          "data": {
            "text/html": [
              "<div>\n",
              "<style scoped>\n",
              "    .dataframe tbody tr th:only-of-type {\n",
              "        vertical-align: middle;\n",
              "    }\n",
              "\n",
              "    .dataframe tbody tr th {\n",
              "        vertical-align: top;\n",
              "    }\n",
              "\n",
              "    .dataframe thead th {\n",
              "        text-align: right;\n",
              "    }\n",
              "</style>\n",
              "<table border=\"1\" class=\"dataframe\">\n",
              "  <thead>\n",
              "    <tr style=\"text-align: right;\">\n",
              "      <th></th>\n",
              "      <th>vano</th>\n",
              "      <th>mes</th>\n",
              "      <th>hom_doloso</th>\n",
              "      <th>lesao_corp_morte</th>\n",
              "      <th>latrocinio</th>\n",
              "      <th>hom_por_interv_policial</th>\n",
              "      <th>tentat_hom</th>\n",
              "      <th>lesao_corp_dolosa</th>\n",
              "      <th>estupro</th>\n",
              "      <th>hom_culposo</th>\n",
              "      <th>lesao_corp_culposa</th>\n",
              "      <th>roubo_comercio</th>\n",
              "      <th>roubo_residencia</th>\n",
              "      <th>roubo_veiculo</th>\n",
              "      <th>roubo_carga</th>\n",
              "      <th>roubo_transeunte</th>\n",
              "      <th>roubo_em_coletivo</th>\n",
              "      <th>roubo_banco</th>\n",
              "      <th>roubo_cx_eletronico</th>\n",
              "      <th>roubo_celular</th>\n",
              "      <th>roubo_conducao_saque</th>\n",
              "      <th>roubo_apos_saque</th>\n",
              "      <th>roubo_bicicleta</th>\n",
              "      <th>outros_roubos</th>\n",
              "      <th>total_roubos</th>\n",
              "      <th>furto_veiculos</th>\n",
              "      <th>furto_transeunte</th>\n",
              "      <th>furto_coletivo</th>\n",
              "      <th>furto_celular</th>\n",
              "      <th>furto_bicicleta</th>\n",
              "      <th>outros_furtos</th>\n",
              "      <th>total_furtos</th>\n",
              "      <th>sequestro</th>\n",
              "      <th>extorsao</th>\n",
              "      <th>sequestro_relampago</th>\n",
              "      <th>estelionato</th>\n",
              "      <th>apreensao_drogas</th>\n",
              "      <th>posse_drogas</th>\n",
              "      <th>trafico_drogas</th>\n",
              "      <th>apreensao_drogas_sem_autor</th>\n",
              "      <th>recuperacao_veiculos</th>\n",
              "      <th>apf</th>\n",
              "      <th>aaapai</th>\n",
              "      <th>cmp</th>\n",
              "      <th>cmba</th>\n",
              "      <th>ameaca</th>\n",
              "      <th>pessoas_desaparecidas</th>\n",
              "      <th>encontro_cadaver</th>\n",
              "      <th>encontro_ossada</th>\n",
              "      <th>pol_militares_mortos_serv</th>\n",
              "      <th>pol_civis_mortos_serv</th>\n",
              "      <th>indicador_letalidade</th>\n",
              "      <th>indicador_roubo_rua</th>\n",
              "      <th>indicador_roubo_veic</th>\n",
              "      <th>registro_ocorrencias</th>\n",
              "      <th>fase</th>\n",
              "    </tr>\n",
              "  </thead>\n",
              "  <tbody>\n",
              "    <tr>\n",
              "      <th>0</th>\n",
              "      <td>1991</td>\n",
              "      <td>1</td>\n",
              "      <td>657</td>\n",
              "      <td>NaN</td>\n",
              "      <td>15</td>\n",
              "      <td>NaN</td>\n",
              "      <td>162</td>\n",
              "      <td>3051</td>\n",
              "      <td>NaN</td>\n",
              "      <td>NaN</td>\n",
              "      <td>NaN</td>\n",
              "      <td>350</td>\n",
              "      <td>188</td>\n",
              "      <td>1174</td>\n",
              "      <td>63</td>\n",
              "      <td>967</td>\n",
              "      <td>381</td>\n",
              "      <td>37</td>\n",
              "      <td>NaN</td>\n",
              "      <td>NaN</td>\n",
              "      <td>NaN</td>\n",
              "      <td>NaN</td>\n",
              "      <td>NaN</td>\n",
              "      <td>158</td>\n",
              "      <td>3318</td>\n",
              "      <td>2009</td>\n",
              "      <td>1147</td>\n",
              "      <td>NaN</td>\n",
              "      <td>NaN</td>\n",
              "      <td>NaN</td>\n",
              "      <td>3561</td>\n",
              "      <td>6717</td>\n",
              "      <td>NaN</td>\n",
              "      <td>NaN</td>\n",
              "      <td>NaN</td>\n",
              "      <td>NaN</td>\n",
              "      <td>133</td>\n",
              "      <td>NaN</td>\n",
              "      <td>NaN</td>\n",
              "      <td>NaN</td>\n",
              "      <td>872</td>\n",
              "      <td>NaN</td>\n",
              "      <td>NaN</td>\n",
              "      <td>NaN</td>\n",
              "      <td>NaN</td>\n",
              "      <td>NaN</td>\n",
              "      <td>NaN</td>\n",
              "      <td>217</td>\n",
              "      <td>NaN</td>\n",
              "      <td>NaN</td>\n",
              "      <td>NaN</td>\n",
              "      <td>672</td>\n",
              "      <td>1348</td>\n",
              "      <td>1174</td>\n",
              "      <td>NaN</td>\n",
              "      <td>3</td>\n",
              "    </tr>\n",
              "    <tr>\n",
              "      <th>1</th>\n",
              "      <td>1991</td>\n",
              "      <td>2</td>\n",
              "      <td>732</td>\n",
              "      <td>NaN</td>\n",
              "      <td>17</td>\n",
              "      <td>NaN</td>\n",
              "      <td>175</td>\n",
              "      <td>3421</td>\n",
              "      <td>NaN</td>\n",
              "      <td>NaN</td>\n",
              "      <td>NaN</td>\n",
              "      <td>357</td>\n",
              "      <td>171</td>\n",
              "      <td>1097</td>\n",
              "      <td>64</td>\n",
              "      <td>963</td>\n",
              "      <td>432</td>\n",
              "      <td>35</td>\n",
              "      <td>NaN</td>\n",
              "      <td>NaN</td>\n",
              "      <td>NaN</td>\n",
              "      <td>NaN</td>\n",
              "      <td>NaN</td>\n",
              "      <td>142</td>\n",
              "      <td>3261</td>\n",
              "      <td>1850</td>\n",
              "      <td>1066</td>\n",
              "      <td>NaN</td>\n",
              "      <td>NaN</td>\n",
              "      <td>NaN</td>\n",
              "      <td>3309</td>\n",
              "      <td>6225</td>\n",
              "      <td>NaN</td>\n",
              "      <td>NaN</td>\n",
              "      <td>NaN</td>\n",
              "      <td>NaN</td>\n",
              "      <td>127</td>\n",
              "      <td>NaN</td>\n",
              "      <td>NaN</td>\n",
              "      <td>NaN</td>\n",
              "      <td>751</td>\n",
              "      <td>NaN</td>\n",
              "      <td>NaN</td>\n",
              "      <td>NaN</td>\n",
              "      <td>NaN</td>\n",
              "      <td>NaN</td>\n",
              "      <td>NaN</td>\n",
              "      <td>209</td>\n",
              "      <td>NaN</td>\n",
              "      <td>NaN</td>\n",
              "      <td>NaN</td>\n",
              "      <td>749</td>\n",
              "      <td>1395</td>\n",
              "      <td>1097</td>\n",
              "      <td>NaN</td>\n",
              "      <td>3</td>\n",
              "    </tr>\n",
              "    <tr>\n",
              "      <th>2</th>\n",
              "      <td>1991</td>\n",
              "      <td>3</td>\n",
              "      <td>713</td>\n",
              "      <td>NaN</td>\n",
              "      <td>25</td>\n",
              "      <td>NaN</td>\n",
              "      <td>216</td>\n",
              "      <td>3613</td>\n",
              "      <td>NaN</td>\n",
              "      <td>NaN</td>\n",
              "      <td>NaN</td>\n",
              "      <td>443</td>\n",
              "      <td>191</td>\n",
              "      <td>1265</td>\n",
              "      <td>71</td>\n",
              "      <td>963</td>\n",
              "      <td>422</td>\n",
              "      <td>43</td>\n",
              "      <td>NaN</td>\n",
              "      <td>NaN</td>\n",
              "      <td>NaN</td>\n",
              "      <td>NaN</td>\n",
              "      <td>NaN</td>\n",
              "      <td>131</td>\n",
              "      <td>3529</td>\n",
              "      <td>2084</td>\n",
              "      <td>1062</td>\n",
              "      <td>NaN</td>\n",
              "      <td>NaN</td>\n",
              "      <td>NaN</td>\n",
              "      <td>3573</td>\n",
              "      <td>6719</td>\n",
              "      <td>NaN</td>\n",
              "      <td>NaN</td>\n",
              "      <td>NaN</td>\n",
              "      <td>NaN</td>\n",
              "      <td>80</td>\n",
              "      <td>NaN</td>\n",
              "      <td>NaN</td>\n",
              "      <td>NaN</td>\n",
              "      <td>789</td>\n",
              "      <td>NaN</td>\n",
              "      <td>NaN</td>\n",
              "      <td>NaN</td>\n",
              "      <td>NaN</td>\n",
              "      <td>NaN</td>\n",
              "      <td>NaN</td>\n",
              "      <td>188</td>\n",
              "      <td>NaN</td>\n",
              "      <td>NaN</td>\n",
              "      <td>NaN</td>\n",
              "      <td>738</td>\n",
              "      <td>1385</td>\n",
              "      <td>1265</td>\n",
              "      <td>NaN</td>\n",
              "      <td>3</td>\n",
              "    </tr>\n",
              "    <tr>\n",
              "      <th>3</th>\n",
              "      <td>1991</td>\n",
              "      <td>4</td>\n",
              "      <td>634</td>\n",
              "      <td>NaN</td>\n",
              "      <td>20</td>\n",
              "      <td>NaN</td>\n",
              "      <td>200</td>\n",
              "      <td>3211</td>\n",
              "      <td>NaN</td>\n",
              "      <td>NaN</td>\n",
              "      <td>NaN</td>\n",
              "      <td>425</td>\n",
              "      <td>199</td>\n",
              "      <td>1415</td>\n",
              "      <td>81</td>\n",
              "      <td>1186</td>\n",
              "      <td>354</td>\n",
              "      <td>36</td>\n",
              "      <td>NaN</td>\n",
              "      <td>NaN</td>\n",
              "      <td>NaN</td>\n",
              "      <td>NaN</td>\n",
              "      <td>NaN</td>\n",
              "      <td>112</td>\n",
              "      <td>3808</td>\n",
              "      <td>2085</td>\n",
              "      <td>1195</td>\n",
              "      <td>NaN</td>\n",
              "      <td>NaN</td>\n",
              "      <td>NaN</td>\n",
              "      <td>3290</td>\n",
              "      <td>6570</td>\n",
              "      <td>NaN</td>\n",
              "      <td>NaN</td>\n",
              "      <td>NaN</td>\n",
              "      <td>NaN</td>\n",
              "      <td>133</td>\n",
              "      <td>NaN</td>\n",
              "      <td>NaN</td>\n",
              "      <td>NaN</td>\n",
              "      <td>787</td>\n",
              "      <td>NaN</td>\n",
              "      <td>NaN</td>\n",
              "      <td>NaN</td>\n",
              "      <td>NaN</td>\n",
              "      <td>NaN</td>\n",
              "      <td>NaN</td>\n",
              "      <td>140</td>\n",
              "      <td>NaN</td>\n",
              "      <td>NaN</td>\n",
              "      <td>NaN</td>\n",
              "      <td>654</td>\n",
              "      <td>1540</td>\n",
              "      <td>1415</td>\n",
              "      <td>NaN</td>\n",
              "      <td>3</td>\n",
              "    </tr>\n",
              "    <tr>\n",
              "      <th>4</th>\n",
              "      <td>1991</td>\n",
              "      <td>5</td>\n",
              "      <td>650</td>\n",
              "      <td>NaN</td>\n",
              "      <td>20</td>\n",
              "      <td>NaN</td>\n",
              "      <td>146</td>\n",
              "      <td>3051</td>\n",
              "      <td>NaN</td>\n",
              "      <td>NaN</td>\n",
              "      <td>NaN</td>\n",
              "      <td>553</td>\n",
              "      <td>231</td>\n",
              "      <td>1449</td>\n",
              "      <td>82</td>\n",
              "      <td>931</td>\n",
              "      <td>335</td>\n",
              "      <td>27</td>\n",
              "      <td>NaN</td>\n",
              "      <td>NaN</td>\n",
              "      <td>NaN</td>\n",
              "      <td>NaN</td>\n",
              "      <td>NaN</td>\n",
              "      <td>147</td>\n",
              "      <td>3755</td>\n",
              "      <td>2185</td>\n",
              "      <td>723</td>\n",
              "      <td>NaN</td>\n",
              "      <td>NaN</td>\n",
              "      <td>NaN</td>\n",
              "      <td>3546</td>\n",
              "      <td>6454</td>\n",
              "      <td>NaN</td>\n",
              "      <td>NaN</td>\n",
              "      <td>NaN</td>\n",
              "      <td>NaN</td>\n",
              "      <td>163</td>\n",
              "      <td>NaN</td>\n",
              "      <td>NaN</td>\n",
              "      <td>NaN</td>\n",
              "      <td>845</td>\n",
              "      <td>NaN</td>\n",
              "      <td>NaN</td>\n",
              "      <td>NaN</td>\n",
              "      <td>NaN</td>\n",
              "      <td>NaN</td>\n",
              "      <td>NaN</td>\n",
              "      <td>78</td>\n",
              "      <td>NaN</td>\n",
              "      <td>NaN</td>\n",
              "      <td>NaN</td>\n",
              "      <td>670</td>\n",
              "      <td>1266</td>\n",
              "      <td>1449</td>\n",
              "      <td>NaN</td>\n",
              "      <td>3</td>\n",
              "    </tr>\n",
              "  </tbody>\n",
              "</table>\n",
              "</div>"
            ],
            "text/plain": [
              "   vano  mes  hom_doloso  ...  indicador_roubo_veic  registro_ocorrencias  fase\n",
              "0  1991    1         657  ...                  1174                   NaN     3\n",
              "1  1991    2         732  ...                  1097                   NaN     3\n",
              "2  1991    3         713  ...                  1265                   NaN     3\n",
              "3  1991    4         634  ...                  1415                   NaN     3\n",
              "4  1991    5         650  ...                  1449                   NaN     3\n",
              "\n",
              "[5 rows x 56 columns]"
            ]
          },
          "metadata": {
            "tags": []
          },
          "execution_count": 5
        }
      ]
    },
    {
      "cell_type": "code",
      "metadata": {
        "id": "ngh8mKCoA4sm"
      },
      "source": [
        "#Criar a coluna date na primeiram posição (lembrando que começa com 0), com o ano e mês \r\n",
        "df.insert(0,'date',df['mes'].astype(str) + '/' + df['vano'].astype(str))\r\n",
        "#df['date'] = df['mes'].astype(str) + '/' + df['vano'].astype(str)\r\n",
        "\r\n",
        "#Converter a variável date para datetime e a formatação Mês/Ano\r\n",
        "df['date'] = pd.to_datetime(df['date'], format = '%m/%Y')"
      ],
      "execution_count": 6,
      "outputs": []
    },
    {
      "cell_type": "code",
      "metadata": {
        "id": "vVw4KDE9HUSV"
      },
      "source": [
        "df['total_roubos_furtos_veiculos'] = df['furto_veiculos'] + df['roubo_veiculo']\r\n"
      ],
      "execution_count": 7,
      "outputs": []
    },
    {
      "cell_type": "code",
      "metadata": {
        "colab": {
          "base_uri": "https://localhost:8080/"
        },
        "id": "PuKXYvhIHRRP",
        "outputId": "5994c5a2-2a16-437d-c879-83f1b8223c43"
      },
      "source": [
        "print(df.dtypes)"
      ],
      "execution_count": 8,
      "outputs": [
        {
          "output_type": "stream",
          "text": [
            "date                            datetime64[ns]\n",
            "vano                                     int64\n",
            "mes                                      int64\n",
            "hom_doloso                               int64\n",
            "lesao_corp_morte                       float64\n",
            "latrocinio                               int64\n",
            "hom_por_interv_policial                float64\n",
            "tentat_hom                               int64\n",
            "lesao_corp_dolosa                        int64\n",
            "estupro                                float64\n",
            "hom_culposo                            float64\n",
            "lesao_corp_culposa                     float64\n",
            "roubo_comercio                           int64\n",
            "roubo_residencia                         int64\n",
            "roubo_veiculo                            int64\n",
            "roubo_carga                              int64\n",
            "roubo_transeunte                         int64\n",
            "roubo_em_coletivo                        int64\n",
            "roubo_banco                              int64\n",
            "roubo_cx_eletronico                    float64\n",
            "roubo_celular                          float64\n",
            "roubo_conducao_saque                   float64\n",
            "roubo_apos_saque                       float64\n",
            "roubo_bicicleta                        float64\n",
            "outros_roubos                            int64\n",
            "total_roubos                             int64\n",
            "furto_veiculos                           int64\n",
            "furto_transeunte                         int64\n",
            "furto_coletivo                         float64\n",
            "furto_celular                          float64\n",
            "furto_bicicleta                        float64\n",
            "outros_furtos                            int64\n",
            "total_furtos                             int64\n",
            "sequestro                              float64\n",
            "extorsao                               float64\n",
            "sequestro_relampago                    float64\n",
            "estelionato                            float64\n",
            "apreensao_drogas                         int64\n",
            "posse_drogas                           float64\n",
            "trafico_drogas                         float64\n",
            "apreensao_drogas_sem_autor             float64\n",
            "recuperacao_veiculos                     int64\n",
            "apf                                    float64\n",
            "aaapai                                 float64\n",
            "cmp                                    float64\n",
            "cmba                                   float64\n",
            "ameaca                                 float64\n",
            "pessoas_desaparecidas                  float64\n",
            "encontro_cadaver                         int64\n",
            "encontro_ossada                        float64\n",
            "pol_militares_mortos_serv              float64\n",
            "pol_civis_mortos_serv                  float64\n",
            "indicador_letalidade                     int64\n",
            "indicador_roubo_rua                      int64\n",
            "indicador_roubo_veic                     int64\n",
            "registro_ocorrencias                   float64\n",
            "fase                                     int64\n",
            "total_roubos_furtos_veiculos             int64\n",
            "dtype: object\n"
          ],
          "name": "stdout"
        }
      ]
    },
    {
      "cell_type": "code",
      "metadata": {
        "colab": {
          "base_uri": "https://localhost:8080/",
          "height": 309
        },
        "id": "inIp2mK-CD1m",
        "outputId": "75954ce1-c63e-4d61-aa34-468e4fdd0e98"
      },
      "source": [
        "df.head()"
      ],
      "execution_count": 9,
      "outputs": [
        {
          "output_type": "execute_result",
          "data": {
            "text/html": [
              "<div>\n",
              "<style scoped>\n",
              "    .dataframe tbody tr th:only-of-type {\n",
              "        vertical-align: middle;\n",
              "    }\n",
              "\n",
              "    .dataframe tbody tr th {\n",
              "        vertical-align: top;\n",
              "    }\n",
              "\n",
              "    .dataframe thead th {\n",
              "        text-align: right;\n",
              "    }\n",
              "</style>\n",
              "<table border=\"1\" class=\"dataframe\">\n",
              "  <thead>\n",
              "    <tr style=\"text-align: right;\">\n",
              "      <th></th>\n",
              "      <th>date</th>\n",
              "      <th>vano</th>\n",
              "      <th>mes</th>\n",
              "      <th>hom_doloso</th>\n",
              "      <th>lesao_corp_morte</th>\n",
              "      <th>latrocinio</th>\n",
              "      <th>hom_por_interv_policial</th>\n",
              "      <th>tentat_hom</th>\n",
              "      <th>lesao_corp_dolosa</th>\n",
              "      <th>estupro</th>\n",
              "      <th>hom_culposo</th>\n",
              "      <th>lesao_corp_culposa</th>\n",
              "      <th>roubo_comercio</th>\n",
              "      <th>roubo_residencia</th>\n",
              "      <th>roubo_veiculo</th>\n",
              "      <th>roubo_carga</th>\n",
              "      <th>roubo_transeunte</th>\n",
              "      <th>roubo_em_coletivo</th>\n",
              "      <th>roubo_banco</th>\n",
              "      <th>roubo_cx_eletronico</th>\n",
              "      <th>roubo_celular</th>\n",
              "      <th>roubo_conducao_saque</th>\n",
              "      <th>roubo_apos_saque</th>\n",
              "      <th>roubo_bicicleta</th>\n",
              "      <th>outros_roubos</th>\n",
              "      <th>total_roubos</th>\n",
              "      <th>furto_veiculos</th>\n",
              "      <th>furto_transeunte</th>\n",
              "      <th>furto_coletivo</th>\n",
              "      <th>furto_celular</th>\n",
              "      <th>furto_bicicleta</th>\n",
              "      <th>outros_furtos</th>\n",
              "      <th>total_furtos</th>\n",
              "      <th>sequestro</th>\n",
              "      <th>extorsao</th>\n",
              "      <th>sequestro_relampago</th>\n",
              "      <th>estelionato</th>\n",
              "      <th>apreensao_drogas</th>\n",
              "      <th>posse_drogas</th>\n",
              "      <th>trafico_drogas</th>\n",
              "      <th>apreensao_drogas_sem_autor</th>\n",
              "      <th>recuperacao_veiculos</th>\n",
              "      <th>apf</th>\n",
              "      <th>aaapai</th>\n",
              "      <th>cmp</th>\n",
              "      <th>cmba</th>\n",
              "      <th>ameaca</th>\n",
              "      <th>pessoas_desaparecidas</th>\n",
              "      <th>encontro_cadaver</th>\n",
              "      <th>encontro_ossada</th>\n",
              "      <th>pol_militares_mortos_serv</th>\n",
              "      <th>pol_civis_mortos_serv</th>\n",
              "      <th>indicador_letalidade</th>\n",
              "      <th>indicador_roubo_rua</th>\n",
              "      <th>indicador_roubo_veic</th>\n",
              "      <th>registro_ocorrencias</th>\n",
              "      <th>fase</th>\n",
              "      <th>total_roubos_furtos_veiculos</th>\n",
              "    </tr>\n",
              "  </thead>\n",
              "  <tbody>\n",
              "    <tr>\n",
              "      <th>0</th>\n",
              "      <td>1991-01-01</td>\n",
              "      <td>1991</td>\n",
              "      <td>1</td>\n",
              "      <td>657</td>\n",
              "      <td>NaN</td>\n",
              "      <td>15</td>\n",
              "      <td>NaN</td>\n",
              "      <td>162</td>\n",
              "      <td>3051</td>\n",
              "      <td>NaN</td>\n",
              "      <td>NaN</td>\n",
              "      <td>NaN</td>\n",
              "      <td>350</td>\n",
              "      <td>188</td>\n",
              "      <td>1174</td>\n",
              "      <td>63</td>\n",
              "      <td>967</td>\n",
              "      <td>381</td>\n",
              "      <td>37</td>\n",
              "      <td>NaN</td>\n",
              "      <td>NaN</td>\n",
              "      <td>NaN</td>\n",
              "      <td>NaN</td>\n",
              "      <td>NaN</td>\n",
              "      <td>158</td>\n",
              "      <td>3318</td>\n",
              "      <td>2009</td>\n",
              "      <td>1147</td>\n",
              "      <td>NaN</td>\n",
              "      <td>NaN</td>\n",
              "      <td>NaN</td>\n",
              "      <td>3561</td>\n",
              "      <td>6717</td>\n",
              "      <td>NaN</td>\n",
              "      <td>NaN</td>\n",
              "      <td>NaN</td>\n",
              "      <td>NaN</td>\n",
              "      <td>133</td>\n",
              "      <td>NaN</td>\n",
              "      <td>NaN</td>\n",
              "      <td>NaN</td>\n",
              "      <td>872</td>\n",
              "      <td>NaN</td>\n",
              "      <td>NaN</td>\n",
              "      <td>NaN</td>\n",
              "      <td>NaN</td>\n",
              "      <td>NaN</td>\n",
              "      <td>NaN</td>\n",
              "      <td>217</td>\n",
              "      <td>NaN</td>\n",
              "      <td>NaN</td>\n",
              "      <td>NaN</td>\n",
              "      <td>672</td>\n",
              "      <td>1348</td>\n",
              "      <td>1174</td>\n",
              "      <td>NaN</td>\n",
              "      <td>3</td>\n",
              "      <td>3183</td>\n",
              "    </tr>\n",
              "    <tr>\n",
              "      <th>1</th>\n",
              "      <td>1991-02-01</td>\n",
              "      <td>1991</td>\n",
              "      <td>2</td>\n",
              "      <td>732</td>\n",
              "      <td>NaN</td>\n",
              "      <td>17</td>\n",
              "      <td>NaN</td>\n",
              "      <td>175</td>\n",
              "      <td>3421</td>\n",
              "      <td>NaN</td>\n",
              "      <td>NaN</td>\n",
              "      <td>NaN</td>\n",
              "      <td>357</td>\n",
              "      <td>171</td>\n",
              "      <td>1097</td>\n",
              "      <td>64</td>\n",
              "      <td>963</td>\n",
              "      <td>432</td>\n",
              "      <td>35</td>\n",
              "      <td>NaN</td>\n",
              "      <td>NaN</td>\n",
              "      <td>NaN</td>\n",
              "      <td>NaN</td>\n",
              "      <td>NaN</td>\n",
              "      <td>142</td>\n",
              "      <td>3261</td>\n",
              "      <td>1850</td>\n",
              "      <td>1066</td>\n",
              "      <td>NaN</td>\n",
              "      <td>NaN</td>\n",
              "      <td>NaN</td>\n",
              "      <td>3309</td>\n",
              "      <td>6225</td>\n",
              "      <td>NaN</td>\n",
              "      <td>NaN</td>\n",
              "      <td>NaN</td>\n",
              "      <td>NaN</td>\n",
              "      <td>127</td>\n",
              "      <td>NaN</td>\n",
              "      <td>NaN</td>\n",
              "      <td>NaN</td>\n",
              "      <td>751</td>\n",
              "      <td>NaN</td>\n",
              "      <td>NaN</td>\n",
              "      <td>NaN</td>\n",
              "      <td>NaN</td>\n",
              "      <td>NaN</td>\n",
              "      <td>NaN</td>\n",
              "      <td>209</td>\n",
              "      <td>NaN</td>\n",
              "      <td>NaN</td>\n",
              "      <td>NaN</td>\n",
              "      <td>749</td>\n",
              "      <td>1395</td>\n",
              "      <td>1097</td>\n",
              "      <td>NaN</td>\n",
              "      <td>3</td>\n",
              "      <td>2947</td>\n",
              "    </tr>\n",
              "    <tr>\n",
              "      <th>2</th>\n",
              "      <td>1991-03-01</td>\n",
              "      <td>1991</td>\n",
              "      <td>3</td>\n",
              "      <td>713</td>\n",
              "      <td>NaN</td>\n",
              "      <td>25</td>\n",
              "      <td>NaN</td>\n",
              "      <td>216</td>\n",
              "      <td>3613</td>\n",
              "      <td>NaN</td>\n",
              "      <td>NaN</td>\n",
              "      <td>NaN</td>\n",
              "      <td>443</td>\n",
              "      <td>191</td>\n",
              "      <td>1265</td>\n",
              "      <td>71</td>\n",
              "      <td>963</td>\n",
              "      <td>422</td>\n",
              "      <td>43</td>\n",
              "      <td>NaN</td>\n",
              "      <td>NaN</td>\n",
              "      <td>NaN</td>\n",
              "      <td>NaN</td>\n",
              "      <td>NaN</td>\n",
              "      <td>131</td>\n",
              "      <td>3529</td>\n",
              "      <td>2084</td>\n",
              "      <td>1062</td>\n",
              "      <td>NaN</td>\n",
              "      <td>NaN</td>\n",
              "      <td>NaN</td>\n",
              "      <td>3573</td>\n",
              "      <td>6719</td>\n",
              "      <td>NaN</td>\n",
              "      <td>NaN</td>\n",
              "      <td>NaN</td>\n",
              "      <td>NaN</td>\n",
              "      <td>80</td>\n",
              "      <td>NaN</td>\n",
              "      <td>NaN</td>\n",
              "      <td>NaN</td>\n",
              "      <td>789</td>\n",
              "      <td>NaN</td>\n",
              "      <td>NaN</td>\n",
              "      <td>NaN</td>\n",
              "      <td>NaN</td>\n",
              "      <td>NaN</td>\n",
              "      <td>NaN</td>\n",
              "      <td>188</td>\n",
              "      <td>NaN</td>\n",
              "      <td>NaN</td>\n",
              "      <td>NaN</td>\n",
              "      <td>738</td>\n",
              "      <td>1385</td>\n",
              "      <td>1265</td>\n",
              "      <td>NaN</td>\n",
              "      <td>3</td>\n",
              "      <td>3349</td>\n",
              "    </tr>\n",
              "    <tr>\n",
              "      <th>3</th>\n",
              "      <td>1991-04-01</td>\n",
              "      <td>1991</td>\n",
              "      <td>4</td>\n",
              "      <td>634</td>\n",
              "      <td>NaN</td>\n",
              "      <td>20</td>\n",
              "      <td>NaN</td>\n",
              "      <td>200</td>\n",
              "      <td>3211</td>\n",
              "      <td>NaN</td>\n",
              "      <td>NaN</td>\n",
              "      <td>NaN</td>\n",
              "      <td>425</td>\n",
              "      <td>199</td>\n",
              "      <td>1415</td>\n",
              "      <td>81</td>\n",
              "      <td>1186</td>\n",
              "      <td>354</td>\n",
              "      <td>36</td>\n",
              "      <td>NaN</td>\n",
              "      <td>NaN</td>\n",
              "      <td>NaN</td>\n",
              "      <td>NaN</td>\n",
              "      <td>NaN</td>\n",
              "      <td>112</td>\n",
              "      <td>3808</td>\n",
              "      <td>2085</td>\n",
              "      <td>1195</td>\n",
              "      <td>NaN</td>\n",
              "      <td>NaN</td>\n",
              "      <td>NaN</td>\n",
              "      <td>3290</td>\n",
              "      <td>6570</td>\n",
              "      <td>NaN</td>\n",
              "      <td>NaN</td>\n",
              "      <td>NaN</td>\n",
              "      <td>NaN</td>\n",
              "      <td>133</td>\n",
              "      <td>NaN</td>\n",
              "      <td>NaN</td>\n",
              "      <td>NaN</td>\n",
              "      <td>787</td>\n",
              "      <td>NaN</td>\n",
              "      <td>NaN</td>\n",
              "      <td>NaN</td>\n",
              "      <td>NaN</td>\n",
              "      <td>NaN</td>\n",
              "      <td>NaN</td>\n",
              "      <td>140</td>\n",
              "      <td>NaN</td>\n",
              "      <td>NaN</td>\n",
              "      <td>NaN</td>\n",
              "      <td>654</td>\n",
              "      <td>1540</td>\n",
              "      <td>1415</td>\n",
              "      <td>NaN</td>\n",
              "      <td>3</td>\n",
              "      <td>3500</td>\n",
              "    </tr>\n",
              "    <tr>\n",
              "      <th>4</th>\n",
              "      <td>1991-05-01</td>\n",
              "      <td>1991</td>\n",
              "      <td>5</td>\n",
              "      <td>650</td>\n",
              "      <td>NaN</td>\n",
              "      <td>20</td>\n",
              "      <td>NaN</td>\n",
              "      <td>146</td>\n",
              "      <td>3051</td>\n",
              "      <td>NaN</td>\n",
              "      <td>NaN</td>\n",
              "      <td>NaN</td>\n",
              "      <td>553</td>\n",
              "      <td>231</td>\n",
              "      <td>1449</td>\n",
              "      <td>82</td>\n",
              "      <td>931</td>\n",
              "      <td>335</td>\n",
              "      <td>27</td>\n",
              "      <td>NaN</td>\n",
              "      <td>NaN</td>\n",
              "      <td>NaN</td>\n",
              "      <td>NaN</td>\n",
              "      <td>NaN</td>\n",
              "      <td>147</td>\n",
              "      <td>3755</td>\n",
              "      <td>2185</td>\n",
              "      <td>723</td>\n",
              "      <td>NaN</td>\n",
              "      <td>NaN</td>\n",
              "      <td>NaN</td>\n",
              "      <td>3546</td>\n",
              "      <td>6454</td>\n",
              "      <td>NaN</td>\n",
              "      <td>NaN</td>\n",
              "      <td>NaN</td>\n",
              "      <td>NaN</td>\n",
              "      <td>163</td>\n",
              "      <td>NaN</td>\n",
              "      <td>NaN</td>\n",
              "      <td>NaN</td>\n",
              "      <td>845</td>\n",
              "      <td>NaN</td>\n",
              "      <td>NaN</td>\n",
              "      <td>NaN</td>\n",
              "      <td>NaN</td>\n",
              "      <td>NaN</td>\n",
              "      <td>NaN</td>\n",
              "      <td>78</td>\n",
              "      <td>NaN</td>\n",
              "      <td>NaN</td>\n",
              "      <td>NaN</td>\n",
              "      <td>670</td>\n",
              "      <td>1266</td>\n",
              "      <td>1449</td>\n",
              "      <td>NaN</td>\n",
              "      <td>3</td>\n",
              "      <td>3634</td>\n",
              "    </tr>\n",
              "  </tbody>\n",
              "</table>\n",
              "</div>"
            ],
            "text/plain": [
              "        date  vano  ...  fase  total_roubos_furtos_veiculos\n",
              "0 1991-01-01  1991  ...     3                          3183\n",
              "1 1991-02-01  1991  ...     3                          2947\n",
              "2 1991-03-01  1991  ...     3                          3349\n",
              "3 1991-04-01  1991  ...     3                          3500\n",
              "4 1991-05-01  1991  ...     3                          3634\n",
              "\n",
              "[5 rows x 58 columns]"
            ]
          },
          "metadata": {
            "tags": []
          },
          "execution_count": 9
        }
      ]
    },
    {
      "cell_type": "code",
      "metadata": {
        "colab": {
          "base_uri": "https://localhost:8080/"
        },
        "id": "rRJOQJPpOQ-3",
        "outputId": "4e631451-d308-4f58-9334-b74d9acfc5fe"
      },
      "source": [
        "# ordenar em ordem decrescente as variáveis por seus valores ausentes\r\n",
        "(df.isnull().sum() / df.shape[0]).sort_values(ascending = False)"
      ],
      "execution_count": 10,
      "outputs": [
        {
          "output_type": "execute_result",
          "data": {
            "text/plain": [
              "furto_bicicleta                 0.802326\n",
              "roubo_bicicleta                 0.802326\n",
              "aaapai                          0.523256\n",
              "posse_drogas                    0.523256\n",
              "trafico_drogas                  0.523256\n",
              "apreensao_drogas_sem_autor      0.523256\n",
              "apf                             0.523256\n",
              "cmba                            0.523256\n",
              "cmp                             0.523256\n",
              "estupro                         0.418605\n",
              "extorsao                        0.418605\n",
              "sequestro_relampago             0.418605\n",
              "estelionato                     0.418605\n",
              "roubo_apos_saque                0.418605\n",
              "furto_coletivo                  0.418605\n",
              "pol_militares_mortos_serv       0.418605\n",
              "pol_civis_mortos_serv           0.418605\n",
              "roubo_conducao_saque            0.418605\n",
              "roubo_cx_eletronico             0.418605\n",
              "furto_celular                   0.418605\n",
              "pessoas_desaparecidas           0.383721\n",
              "encontro_ossada                 0.383721\n",
              "roubo_celular                   0.313953\n",
              "ameaca                          0.279070\n",
              "lesao_corp_morte                0.279070\n",
              "sequestro                       0.279070\n",
              "lesao_corp_culposa              0.279070\n",
              "registro_ocorrencias            0.279070\n",
              "hom_culposo                     0.244186\n",
              "hom_por_interv_policial         0.244186\n",
              "lesao_corp_dolosa               0.000000\n",
              "tentat_hom                      0.000000\n",
              "roubo_comercio                  0.000000\n",
              "roubo_residencia                0.000000\n",
              "roubo_transeunte                0.000000\n",
              "latrocinio                      0.000000\n",
              "hom_doloso                      0.000000\n",
              "mes                             0.000000\n",
              "vano                            0.000000\n",
              "roubo_veiculo                   0.000000\n",
              "roubo_carga                     0.000000\n",
              "total_roubos_furtos_veiculos    0.000000\n",
              "roubo_em_coletivo               0.000000\n",
              "roubo_banco                     0.000000\n",
              "outros_roubos                   0.000000\n",
              "total_roubos                    0.000000\n",
              "furto_veiculos                  0.000000\n",
              "furto_transeunte                0.000000\n",
              "fase                            0.000000\n",
              "outros_furtos                   0.000000\n",
              "total_furtos                    0.000000\n",
              "apreensao_drogas                0.000000\n",
              "recuperacao_veiculos            0.000000\n",
              "encontro_cadaver                0.000000\n",
              "indicador_letalidade            0.000000\n",
              "indicador_roubo_rua             0.000000\n",
              "indicador_roubo_veic            0.000000\n",
              "date                            0.000000\n",
              "dtype: float64"
            ]
          },
          "metadata": {
            "tags": []
          },
          "execution_count": 10
        }
      ]
    },
    {
      "cell_type": "markdown",
      "metadata": {
        "id": "VZfgDU1-EDXw"
      },
      "source": [
        "Conforme acima, as variáveis `roubo_bicicleta` e `furto_bicicleta` compõe 80% de valores ausentes. Não é recomendável excluir todas os valores,  então vamos verificar o valor da mediana de uma das variáveis, `furto_bicicleta`.\r\n",
        "\r\n",
        "\r\n",
        "\r\n"
      ]
    },
    {
      "cell_type": "code",
      "metadata": {
        "colab": {
          "base_uri": "https://localhost:8080/"
        },
        "id": "FozU_lVxMH2q",
        "outputId": "ec6cb737-f29c-46ac-9218-f4f490739785"
      },
      "source": [
        "#verificar o shape antes\r\n",
        "shape_antes = df.shape\r\n",
        "print(\"Antes:\\t\", shape_antes)\r\n",
        "\r\n",
        "#Criar uma cópia do dataframe\r\n",
        "df_clear = df.copy()\r\n",
        "df_clear.dropna(subset = ['furto_bicicleta'], inplace = True)\r\n",
        "\r\n",
        "#Verificar o shape depois\r\n",
        "\r\n",
        "shape_depois = df_clear.shape\r\n",
        "print(\"Depois:\\t\", shape_depois)"
      ],
      "execution_count": 11,
      "outputs": [
        {
          "output_type": "stream",
          "text": [
            "Antes:\t (344, 58)\n",
            "Depois:\t (68, 58)\n"
          ],
          "name": "stdout"
        }
      ]
    },
    {
      "cell_type": "markdown",
      "metadata": {
        "id": "9fY2UxPtVDyX"
      },
      "source": [
        "Como exemplo da variável `furto_bicicleta`, se excluir, diminui consideravelmente as entradas, assim a melhor forma é de calcular o valor da mediana e substituir os valores que estão vazios:"
      ]
    },
    {
      "cell_type": "code",
      "metadata": {
        "colab": {
          "base_uri": "https://localhost:8080/"
        },
        "id": "3eLXgkEhEgDK",
        "outputId": "1f2a4b85-8c43-47a4-f333-f715f9460b88"
      },
      "source": [
        "furto_bicicleta_mediana = df.furto_bicicleta.median()\r\n",
        "print(furto_bicicleta_mediana)"
      ],
      "execution_count": 12,
      "outputs": [
        {
          "output_type": "stream",
          "text": [
            "158.0\n"
          ],
          "name": "stdout"
        }
      ]
    },
    {
      "cell_type": "code",
      "metadata": {
        "colab": {
          "base_uri": "https://localhost:8080/"
        },
        "id": "jkCrwlogGJFG",
        "outputId": "6a69f32f-2572-46ff-9483-4f2f2e64510f"
      },
      "source": [
        "df.fillna(furto_bicicleta_mediana, inplace = True)\r\n",
        "df.furto_bicicleta.isnull().sum()"
      ],
      "execution_count": 13,
      "outputs": [
        {
          "output_type": "execute_result",
          "data": {
            "text/plain": [
              "0"
            ]
          },
          "metadata": {
            "tags": []
          },
          "execution_count": 13
        }
      ]
    },
    {
      "cell_type": "markdown",
      "metadata": {
        "id": "0GKEtWudKXfg"
      },
      "source": [
        "Agora vamos fazer a mesma coisa para a variável `roubo_bicicleta`."
      ]
    },
    {
      "cell_type": "code",
      "metadata": {
        "colab": {
          "base_uri": "https://localhost:8080/"
        },
        "id": "5qn4ZNgHKRG7",
        "outputId": "110fed40-9c56-4506-b21c-ae4821dc9981"
      },
      "source": [
        "roubo_bicicleta_mediana = df.roubo_bicicleta.median()\r\n",
        "print(roubo_bicicleta_mediana)"
      ],
      "execution_count": 14,
      "outputs": [
        {
          "output_type": "stream",
          "text": [
            "158.0\n"
          ],
          "name": "stdout"
        }
      ]
    },
    {
      "cell_type": "code",
      "metadata": {
        "colab": {
          "base_uri": "https://localhost:8080/"
        },
        "id": "yoYFWa98KJtL",
        "outputId": "285bc217-40eb-40d8-fc5e-cb2a95d01c47"
      },
      "source": [
        "df.fillna(roubo_bicicleta_mediana, inplace = True)\r\n",
        "df.roubo_bicicleta.isnull().sum()"
      ],
      "execution_count": 15,
      "outputs": [
        {
          "output_type": "execute_result",
          "data": {
            "text/plain": [
              "0"
            ]
          },
          "metadata": {
            "tags": []
          },
          "execution_count": 15
        }
      ]
    },
    {
      "cell_type": "markdown",
      "metadata": {
        "id": "G6dnsNYm-41g"
      },
      "source": [
        "## Informações Estatísticas da Violência no Rio de Janeiro\n",
        "\n",
        "Após a análise do dataset e adicionar novas variáveis, o próximo passo é explorar a análises estatísticas da violência da cidade.\n"
      ]
    },
    {
      "cell_type": "code",
      "metadata": {
        "colab": {
          "base_uri": "https://localhost:8080/",
          "height": 317
        },
        "id": "Q5DAMo6hWlZx",
        "outputId": "76f0c886-443a-4936-a2d9-54bf833f783f"
      },
      "source": [
        "df.describe()"
      ],
      "execution_count": 16,
      "outputs": [
        {
          "output_type": "execute_result",
          "data": {
            "text/html": [
              "<div>\n",
              "<style scoped>\n",
              "    .dataframe tbody tr th:only-of-type {\n",
              "        vertical-align: middle;\n",
              "    }\n",
              "\n",
              "    .dataframe tbody tr th {\n",
              "        vertical-align: top;\n",
              "    }\n",
              "\n",
              "    .dataframe thead th {\n",
              "        text-align: right;\n",
              "    }\n",
              "</style>\n",
              "<table border=\"1\" class=\"dataframe\">\n",
              "  <thead>\n",
              "    <tr style=\"text-align: right;\">\n",
              "      <th></th>\n",
              "      <th>vano</th>\n",
              "      <th>mes</th>\n",
              "      <th>hom_doloso</th>\n",
              "      <th>lesao_corp_morte</th>\n",
              "      <th>latrocinio</th>\n",
              "      <th>hom_por_interv_policial</th>\n",
              "      <th>tentat_hom</th>\n",
              "      <th>lesao_corp_dolosa</th>\n",
              "      <th>estupro</th>\n",
              "      <th>hom_culposo</th>\n",
              "      <th>lesao_corp_culposa</th>\n",
              "      <th>roubo_comercio</th>\n",
              "      <th>roubo_residencia</th>\n",
              "      <th>roubo_veiculo</th>\n",
              "      <th>roubo_carga</th>\n",
              "      <th>roubo_transeunte</th>\n",
              "      <th>roubo_em_coletivo</th>\n",
              "      <th>roubo_banco</th>\n",
              "      <th>roubo_cx_eletronico</th>\n",
              "      <th>roubo_celular</th>\n",
              "      <th>roubo_conducao_saque</th>\n",
              "      <th>roubo_apos_saque</th>\n",
              "      <th>roubo_bicicleta</th>\n",
              "      <th>outros_roubos</th>\n",
              "      <th>total_roubos</th>\n",
              "      <th>furto_veiculos</th>\n",
              "      <th>furto_transeunte</th>\n",
              "      <th>furto_coletivo</th>\n",
              "      <th>furto_celular</th>\n",
              "      <th>furto_bicicleta</th>\n",
              "      <th>outros_furtos</th>\n",
              "      <th>total_furtos</th>\n",
              "      <th>sequestro</th>\n",
              "      <th>extorsao</th>\n",
              "      <th>sequestro_relampago</th>\n",
              "      <th>estelionato</th>\n",
              "      <th>apreensao_drogas</th>\n",
              "      <th>posse_drogas</th>\n",
              "      <th>trafico_drogas</th>\n",
              "      <th>apreensao_drogas_sem_autor</th>\n",
              "      <th>recuperacao_veiculos</th>\n",
              "      <th>apf</th>\n",
              "      <th>aaapai</th>\n",
              "      <th>cmp</th>\n",
              "      <th>cmba</th>\n",
              "      <th>ameaca</th>\n",
              "      <th>pessoas_desaparecidas</th>\n",
              "      <th>encontro_cadaver</th>\n",
              "      <th>encontro_ossada</th>\n",
              "      <th>pol_militares_mortos_serv</th>\n",
              "      <th>pol_civis_mortos_serv</th>\n",
              "      <th>indicador_letalidade</th>\n",
              "      <th>indicador_roubo_rua</th>\n",
              "      <th>indicador_roubo_veic</th>\n",
              "      <th>registro_ocorrencias</th>\n",
              "      <th>fase</th>\n",
              "      <th>total_roubos_furtos_veiculos</th>\n",
              "    </tr>\n",
              "  </thead>\n",
              "  <tbody>\n",
              "    <tr>\n",
              "      <th>count</th>\n",
              "      <td>344.000000</td>\n",
              "      <td>344.000000</td>\n",
              "      <td>344.000000</td>\n",
              "      <td>344.000000</td>\n",
              "      <td>344.000000</td>\n",
              "      <td>344.000000</td>\n",
              "      <td>344.000000</td>\n",
              "      <td>344.000000</td>\n",
              "      <td>344.000000</td>\n",
              "      <td>344.000000</td>\n",
              "      <td>344.000000</td>\n",
              "      <td>344.000000</td>\n",
              "      <td>344.000000</td>\n",
              "      <td>344.000000</td>\n",
              "      <td>344.000000</td>\n",
              "      <td>344.000000</td>\n",
              "      <td>344.000000</td>\n",
              "      <td>344.000000</td>\n",
              "      <td>344.000000</td>\n",
              "      <td>344.000000</td>\n",
              "      <td>344.000000</td>\n",
              "      <td>344.000000</td>\n",
              "      <td>344.000000</td>\n",
              "      <td>344.000000</td>\n",
              "      <td>344.000000</td>\n",
              "      <td>344.000000</td>\n",
              "      <td>344.000000</td>\n",
              "      <td>344.000000</td>\n",
              "      <td>344.000000</td>\n",
              "      <td>344.000000</td>\n",
              "      <td>344.000000</td>\n",
              "      <td>344.000000</td>\n",
              "      <td>344.000000</td>\n",
              "      <td>344.000000</td>\n",
              "      <td>344.000000</td>\n",
              "      <td>344.000000</td>\n",
              "      <td>344.000000</td>\n",
              "      <td>344.000000</td>\n",
              "      <td>344.000000</td>\n",
              "      <td>344.000000</td>\n",
              "      <td>344.000000</td>\n",
              "      <td>344.000000</td>\n",
              "      <td>344.000000</td>\n",
              "      <td>344.000000</td>\n",
              "      <td>344.000000</td>\n",
              "      <td>344.000000</td>\n",
              "      <td>344.000000</td>\n",
              "      <td>344.000000</td>\n",
              "      <td>344.000000</td>\n",
              "      <td>344.000000</td>\n",
              "      <td>344.000000</td>\n",
              "      <td>344.000000</td>\n",
              "      <td>344.000000</td>\n",
              "      <td>344.000000</td>\n",
              "      <td>344.000000</td>\n",
              "      <td>344.000000</td>\n",
              "      <td>344.000000</td>\n",
              "    </tr>\n",
              "    <tr>\n",
              "      <th>mean</th>\n",
              "      <td>2004.837209</td>\n",
              "      <td>6.453488</td>\n",
              "      <td>504.555233</td>\n",
              "      <td>47.218023</td>\n",
              "      <td>15.668605</td>\n",
              "      <td>92.924419</td>\n",
              "      <td>318.267442</td>\n",
              "      <td>5492.799419</td>\n",
              "      <td>281.223837</td>\n",
              "      <td>198.904070</td>\n",
              "      <td>2503.014535</td>\n",
              "      <td>455.005814</td>\n",
              "      <td>133.284884</td>\n",
              "      <td>2448.697674</td>\n",
              "      <td>340.322674</td>\n",
              "      <td>3418.520349</td>\n",
              "      <td>659.002907</td>\n",
              "      <td>9.375000</td>\n",
              "      <td>68.203488</td>\n",
              "      <td>706.819767</td>\n",
              "      <td>72.720930</td>\n",
              "      <td>150.828488</td>\n",
              "      <td>128.904070</td>\n",
              "      <td>1211.223837</td>\n",
              "      <td>9428.119186</td>\n",
              "      <td>1674.671512</td>\n",
              "      <td>1518.921512</td>\n",
              "      <td>444.180233</td>\n",
              "      <td>908.683140</td>\n",
              "      <td>151.438953</td>\n",
              "      <td>5994.328488</td>\n",
              "      <td>10433.177326</td>\n",
              "      <td>44.572674</td>\n",
              "      <td>143.619186</td>\n",
              "      <td>70.648256</td>\n",
              "      <td>1363.732558</td>\n",
              "      <td>1071.930233</td>\n",
              "      <td>373.125000</td>\n",
              "      <td>444.593023</td>\n",
              "      <td>171.418605</td>\n",
              "      <td>1772.238372</td>\n",
              "      <td>1188.523256</td>\n",
              "      <td>353.764535</td>\n",
              "      <td>681.232558</td>\n",
              "      <td>122.264535</td>\n",
              "      <td>4031.072674</td>\n",
              "      <td>328.790698</td>\n",
              "      <td>66.261628</td>\n",
              "      <td>62.662791</td>\n",
              "      <td>67.351744</td>\n",
              "      <td>66.337209</td>\n",
              "      <td>577.691860</td>\n",
              "      <td>4734.738372</td>\n",
              "      <td>2448.697674</td>\n",
              "      <td>38825.930233</td>\n",
              "      <td>2.994186</td>\n",
              "      <td>4123.369186</td>\n",
              "    </tr>\n",
              "    <tr>\n",
              "      <th>std</th>\n",
              "      <td>8.289036</td>\n",
              "      <td>3.447759</td>\n",
              "      <td>113.774481</td>\n",
              "      <td>69.065327</td>\n",
              "      <td>5.861427</td>\n",
              "      <td>48.759959</td>\n",
              "      <td>127.606645</td>\n",
              "      <td>1514.220579</td>\n",
              "      <td>127.018717</td>\n",
              "      <td>52.566044</td>\n",
              "      <td>1602.716205</td>\n",
              "      <td>119.765076</td>\n",
              "      <td>44.317963</td>\n",
              "      <td>789.689559</td>\n",
              "      <td>223.855243</td>\n",
              "      <td>2459.017549</td>\n",
              "      <td>297.622342</td>\n",
              "      <td>10.564894</td>\n",
              "      <td>76.332244</td>\n",
              "      <td>636.614902</td>\n",
              "      <td>72.631086</td>\n",
              "      <td>42.629767</td>\n",
              "      <td>58.803865</td>\n",
              "      <td>800.576723</td>\n",
              "      <td>4578.013053</td>\n",
              "      <td>294.852020</td>\n",
              "      <td>971.853102</td>\n",
              "      <td>317.915454</td>\n",
              "      <td>696.967464</td>\n",
              "      <td>37.856593</td>\n",
              "      <td>1964.767779</td>\n",
              "      <td>3696.725756</td>\n",
              "      <td>70.678680</td>\n",
              "      <td>35.175160</td>\n",
              "      <td>74.329548</td>\n",
              "      <td>1181.371895</td>\n",
              "      <td>643.381991</td>\n",
              "      <td>282.439682</td>\n",
              "      <td>370.040653</td>\n",
              "      <td>28.664935</td>\n",
              "      <td>656.761843</td>\n",
              "      <td>1170.506648</td>\n",
              "      <td>267.250278</td>\n",
              "      <td>601.611183</td>\n",
              "      <td>57.349192</td>\n",
              "      <td>2587.698309</td>\n",
              "      <td>144.369211</td>\n",
              "      <td>34.464519</td>\n",
              "      <td>75.357552</td>\n",
              "      <td>77.041325</td>\n",
              "      <td>77.893268</td>\n",
              "      <td>104.973929</td>\n",
              "      <td>3204.054864</td>\n",
              "      <td>789.689559</td>\n",
              "      <td>25850.180713</td>\n",
              "      <td>0.076138</td>\n",
              "      <td>751.660560</td>\n",
              "    </tr>\n",
              "    <tr>\n",
              "      <th>min</th>\n",
              "      <td>1991.000000</td>\n",
              "      <td>1.000000</td>\n",
              "      <td>272.000000</td>\n",
              "      <td>0.000000</td>\n",
              "      <td>2.000000</td>\n",
              "      <td>10.000000</td>\n",
              "      <td>122.000000</td>\n",
              "      <td>2350.000000</td>\n",
              "      <td>158.000000</td>\n",
              "      <td>111.000000</td>\n",
              "      <td>158.000000</td>\n",
              "      <td>243.000000</td>\n",
              "      <td>49.000000</td>\n",
              "      <td>1097.000000</td>\n",
              "      <td>59.000000</td>\n",
              "      <td>688.000000</td>\n",
              "      <td>281.000000</td>\n",
              "      <td>0.000000</td>\n",
              "      <td>0.000000</td>\n",
              "      <td>0.000000</td>\n",
              "      <td>1.000000</td>\n",
              "      <td>11.000000</td>\n",
              "      <td>0.000000</td>\n",
              "      <td>81.000000</td>\n",
              "      <td>3261.000000</td>\n",
              "      <td>1159.000000</td>\n",
              "      <td>322.000000</td>\n",
              "      <td>23.000000</td>\n",
              "      <td>158.000000</td>\n",
              "      <td>0.000000</td>\n",
              "      <td>2322.000000</td>\n",
              "      <td>4691.000000</td>\n",
              "      <td>0.000000</td>\n",
              "      <td>23.000000</td>\n",
              "      <td>0.000000</td>\n",
              "      <td>158.000000</td>\n",
              "      <td>80.000000</td>\n",
              "      <td>158.000000</td>\n",
              "      <td>158.000000</td>\n",
              "      <td>114.000000</td>\n",
              "      <td>729.000000</td>\n",
              "      <td>158.000000</td>\n",
              "      <td>158.000000</td>\n",
              "      <td>158.000000</td>\n",
              "      <td>21.000000</td>\n",
              "      <td>158.000000</td>\n",
              "      <td>158.000000</td>\n",
              "      <td>0.000000</td>\n",
              "      <td>0.000000</td>\n",
              "      <td>0.000000</td>\n",
              "      <td>0.000000</td>\n",
              "      <td>334.000000</td>\n",
              "      <td>1086.000000</td>\n",
              "      <td>1097.000000</td>\n",
              "      <td>158.000000</td>\n",
              "      <td>2.000000</td>\n",
              "      <td>2683.000000</td>\n",
              "    </tr>\n",
              "    <tr>\n",
              "      <th>25%</th>\n",
              "      <td>1998.000000</td>\n",
              "      <td>3.000000</td>\n",
              "      <td>413.750000</td>\n",
              "      <td>3.000000</td>\n",
              "      <td>11.000000</td>\n",
              "      <td>49.000000</td>\n",
              "      <td>200.000000</td>\n",
              "      <td>4067.000000</td>\n",
              "      <td>158.000000</td>\n",
              "      <td>158.000000</td>\n",
              "      <td>158.000000</td>\n",
              "      <td>365.750000</td>\n",
              "      <td>103.750000</td>\n",
              "      <td>1889.750000</td>\n",
              "      <td>208.250000</td>\n",
              "      <td>1053.000000</td>\n",
              "      <td>430.750000</td>\n",
              "      <td>2.000000</td>\n",
              "      <td>3.000000</td>\n",
              "      <td>158.000000</td>\n",
              "      <td>9.000000</td>\n",
              "      <td>142.000000</td>\n",
              "      <td>158.000000</td>\n",
              "      <td>811.750000</td>\n",
              "      <td>5107.750000</td>\n",
              "      <td>1430.500000</td>\n",
              "      <td>732.000000</td>\n",
              "      <td>158.000000</td>\n",
              "      <td>158.000000</td>\n",
              "      <td>158.000000</td>\n",
              "      <td>3978.000000</td>\n",
              "      <td>6700.250000</td>\n",
              "      <td>0.000000</td>\n",
              "      <td>126.000000</td>\n",
              "      <td>6.000000</td>\n",
              "      <td>158.000000</td>\n",
              "      <td>714.500000</td>\n",
              "      <td>158.000000</td>\n",
              "      <td>158.000000</td>\n",
              "      <td>158.000000</td>\n",
              "      <td>1276.750000</td>\n",
              "      <td>158.000000</td>\n",
              "      <td>158.000000</td>\n",
              "      <td>158.000000</td>\n",
              "      <td>59.000000</td>\n",
              "      <td>158.000000</td>\n",
              "      <td>158.000000</td>\n",
              "      <td>42.000000</td>\n",
              "      <td>2.000000</td>\n",
              "      <td>1.000000</td>\n",
              "      <td>0.000000</td>\n",
              "      <td>500.000000</td>\n",
              "      <td>1557.000000</td>\n",
              "      <td>1889.750000</td>\n",
              "      <td>158.000000</td>\n",
              "      <td>3.000000</td>\n",
              "      <td>3604.750000</td>\n",
              "    </tr>\n",
              "    <tr>\n",
              "      <th>50%</th>\n",
              "      <td>2005.000000</td>\n",
              "      <td>6.000000</td>\n",
              "      <td>507.000000</td>\n",
              "      <td>6.000000</td>\n",
              "      <td>15.000000</td>\n",
              "      <td>86.000000</td>\n",
              "      <td>318.500000</td>\n",
              "      <td>5830.500000</td>\n",
              "      <td>257.000000</td>\n",
              "      <td>185.000000</td>\n",
              "      <td>3109.500000</td>\n",
              "      <td>433.500000</td>\n",
              "      <td>125.000000</td>\n",
              "      <td>2322.000000</td>\n",
              "      <td>285.500000</td>\n",
              "      <td>2788.500000</td>\n",
              "      <td>592.000000</td>\n",
              "      <td>4.500000</td>\n",
              "      <td>6.000000</td>\n",
              "      <td>561.500000</td>\n",
              "      <td>18.000000</td>\n",
              "      <td>158.000000</td>\n",
              "      <td>158.000000</td>\n",
              "      <td>1154.000000</td>\n",
              "      <td>9243.500000</td>\n",
              "      <td>1637.500000</td>\n",
              "      <td>1076.500000</td>\n",
              "      <td>341.500000</td>\n",
              "      <td>1099.000000</td>\n",
              "      <td>158.000000</td>\n",
              "      <td>6559.000000</td>\n",
              "      <td>10448.500000</td>\n",
              "      <td>1.000000</td>\n",
              "      <td>158.000000</td>\n",
              "      <td>13.000000</td>\n",
              "      <td>1232.500000</td>\n",
              "      <td>979.500000</td>\n",
              "      <td>158.000000</td>\n",
              "      <td>158.000000</td>\n",
              "      <td>158.000000</td>\n",
              "      <td>1755.000000</td>\n",
              "      <td>158.000000</td>\n",
              "      <td>158.000000</td>\n",
              "      <td>158.000000</td>\n",
              "      <td>158.000000</td>\n",
              "      <td>5001.500000</td>\n",
              "      <td>380.000000</td>\n",
              "      <td>60.500000</td>\n",
              "      <td>5.000000</td>\n",
              "      <td>4.000000</td>\n",
              "      <td>1.000000</td>\n",
              "      <td>590.000000</td>\n",
              "      <td>4190.000000</td>\n",
              "      <td>2322.000000</td>\n",
              "      <td>47521.000000</td>\n",
              "      <td>3.000000</td>\n",
              "      <td>4083.500000</td>\n",
              "    </tr>\n",
              "    <tr>\n",
              "      <th>75%</th>\n",
              "      <td>2012.000000</td>\n",
              "      <td>9.000000</td>\n",
              "      <td>577.250000</td>\n",
              "      <td>158.000000</td>\n",
              "      <td>19.000000</td>\n",
              "      <td>158.000000</td>\n",
              "      <td>398.250000</td>\n",
              "      <td>6582.500000</td>\n",
              "      <td>402.000000</td>\n",
              "      <td>224.000000</td>\n",
              "      <td>3600.000000</td>\n",
              "      <td>536.250000</td>\n",
              "      <td>151.250000</td>\n",
              "      <td>2778.000000</td>\n",
              "      <td>401.250000</td>\n",
              "      <td>5385.250000</td>\n",
              "      <td>784.000000</td>\n",
              "      <td>14.000000</td>\n",
              "      <td>158.000000</td>\n",
              "      <td>963.250000</td>\n",
              "      <td>158.000000</td>\n",
              "      <td>158.000000</td>\n",
              "      <td>158.000000</td>\n",
              "      <td>1635.000000</td>\n",
              "      <td>11590.500000</td>\n",
              "      <td>1833.250000</td>\n",
              "      <td>2334.250000</td>\n",
              "      <td>757.250000</td>\n",
              "      <td>1549.250000</td>\n",
              "      <td>158.000000</td>\n",
              "      <td>7601.500000</td>\n",
              "      <td>13877.500000</td>\n",
              "      <td>158.000000</td>\n",
              "      <td>158.000000</td>\n",
              "      <td>158.000000</td>\n",
              "      <td>2601.250000</td>\n",
              "      <td>1546.000000</td>\n",
              "      <td>610.000000</td>\n",
              "      <td>741.250000</td>\n",
              "      <td>181.250000</td>\n",
              "      <td>2202.000000</td>\n",
              "      <td>2363.250000</td>\n",
              "      <td>501.500000</td>\n",
              "      <td>1234.250000</td>\n",
              "      <td>158.000000</td>\n",
              "      <td>5917.750000</td>\n",
              "      <td>439.250000</td>\n",
              "      <td>87.000000</td>\n",
              "      <td>158.000000</td>\n",
              "      <td>158.000000</td>\n",
              "      <td>158.000000</td>\n",
              "      <td>649.000000</td>\n",
              "      <td>6872.750000</td>\n",
              "      <td>2778.000000</td>\n",
              "      <td>60370.750000</td>\n",
              "      <td>3.000000</td>\n",
              "      <td>4559.250000</td>\n",
              "    </tr>\n",
              "    <tr>\n",
              "      <th>max</th>\n",
              "      <td>2019.000000</td>\n",
              "      <td>12.000000</td>\n",
              "      <td>831.000000</td>\n",
              "      <td>158.000000</td>\n",
              "      <td>36.000000</td>\n",
              "      <td>194.000000</td>\n",
              "      <td>645.000000</td>\n",
              "      <td>9050.000000</td>\n",
              "      <td>561.000000</td>\n",
              "      <td>449.000000</td>\n",
              "      <td>6653.000000</td>\n",
              "      <td>914.000000</td>\n",
              "      <td>300.000000</td>\n",
              "      <td>5358.000000</td>\n",
              "      <td>1329.000000</td>\n",
              "      <td>9669.000000</td>\n",
              "      <td>1628.000000</td>\n",
              "      <td>54.000000</td>\n",
              "      <td>158.000000</td>\n",
              "      <td>2626.000000</td>\n",
              "      <td>158.000000</td>\n",
              "      <td>283.000000</td>\n",
              "      <td>158.000000</td>\n",
              "      <td>3661.000000</td>\n",
              "      <td>23203.000000</td>\n",
              "      <td>2630.000000</td>\n",
              "      <td>5368.000000</td>\n",
              "      <td>1036.000000</td>\n",
              "      <td>2215.000000</td>\n",
              "      <td>243.000000</td>\n",
              "      <td>9880.000000</td>\n",
              "      <td>18003.000000</td>\n",
              "      <td>158.000000</td>\n",
              "      <td>271.000000</td>\n",
              "      <td>158.000000</td>\n",
              "      <td>3627.000000</td>\n",
              "      <td>2543.000000</td>\n",
              "      <td>1160.000000</td>\n",
              "      <td>1282.000000</td>\n",
              "      <td>289.000000</td>\n",
              "      <td>3695.000000</td>\n",
              "      <td>3425.000000</td>\n",
              "      <td>1114.000000</td>\n",
              "      <td>2314.000000</td>\n",
              "      <td>350.000000</td>\n",
              "      <td>9034.000000</td>\n",
              "      <td>628.000000</td>\n",
              "      <td>217.000000</td>\n",
              "      <td>158.000000</td>\n",
              "      <td>158.000000</td>\n",
              "      <td>158.000000</td>\n",
              "      <td>848.000000</td>\n",
              "      <td>13833.000000</td>\n",
              "      <td>5358.000000</td>\n",
              "      <td>75403.000000</td>\n",
              "      <td>3.000000</td>\n",
              "      <td>6607.000000</td>\n",
              "    </tr>\n",
              "  </tbody>\n",
              "</table>\n",
              "</div>"
            ],
            "text/plain": [
              "              vano         mes  ...        fase  total_roubos_furtos_veiculos\n",
              "count   344.000000  344.000000  ...  344.000000                    344.000000\n",
              "mean   2004.837209    6.453488  ...    2.994186                   4123.369186\n",
              "std       8.289036    3.447759  ...    0.076138                    751.660560\n",
              "min    1991.000000    1.000000  ...    2.000000                   2683.000000\n",
              "25%    1998.000000    3.000000  ...    3.000000                   3604.750000\n",
              "50%    2005.000000    6.000000  ...    3.000000                   4083.500000\n",
              "75%    2012.000000    9.000000  ...    3.000000                   4559.250000\n",
              "max    2019.000000   12.000000  ...    3.000000                   6607.000000\n",
              "\n",
              "[8 rows x 57 columns]"
            ]
          },
          "metadata": {
            "tags": []
          },
          "execution_count": 16
        }
      ]
    },
    {
      "cell_type": "markdown",
      "metadata": {
        "id": "wvldkFvcXgyI"
      },
      "source": [
        "### Roubo e Furto de Veículos\r\n",
        "\r\n",
        "\r\n",
        "\r\n"
      ]
    },
    {
      "cell_type": "markdown",
      "metadata": {
        "id": "TMah1eaSY6FK"
      },
      "source": [
        "Através do dataset, vamos analisar as variáveis, roubo e furto de veículos. Sendo que a diferença é que o roubo ele é seguido de utilização do agressor de ameaça e violência contra a vítima."
      ]
    },
    {
      "cell_type": "code",
      "metadata": {
        "colab": {
          "base_uri": "https://localhost:8080/",
          "height": 297
        },
        "id": "94oBFHE7Y8BW",
        "outputId": "7cbb09aa-d29e-4ad4-e7d8-8d165ca16c8f"
      },
      "source": [
        "df[['furto_veiculos','roubo_veiculo']].describe()"
      ],
      "execution_count": 17,
      "outputs": [
        {
          "output_type": "execute_result",
          "data": {
            "text/html": [
              "<div>\n",
              "<style scoped>\n",
              "    .dataframe tbody tr th:only-of-type {\n",
              "        vertical-align: middle;\n",
              "    }\n",
              "\n",
              "    .dataframe tbody tr th {\n",
              "        vertical-align: top;\n",
              "    }\n",
              "\n",
              "    .dataframe thead th {\n",
              "        text-align: right;\n",
              "    }\n",
              "</style>\n",
              "<table border=\"1\" class=\"dataframe\">\n",
              "  <thead>\n",
              "    <tr style=\"text-align: right;\">\n",
              "      <th></th>\n",
              "      <th>furto_veiculos</th>\n",
              "      <th>roubo_veiculo</th>\n",
              "    </tr>\n",
              "  </thead>\n",
              "  <tbody>\n",
              "    <tr>\n",
              "      <th>count</th>\n",
              "      <td>344.000000</td>\n",
              "      <td>344.000000</td>\n",
              "    </tr>\n",
              "    <tr>\n",
              "      <th>mean</th>\n",
              "      <td>1674.671512</td>\n",
              "      <td>2448.697674</td>\n",
              "    </tr>\n",
              "    <tr>\n",
              "      <th>std</th>\n",
              "      <td>294.852020</td>\n",
              "      <td>789.689559</td>\n",
              "    </tr>\n",
              "    <tr>\n",
              "      <th>min</th>\n",
              "      <td>1159.000000</td>\n",
              "      <td>1097.000000</td>\n",
              "    </tr>\n",
              "    <tr>\n",
              "      <th>25%</th>\n",
              "      <td>1430.500000</td>\n",
              "      <td>1889.750000</td>\n",
              "    </tr>\n",
              "    <tr>\n",
              "      <th>50%</th>\n",
              "      <td>1637.500000</td>\n",
              "      <td>2322.000000</td>\n",
              "    </tr>\n",
              "    <tr>\n",
              "      <th>75%</th>\n",
              "      <td>1833.250000</td>\n",
              "      <td>2778.000000</td>\n",
              "    </tr>\n",
              "    <tr>\n",
              "      <th>max</th>\n",
              "      <td>2630.000000</td>\n",
              "      <td>5358.000000</td>\n",
              "    </tr>\n",
              "  </tbody>\n",
              "</table>\n",
              "</div>"
            ],
            "text/plain": [
              "       furto_veiculos  roubo_veiculo\n",
              "count      344.000000     344.000000\n",
              "mean      1674.671512    2448.697674\n",
              "std        294.852020     789.689559\n",
              "min       1159.000000    1097.000000\n",
              "25%       1430.500000    1889.750000\n",
              "50%       1637.500000    2322.000000\n",
              "75%       1833.250000    2778.000000\n",
              "max       2630.000000    5358.000000"
            ]
          },
          "metadata": {
            "tags": []
          },
          "execution_count": 17
        }
      ]
    },
    {
      "cell_type": "markdown",
      "metadata": {
        "id": "90L1CaKJZZnh"
      },
      "source": [
        "A partir da análise, vemos que:\r\n",
        "\r\n",
        "* A média de roubo de de veículos é muito maior que a média de furto.\r\n",
        "* A amplitude de roubos de veículos é maior que a de furtos, para o roubo, o mínimo é 1097 e o máximo chega à 5358 roubos por mês."
      ]
    },
    {
      "cell_type": "markdown",
      "metadata": {
        "id": "OJc7krxucHei"
      },
      "source": [
        "### Comparativo entre roubo, furto e recuperação de veículos."
      ]
    },
    {
      "cell_type": "code",
      "metadata": {
        "colab": {
          "base_uri": "https://localhost:8080/"
        },
        "id": "8OzI24VrRxOc",
        "outputId": "638b694c-7121-4e74-ed55-8d0ec3969d67"
      },
      "source": [
        "# ver a média da variável roubo_veiculo\r\n",
        "mean_roubo_veiculos = df.roubo_veiculo.mean()\r\n",
        "print(round(mean_roubo_veiculos,2))"
      ],
      "execution_count": 18,
      "outputs": [
        {
          "output_type": "stream",
          "text": [
            "2448.7\n"
          ],
          "name": "stdout"
        }
      ]
    },
    {
      "cell_type": "code",
      "metadata": {
        "colab": {
          "base_uri": "https://localhost:8080/"
        },
        "id": "awI9VD82R9oR",
        "outputId": "03038742-e7c1-4b15-f966-eb09806287d7"
      },
      "source": [
        "# ver a média da variável furto_veiculos\r\n",
        "mean_furto_veiculos = df.furto_veiculos.mean()\r\n",
        "print(round(mean_furto_veiculos,2))"
      ],
      "execution_count": 19,
      "outputs": [
        {
          "output_type": "stream",
          "text": [
            "1674.67\n"
          ],
          "name": "stdout"
        }
      ]
    },
    {
      "cell_type": "code",
      "metadata": {
        "colab": {
          "base_uri": "https://localhost:8080/"
        },
        "id": "rYHvIy7lSKUX",
        "outputId": "e906fbb1-e328-4c7a-cf93-05c291c002d5"
      },
      "source": [
        "#ver a média da variável de recuperação veículos\r\n",
        "mean_recup_veiculos = df.recuperacao_veiculos.mean()\r\n",
        "print(round(mean_recup_veiculos),2)"
      ],
      "execution_count": 20,
      "outputs": [
        {
          "output_type": "stream",
          "text": [
            "1772 2\n"
          ],
          "name": "stdout"
        }
      ]
    },
    {
      "cell_type": "code",
      "metadata": {
        "colab": {
          "base_uri": "https://localhost:8080/"
        },
        "id": "G7-zEJU_So8F",
        "outputId": "9ca088ad-de64-42e7-cdb7-3b805a923fe8"
      },
      "source": [
        "#Total de veículos roubados e furtados\r\n",
        "total = mean_roubo_veiculos + mean_furto_veiculos\r\n",
        "#porcentual de veículos recuperados\r\n",
        "porcen_recup = mean_recup_veiculos/total * 100\r\n",
        "#Chama a média do valor de recuperação\r\n",
        "mean_recup_veiculos = df.recuperacao_veiculos.mean()\r\n",
        "\r\n",
        "print('Média de Veículos Perdidos por Mês: {:.2f} '.format(total))\r\n",
        "print('Veículos Recuperados por Mês: {:.2f}'.format(mean_recup_veiculos))\r\n",
        "\r\n",
        "print('{:.2f}% dos veículos roubados ou furtados são recuperados.'.format(porcen_recup))"
      ],
      "execution_count": 21,
      "outputs": [
        {
          "output_type": "stream",
          "text": [
            "Média de Veículos Perdidos por Mês: 4123.37 \n",
            "Veículos Recuperados por Mês: 1772.24\n",
            "42.98% dos veículos roubados ou furtados são recuperados.\n"
          ],
          "name": "stdout"
        }
      ]
    },
    {
      "cell_type": "markdown",
      "metadata": {
        "id": "fI4xCAnGU5Al"
      },
      "source": [
        "Além da análise acima, também temos a variável de `recuperação de veículos`, de acordo com a análise dessas três variáveis, vemos que:\r\n",
        "* A média de roubo de veículos por mês é de 2448,7.\r\n",
        "* Ao mês são recuperados em média 1772 veículos.\r\n",
        "* O percentual de veículos recuperados é de 42%.\r\n"
      ]
    },
    {
      "cell_type": "markdown",
      "metadata": {
        "id": "GBnreQ-ST1kZ"
      },
      "source": [
        "## Crimes contra a vida"
      ]
    },
    {
      "cell_type": "markdown",
      "metadata": {
        "id": "qXCh264ZWKzK"
      },
      "source": [
        "Agora, vamos identificar, qual foi o mínimo e o máximo para a variável `hom_doloso` ao longo do período.  "
      ]
    },
    {
      "cell_type": "code",
      "metadata": {
        "colab": {
          "base_uri": "https://localhost:8080/"
        },
        "id": "staz-UjtWpOk",
        "outputId": "3c6deeb1-46be-4c12-aa64-174ecdc00d97"
      },
      "source": [
        "mean_hom_doloso = df.hom_doloso.mean()\r\n",
        "print('Média de homícidio doloso: {:.2f}'.format(mean_hom_doloso))"
      ],
      "execution_count": 22,
      "outputs": [
        {
          "output_type": "stream",
          "text": [
            "Média de homícidio doloso: 504.56\n"
          ],
          "name": "stdout"
        }
      ]
    },
    {
      "cell_type": "code",
      "metadata": {
        "colab": {
          "base_uri": "https://localhost:8080/"
        },
        "id": "bs_MksivTta-",
        "outputId": "ce9d40d0-8f03-4b58-931c-9bdfc60723b3"
      },
      "source": [
        "min_hom_doloso = df.hom_doloso.min()\r\n",
        "max_hom_doloso = df.hom_doloso.max()\r\n",
        "\r\n",
        "#imprimir as variáveis\r\n",
        "print(\"Min:\\t{}\".format(min_hom_doloso))\r\n",
        "print(\"Max:\\t{}\".format(max_hom_doloso))"
      ],
      "execution_count": 23,
      "outputs": [
        {
          "output_type": "stream",
          "text": [
            "Min:\t272\n",
            "Max:\t831\n"
          ],
          "name": "stdout"
        }
      ]
    },
    {
      "cell_type": "code",
      "metadata": {
        "colab": {
          "base_uri": "https://localhost:8080/",
          "height": 117
        },
        "id": "ZDeGkAii7Bo3",
        "outputId": "9522fc60-c55d-44f3-c5e9-7aad9a0ee884"
      },
      "source": [
        "#Verificando o mês que teve menor homícidio doloso\r\n",
        "df[df.hom_doloso == 272]"
      ],
      "execution_count": 24,
      "outputs": [
        {
          "output_type": "execute_result",
          "data": {
            "text/html": [
              "<div>\n",
              "<style scoped>\n",
              "    .dataframe tbody tr th:only-of-type {\n",
              "        vertical-align: middle;\n",
              "    }\n",
              "\n",
              "    .dataframe tbody tr th {\n",
              "        vertical-align: top;\n",
              "    }\n",
              "\n",
              "    .dataframe thead th {\n",
              "        text-align: right;\n",
              "    }\n",
              "</style>\n",
              "<table border=\"1\" class=\"dataframe\">\n",
              "  <thead>\n",
              "    <tr style=\"text-align: right;\">\n",
              "      <th></th>\n",
              "      <th>date</th>\n",
              "      <th>vano</th>\n",
              "      <th>mes</th>\n",
              "      <th>hom_doloso</th>\n",
              "      <th>lesao_corp_morte</th>\n",
              "      <th>latrocinio</th>\n",
              "      <th>hom_por_interv_policial</th>\n",
              "      <th>tentat_hom</th>\n",
              "      <th>lesao_corp_dolosa</th>\n",
              "      <th>estupro</th>\n",
              "      <th>hom_culposo</th>\n",
              "      <th>lesao_corp_culposa</th>\n",
              "      <th>roubo_comercio</th>\n",
              "      <th>roubo_residencia</th>\n",
              "      <th>roubo_veiculo</th>\n",
              "      <th>roubo_carga</th>\n",
              "      <th>roubo_transeunte</th>\n",
              "      <th>roubo_em_coletivo</th>\n",
              "      <th>roubo_banco</th>\n",
              "      <th>roubo_cx_eletronico</th>\n",
              "      <th>roubo_celular</th>\n",
              "      <th>roubo_conducao_saque</th>\n",
              "      <th>roubo_apos_saque</th>\n",
              "      <th>roubo_bicicleta</th>\n",
              "      <th>outros_roubos</th>\n",
              "      <th>total_roubos</th>\n",
              "      <th>furto_veiculos</th>\n",
              "      <th>furto_transeunte</th>\n",
              "      <th>furto_coletivo</th>\n",
              "      <th>furto_celular</th>\n",
              "      <th>furto_bicicleta</th>\n",
              "      <th>outros_furtos</th>\n",
              "      <th>total_furtos</th>\n",
              "      <th>sequestro</th>\n",
              "      <th>extorsao</th>\n",
              "      <th>sequestro_relampago</th>\n",
              "      <th>estelionato</th>\n",
              "      <th>apreensao_drogas</th>\n",
              "      <th>posse_drogas</th>\n",
              "      <th>trafico_drogas</th>\n",
              "      <th>apreensao_drogas_sem_autor</th>\n",
              "      <th>recuperacao_veiculos</th>\n",
              "      <th>apf</th>\n",
              "      <th>aaapai</th>\n",
              "      <th>cmp</th>\n",
              "      <th>cmba</th>\n",
              "      <th>ameaca</th>\n",
              "      <th>pessoas_desaparecidas</th>\n",
              "      <th>encontro_cadaver</th>\n",
              "      <th>encontro_ossada</th>\n",
              "      <th>pol_militares_mortos_serv</th>\n",
              "      <th>pol_civis_mortos_serv</th>\n",
              "      <th>indicador_letalidade</th>\n",
              "      <th>indicador_roubo_rua</th>\n",
              "      <th>indicador_roubo_veic</th>\n",
              "      <th>registro_ocorrencias</th>\n",
              "      <th>fase</th>\n",
              "      <th>total_roubos_furtos_veiculos</th>\n",
              "    </tr>\n",
              "  </thead>\n",
              "  <tbody>\n",
              "    <tr>\n",
              "      <th>293</th>\n",
              "      <td>2015-06-01</td>\n",
              "      <td>2015</td>\n",
              "      <td>6</td>\n",
              "      <td>272</td>\n",
              "      <td>2.0</td>\n",
              "      <td>16</td>\n",
              "      <td>44.0</td>\n",
              "      <td>477</td>\n",
              "      <td>5535</td>\n",
              "      <td>389.0</td>\n",
              "      <td>140.0</td>\n",
              "      <td>3369.0</td>\n",
              "      <td>465</td>\n",
              "      <td>96</td>\n",
              "      <td>2254</td>\n",
              "      <td>566</td>\n",
              "      <td>4421</td>\n",
              "      <td>619</td>\n",
              "      <td>3</td>\n",
              "      <td>1.0</td>\n",
              "      <td>896.0</td>\n",
              "      <td>5.0</td>\n",
              "      <td>106.0</td>\n",
              "      <td>3.0</td>\n",
              "      <td>1243</td>\n",
              "      <td>10678</td>\n",
              "      <td>1333</td>\n",
              "      <td>2974</td>\n",
              "      <td>968.0</td>\n",
              "      <td>1514.0</td>\n",
              "      <td>5.0</td>\n",
              "      <td>7475</td>\n",
              "      <td>14269</td>\n",
              "      <td>0.0</td>\n",
              "      <td>192.0</td>\n",
              "      <td>10.0</td>\n",
              "      <td>2940.0</td>\n",
              "      <td>2134</td>\n",
              "      <td>845.0</td>\n",
              "      <td>1134.0</td>\n",
              "      <td>204.0</td>\n",
              "      <td>1768</td>\n",
              "      <td>3128.0</td>\n",
              "      <td>798.0</td>\n",
              "      <td>1676.0</td>\n",
              "      <td>57.0</td>\n",
              "      <td>5678.0</td>\n",
              "      <td>493.0</td>\n",
              "      <td>52</td>\n",
              "      <td>4.0</td>\n",
              "      <td>1.0</td>\n",
              "      <td>1.0</td>\n",
              "      <td>334</td>\n",
              "      <td>5936</td>\n",
              "      <td>2254</td>\n",
              "      <td>60357.0</td>\n",
              "      <td>3</td>\n",
              "      <td>3587</td>\n",
              "    </tr>\n",
              "  </tbody>\n",
              "</table>\n",
              "</div>"
            ],
            "text/plain": [
              "          date  vano  ...  fase  total_roubos_furtos_veiculos\n",
              "293 2015-06-01  2015  ...     3                          3587\n",
              "\n",
              "[1 rows x 58 columns]"
            ]
          },
          "metadata": {
            "tags": []
          },
          "execution_count": 24
        }
      ]
    },
    {
      "cell_type": "code",
      "metadata": {
        "colab": {
          "base_uri": "https://localhost:8080/",
          "height": 117
        },
        "id": "MZT3UtCM7ybL",
        "outputId": "2f570476-9f37-4058-b95a-53441d958bbd"
      },
      "source": [
        "#Verificando o mês que teve maior homícidio doloso\r\n",
        "df[df.hom_doloso == 831]"
      ],
      "execution_count": 25,
      "outputs": [
        {
          "output_type": "execute_result",
          "data": {
            "text/html": [
              "<div>\n",
              "<style scoped>\n",
              "    .dataframe tbody tr th:only-of-type {\n",
              "        vertical-align: middle;\n",
              "    }\n",
              "\n",
              "    .dataframe tbody tr th {\n",
              "        vertical-align: top;\n",
              "    }\n",
              "\n",
              "    .dataframe thead th {\n",
              "        text-align: right;\n",
              "    }\n",
              "</style>\n",
              "<table border=\"1\" class=\"dataframe\">\n",
              "  <thead>\n",
              "    <tr style=\"text-align: right;\">\n",
              "      <th></th>\n",
              "      <th>date</th>\n",
              "      <th>vano</th>\n",
              "      <th>mes</th>\n",
              "      <th>hom_doloso</th>\n",
              "      <th>lesao_corp_morte</th>\n",
              "      <th>latrocinio</th>\n",
              "      <th>hom_por_interv_policial</th>\n",
              "      <th>tentat_hom</th>\n",
              "      <th>lesao_corp_dolosa</th>\n",
              "      <th>estupro</th>\n",
              "      <th>hom_culposo</th>\n",
              "      <th>lesao_corp_culposa</th>\n",
              "      <th>roubo_comercio</th>\n",
              "      <th>roubo_residencia</th>\n",
              "      <th>roubo_veiculo</th>\n",
              "      <th>roubo_carga</th>\n",
              "      <th>roubo_transeunte</th>\n",
              "      <th>roubo_em_coletivo</th>\n",
              "      <th>roubo_banco</th>\n",
              "      <th>roubo_cx_eletronico</th>\n",
              "      <th>roubo_celular</th>\n",
              "      <th>roubo_conducao_saque</th>\n",
              "      <th>roubo_apos_saque</th>\n",
              "      <th>roubo_bicicleta</th>\n",
              "      <th>outros_roubos</th>\n",
              "      <th>total_roubos</th>\n",
              "      <th>furto_veiculos</th>\n",
              "      <th>furto_transeunte</th>\n",
              "      <th>furto_coletivo</th>\n",
              "      <th>furto_celular</th>\n",
              "      <th>furto_bicicleta</th>\n",
              "      <th>outros_furtos</th>\n",
              "      <th>total_furtos</th>\n",
              "      <th>sequestro</th>\n",
              "      <th>extorsao</th>\n",
              "      <th>sequestro_relampago</th>\n",
              "      <th>estelionato</th>\n",
              "      <th>apreensao_drogas</th>\n",
              "      <th>posse_drogas</th>\n",
              "      <th>trafico_drogas</th>\n",
              "      <th>apreensao_drogas_sem_autor</th>\n",
              "      <th>recuperacao_veiculos</th>\n",
              "      <th>apf</th>\n",
              "      <th>aaapai</th>\n",
              "      <th>cmp</th>\n",
              "      <th>cmba</th>\n",
              "      <th>ameaca</th>\n",
              "      <th>pessoas_desaparecidas</th>\n",
              "      <th>encontro_cadaver</th>\n",
              "      <th>encontro_ossada</th>\n",
              "      <th>pol_militares_mortos_serv</th>\n",
              "      <th>pol_civis_mortos_serv</th>\n",
              "      <th>indicador_letalidade</th>\n",
              "      <th>indicador_roubo_rua</th>\n",
              "      <th>indicador_roubo_veic</th>\n",
              "      <th>registro_ocorrencias</th>\n",
              "      <th>fase</th>\n",
              "      <th>total_roubos_furtos_veiculos</th>\n",
              "    </tr>\n",
              "  </thead>\n",
              "  <tbody>\n",
              "    <tr>\n",
              "      <th>48</th>\n",
              "      <td>1995-01-01</td>\n",
              "      <td>1995</td>\n",
              "      <td>1</td>\n",
              "      <td>831</td>\n",
              "      <td>158.0</td>\n",
              "      <td>17</td>\n",
              "      <td>158.0</td>\n",
              "      <td>166</td>\n",
              "      <td>3626</td>\n",
              "      <td>158.0</td>\n",
              "      <td>158.0</td>\n",
              "      <td>158.0</td>\n",
              "      <td>323</td>\n",
              "      <td>174</td>\n",
              "      <td>2060</td>\n",
              "      <td>188</td>\n",
              "      <td>1056</td>\n",
              "      <td>377</td>\n",
              "      <td>38</td>\n",
              "      <td>158.0</td>\n",
              "      <td>158.0</td>\n",
              "      <td>158.0</td>\n",
              "      <td>158.0</td>\n",
              "      <td>158.0</td>\n",
              "      <td>134</td>\n",
              "      <td>4350</td>\n",
              "      <td>1924</td>\n",
              "      <td>520</td>\n",
              "      <td>158.0</td>\n",
              "      <td>158.0</td>\n",
              "      <td>158.0</td>\n",
              "      <td>2941</td>\n",
              "      <td>5385</td>\n",
              "      <td>158.0</td>\n",
              "      <td>158.0</td>\n",
              "      <td>158.0</td>\n",
              "      <td>158.0</td>\n",
              "      <td>147</td>\n",
              "      <td>158.0</td>\n",
              "      <td>158.0</td>\n",
              "      <td>158.0</td>\n",
              "      <td>1435</td>\n",
              "      <td>158.0</td>\n",
              "      <td>158.0</td>\n",
              "      <td>158.0</td>\n",
              "      <td>158.0</td>\n",
              "      <td>158.0</td>\n",
              "      <td>158.0</td>\n",
              "      <td>98</td>\n",
              "      <td>158.0</td>\n",
              "      <td>158.0</td>\n",
              "      <td>158.0</td>\n",
              "      <td>848</td>\n",
              "      <td>1433</td>\n",
              "      <td>2060</td>\n",
              "      <td>158.0</td>\n",
              "      <td>3</td>\n",
              "      <td>3984</td>\n",
              "    </tr>\n",
              "  </tbody>\n",
              "</table>\n",
              "</div>"
            ],
            "text/plain": [
              "         date  vano  ...  fase  total_roubos_furtos_veiculos\n",
              "48 1995-01-01  1995  ...     3                          3984\n",
              "\n",
              "[1 rows x 58 columns]"
            ]
          },
          "metadata": {
            "tags": []
          },
          "execution_count": 25
        }
      ]
    },
    {
      "cell_type": "markdown",
      "metadata": {
        "id": "D2Ys7C9hQXAh"
      },
      "source": [
        "  Através da análise de homícidios vimos que:\r\n",
        "* O mês e ano que teve maior homícidio doloso foi  em janeiro de 1995.\r\n",
        "* A média de homícidio foi de 504 por mês."
      ]
    },
    {
      "cell_type": "markdown",
      "metadata": {
        "id": "JX9sgwsFWce4"
      },
      "source": [
        "### Roubo de banco e caixas eletrônicos"
      ]
    },
    {
      "cell_type": "code",
      "metadata": {
        "colab": {
          "base_uri": "https://localhost:8080/"
        },
        "id": "Zpdo6UxB8NBk",
        "outputId": "faecf8c9-f898-41e9-91f1-634f2c76db56"
      },
      "source": [
        "#Média de roubos em banco\r\n",
        "roubo_banco_mean = df.roubo_banco.mean()\r\n",
        "\r\n",
        "#Média de roubos em caixa eletrônico\r\n",
        "roubo_cx_eletronico_mean = df.roubo_cx_eletronico.mean()\r\n",
        "\r\n",
        "\r\n",
        "#Soma da média de roubo de banco e caixa eletrônicos\r\n",
        "total_banco_mean = roubo_banco_mean + roubo_cx_eletronico_mean\r\n",
        "\r\n",
        "print('A média de roubo de bancos foi: {:.2f}'.format(roubo_banco_mean))\r\n",
        "print('A média de roubo de caixas eletrônicos foi: {:.2f}'.format(roubo_cx_eletronico_mean))\r\n",
        "print('Total médio de roubo de bancos e caixa eletrônicos foi: {:.2f}'.format(total_banco_mean))"
      ],
      "execution_count": 26,
      "outputs": [
        {
          "output_type": "stream",
          "text": [
            "A média de roubo de bancos foi: 9.38\n",
            "A média de roubo de caixas eletrônicos foi: 68.20\n",
            "Total médio de roubo de bancos e caixa eletrônicos foi: 77.58\n"
          ],
          "name": "stdout"
        }
      ]
    },
    {
      "cell_type": "markdown",
      "metadata": {
        "id": "TLvsEDxRX1ew"
      },
      "source": [
        "Agora, vamos identificar, qual foi o mínimo e o máximo para a variável `roubo_banco` e `furto_banco`ao longo do período.\r\n",
        "*  A média de roubo de caixas eletrôncos é muito maior com 68 roubos por mês."
      ]
    },
    {
      "cell_type": "markdown",
      "metadata": {
        "id": "7WK0NBQZASKC"
      },
      "source": [
        "## Visualização de Dados"
      ]
    },
    {
      "cell_type": "markdown",
      "metadata": {
        "id": "s0OOSn5XPAcs"
      },
      "source": [
        "Através do dataset vamos analisar os dados através de gráficos."
      ]
    },
    {
      "cell_type": "code",
      "metadata": {
        "colab": {
          "base_uri": "https://localhost:8080/",
          "height": 374
        },
        "id": "dz76ShKy8LuA",
        "outputId": "0edef369-a95f-4f03-e23c-4283413fe12c"
      },
      "source": [
        "#Plotagem de gráfico de homícidio doloso\r\n",
        "df.hom_doloso.hist(grid= False, figsize = (12,6), label = 'Índice de homicídio doloso');\r\n",
        "plt.legend(frameon=False);\r\n",
        "plt.show();"
      ],
      "execution_count": 27,
      "outputs": [
        {
          "output_type": "display_data",
          "data": {
            "image/png": "[encoded data removed]",
            "text/plain": [
              "<Figure size 864x432 with 1 Axes>"
            ]
          },
          "metadata": {
            "tags": [],
            "needs_background": "light"
          }
        }
      ]
    },
    {
      "cell_type": "markdown",
      "metadata": {
        "id": "y7C556I9PQWA"
      },
      "source": [
        "Através do gráfico acima, concluímos que:\r\n",
        "* Em 70 meses, houve de 500 à 550 homicídios registrados ao longo do período.\r\n",
        "* O maior número de ocorrências por mês é de 800, na qual acumulumou em 10 meses."
      ]
    },
    {
      "cell_type": "code",
      "metadata": {
        "colab": {
          "base_uri": "https://localhost:8080/",
          "height": 374
        },
        "id": "0j57y2tnB9gU",
        "outputId": "1199ac8c-95c4-4deb-f513-f73b4e188a5e"
      },
      "source": [
        "#Plotagem de gráfico de roubos coletivos\r\n",
        "fig, ax = plt.subplots(figsize = (12,6));\r\n",
        "ax.plot(df['date'],df['roubo_em_coletivo'], label = 'Roubo coletivo');\r\n",
        "plt.legend(frameon=False);\r\n",
        "plt.show();"
      ],
      "execution_count": 28,
      "outputs": [
        {
          "output_type": "display_data",
          "data": {
            "image/png": "[encoded data removed]",
            "text/plain": [
              "<Figure size 864x432 with 1 Axes>"
            ]
          },
          "metadata": {
            "tags": [],
            "needs_background": "light"
          }
        }
      ]
    },
    {
      "cell_type": "markdown",
      "metadata": {
        "id": "c25y3QKHQtCm"
      },
      "source": [
        "Através do gráfico acima, concluímos que:\r\n",
        "* O roubo coletivo está aumentando nos últimos anos."
      ]
    },
    {
      "cell_type": "code",
      "metadata": {
        "colab": {
          "base_uri": "https://localhost:8080/",
          "height": 374
        },
        "id": "sNbf3h-VCQ8L",
        "outputId": "dea904c7-387b-4eac-d2b2-190ef7838365"
      },
      "source": [
        "#Plotagem de gráfico de roubo em bancos \r\n",
        "fig, ax = plt.subplots(figsize = (12,6));\r\n",
        "ax.plot(df['date'],df['roubo_banco'], label = 'Roubo em bancos');\r\n",
        "plt.legend(frameon=False);\r\n",
        "plt.show();"
      ],
      "execution_count": 29,
      "outputs": [
        {
          "output_type": "display_data",
          "data": {
            "image/png": "[encoded data removed]",
            "text/plain": [
              "<Figure size 864x432 with 1 Axes>"
            ]
          },
          "metadata": {
            "tags": [],
            "needs_background": "light"
          }
        }
      ]
    },
    {
      "cell_type": "markdown",
      "metadata": {
        "id": "xwC0qWXbRQVh"
      },
      "source": [
        "Através do gráfico acima, concluímos que:\r\n",
        "* O roubo em bancos está diminuindo nos últimos anos.\r\n",
        "* O recorde de roubos em um mês foi de 50 no ano de 1996."
      ]
    },
    {
      "cell_type": "code",
      "metadata": {
        "colab": {
          "base_uri": "https://localhost:8080/",
          "height": 374
        },
        "id": "Yf8NuxkmFg9G",
        "outputId": "272f4f50-2e53-4ee3-c6c4-d9036a73f37b"
      },
      "source": [
        "#Plotagem de gráfico de roubo em caixas eletrônicos e roubo em bancos\r\n",
        "fig, ax = plt.subplots(figsize = (12,6));\r\n",
        "ax.plot(df['date'],df['roubo_banco'], label = 'Roubo em bancos');\r\n",
        "ax.plot(df['date'],df['roubo_cx_eletronico'], label = 'Roubo de caixas eletrônicos');\r\n",
        "plt.legend(frameon=False);\r\n",
        "plt.show();"
      ],
      "execution_count": 30,
      "outputs": [
        {
          "output_type": "display_data",
          "data": {
            "image/png": "[encoded data removed]",
            "text/plain": [
              "<Figure size 864x432 with 1 Axes>"
            ]
          },
          "metadata": {
            "tags": [],
            "needs_background": "light"
          }
        }
      ]
    },
    {
      "cell_type": "markdown",
      "metadata": {
        "id": "v-HdCWkSRqBN"
      },
      "source": [
        "Através do gráfico acima, concluímos que:\r\n",
        "* No período de 1992 à 2003, o roubo de caixas eletrônicos se manteve a mesma, 160 por mês, possivelmente por algum erro de alimentação dos dados.\r\n",
        "* O roubo de caixas eletrônicos e bancos se mantêm em proporções aproximadas depois de 2003."
      ]
    },
    {
      "cell_type": "code",
      "metadata": {
        "id": "rTfuRri-C2df",
        "colab": {
          "base_uri": "https://localhost:8080/",
          "height": 374
        },
        "outputId": "226fc4c6-1088-4c8b-e99e-f28e46300f32"
      },
      "source": [
        "#Plotagem de gráfico de comparativo total de roubos e furtos de veículos e carros recuperados\r\n",
        "fig, ax = plt.subplots(figsize = (12,6));\r\n",
        "ax.plot(df['date'], df['total_roubos_furtos_veiculos'], color = 'red', label = 'Total roubos e furtos de veículos')\r\n",
        "ax.plot(df['date'],df['recuperacao_veiculos'], color = 'blue', label = 'Recuperação');\r\n",
        "plt.legend(frameon=False);\r\n",
        "plt.show();"
      ],
      "execution_count": 31,
      "outputs": [
        {
          "output_type": "display_data",
          "data": {
            "image/png": "[encoded data removed]",
            "text/plain": [
              "<Figure size 864x432 with 1 Axes>"
            ]
          },
          "metadata": {
            "tags": [],
            "needs_background": "light"
          }
        }
      ]
    },
    {
      "cell_type": "markdown",
      "metadata": {
        "id": "089UTTxUSCyK"
      },
      "source": [
        "Através do gráfico acima, concluímos que:\r\n",
        "* As linhas de roubos e recuperação de veículos, estão similares, quer dizer, quanto maior a quantidade de roubos no mês, maior é a recuperação."
      ]
    },
    {
      "cell_type": "code",
      "metadata": {
        "colab": {
          "base_uri": "https://localhost:8080/",
          "height": 374
        },
        "id": "kcDB5KN5Kyzt",
        "outputId": "288ea967-a5fa-4cc5-f485-2edba1c33025"
      },
      "source": [
        "#Plotagem de gráfico de roubo de celulares\r\n",
        "fig, ax = plt.subplots(figsize = (12,6));\r\n",
        "ax.plot(df['date'], df['roubo_celular'], label = 'Roubos de celulares')\r\n",
        "plt.legend(frameon=False);\r\n",
        "plt.show();"
      ],
      "execution_count": 32,
      "outputs": [
        {
          "output_type": "display_data",
          "data": {
            "image/png": "[encoded data removed]",
            "text/plain": [
              "<Figure size 864x432 with 1 Axes>"
            ]
          },
          "metadata": {
            "tags": [],
            "needs_background": "light"
          }
        }
      ]
    },
    {
      "cell_type": "markdown",
      "metadata": {
        "id": "iS_59uiIS0Po"
      },
      "source": [
        "Através do gráfico acima, concluímos que:\r\n",
        "* Nos últimos anos o roubo de celulares vem disparando, isto é devido ao alto consumo do aparelho e a facilidade de roubo do mesmo."
      ]
    },
    {
      "cell_type": "markdown",
      "metadata": {
        "id": "LCsiXvM3BcsO"
      },
      "source": [
        "## Conclusão"
      ]
    },
    {
      "cell_type": "markdown",
      "metadata": {
        "id": "U_bCU48sTvHt"
      },
      "source": [
        "A partir das análises, podemos concluir que:\r\n",
        "\r\n",
        "* O dataset possui várias variáveis que estão com valores ausentes.\r\n",
        "* A recuperação de veículos roubados é de 42%.\r\n",
        "* A média de homícidios doloso é de 504 por mês.\r\n",
        "* O roubo coletivo vem aumentando durantes os últimos anos. \r\n",
        "* O roubo de bancos e caixas eletrônicos estão dimiuindo nos últimos anos. "
      ]
    }
  ]
}